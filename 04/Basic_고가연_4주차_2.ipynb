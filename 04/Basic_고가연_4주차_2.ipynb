{
 "cells": [
  {
   "cell_type": "code",
   "execution_count": null,
   "metadata": {
    "colab": {
     "base_uri": "https://localhost:8080/"
    },
    "id": "Go5NY2ySLdsB",
    "outputId": "43da773e-44a0-4e39-c31b-dcb3550152e7"
   },
   "outputs": [
    {
     "name": "stdout",
     "output_type": "stream",
     "text": [
      "Mounted at /content/drive\n"
     ]
    }
   ],
   "source": [
    "from google.colab import drive\n",
    "drive.mount('/content/drive')\n",
    "userpath='/content/drive/MyDrive/CUAI'"
   ]
  },
  {
   "cell_type": "markdown",
   "metadata": {
    "id": "HZLa9ixXDTJr"
   },
   "source": [
    "## 4.3 앙상블 학습 개요"
   ]
  },
  {
   "cell_type": "markdown",
   "metadata": {
    "id": "LF-H1OfcDWNn"
   },
   "source": [
    "여러 개의 분류기 생성, 예측 결합 = 집단지성\n",
    "- 비정형 데이터 분류 - 딥러닝이 good\n",
    "- 대부분의 정형 데이터 분류 - 앙상블이 good\n",
    "\n",
    "\n",
    "앙상블 알고리즘의 대표\n",
    "- Random Forest\n",
    "- Gradient Boosting, XGBoost, LightGBM, Stacking, ...\n",
    "\n",
    "앙상블 학습의 유형\n",
    "- Voting: 서로 다른 알고리즘을 가진 분류기가 동일한 data set을 가지고 학습, 투표를 통해 최종 예측 결과를 결정\n",
    "  - Hard Voting: 다수결\n",
    "  - Soft Voting: 분류기들이 구한 각 label 값 결정 확률의 평균을 구하고, 확률이 가장 높은 label을 최종 결과로 예측.\n",
    "- Bagging: 같은 유형의 알고리즘을 기반으로 한 분류기가 다른 sampling data set를 가져가서(Bootstrapping, 교차검증과 다르게 각 set에는 중복된 데이터가 있을 수 있음) 학습, 투표를 통해 최종 예측 결과 결정. (ex- Random Forest)\n",
    "- Boosting: 여러 개의 분류기가 순차적으로 학습 수행, 먼저 학습한 분류기가 예측이 틀린 데이터에 대해선 다음 분류기에서 가중치를 부여해서 학습 및 예측. (ex- Gradient Boost, XGBoost, LightGBM) \n",
    "- Stacking: 다른 모델의 예측 결과값을 다시 학습 데이터로 만들어서 메타 모델로 재학습시켜 결과 예측\n",
    "\n"
   ]
  },
  {
   "cell_type": "markdown",
   "metadata": {
    "id": "9ofg_tE4DTJu"
   },
   "source": [
    "### Voting Classifier"
   ]
  },
  {
   "cell_type": "code",
   "execution_count": null,
   "metadata": {
    "colab": {
     "base_uri": "https://localhost:8080/",
     "height": 271
    },
    "id": "waai8G9KDTJv",
    "outputId": "e098df84-4687-4ee2-f7ef-45172ea6646d"
   },
   "outputs": [
    {
     "data": {
      "text/html": [
       "\n",
       "  <div id=\"df-b573d63e-b2f8-46a1-b89d-4b3c88038590\">\n",
       "    <div class=\"colab-df-container\">\n",
       "      <div>\n",
       "<style scoped>\n",
       "    .dataframe tbody tr th:only-of-type {\n",
       "        vertical-align: middle;\n",
       "    }\n",
       "\n",
       "    .dataframe tbody tr th {\n",
       "        vertical-align: top;\n",
       "    }\n",
       "\n",
       "    .dataframe thead th {\n",
       "        text-align: right;\n",
       "    }\n",
       "</style>\n",
       "<table border=\"1\" class=\"dataframe\">\n",
       "  <thead>\n",
       "    <tr style=\"text-align: right;\">\n",
       "      <th></th>\n",
       "      <th>mean radius</th>\n",
       "      <th>mean texture</th>\n",
       "      <th>mean perimeter</th>\n",
       "      <th>mean area</th>\n",
       "      <th>mean smoothness</th>\n",
       "      <th>mean compactness</th>\n",
       "      <th>mean concavity</th>\n",
       "      <th>mean concave points</th>\n",
       "      <th>mean symmetry</th>\n",
       "      <th>mean fractal dimension</th>\n",
       "      <th>...</th>\n",
       "      <th>worst radius</th>\n",
       "      <th>worst texture</th>\n",
       "      <th>worst perimeter</th>\n",
       "      <th>worst area</th>\n",
       "      <th>worst smoothness</th>\n",
       "      <th>worst compactness</th>\n",
       "      <th>worst concavity</th>\n",
       "      <th>worst concave points</th>\n",
       "      <th>worst symmetry</th>\n",
       "      <th>worst fractal dimension</th>\n",
       "    </tr>\n",
       "  </thead>\n",
       "  <tbody>\n",
       "    <tr>\n",
       "      <th>0</th>\n",
       "      <td>17.99</td>\n",
       "      <td>10.38</td>\n",
       "      <td>122.8</td>\n",
       "      <td>1001.0</td>\n",
       "      <td>0.11840</td>\n",
       "      <td>0.27760</td>\n",
       "      <td>0.3001</td>\n",
       "      <td>0.14710</td>\n",
       "      <td>0.2419</td>\n",
       "      <td>0.07871</td>\n",
       "      <td>...</td>\n",
       "      <td>25.38</td>\n",
       "      <td>17.33</td>\n",
       "      <td>184.6</td>\n",
       "      <td>2019.0</td>\n",
       "      <td>0.1622</td>\n",
       "      <td>0.6656</td>\n",
       "      <td>0.7119</td>\n",
       "      <td>0.2654</td>\n",
       "      <td>0.4601</td>\n",
       "      <td>0.11890</td>\n",
       "    </tr>\n",
       "    <tr>\n",
       "      <th>1</th>\n",
       "      <td>20.57</td>\n",
       "      <td>17.77</td>\n",
       "      <td>132.9</td>\n",
       "      <td>1326.0</td>\n",
       "      <td>0.08474</td>\n",
       "      <td>0.07864</td>\n",
       "      <td>0.0869</td>\n",
       "      <td>0.07017</td>\n",
       "      <td>0.1812</td>\n",
       "      <td>0.05667</td>\n",
       "      <td>...</td>\n",
       "      <td>24.99</td>\n",
       "      <td>23.41</td>\n",
       "      <td>158.8</td>\n",
       "      <td>1956.0</td>\n",
       "      <td>0.1238</td>\n",
       "      <td>0.1866</td>\n",
       "      <td>0.2416</td>\n",
       "      <td>0.1860</td>\n",
       "      <td>0.2750</td>\n",
       "      <td>0.08902</td>\n",
       "    </tr>\n",
       "    <tr>\n",
       "      <th>2</th>\n",
       "      <td>19.69</td>\n",
       "      <td>21.25</td>\n",
       "      <td>130.0</td>\n",
       "      <td>1203.0</td>\n",
       "      <td>0.10960</td>\n",
       "      <td>0.15990</td>\n",
       "      <td>0.1974</td>\n",
       "      <td>0.12790</td>\n",
       "      <td>0.2069</td>\n",
       "      <td>0.05999</td>\n",
       "      <td>...</td>\n",
       "      <td>23.57</td>\n",
       "      <td>25.53</td>\n",
       "      <td>152.5</td>\n",
       "      <td>1709.0</td>\n",
       "      <td>0.1444</td>\n",
       "      <td>0.4245</td>\n",
       "      <td>0.4504</td>\n",
       "      <td>0.2430</td>\n",
       "      <td>0.3613</td>\n",
       "      <td>0.08758</td>\n",
       "    </tr>\n",
       "  </tbody>\n",
       "</table>\n",
       "<p>3 rows × 30 columns</p>\n",
       "</div>\n",
       "      <button class=\"colab-df-convert\" onclick=\"convertToInteractive('df-b573d63e-b2f8-46a1-b89d-4b3c88038590')\"\n",
       "              title=\"Convert this dataframe to an interactive table.\"\n",
       "              style=\"display:none;\">\n",
       "        \n",
       "  <svg xmlns=\"http://www.w3.org/2000/svg\" height=\"24px\"viewBox=\"0 0 24 24\"\n",
       "       width=\"24px\">\n",
       "    <path d=\"M0 0h24v24H0V0z\" fill=\"none\"/>\n",
       "    <path d=\"M18.56 5.44l.94 2.06.94-2.06 2.06-.94-2.06-.94-.94-2.06-.94 2.06-2.06.94zm-11 1L8.5 8.5l.94-2.06 2.06-.94-2.06-.94L8.5 2.5l-.94 2.06-2.06.94zm10 10l.94 2.06.94-2.06 2.06-.94-2.06-.94-.94-2.06-.94 2.06-2.06.94z\"/><path d=\"M17.41 7.96l-1.37-1.37c-.4-.4-.92-.59-1.43-.59-.52 0-1.04.2-1.43.59L10.3 9.45l-7.72 7.72c-.78.78-.78 2.05 0 2.83L4 21.41c.39.39.9.59 1.41.59.51 0 1.02-.2 1.41-.59l7.78-7.78 2.81-2.81c.8-.78.8-2.07 0-2.86zM5.41 20L4 18.59l7.72-7.72 1.47 1.35L5.41 20z\"/>\n",
       "  </svg>\n",
       "      </button>\n",
       "      \n",
       "  <style>\n",
       "    .colab-df-container {\n",
       "      display:flex;\n",
       "      flex-wrap:wrap;\n",
       "      gap: 12px;\n",
       "    }\n",
       "\n",
       "    .colab-df-convert {\n",
       "      background-color: #E8F0FE;\n",
       "      border: none;\n",
       "      border-radius: 50%;\n",
       "      cursor: pointer;\n",
       "      display: none;\n",
       "      fill: #1967D2;\n",
       "      height: 32px;\n",
       "      padding: 0 0 0 0;\n",
       "      width: 32px;\n",
       "    }\n",
       "\n",
       "    .colab-df-convert:hover {\n",
       "      background-color: #E2EBFA;\n",
       "      box-shadow: 0px 1px 2px rgba(60, 64, 67, 0.3), 0px 1px 3px 1px rgba(60, 64, 67, 0.15);\n",
       "      fill: #174EA6;\n",
       "    }\n",
       "\n",
       "    [theme=dark] .colab-df-convert {\n",
       "      background-color: #3B4455;\n",
       "      fill: #D2E3FC;\n",
       "    }\n",
       "\n",
       "    [theme=dark] .colab-df-convert:hover {\n",
       "      background-color: #434B5C;\n",
       "      box-shadow: 0px 1px 3px 1px rgba(0, 0, 0, 0.15);\n",
       "      filter: drop-shadow(0px 1px 2px rgba(0, 0, 0, 0.3));\n",
       "      fill: #FFFFFF;\n",
       "    }\n",
       "  </style>\n",
       "\n",
       "      <script>\n",
       "        const buttonEl =\n",
       "          document.querySelector('#df-b573d63e-b2f8-46a1-b89d-4b3c88038590 button.colab-df-convert');\n",
       "        buttonEl.style.display =\n",
       "          google.colab.kernel.accessAllowed ? 'block' : 'none';\n",
       "\n",
       "        async function convertToInteractive(key) {\n",
       "          const element = document.querySelector('#df-b573d63e-b2f8-46a1-b89d-4b3c88038590');\n",
       "          const dataTable =\n",
       "            await google.colab.kernel.invokeFunction('convertToInteractive',\n",
       "                                                     [key], {});\n",
       "          if (!dataTable) return;\n",
       "\n",
       "          const docLinkHtml = 'Like what you see? Visit the ' +\n",
       "            '<a target=\"_blank\" href=https://colab.research.google.com/notebooks/data_table.ipynb>data table notebook</a>'\n",
       "            + ' to learn more about interactive tables.';\n",
       "          element.innerHTML = '';\n",
       "          dataTable['output_type'] = 'display_data';\n",
       "          await google.colab.output.renderOutput(dataTable, element);\n",
       "          const docLink = document.createElement('div');\n",
       "          docLink.innerHTML = docLinkHtml;\n",
       "          element.appendChild(docLink);\n",
       "        }\n",
       "      </script>\n",
       "    </div>\n",
       "  </div>\n",
       "  "
      ],
      "text/plain": [
       "   mean radius  mean texture  mean perimeter  mean area  mean smoothness  \\\n",
       "0        17.99         10.38           122.8     1001.0          0.11840   \n",
       "1        20.57         17.77           132.9     1326.0          0.08474   \n",
       "2        19.69         21.25           130.0     1203.0          0.10960   \n",
       "\n",
       "   mean compactness  mean concavity  mean concave points  mean symmetry  \\\n",
       "0           0.27760          0.3001              0.14710         0.2419   \n",
       "1           0.07864          0.0869              0.07017         0.1812   \n",
       "2           0.15990          0.1974              0.12790         0.2069   \n",
       "\n",
       "   mean fractal dimension  ...  worst radius  worst texture  worst perimeter  \\\n",
       "0                 0.07871  ...         25.38          17.33            184.6   \n",
       "1                 0.05667  ...         24.99          23.41            158.8   \n",
       "2                 0.05999  ...         23.57          25.53            152.5   \n",
       "\n",
       "   worst area  worst smoothness  worst compactness  worst concavity  \\\n",
       "0      2019.0            0.1622             0.6656           0.7119   \n",
       "1      1956.0            0.1238             0.1866           0.2416   \n",
       "2      1709.0            0.1444             0.4245           0.4504   \n",
       "\n",
       "   worst concave points  worst symmetry  worst fractal dimension  \n",
       "0                0.2654          0.4601                  0.11890  \n",
       "1                0.1860          0.2750                  0.08902  \n",
       "2                0.2430          0.3613                  0.08758  \n",
       "\n",
       "[3 rows x 30 columns]"
      ]
     },
     "execution_count": 5,
     "metadata": {},
     "output_type": "execute_result"
    }
   ],
   "source": [
    "import pandas as pd\n",
    "\n",
    "from sklearn.ensemble import VotingClassifier\n",
    "from sklearn.linear_model import LogisticRegression\n",
    "from sklearn.neighbors import KNeighborsClassifier\n",
    "from sklearn.datasets import load_breast_cancer\n",
    "from sklearn.model_selection import train_test_split\n",
    "from sklearn.metrics import accuracy_score\n",
    "\n",
    "cancer = load_breast_cancer()\n",
    "\n",
    "data_df = pd.DataFrame(cancer.data, columns=cancer.feature_names)\n",
    "data_df.head(3)\n",
    "\n"
   ]
  },
  {
   "cell_type": "code",
   "execution_count": null,
   "metadata": {
    "colab": {
     "base_uri": "https://localhost:8080/"
    },
    "id": "mZ1V0JDSDTJx",
    "outputId": "f9582eba-5e37-4b19-ff0a-9503ef5148e9"
   },
   "outputs": [
    {
     "name": "stdout",
     "output_type": "stream",
     "text": [
      "Voting 분류기 정확도: 0.9561\n",
      "LogisticRegression 정확도: 0.9474\n",
      "KNeighborsClassifier 정확도: 0.9386\n"
     ]
    }
   ],
   "source": [
    "# 개별 모델은 로지스틱 회귀와 KNN 임. \n",
    "lr_clf = LogisticRegression(solver='liblinear')\n",
    "knn_clf = KNeighborsClassifier(n_neighbors=8)\n",
    "\n",
    "# 개별 모델을 소프트 보팅 기반의 앙상블 모델로 구현한 분류기 \n",
    "vo_clf = VotingClassifier( estimators=[('LR',lr_clf),('KNN',knn_clf)] , voting='soft' ) #voting의 기본값은 'hard'\n",
    "\n",
    "X_train, X_test, y_train, y_test = train_test_split(cancer.data, cancer.target, \n",
    "                                                    test_size=0.2 , random_state= 156)\n",
    "\n",
    "# VotingClassifier 학습/예측/평가. \n",
    "vo_clf.fit(X_train , y_train)\n",
    "pred = vo_clf.predict(X_test)\n",
    "print('Voting 분류기 정확도: {0:.4f}'.format(accuracy_score(y_test , pred)))\n",
    "\n",
    "# 개별 모델의 학습/예측/평가.\n",
    "classifiers = [lr_clf, knn_clf]\n",
    "for classifier in classifiers:\n",
    "    classifier.fit(X_train , y_train)\n",
    "    pred = classifier.predict(X_test)\n",
    "    class_name= classifier.__class__.__name__\n",
    "    print('{0} 정확도: {1:.4f}'.format(class_name, accuracy_score(y_test , pred)))"
   ]
  },
  {
   "cell_type": "markdown",
   "metadata": {
    "id": "wsUvOQHOIJtV"
   },
   "source": [
    "Voting으로 여러 개 분류기 결합한다고 해서 무조건 성능이 향상되는 건 x. 그러나 높은 유연성을 가지고 있기에 현실 데이터에서 단일 알고리즘보다 뛰어난 성능을 보일 확률이 높음."
   ]
  },
  {
   "cell_type": "markdown",
   "metadata": {
    "id": "QdBCrshtDTJx"
   },
   "source": [
    "## 4.4 Random Forest"
   ]
  },
  {
   "cell_type": "markdown",
   "metadata": {
    "id": "TAX3p69AIhyS"
   },
   "source": [
    "- 앙상블 알고리즘 중 비교적 빠른 수행 속도\n",
    "- 다양한 영역에서 높은 예측 성능\n",
    "- 기반 알고리즘: 결정 트리 => 쉽고 직관적인 장점 유지!\n",
    "- 개별 트리가 학습하는 데이터는 전체 데이터에서 일부가 중첩되게 샘플링된 데이터 세트. (Bootstrapping; Bagging이 bootstrap aggregating의 줄임말.)\n",
    "- n_estimators: hyperparameter\n",
    "- sklearn의 RandomForestClassifier class를 사용할 예정."
   ]
  },
  {
   "cell_type": "markdown",
   "metadata": {
    "id": "NbXNcxS2MqP6"
   },
   "source": [
    "트리 기반 앙상블 알고리즘의 단점: hyperparameter가 너무 많아서 튜닝을 위한 시간이 많이 소모됨. 심지어 많은 시간을 소모했음에도 튜닝 후 예측 성능이 크게 향상되는 경우가 많지 않음\n",
    "\n",
    "RF의 Hyperparameter\n",
    "- n_estimators: 결정 트리의 개수. 기본값 10, 클수록 좋은 성능을 기대할 수 있지만 계속 증가시킨다고 무조건 좋아지진 않음. 늘릴수록 학습 수행 시간 늘어남.\n",
    "- max_features: 기본값 'auto' (cf. 결정 트리에서 max_features 기본값은 'None')\n",
    "- 나머진 결정 트리랑 동일"
   ]
  },
  {
   "cell_type": "code",
   "execution_count": null,
   "metadata": {
    "id": "THicjo4FDTJy"
   },
   "outputs": [],
   "source": [
    "def get_new_feature_name_df(old_feature_name_df):\n",
    "    feature_dup_df = pd.DataFrame(data=old_feature_name_df.groupby('column_name').cumcount(),\n",
    "                                  columns=['dup_cnt'])\n",
    "    feature_dup_df = feature_dup_df.reset_index()\n",
    "    new_feature_name_df = pd.merge(old_feature_name_df.reset_index(), feature_dup_df, how='outer')\n",
    "    new_feature_name_df['column_name'] = new_feature_name_df[['column_name', 'dup_cnt']].apply(lambda x : x[0]+'_'+str(x[1]) \n",
    "                                                                                         if x[1] >0 else x[0] ,  axis=1)\n",
    "    new_feature_name_df = new_feature_name_df.drop(['index'], axis=1)\n",
    "    return new_feature_name_df"
   ]
  },
  {
   "cell_type": "code",
   "execution_count": null,
   "metadata": {
    "id": "6AFvA5HmDTJy"
   },
   "outputs": [],
   "source": [
    "import pandas as pd\n",
    "def get_human_dataset( ):\n",
    "    \n",
    "    # 각 데이터 파일들은 공백으로 분리되어 있으므로 read_csv에서 공백 문자를 sep으로 할당.\n",
    "    feature_name_df = pd.read_csv(userpath+'/human_activity/features.txt',sep='\\s+',\n",
    "                        header=None,names=['column_index','column_name'])\n",
    "    \n",
    "    # 중복된 피처명을 수정하는 get_new_feature_name_df()를 이용, 신규 피처명 DataFrame생성. \n",
    "    new_feature_name_df = get_new_feature_name_df(feature_name_df)\n",
    "    \n",
    "    # DataFrame에 피처명을 컬럼으로 부여하기 위해 리스트 객체로 다시 변환\n",
    "    feature_name = new_feature_name_df.iloc[:, 1].values.tolist()\n",
    "    \n",
    "    # 학습 피처 데이터 셋과 테스트 피처 데이터을 DataFrame으로 로딩. 컬럼명은 feature_name 적용\n",
    "    X_train = pd.read_csv(userpath+'/human_activity/train/X_train.txt',sep='\\s+', names=feature_name )\n",
    "    X_test = pd.read_csv(userpath+'/human_activity/test/X_test.txt',sep='\\s+', names=feature_name)\n",
    "    \n",
    "    # 학습 레이블과 테스트 레이블 데이터을 DataFrame으로 로딩하고 컬럼명은 action으로 부여\n",
    "    y_train = pd.read_csv(userpath+'/human_activity/train/y_train.txt',sep='\\s+',header=None,names=['action'])\n",
    "    y_test = pd.read_csv(userpath+'/human_activity/test/y_test.txt',sep='\\s+',header=None,names=['action'])\n",
    "    \n",
    "    # 로드된 학습/테스트용 DataFrame을 모두 반환 \n",
    "    return X_train, X_test, y_train, y_test\n",
    "\n",
    "\n",
    "X_train, X_test, y_train, y_test = get_human_dataset()"
   ]
  },
  {
   "cell_type": "code",
   "execution_count": null,
   "metadata": {
    "colab": {
     "base_uri": "https://localhost:8080/"
    },
    "id": "L5oFgp3ODTJz",
    "outputId": "831dc768-d0f3-409a-bfd2-5fd990245bc4"
   },
   "outputs": [
    {
     "name": "stdout",
     "output_type": "stream",
     "text": [
      "랜덤 포레스트 정확도: 0.9253\n"
     ]
    }
   ],
   "source": [
    "from sklearn.ensemble import RandomForestClassifier\n",
    "from sklearn.metrics import accuracy_score\n",
    "import pandas as pd\n",
    "import warnings\n",
    "warnings.filterwarnings('ignore')\n",
    "\n",
    "# 결정 트리에서 사용한 get_human_dataset( )을 이용해 학습/테스트용 DataFrame 반환\n",
    "X_train, X_test, y_train, y_test = get_human_dataset()\n",
    "\n",
    "# 랜덤 포레스트 학습 및 별도의 테스트 셋으로 예측 성능 평가\n",
    "rf_clf = RandomForestClassifier(random_state=0)\n",
    "rf_clf.fit(X_train , y_train)\n",
    "pred = rf_clf.predict(X_test)\n",
    "accuracy = accuracy_score(y_test , pred)\n",
    "print('랜덤 포레스트 정확도: {0:.4f}'.format(accuracy))"
   ]
  },
  {
   "cell_type": "markdown",
   "metadata": {
    "id": "PT2yYK1aNhDL"
   },
   "source": [
    "**GridSearchCV**로 하이퍼 파라미터 튜닝.\n",
    "- 사용자가 모델의 하이퍼 파라미터 값을 리스트로 입력하면 값에 대한 경우의 수마다 예측 성능을 측정·평가하여 최적의 하이퍼 파라미터 값을 찾아줌\n",
    "- 시간이 오래 걸림\n",
    "- n_jobs=-1로 할 경우 모든 코어를 사용, 기본값 1\n",
    "- cv=(교차검증을 위한 fold 횟수). k-fold를 사용하고 싶을 경우 cv=StratifiedKFold(n_splits=6, shuffle=True, random_state=36) 이런 식으로 해주면 됨\n",
    "- model_name.bestparams: 최적의 파라미터 값 반환\n",
    "- model_name.bestscore: 예측 정확도 반환"
   ]
  },
  {
   "cell_type": "markdown",
   "metadata": {
    "id": "hhdGexTmeZlj"
   },
   "source": [
    "책에선 튜닝 시간을 줄이기 위해 n_estimators=100, cv=2로만 설정했다고 함\n"
   ]
  },
  {
   "cell_type": "code",
   "execution_count": null,
   "metadata": {
    "colab": {
     "base_uri": "https://localhost:8080/"
    },
    "id": "RpIn_DdcDTJ0",
    "outputId": "11b15654-5850-4f4c-b799-c0eab654897e"
   },
   "outputs": [
    {
     "name": "stdout",
     "output_type": "stream",
     "text": [
      "최적 하이퍼 파라미터:\n",
      " {'max_depth': 10, 'min_samples_leaf': 8, 'min_samples_split': 8, 'n_estimators': 100}\n",
      "최고 예측 정확도: 0.9180\n"
     ]
    }
   ],
   "source": [
    "from sklearn.model_selection import GridSearchCV\n",
    "\n",
    "params = {\n",
    "    'n_estimators':[100],\n",
    "    'max_depth' : [6, 8, 10, 12], \n",
    "    'min_samples_leaf' : [8, 12, 18 ],\n",
    "    'min_samples_split' : [8, 16, 20]\n",
    "}\n",
    "# RandomForestClassifier 객체 생성 후 GridSearchCV 수행\n",
    "rf_clf = RandomForestClassifier(random_state=0, n_jobs=-1)\n",
    "grid_cv = GridSearchCV(rf_clf , param_grid=params , cv=2, n_jobs=-1 )\n",
    "grid_cv.fit(X_train , y_train)\n",
    "\n",
    "print('최적 하이퍼 파라미터:\\n', grid_cv.best_params_)\n",
    "print('최고 예측 정확도: {0:.4f}'.format(grid_cv.best_score_))"
   ]
  },
  {
   "cell_type": "code",
   "execution_count": null,
   "metadata": {
    "colab": {
     "base_uri": "https://localhost:8080/"
    },
    "id": "3M4nTeP1DTJ1",
    "outputId": "819e141f-15ac-4f55-c005-c15d1909e4cf"
   },
   "outputs": [
    {
     "name": "stdout",
     "output_type": "stream",
     "text": [
      "예측 정확도: 0.9165\n"
     ]
    }
   ],
   "source": [
    "rf_clf1 = RandomForestClassifier(n_estimators=300, max_depth=10, min_samples_leaf=8, \\\n",
    "                                 min_samples_split=8, random_state=0)\n",
    "rf_clf1.fit(X_train , y_train)\n",
    "pred = rf_clf1.predict(X_test)\n",
    "print('예측 정확도: {0:.4f}'.format(accuracy_score(y_test , pred)))"
   ]
  },
  {
   "cell_type": "code",
   "execution_count": null,
   "metadata": {
    "colab": {
     "base_uri": "https://localhost:8080/",
     "height": 407
    },
    "id": "-WCL2rVMDTJ1",
    "outputId": "6b3da921-09b6-4cbe-cd8c-779d870daa3b"
   },
   "outputs": [
    {
     "data": {
      "image/png": "[encoded data removed]",
      "text/plain": [
       "<Figure size 576x432 with 1 Axes>"
      ]
     },
     "metadata": {
      "needs_background": "light"
     },
     "output_type": "display_data"
    },
    {
     "data": {
      "text/plain": [
       "<Figure size 432x288 with 0 Axes>"
      ]
     },
     "metadata": {},
     "output_type": "display_data"
    }
   ],
   "source": [
    "import matplotlib.pyplot as plt\n",
    "import seaborn as sns\n",
    "%matplotlib inline\n",
    "\n",
    "ftr_importances_values = rf_clf1.feature_importances_\n",
    "ftr_importances = pd.Series(ftr_importances_values,index=X_train.columns  )\n",
    "ftr_top20 = ftr_importances.sort_values(ascending=False)[:20]\n",
    "\n",
    "plt.figure(figsize=(8,6))\n",
    "plt.title('Feature importances Top 20')\n",
    "sns.barplot(x=ftr_top20 , y = ftr_top20.index)\n",
    "fig1 = plt.gcf()\n",
    "plt.show()\n",
    "plt.draw()\n",
    "fig1.savefig('rf_feature_importances_top20.tif', format='tif', dpi=300, bbox_inches='tight')"
   ]
  },
  {
   "cell_type": "markdown",
   "metadata": {
    "id": "SvJasKvVDTJ1"
   },
   "source": [
    "## 4.5 GBM(Gradient Boosting Machine)"
   ]
  },
  {
   "cell_type": "markdown",
   "metadata": {
    "id": "Ncx6RwLieveC"
   },
   "source": [
    "### Boosting\n",
    "- 여러 개의 약한 학습기(weak learner)를 순차적으로 학습-예측하면서 잘못 예측한 데이터에 가중치를 부여해 오류를 개선하면서 학습\n",
    "- AdaBoost(Adaptive boosting)\n",
    "![adaboost.png](data:image/png;base64,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)\n",
    "  - 동그라미로 표시된 게 잘못 분류된 데이터. 여기에 가중치를 부여해 다음 학습기에선 더 잘 분류할 수 있게 해줌\n",
    "  - 이렇게 학습한 학습기들을 결합한 결과 예측을 내면 개별 weak learner보다 높은 정확도를 낼 수 있음\n",
    "- Gradient Boost (GBM)\n",
    "  - 가중치 업데이트에 경사 하강법(Gradient Descent)를 이용한다는 점에서 Adaboost와 차이가 있음. (경사 하강법은 회귀에서 자세히 다룸)\n",
    "  - sklearn의 GradientBoostingClassifier class를 이용하겠음\n",
    "  - 일반적으로 RF보다 예측 성능이 조금 뛰어나지만, 수행 시간이 오래 걸리고 하이퍼 파라미터 튜닝에도 노력이 더 필요함. (찾아보니 사이킷런이 업그레이드 되면서 GBM 수행 시간이 너무 오래 걸리게 돼서 웬만하면 사이킷런에선 GBM을 안 쓰는 게 좋다는 의견도 있음. 뒷부분인 XGBoost, LightGBM을 소개하기 위해 이론적으로만 다루는 듯듯)\n",
    "  - loss: 경사하강법에 적용할 비용 함수, 기본값 'deviance'\n",
    "  - learning_rate: 경사하강법에 적용할 학습률, 0~1까지 지정 가능하고 기본값은 0.1. 너무 작으면 수행 시간이 오래 걸리고 너무 크면 예측 성능이 떨어질 가능성 높아짐 → n_estimators와 조합해 사용. (예- learning_rate 작게, n_estimators 크게... 그러나 이 역시 수행 시간이 오래 걸리고 성능이 크게 좋아지진 않는다고 함)\n",
    "  - n_estimators: weak learner의 개수, 기본값 100\n",
    "  - subsample: 데이터 샘플링 비율, 기본값은 1이지만 0.5~1 사이의 값을 사용하는 편.\n"
   ]
  },
  {
   "cell_type": "code",
   "execution_count": null,
   "metadata": {
    "colab": {
     "base_uri": "https://localhost:8080/"
    },
    "id": "fT8AY4V5DTJ2",
    "outputId": "0101a2ac-7b00-49a7-de0d-81fbd7c522fc"
   },
   "outputs": [
    {
     "name": "stdout",
     "output_type": "stream",
     "text": [
      "GBM 정확도: 0.9386\n",
      "GBM 수행 시간: 1003.4 초 \n"
     ]
    }
   ],
   "source": [
    "from sklearn.ensemble import GradientBoostingClassifier\n",
    "import time\n",
    "import warnings\n",
    "warnings.filterwarnings('ignore')\n",
    "\n",
    "X_train, X_test, y_train, y_test = get_human_dataset()\n",
    "\n",
    "# GBM 수행 시간 측정을 위함. 시작 시간 설정.\n",
    "start_time = time.time()\n",
    "\n",
    "gb_clf = GradientBoostingClassifier(random_state=0)\n",
    "gb_clf.fit(X_train , y_train)\n",
    "gb_pred = gb_clf.predict(X_test)\n",
    "gb_accuracy = accuracy_score(y_test, gb_pred)\n",
    "\n",
    "print('GBM 정확도: {0:.4f}'.format(gb_accuracy))\n",
    "print(\"GBM 수행 시간: {0:.1f} 초 \".format(time.time() - start_time))\n"
   ]
  },
  {
   "cell_type": "code",
   "execution_count": null,
   "metadata": {
    "colab": {
     "base_uri": "https://localhost:8080/"
    },
    "id": "xhS0TGK6DTJ2",
    "outputId": "b8c192e2-0c12-4321-daee-c0b75dc67397"
   },
   "outputs": [
    {
     "name": "stdout",
     "output_type": "stream",
     "text": [
      "Fitting 2 folds for each of 4 candidates, totalling 8 fits\n",
      "최적 하이퍼 파라미터:\n",
      " {'learning_rate': 0.05, 'n_estimators': 500}\n",
      "최고 예측 정확도: 0.9002\n"
     ]
    }
   ],
   "source": [
    "### 아래는 책에서 설명드리지는 않지만 GridSearchCV로 GBM의 하이퍼 파라미터 튜닝을 수행하는 예제 입니다. \n",
    "### 사이킷런이 1.X로 업그레이드 되며서 GBM의 학습 속도가 현저하게 저하되는 문제가 오히려 발생합니다. \n",
    "### 아래는 수행 시간이 오래 걸리므로 참고용으로만 사용하시면 좋을 것 같습니다. \n",
    "\n",
    "from sklearn.model_selection import GridSearchCV\n",
    "\n",
    "params = {\n",
    "    'n_estimators':[100, 500],\n",
    "    'learning_rate' : [ 0.05, 0.1]\n",
    "}\n",
    "grid_cv = GridSearchCV(gb_clf , param_grid=params , cv=2 ,verbose=1)\n",
    "grid_cv.fit(X_train , y_train)\n",
    "print('최적 하이퍼 파라미터:\\n', grid_cv.best_params_)\n",
    "print('최고 예측 정확도: {0:.4f}'.format(grid_cv.best_score_))"
   ]
  },
  {
   "cell_type": "code",
   "execution_count": null,
   "metadata": {
    "colab": {
     "base_uri": "https://localhost:8080/"
    },
    "id": "-98wgMwuDTJ2",
    "outputId": "5a8af95d-6aff-4884-aefa-9f05214f445c"
   },
   "outputs": [
    {
     "name": "stdout",
     "output_type": "stream",
     "text": [
      "GBM 정확도: 0.9393\n"
     ]
    }
   ],
   "source": [
    "# GridSearchCV를 이용하여 최적으로 학습된 estimator로 predict 수행. \n",
    "gb_pred = grid_cv.best_estimator_.predict(X_test)\n",
    "gb_accuracy = accuracy_score(y_test, gb_pred)\n",
    "print('GBM 정확도: {0:.4f}'.format(gb_accuracy))"
   ]
  }
 ],
 "metadata": {
  "colab": {
   "provenance": []
  },
  "kernelspec": {
   "display_name": "Python 3 (ipykernel)",
   "language": "python",
   "name": "python3"
  },
  "language_info": {
   "codemirror_mode": {
    "name": "ipython",
    "version": 3
   },
   "file_extension": ".py",
   "mimetype": "text/x-python",
   "name": "python",
   "nbconvert_exporter": "python",
   "pygments_lexer": "ipython3",
   "version": "3.9.16"
  }
 },
 "nbformat": 4,
 "nbformat_minor": 1
}
