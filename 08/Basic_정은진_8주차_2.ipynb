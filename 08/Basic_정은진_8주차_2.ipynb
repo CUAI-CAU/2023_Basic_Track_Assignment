{
 "cells": [
  {
   "cell_type": "markdown",
   "metadata": {},
   "source": [
    "### Mean Shift 개요\n",
    "\n",
    "평균이동은 k-평균과 유사하게 중심을 군집의 중심으로 지속적으로 움직이면서 군집화를 수행\n",
    "\n",
    "* 중심이동 방식\n",
    "\n",
    "k-평균 - 중심에 소속된 데이터의 평균거리 중심으로 이동\n",
    "평균이동 - 데이터가 모여 있는 밀도가 가장 높은 곳으로 중심을 이동\n",
    "\n",
    "\n",
    "평균이동 군집화는 데이터의 분포도를 이용해 군집 중심점을 찾음\n",
    "\n",
    "* 군집 중심점\n",
    "\n",
    "데이터 포인트가 모여있는 곳이라는생각에서 착안\n",
    "PDF를 이용\n",
    "가장 집중적으로 데이터가 모여있어서 PDF가 피크인 점을 군집 중심점으로 선정\n",
    "주어진 모델의 PDF를 찾기 위해 KDE(Kernel Density Estimation)를 이용\n",
    "\n",
    "* 평균이동 군집화\n",
    "\n",
    "특정 데이터를 반경 내의 데이터 분포 확률 밀도가 가장 높은 곳으로 이동하기 위해 주변 데이터와의 거리 값을 KDE 함수 값으로 입력한 뒤 그 변환 값을 현재 위치에서 업데이트하면서 이동하는 방식\n",
    "이러한 방식을 전체 데이터에 반복적으로 적용하면서 데이터의 군집 중심점을 찾아냄\n",
    "\n",
    " ![nn](1.jpg)\n",
    " \n",
    " * KDE\n",
    " \n",
    " 커널 함수를 통해 어떤 변수의 PDF를 추정하는 방법 \n",
    " \n",
    " 관측된 데이터 각각에 커널 함수를 적용한 값을 모두 더한 뒤 데이터 건수로 나눠 PDF를 추정\n",
    " \n",
    " PDF는 확률 변수의 분포를 나타내는 함수로 널리 알려진 정규분포 함수를 포함해 감마분포, t-분포 등이 있음\n",
    " \n",
    " PDF를 알면 특정 변수가 어떤 값을 갖게 될지에 대한 확률을 알게 되므로 이를 통해 변수의 특성(정규분포의 경우 평균 분산),확률분포등 변수의 많은 요소를 알 수 있음\n",
    " \n",
    " ![nn](2.jpg)\n",
    " ![nn](3.jpg)\n",
    " KDE는 개별 관측 데이터에 커널 함수를 적용한 뒤, 이 적용 값을 모두 더한 후 개별 관측 데이터의 건수로 나눠 PDF를 추정\n",
    " \n",
    " 대표적인 커널 함수로서 가우시안 분포 함수가 사용됨\n",
    " \n",
    " ![nn](4.jpg)\n",
    " K는 커널 함수, x는 확률 변숫값, xi는 관측값, h는 대역폭\n",
    " \n",
    " \n",
    " 대역폭 h는 KDE형태를 부드러운(또는 뾰족한)형태로 평활화하는 데 적용\n",
    " h를 어떻게 설정하느냐에 따라 PDF추정 성능을 크게 좌우\n",
    " 매우 작은 h값 - 좁고 뾰족한 KDE를 가짐 - 변동성이 큰 방식으로 PDF추정 - 과적합하기 쉬움\n",
    " 매우 큰 h값 - 과도하게 평활화된 KDE를 가짐 - 지나치게 단순화된 방식으로 PDF추정 - 과소적합하기 쉬움\n",
    " ##### 적절한 KDE의 대역폭 h를 계산하는 것은 KDE기반의 평균이동 군집화에서 매우 중요\n",
    " ![nn](5.jpg)\n",
    " \n",
    "평균 이동 군집화는 대역폭이 클수록 평활화된 KDE로 인해 적은 수의 군집 중심적을 가짐\n",
    "군집의 개수를 지정하지 않으며 대역폭의 크기에 따라 군집화를 수행\n",
    "\n",
    "* 사이킷런의 MeanShift클래스\n",
    "평균이동군집화를 위한 클래스\n",
    "가장 중요환 초기화 파라미터 - bandwidth - KDE의 h와 동일\n",
    "최적의 대역폭 계산을 위해 estimate_bandwidth()함수를 제공"
   ]
  },
  {
   "cell_type": "code",
   "execution_count": 1,
   "metadata": {},
   "outputs": [
    {
     "name": "stdout",
     "output_type": "stream",
     "text": [
      "cluster labels 유형: [0 1 2 3 4 5]\n"
     ]
    }
   ],
   "source": [
    "import numpy as np \n",
    "from sklearn.datasets import make_blobs\n",
    "from sklearn.cluster import MeanShift\n",
    "#maek_blob()의 cluster_std를 0.7로 정한 3개 군집의 데이터에 대해 bandwidth를 0.8로 설정한 평균 이동 군집화 알고리즘을 적용한 예제\n",
    "X, y = make_blobs(n_samples=200, n_features=2, centers=3, \n",
    "                  cluster_std=0.7, random_state=0)\n",
    "\n",
    "meanshift= MeanShift(bandwidth=0.8)\n",
    "cluster_labels = meanshift.fit_predict(X)\n",
    "print('cluster labels 유형:', np.unique(cluster_labels))"
   ]
  },
  {
   "cell_type": "code",
   "execution_count": 2,
   "metadata": {},
   "outputs": [
    {
     "name": "stdout",
     "output_type": "stream",
     "text": [
      "cluster labels 유형: [0 1 2]\n"
     ]
    }
   ],
   "source": [
    "#군집이 6개로 분류됨 - 지나치게 세분화돼 군집화 되었음\n",
    "#대역폭을 살짝 높인 1.0으로 해서 평균이동군집화를 다시 시행\n",
    "meanshift= MeanShift(bandwidth=1)\n",
    "cluster_labels = meanshift.fit_predict(X)\n",
    "print('cluster labels 유형:', np.unique(cluster_labels))"
   ]
  },
  {
   "cell_type": "code",
   "execution_count": 6,
   "metadata": {},
   "outputs": [
    {
     "name": "stdout",
     "output_type": "stream",
     "text": [
      "bandwidth 값: 1.816\n"
     ]
    }
   ],
   "source": [
    "#3개의 군집으로 잘 군집화\n",
    "from sklearn.cluster import estimate_bandwidth\n",
    "\n",
    "best_bandwidth = estimate_bandwidth(X)#최적화된 bandwidth값 반환, 파라미터로는 데이터 세트 입력\n",
    "print('bandwidth 값:', round(bandwidth,3))"
   ]
  },
  {
   "cell_type": "code",
   "execution_count": 7,
   "metadata": {},
   "outputs": [
    {
     "name": "stdout",
     "output_type": "stream",
     "text": [
      "cluster labels 유형: [0 1 2]\n"
     ]
    }
   ],
   "source": [
    "import pandas as pd\n",
    "\n",
    "\n",
    "clusterDF = pd.DataFrame(data=X, columns=['ftr1', 'ftr2'])\n",
    "clusterDF['target'] = y\n",
    "\n",
    "# estimate_bandwidth()로 최적의 bandwidth 계산\n",
    "\n",
    "#estimate_bandwidth로 측정된 bandwith를 평균 이동 입력값으로 적용해 동일한 make_blobs()데이터 세트에 군집화를 수행\n",
    "meanshift= MeanShift(bandwidth=best_bandwidth)\n",
    "cluster_labels = meanshift.fit_predict(X)\n",
    "print('cluster labels 유형:',np.unique(cluster_labels))    "
   ]
  },
  {
   "cell_type": "code",
   "execution_count": 8,
   "metadata": {},
   "outputs": [
    {
     "data": {
      "image/png": "[encoded data removed]",
      "text/plain": [
       "<Figure size 432x288 with 1 Axes>"
      ]
     },
     "metadata": {
      "needs_background": "light"
     },
     "output_type": "display_data"
    }
   ],
   "source": [
    "import matplotlib.pyplot as plt\n",
    "%matplotlib inline\n",
    "\n",
    "clusterDF['meanshift_label']  = cluster_labels\n",
    "centers = meanshift.cluster_centers_#평균이동도 K-평균과 유사하게 중심을 가짐 - cluster_centers_속성으로 군집 중심 좌표를 표시\n",
    "unique_labels = np.unique(cluster_labels)\n",
    "markers=['o', 's', '^', 'x', '*']\n",
    "\n",
    "for label in unique_labels:\n",
    "    label_cluster = clusterDF[clusterDF['meanshift_label']==label]\n",
    "    center_x_y = centers[label]\n",
    "    # 군집별로 다른 마커로 산점도 적용\n",
    "    plt.scatter(x=label_cluster['ftr1'], y=label_cluster['ftr2'], edgecolor='k', marker=markers[label] )\n",
    "    \n",
    "    # 군집별 중심 표현\n",
    "    plt.scatter(x=center_x_y[0], y=center_x_y[1], s=200, color='gray', alpha=0.9, marker=markers[label])\n",
    "    plt.scatter(x=center_x_y[0], y=center_x_y[1], s=70, color='k', edgecolor='k', marker='$%d$' % label)\n",
    "    \n",
    "plt.show()"
   ]
  },
  {
   "cell_type": "code",
   "execution_count": 9,
   "metadata": {},
   "outputs": [
    {
     "name": "stdout",
     "output_type": "stream",
     "text": [
      "target  meanshift_label\n",
      "0       0                  67\n",
      "1       1                  67\n",
      "2       2                  66\n",
      "Name: meanshift_label, dtype: int64\n"
     ]
    }
   ],
   "source": [
    "print(clusterDF.groupby('target')['meanshift_label'].value_counts())\n",
    "#타겟값과 군집 label값이 1대 1로 잘 매칭됨"
   ]
  },
  {
   "cell_type": "markdown",
   "metadata": {},
   "source": [
    "* 평균이동의 장점\n",
    "\n",
    "더 유연한 군집화(데이터세트의 형태를 특정 형태로 가정한다든가, 특정 분포도 기반의 모델로 가정하지 않음)\n",
    "이상치의 영향력도 크지 않음\n",
    "미리 군집의 개수를 정할 필요도 없음\n",
    "* 평균이동의 단점\n",
    "\n",
    "알고리즘의 수행시간이 오래 걸림\n",
    "band-width의 크기에 따른 군집화 영향도가 큼"
   ]
  },
  {
   "cell_type": "code",
   "execution_count": null,
   "metadata": {},
   "outputs": [],
   "source": []
  }
 ],
 "metadata": {
  "kernelspec": {
   "display_name": "Python 3 (ipykernel)",
   "language": "python",
   "name": "python3"
  },
  "language_info": {
   "codemirror_mode": {
    "name": "ipython",
    "version": 3
   },
   "file_extension": ".py",
   "mimetype": "text/x-python",
   "name": "python",
   "nbconvert_exporter": "python",
   "pygments_lexer": "ipython3",
   "version": "3.9.12"
  }
 },
 "nbformat": 4,
 "nbformat_minor": 2
}
