{
  "nbformat": 4,
  "nbformat_minor": 0,
  "metadata": {
    "colab": {
      "provenance": []
    },
    "kernelspec": {
      "name": "python3",
      "display_name": "Python 3"
    },
    "language_info": {
      "name": "python"
    }
  },
  "cells": [
    {
      "cell_type": "markdown",
      "source": [
        "2.2 첫번째 머신러닝 만들어보 보기 - 붓꽃 품종 예측하기\n",
        "====================="
      ],
      "metadata": {
        "id": "oaLgfNeYVTC4"
      }
    },
    {
      "cell_type": "code",
      "source": [
        "from sklearn.datasets import load_iris\n",
        "from sklearn.tree import DecisionTreeClassifier\n",
        "from sklearn.model_selection import train_test_split"
      ],
      "metadata": {
        "id": "D-IW95wqVTJs"
      },
      "execution_count": 1,
      "outputs": []
    },
    {
      "cell_type": "markdown",
      "source": [
        "붓꽃 품종 예측은 유명한 classification문제임"
      ],
      "metadata": {
        "id": "cNkV-9CiVTTc"
      }
    },
    {
      "cell_type": "code",
      "source": [
        "import pandas as pd\n",
        "\n",
        "# 붓꽃 데이터 세트를 로딩합니다. \n",
        "iris = load_iris()\n",
        "\n",
        "# iris.data는 Iris 데이터 세트에서 피처(feature)만으로 된 데이터를 numpy로 가지고 있습니다. \n",
        "iris_data = iris.data\n",
        "\n",
        "# iris.target은 붓꽃 데이터 세트에서 레이블(결정 값) 데이터를 numpy로 가지고 있습니다. \n",
        "iris_label = iris.target\n",
        "print('iris target값:', iris_label)\n",
        "print('iris target명:', iris.target_names)\n",
        "\n",
        "# 붓꽃 데이터 세트를 자세히 보기 위해 DataFrame으로 변환합니다. \n",
        "iris_df = pd.DataFrame(data=iris_data, columns=iris.feature_names)\n",
        "iris_df['label'] = iris.target\n",
        "iris_df.head(3)"
      ],
      "metadata": {
        "colab": {
          "base_uri": "https://localhost:8080/",
          "height": 254
        },
        "id": "G_eno1gpVTs0",
        "outputId": "96b618ff-00ba-4f2a-cf7e-cae0b6605cb1"
      },
      "execution_count": 2,
      "outputs": [
        {
          "output_type": "stream",
          "name": "stdout",
          "text": [
            "iris target값: [0 0 0 0 0 0 0 0 0 0 0 0 0 0 0 0 0 0 0 0 0 0 0 0 0 0 0 0 0 0 0 0 0 0 0 0 0\n",
            " 0 0 0 0 0 0 0 0 0 0 0 0 0 1 1 1 1 1 1 1 1 1 1 1 1 1 1 1 1 1 1 1 1 1 1 1 1\n",
            " 1 1 1 1 1 1 1 1 1 1 1 1 1 1 1 1 1 1 1 1 1 1 1 1 1 1 2 2 2 2 2 2 2 2 2 2 2\n",
            " 2 2 2 2 2 2 2 2 2 2 2 2 2 2 2 2 2 2 2 2 2 2 2 2 2 2 2 2 2 2 2 2 2 2 2 2 2\n",
            " 2 2]\n",
            "iris target명: ['setosa' 'versicolor' 'virginica']\n"
          ]
        },
        {
          "output_type": "execute_result",
          "data": {
            "text/plain": [
              "   sepal length (cm)  sepal width (cm)  petal length (cm)  petal width (cm)  \\\n",
              "0                5.1               3.5                1.4               0.2   \n",
              "1                4.9               3.0                1.4               0.2   \n",
              "2                4.7               3.2                1.3               0.2   \n",
              "\n",
              "   label  \n",
              "0      0  \n",
              "1      0  \n",
              "2      0  "
            ],
            "text/html": [
              "\n",
              "  <div id=\"df-e64c1f9f-8283-41a1-9d9f-eb5b7da50633\">\n",
              "    <div class=\"colab-df-container\">\n",
              "      <div>\n",
              "<style scoped>\n",
              "    .dataframe tbody tr th:only-of-type {\n",
              "        vertical-align: middle;\n",
              "    }\n",
              "\n",
              "    .dataframe tbody tr th {\n",
              "        vertical-align: top;\n",
              "    }\n",
              "\n",
              "    .dataframe thead th {\n",
              "        text-align: right;\n",
              "    }\n",
              "</style>\n",
              "<table border=\"1\" class=\"dataframe\">\n",
              "  <thead>\n",
              "    <tr style=\"text-align: right;\">\n",
              "      <th></th>\n",
              "      <th>sepal length (cm)</th>\n",
              "      <th>sepal width (cm)</th>\n",
              "      <th>petal length (cm)</th>\n",
              "      <th>petal width (cm)</th>\n",
              "      <th>label</th>\n",
              "    </tr>\n",
              "  </thead>\n",
              "  <tbody>\n",
              "    <tr>\n",
              "      <th>0</th>\n",
              "      <td>5.1</td>\n",
              "      <td>3.5</td>\n",
              "      <td>1.4</td>\n",
              "      <td>0.2</td>\n",
              "      <td>0</td>\n",
              "    </tr>\n",
              "    <tr>\n",
              "      <th>1</th>\n",
              "      <td>4.9</td>\n",
              "      <td>3.0</td>\n",
              "      <td>1.4</td>\n",
              "      <td>0.2</td>\n",
              "      <td>0</td>\n",
              "    </tr>\n",
              "    <tr>\n",
              "      <th>2</th>\n",
              "      <td>4.7</td>\n",
              "      <td>3.2</td>\n",
              "      <td>1.3</td>\n",
              "      <td>0.2</td>\n",
              "      <td>0</td>\n",
              "    </tr>\n",
              "  </tbody>\n",
              "</table>\n",
              "</div>\n",
              "      <button class=\"colab-df-convert\" onclick=\"convertToInteractive('df-e64c1f9f-8283-41a1-9d9f-eb5b7da50633')\"\n",
              "              title=\"Convert this dataframe to an interactive table.\"\n",
              "              style=\"display:none;\">\n",
              "        \n",
              "  <svg xmlns=\"http://www.w3.org/2000/svg\" height=\"24px\"viewBox=\"0 0 24 24\"\n",
              "       width=\"24px\">\n",
              "    <path d=\"M0 0h24v24H0V0z\" fill=\"none\"/>\n",
              "    <path d=\"M18.56 5.44l.94 2.06.94-2.06 2.06-.94-2.06-.94-.94-2.06-.94 2.06-2.06.94zm-11 1L8.5 8.5l.94-2.06 2.06-.94-2.06-.94L8.5 2.5l-.94 2.06-2.06.94zm10 10l.94 2.06.94-2.06 2.06-.94-2.06-.94-.94-2.06-.94 2.06-2.06.94z\"/><path d=\"M17.41 7.96l-1.37-1.37c-.4-.4-.92-.59-1.43-.59-.52 0-1.04.2-1.43.59L10.3 9.45l-7.72 7.72c-.78.78-.78 2.05 0 2.83L4 21.41c.39.39.9.59 1.41.59.51 0 1.02-.2 1.41-.59l7.78-7.78 2.81-2.81c.8-.78.8-2.07 0-2.86zM5.41 20L4 18.59l7.72-7.72 1.47 1.35L5.41 20z\"/>\n",
              "  </svg>\n",
              "      </button>\n",
              "      \n",
              "  <style>\n",
              "    .colab-df-container {\n",
              "      display:flex;\n",
              "      flex-wrap:wrap;\n",
              "      gap: 12px;\n",
              "    }\n",
              "\n",
              "    .colab-df-convert {\n",
              "      background-color: #E8F0FE;\n",
              "      border: none;\n",
              "      border-radius: 50%;\n",
              "      cursor: pointer;\n",
              "      display: none;\n",
              "      fill: #1967D2;\n",
              "      height: 32px;\n",
              "      padding: 0 0 0 0;\n",
              "      width: 32px;\n",
              "    }\n",
              "\n",
              "    .colab-df-convert:hover {\n",
              "      background-color: #E2EBFA;\n",
              "      box-shadow: 0px 1px 2px rgba(60, 64, 67, 0.3), 0px 1px 3px 1px rgba(60, 64, 67, 0.15);\n",
              "      fill: #174EA6;\n",
              "    }\n",
              "\n",
              "    [theme=dark] .colab-df-convert {\n",
              "      background-color: #3B4455;\n",
              "      fill: #D2E3FC;\n",
              "    }\n",
              "\n",
              "    [theme=dark] .colab-df-convert:hover {\n",
              "      background-color: #434B5C;\n",
              "      box-shadow: 0px 1px 3px 1px rgba(0, 0, 0, 0.15);\n",
              "      filter: drop-shadow(0px 1px 2px rgba(0, 0, 0, 0.3));\n",
              "      fill: #FFFFFF;\n",
              "    }\n",
              "  </style>\n",
              "\n",
              "      <script>\n",
              "        const buttonEl =\n",
              "          document.querySelector('#df-e64c1f9f-8283-41a1-9d9f-eb5b7da50633 button.colab-df-convert');\n",
              "        buttonEl.style.display =\n",
              "          google.colab.kernel.accessAllowed ? 'block' : 'none';\n",
              "\n",
              "        async function convertToInteractive(key) {\n",
              "          const element = document.querySelector('#df-e64c1f9f-8283-41a1-9d9f-eb5b7da50633');\n",
              "          const dataTable =\n",
              "            await google.colab.kernel.invokeFunction('convertToInteractive',\n",
              "                                                     [key], {});\n",
              "          if (!dataTable) return;\n",
              "\n",
              "          const docLinkHtml = 'Like what you see? Visit the ' +\n",
              "            '<a target=\"_blank\" href=https://colab.research.google.com/notebooks/data_table.ipynb>data table notebook</a>'\n",
              "            + ' to learn more about interactive tables.';\n",
              "          element.innerHTML = '';\n",
              "          dataTable['output_type'] = 'display_data';\n",
              "          await google.colab.output.renderOutput(dataTable, element);\n",
              "          const docLink = document.createElement('div');\n",
              "          docLink.innerHTML = docLinkHtml;\n",
              "          element.appendChild(docLink);\n",
              "        }\n",
              "      </script>\n",
              "    </div>\n",
              "  </div>\n",
              "  "
            ]
          },
          "metadata": {},
          "execution_count": 2
        }
      ]
    },
    {
      "cell_type": "code",
      "source": [
        "X_train, X_test, y_train, y_test = train_test_split(iris_data, iris_label, \n",
        "                                                    test_size=0.2, random_state=11)"
      ],
      "metadata": {
        "id": "x4vjX_RoVXi6"
      },
      "execution_count": 3,
      "outputs": []
    },
    {
      "cell_type": "markdown",
      "source": [
        "test size는 전체에서 test로 사용할 부분의 양 \\ random_state는 seed라 생각하면 됨"
      ],
      "metadata": {
        "id": "qwHBUA-dVeJW"
      }
    },
    {
      "cell_type": "code",
      "source": [
        "# DecisionTreeClassifier 객체 생성 \n",
        "dt_clf = DecisionTreeClassifier(random_state=11)\n",
        "\n",
        "# 학습 수행 \n",
        "dt_clf.fit(X_train, y_train)"
      ],
      "metadata": {
        "colab": {
          "base_uri": "https://localhost:8080/",
          "height": 75
        },
        "id": "L3jMDRHCVfZE",
        "outputId": "557cd92e-655a-4241-ee91-563889365543"
      },
      "execution_count": 4,
      "outputs": [
        {
          "output_type": "execute_result",
          "data": {
            "text/plain": [
              "DecisionTreeClassifier(random_state=11)"
            ],
            "text/html": [
              "<style>#sk-container-id-1 {color: black;background-color: white;}#sk-container-id-1 pre{padding: 0;}#sk-container-id-1 div.sk-toggleable {background-color: white;}#sk-container-id-1 label.sk-toggleable__label {cursor: pointer;display: block;width: 100%;margin-bottom: 0;padding: 0.3em;box-sizing: border-box;text-align: center;}#sk-container-id-1 label.sk-toggleable__label-arrow:before {content: \"▸\";float: left;margin-right: 0.25em;color: #696969;}#sk-container-id-1 label.sk-toggleable__label-arrow:hover:before {color: black;}#sk-container-id-1 div.sk-estimator:hover label.sk-toggleable__label-arrow:before {color: black;}#sk-container-id-1 div.sk-toggleable__content {max-height: 0;max-width: 0;overflow: hidden;text-align: left;background-color: #f0f8ff;}#sk-container-id-1 div.sk-toggleable__content pre {margin: 0.2em;color: black;border-radius: 0.25em;background-color: #f0f8ff;}#sk-container-id-1 input.sk-toggleable__control:checked~div.sk-toggleable__content {max-height: 200px;max-width: 100%;overflow: auto;}#sk-container-id-1 input.sk-toggleable__control:checked~label.sk-toggleable__label-arrow:before {content: \"▾\";}#sk-container-id-1 div.sk-estimator input.sk-toggleable__control:checked~label.sk-toggleable__label {background-color: #d4ebff;}#sk-container-id-1 div.sk-label input.sk-toggleable__control:checked~label.sk-toggleable__label {background-color: #d4ebff;}#sk-container-id-1 input.sk-hidden--visually {border: 0;clip: rect(1px 1px 1px 1px);clip: rect(1px, 1px, 1px, 1px);height: 1px;margin: -1px;overflow: hidden;padding: 0;position: absolute;width: 1px;}#sk-container-id-1 div.sk-estimator {font-family: monospace;background-color: #f0f8ff;border: 1px dotted black;border-radius: 0.25em;box-sizing: border-box;margin-bottom: 0.5em;}#sk-container-id-1 div.sk-estimator:hover {background-color: #d4ebff;}#sk-container-id-1 div.sk-parallel-item::after {content: \"\";width: 100%;border-bottom: 1px solid gray;flex-grow: 1;}#sk-container-id-1 div.sk-label:hover label.sk-toggleable__label {background-color: #d4ebff;}#sk-container-id-1 div.sk-serial::before {content: \"\";position: absolute;border-left: 1px solid gray;box-sizing: border-box;top: 0;bottom: 0;left: 50%;z-index: 0;}#sk-container-id-1 div.sk-serial {display: flex;flex-direction: column;align-items: center;background-color: white;padding-right: 0.2em;padding-left: 0.2em;position: relative;}#sk-container-id-1 div.sk-item {position: relative;z-index: 1;}#sk-container-id-1 div.sk-parallel {display: flex;align-items: stretch;justify-content: center;background-color: white;position: relative;}#sk-container-id-1 div.sk-item::before, #sk-container-id-1 div.sk-parallel-item::before {content: \"\";position: absolute;border-left: 1px solid gray;box-sizing: border-box;top: 0;bottom: 0;left: 50%;z-index: -1;}#sk-container-id-1 div.sk-parallel-item {display: flex;flex-direction: column;z-index: 1;position: relative;background-color: white;}#sk-container-id-1 div.sk-parallel-item:first-child::after {align-self: flex-end;width: 50%;}#sk-container-id-1 div.sk-parallel-item:last-child::after {align-self: flex-start;width: 50%;}#sk-container-id-1 div.sk-parallel-item:only-child::after {width: 0;}#sk-container-id-1 div.sk-dashed-wrapped {border: 1px dashed gray;margin: 0 0.4em 0.5em 0.4em;box-sizing: border-box;padding-bottom: 0.4em;background-color: white;}#sk-container-id-1 div.sk-label label {font-family: monospace;font-weight: bold;display: inline-block;line-height: 1.2em;}#sk-container-id-1 div.sk-label-container {text-align: center;}#sk-container-id-1 div.sk-container {/* jupyter's `normalize.less` sets `[hidden] { display: none; }` but bootstrap.min.css set `[hidden] { display: none !important; }` so we also need the `!important` here to be able to override the default hidden behavior on the sphinx rendered scikit-learn.org. See: https://github.com/scikit-learn/scikit-learn/issues/21755 */display: inline-block !important;position: relative;}#sk-container-id-1 div.sk-text-repr-fallback {display: none;}</style><div id=\"sk-container-id-1\" class=\"sk-top-container\"><div class=\"sk-text-repr-fallback\"><pre>DecisionTreeClassifier(random_state=11)</pre><b>In a Jupyter environment, please rerun this cell to show the HTML representation or trust the notebook. <br />On GitHub, the HTML representation is unable to render, please try loading this page with nbviewer.org.</b></div><div class=\"sk-container\" hidden><div class=\"sk-item\"><div class=\"sk-estimator sk-toggleable\"><input class=\"sk-toggleable__control sk-hidden--visually\" id=\"sk-estimator-id-1\" type=\"checkbox\" checked><label for=\"sk-estimator-id-1\" class=\"sk-toggleable__label sk-toggleable__label-arrow\">DecisionTreeClassifier</label><div class=\"sk-toggleable__content\"><pre>DecisionTreeClassifier(random_state=11)</pre></div></div></div></div></div>"
            ]
          },
          "metadata": {},
          "execution_count": 4
        }
      ]
    },
    {
      "cell_type": "code",
      "source": [
        "# DecisionTreeClassifier 객체 생성 \n",
        "dt_clf = DecisionTreeClassifier(random_state=11)\n",
        "\n",
        "# 학습 수행 \n",
        "dt_clf.fit(X_train, y_train)\n",
        "# 학습이 완료된 DecisionTreeClassifier 객체에서 테스트 데이터 세트로 예측 수행. \n",
        "pred = dt_clf.predict(X_test)"
      ],
      "metadata": {
        "id": "Qm4slauqVfcD"
      },
      "execution_count": 5,
      "outputs": []
    },
    {
      "cell_type": "code",
      "source": [
        "from sklearn.metrics import accuracy_score\n",
        "print('예측 정확도: {0:.4f}'.format(accuracy_score(y_test,pred)))"
      ],
      "metadata": {
        "colab": {
          "base_uri": "https://localhost:8080/"
        },
        "id": "ksHLZX45VfeU",
        "outputId": "bcbd9e2a-a18e-4b02-9e30-c8a5b62fa73c"
      },
      "execution_count": 6,
      "outputs": [
        {
          "output_type": "stream",
          "name": "stdout",
          "text": [
            "예측 정확도: 0.9333\n"
          ]
        }
      ]
    },
    {
      "cell_type": "markdown",
      "source": [
        "2.3 사이킷런의 기반 프레임워크 익히기\n",
        "===================="
      ],
      "metadata": {
        "id": "z2_rB5wCVjja"
      }
    },
    {
      "cell_type": "code",
      "source": [
        "from sklearn.datasets import load_iris\n",
        "\n",
        "iris_data = load_iris()\n",
        "print(type(iris_data))"
      ],
      "metadata": {
        "colab": {
          "base_uri": "https://localhost:8080/"
        },
        "id": "0lMpSGSPVfis",
        "outputId": "04598076-816f-4847-8b57-5bc4602a8a04"
      },
      "execution_count": 7,
      "outputs": [
        {
          "output_type": "stream",
          "name": "stdout",
          "text": [
            "<class 'sklearn.utils._bunch.Bunch'>\n"
          ]
        }
      ]
    },
    {
      "cell_type": "code",
      "source": [
        "keys = iris_data.keys()\n",
        "print('붓꽃 데이터 세트의 키들:', keys)"
      ],
      "metadata": {
        "colab": {
          "base_uri": "https://localhost:8080/"
        },
        "id": "qLLsXYJWVflC",
        "outputId": "83c32190-d4fe-48e3-aafe-0453002ebde8"
      },
      "execution_count": 8,
      "outputs": [
        {
          "output_type": "stream",
          "name": "stdout",
          "text": [
            "붓꽃 데이터 세트의 키들: dict_keys(['data', 'target', 'frame', 'target_names', 'DESCR', 'feature_names', 'filename', 'data_module'])\n"
          ]
        }
      ]
    },
    {
      "cell_type": "code",
      "source": [
        "print('\\n feature_names 의 type:',type(iris_data.feature_names))\n",
        "print(' feature_names 의 shape:',len(iris_data.feature_names))\n",
        "print(iris_data.feature_names)\n",
        "\n",
        "print('\\n target_names 의 type:',type(iris_data.target_names))\n",
        "print(' feature_names 의 shape:',len(iris_data.target_names))\n",
        "print(iris_data.target_names)\n",
        "\n",
        "print('\\n data 의 type:',type(iris_data.data))\n",
        "print(' data 의 shape:',iris_data.data.shape)\n",
        "print(iris_data['data'])\n",
        "\n",
        "print('\\n target 의 type:',type(iris_data.target))\n",
        "print(' target 의 shape:',iris_data.target.shape)\n",
        "print(iris_data.target)"
      ],
      "metadata": {
        "colab": {
          "base_uri": "https://localhost:8080/"
        },
        "id": "DfGnWp49VfnR",
        "outputId": "0a48e232-d4ee-4c69-95bb-df9c88ad06f3"
      },
      "execution_count": 9,
      "outputs": [
        {
          "output_type": "stream",
          "name": "stdout",
          "text": [
            "\n",
            " feature_names 의 type: <class 'list'>\n",
            " feature_names 의 shape: 4\n",
            "['sepal length (cm)', 'sepal width (cm)', 'petal length (cm)', 'petal width (cm)']\n",
            "\n",
            " target_names 의 type: <class 'numpy.ndarray'>\n",
            " feature_names 의 shape: 3\n",
            "['setosa' 'versicolor' 'virginica']\n",
            "\n",
            " data 의 type: <class 'numpy.ndarray'>\n",
            " data 의 shape: (150, 4)\n",
            "[[5.1 3.5 1.4 0.2]\n",
            " [4.9 3.  1.4 0.2]\n",
            " [4.7 3.2 1.3 0.2]\n",
            " [4.6 3.1 1.5 0.2]\n",
            " [5.  3.6 1.4 0.2]\n",
            " [5.4 3.9 1.7 0.4]\n",
            " [4.6 3.4 1.4 0.3]\n",
            " [5.  3.4 1.5 0.2]\n",
            " [4.4 2.9 1.4 0.2]\n",
            " [4.9 3.1 1.5 0.1]\n",
            " [5.4 3.7 1.5 0.2]\n",
            " [4.8 3.4 1.6 0.2]\n",
            " [4.8 3.  1.4 0.1]\n",
            " [4.3 3.  1.1 0.1]\n",
            " [5.8 4.  1.2 0.2]\n",
            " [5.7 4.4 1.5 0.4]\n",
            " [5.4 3.9 1.3 0.4]\n",
            " [5.1 3.5 1.4 0.3]\n",
            " [5.7 3.8 1.7 0.3]\n",
            " [5.1 3.8 1.5 0.3]\n",
            " [5.4 3.4 1.7 0.2]\n",
            " [5.1 3.7 1.5 0.4]\n",
            " [4.6 3.6 1.  0.2]\n",
            " [5.1 3.3 1.7 0.5]\n",
            " [4.8 3.4 1.9 0.2]\n",
            " [5.  3.  1.6 0.2]\n",
            " [5.  3.4 1.6 0.4]\n",
            " [5.2 3.5 1.5 0.2]\n",
            " [5.2 3.4 1.4 0.2]\n",
            " [4.7 3.2 1.6 0.2]\n",
            " [4.8 3.1 1.6 0.2]\n",
            " [5.4 3.4 1.5 0.4]\n",
            " [5.2 4.1 1.5 0.1]\n",
            " [5.5 4.2 1.4 0.2]\n",
            " [4.9 3.1 1.5 0.2]\n",
            " [5.  3.2 1.2 0.2]\n",
            " [5.5 3.5 1.3 0.2]\n",
            " [4.9 3.6 1.4 0.1]\n",
            " [4.4 3.  1.3 0.2]\n",
            " [5.1 3.4 1.5 0.2]\n",
            " [5.  3.5 1.3 0.3]\n",
            " [4.5 2.3 1.3 0.3]\n",
            " [4.4 3.2 1.3 0.2]\n",
            " [5.  3.5 1.6 0.6]\n",
            " [5.1 3.8 1.9 0.4]\n",
            " [4.8 3.  1.4 0.3]\n",
            " [5.1 3.8 1.6 0.2]\n",
            " [4.6 3.2 1.4 0.2]\n",
            " [5.3 3.7 1.5 0.2]\n",
            " [5.  3.3 1.4 0.2]\n",
            " [7.  3.2 4.7 1.4]\n",
            " [6.4 3.2 4.5 1.5]\n",
            " [6.9 3.1 4.9 1.5]\n",
            " [5.5 2.3 4.  1.3]\n",
            " [6.5 2.8 4.6 1.5]\n",
            " [5.7 2.8 4.5 1.3]\n",
            " [6.3 3.3 4.7 1.6]\n",
            " [4.9 2.4 3.3 1. ]\n",
            " [6.6 2.9 4.6 1.3]\n",
            " [5.2 2.7 3.9 1.4]\n",
            " [5.  2.  3.5 1. ]\n",
            " [5.9 3.  4.2 1.5]\n",
            " [6.  2.2 4.  1. ]\n",
            " [6.1 2.9 4.7 1.4]\n",
            " [5.6 2.9 3.6 1.3]\n",
            " [6.7 3.1 4.4 1.4]\n",
            " [5.6 3.  4.5 1.5]\n",
            " [5.8 2.7 4.1 1. ]\n",
            " [6.2 2.2 4.5 1.5]\n",
            " [5.6 2.5 3.9 1.1]\n",
            " [5.9 3.2 4.8 1.8]\n",
            " [6.1 2.8 4.  1.3]\n",
            " [6.3 2.5 4.9 1.5]\n",
            " [6.1 2.8 4.7 1.2]\n",
            " [6.4 2.9 4.3 1.3]\n",
            " [6.6 3.  4.4 1.4]\n",
            " [6.8 2.8 4.8 1.4]\n",
            " [6.7 3.  5.  1.7]\n",
            " [6.  2.9 4.5 1.5]\n",
            " [5.7 2.6 3.5 1. ]\n",
            " [5.5 2.4 3.8 1.1]\n",
            " [5.5 2.4 3.7 1. ]\n",
            " [5.8 2.7 3.9 1.2]\n",
            " [6.  2.7 5.1 1.6]\n",
            " [5.4 3.  4.5 1.5]\n",
            " [6.  3.4 4.5 1.6]\n",
            " [6.7 3.1 4.7 1.5]\n",
            " [6.3 2.3 4.4 1.3]\n",
            " [5.6 3.  4.1 1.3]\n",
            " [5.5 2.5 4.  1.3]\n",
            " [5.5 2.6 4.4 1.2]\n",
            " [6.1 3.  4.6 1.4]\n",
            " [5.8 2.6 4.  1.2]\n",
            " [5.  2.3 3.3 1. ]\n",
            " [5.6 2.7 4.2 1.3]\n",
            " [5.7 3.  4.2 1.2]\n",
            " [5.7 2.9 4.2 1.3]\n",
            " [6.2 2.9 4.3 1.3]\n",
            " [5.1 2.5 3.  1.1]\n",
            " [5.7 2.8 4.1 1.3]\n",
            " [6.3 3.3 6.  2.5]\n",
            " [5.8 2.7 5.1 1.9]\n",
            " [7.1 3.  5.9 2.1]\n",
            " [6.3 2.9 5.6 1.8]\n",
            " [6.5 3.  5.8 2.2]\n",
            " [7.6 3.  6.6 2.1]\n",
            " [4.9 2.5 4.5 1.7]\n",
            " [7.3 2.9 6.3 1.8]\n",
            " [6.7 2.5 5.8 1.8]\n",
            " [7.2 3.6 6.1 2.5]\n",
            " [6.5 3.2 5.1 2. ]\n",
            " [6.4 2.7 5.3 1.9]\n",
            " [6.8 3.  5.5 2.1]\n",
            " [5.7 2.5 5.  2. ]\n",
            " [5.8 2.8 5.1 2.4]\n",
            " [6.4 3.2 5.3 2.3]\n",
            " [6.5 3.  5.5 1.8]\n",
            " [7.7 3.8 6.7 2.2]\n",
            " [7.7 2.6 6.9 2.3]\n",
            " [6.  2.2 5.  1.5]\n",
            " [6.9 3.2 5.7 2.3]\n",
            " [5.6 2.8 4.9 2. ]\n",
            " [7.7 2.8 6.7 2. ]\n",
            " [6.3 2.7 4.9 1.8]\n",
            " [6.7 3.3 5.7 2.1]\n",
            " [7.2 3.2 6.  1.8]\n",
            " [6.2 2.8 4.8 1.8]\n",
            " [6.1 3.  4.9 1.8]\n",
            " [6.4 2.8 5.6 2.1]\n",
            " [7.2 3.  5.8 1.6]\n",
            " [7.4 2.8 6.1 1.9]\n",
            " [7.9 3.8 6.4 2. ]\n",
            " [6.4 2.8 5.6 2.2]\n",
            " [6.3 2.8 5.1 1.5]\n",
            " [6.1 2.6 5.6 1.4]\n",
            " [7.7 3.  6.1 2.3]\n",
            " [6.3 3.4 5.6 2.4]\n",
            " [6.4 3.1 5.5 1.8]\n",
            " [6.  3.  4.8 1.8]\n",
            " [6.9 3.1 5.4 2.1]\n",
            " [6.7 3.1 5.6 2.4]\n",
            " [6.9 3.1 5.1 2.3]\n",
            " [5.8 2.7 5.1 1.9]\n",
            " [6.8 3.2 5.9 2.3]\n",
            " [6.7 3.3 5.7 2.5]\n",
            " [6.7 3.  5.2 2.3]\n",
            " [6.3 2.5 5.  1.9]\n",
            " [6.5 3.  5.2 2. ]\n",
            " [6.2 3.4 5.4 2.3]\n",
            " [5.9 3.  5.1 1.8]]\n",
            "\n",
            " target 의 type: <class 'numpy.ndarray'>\n",
            " target 의 shape: (150,)\n",
            "[0 0 0 0 0 0 0 0 0 0 0 0 0 0 0 0 0 0 0 0 0 0 0 0 0 0 0 0 0 0 0 0 0 0 0 0 0\n",
            " 0 0 0 0 0 0 0 0 0 0 0 0 0 1 1 1 1 1 1 1 1 1 1 1 1 1 1 1 1 1 1 1 1 1 1 1 1\n",
            " 1 1 1 1 1 1 1 1 1 1 1 1 1 1 1 1 1 1 1 1 1 1 1 1 1 1 2 2 2 2 2 2 2 2 2 2 2\n",
            " 2 2 2 2 2 2 2 2 2 2 2 2 2 2 2 2 2 2 2 2 2 2 2 2 2 2 2 2 2 2 2 2 2 2 2 2 2\n",
            " 2 2]\n"
          ]
        }
      ]
    },
    {
      "cell_type": "markdown",
      "source": [
        "2.4 Model Selection 모듈 소개\n",
        "================="
      ],
      "metadata": {
        "id": "BAas1X6HVs2b"
      }
    },
    {
      "cell_type": "markdown",
      "source": [
        "학습/테스트 데이터 시트 분리 - train_test_split()\n",
        "-------------------"
      ],
      "metadata": {
        "id": "RwI5XJUgVvaM"
      }
    },
    {
      "cell_type": "code",
      "source": [
        "from sklearn.datasets import load_iris\n",
        "from sklearn.tree import DecisionTreeClassifier\n",
        "from sklearn.metrics import accuracy_score\n",
        "\n",
        "iris = load_iris()\n",
        "dt_clf = DecisionTreeClassifier()\n",
        "train_data = iris.data\n",
        "train_label = iris.target\n",
        "dt_clf.fit(train_data, train_label)\n",
        "\n",
        "# 학습 데이터 셋으로 예측 수행\n",
        "pred = dt_clf.predict(train_data)\n",
        "print('예측 정확도:',accuracy_score(train_label,pred))"
      ],
      "metadata": {
        "colab": {
          "base_uri": "https://localhost:8080/"
        },
        "id": "SC33jw0gVfpJ",
        "outputId": "550abe98-edcd-4787-b6bb-53e4bbdd6e33"
      },
      "execution_count": 10,
      "outputs": [
        {
          "output_type": "stream",
          "name": "stdout",
          "text": [
            "예측 정확도: 1.0\n"
          ]
        }
      ]
    },
    {
      "cell_type": "markdown",
      "source": [
        "train, test셋을 분리안하고 한 데이터에서 train test를 모두 하였기 때문에 정확도 100%가 나옴 \\\n",
        "-> train 셋에서 학습하고 test셋에서 훈련한 모델을 가지고 test해야함"
      ],
      "metadata": {
        "id": "LdDVAfPUVyKe"
      }
    },
    {
      "cell_type": "code",
      "source": [
        "from sklearn.tree import DecisionTreeClassifier\n",
        "from sklearn.metrics import accuracy_score\n",
        "from sklearn.datasets import load_iris\n",
        "from sklearn.model_selection import train_test_split\n",
        "\n",
        "dt_clf = DecisionTreeClassifier( )\n",
        "iris_data = load_iris()\n",
        "\n",
        "X_train, X_test, y_train, y_test = train_test_split(iris_data.data, iris_data.target, \n",
        "                                                    test_size=0.3, random_state=121)"
      ],
      "metadata": {
        "id": "znJXK3i-Vfro"
      },
      "execution_count": 11,
      "outputs": []
    },
    {
      "cell_type": "code",
      "source": [
        "dt_clf.fit(X_train, y_train)\n",
        "pred = dt_clf.predict(X_test)\n",
        "print('예측 정확도: {0:.4f}'.format(accuracy_score(y_test,pred)))"
      ],
      "metadata": {
        "colab": {
          "base_uri": "https://localhost:8080/"
        },
        "id": "06GU8_u7Vftw",
        "outputId": "a614a4db-cd49-49f9-ec71-8c53b66a5c31"
      },
      "execution_count": 12,
      "outputs": [
        {
          "output_type": "stream",
          "name": "stdout",
          "text": [
            "예측 정확도: 0.9556\n"
          ]
        }
      ]
    },
    {
      "cell_type": "markdown",
      "source": [
        "K-Fold 교차 검증\n",
        "----------"
      ],
      "metadata": {
        "id": "CelMCYFzV9T4"
      }
    },
    {
      "cell_type": "code",
      "source": [
        "from sklearn.tree import DecisionTreeClassifier\n",
        "from sklearn.metrics import accuracy_score\n",
        "from sklearn.model_selection import KFold\n",
        "import numpy as np\n",
        "\n",
        "iris = load_iris()\n",
        "features = iris.data\n",
        "label = iris.target\n",
        "dt_clf = DecisionTreeClassifier(random_state=156)\n",
        "\n",
        "# 5개의 폴드 세트로 분리하는 KFold 객체와 폴드 세트별 정확도를 담을 리스트 객체 생성.\n",
        "kfold = KFold(n_splits=5)\n",
        "cv_accuracy = []\n",
        "print('붓꽃 데이터 세트 크기:',features.shape[0])"
      ],
      "metadata": {
        "colab": {
          "base_uri": "https://localhost:8080/"
        },
        "id": "Z_I3owskV9Z4",
        "outputId": "fbf7f7bd-77bc-4fc2-81c3-30878b3be195"
      },
      "execution_count": 13,
      "outputs": [
        {
          "output_type": "stream",
          "name": "stdout",
          "text": [
            "붓꽃 데이터 세트 크기: 150\n"
          ]
        }
      ]
    },
    {
      "cell_type": "code",
      "source": [
        "n_iter = 0 # 시행 횟수 (5가 될때까지지)\n",
        "\n",
        "# KFold객체의 split( ) 호출하면 폴드 별 학습용, 검증용 테스트의 로우 인덱스를 array로 반환  \n",
        "for train_index, test_index in kfold.split(features):\n",
        "    # kfold.split( )으로 반환된 인덱스를 이용하여 학습용, 검증용 테스트 데이터 추출\n",
        "    X_train, X_test = features[train_index], features[test_index]\n",
        "    y_train, y_test = label[train_index], label[test_index]\n",
        "    #학습 및 예측 \n",
        "    dt_clf.fit(X_train , y_train)    \n",
        "    pred = dt_clf.predict(X_test)\n",
        "    n_iter += 1\n",
        "    # 반복 시 마다 정확도 측정 \n",
        "    accuracy = np.round(accuracy_score(y_test,pred), 4) # 반올림\n",
        "    train_size = X_train.shape[0]\n",
        "    test_size = X_test.shape[0]\n",
        "    print('\\n#{0} 교차 검증 정확도 :{1}, 학습 데이터 크기: {2}, 검증 데이터 크기: {3}'\n",
        "          .format(n_iter, accuracy, train_size, test_size))\n",
        "    print('#{0} 검증 세트 인덱스:{1}'.format(n_iter,test_index))\n",
        "    cv_accuracy.append(accuracy)\n",
        "    \n",
        "# 개별 iteration별 정확도를 합하여 평균 정확도 계산 \n",
        "print('\\n## 평균 검증 정확도:', np.mean(cv_accuracy)) "
      ],
      "metadata": {
        "colab": {
          "base_uri": "https://localhost:8080/"
        },
        "id": "Ip-Ogc1kV9cJ",
        "outputId": "119c33c8-7409-40da-b932-125a46abac1e"
      },
      "execution_count": 14,
      "outputs": [
        {
          "output_type": "stream",
          "name": "stdout",
          "text": [
            "\n",
            "#1 교차 검증 정확도 :1.0, 학습 데이터 크기: 120, 검증 데이터 크기: 30\n",
            "#1 검증 세트 인덱스:[ 0  1  2  3  4  5  6  7  8  9 10 11 12 13 14 15 16 17 18 19 20 21 22 23\n",
            " 24 25 26 27 28 29]\n",
            "\n",
            "#2 교차 검증 정확도 :0.9667, 학습 데이터 크기: 120, 검증 데이터 크기: 30\n",
            "#2 검증 세트 인덱스:[30 31 32 33 34 35 36 37 38 39 40 41 42 43 44 45 46 47 48 49 50 51 52 53\n",
            " 54 55 56 57 58 59]\n",
            "\n",
            "#3 교차 검증 정확도 :0.8667, 학습 데이터 크기: 120, 검증 데이터 크기: 30\n",
            "#3 검증 세트 인덱스:[60 61 62 63 64 65 66 67 68 69 70 71 72 73 74 75 76 77 78 79 80 81 82 83\n",
            " 84 85 86 87 88 89]\n",
            "\n",
            "#4 교차 검증 정확도 :0.9333, 학습 데이터 크기: 120, 검증 데이터 크기: 30\n",
            "#4 검증 세트 인덱스:[ 90  91  92  93  94  95  96  97  98  99 100 101 102 103 104 105 106 107\n",
            " 108 109 110 111 112 113 114 115 116 117 118 119]\n",
            "\n",
            "#5 교차 검증 정확도 :0.7333, 학습 데이터 크기: 120, 검증 데이터 크기: 30\n",
            "#5 검증 세트 인덱스:[120 121 122 123 124 125 126 127 128 129 130 131 132 133 134 135 136 137\n",
            " 138 139 140 141 142 143 144 145 146 147 148 149]\n",
            "\n",
            "## 평균 검증 정확도: 0.9\n"
          ]
        }
      ]
    },
    {
      "cell_type": "markdown",
      "source": [
        "Stratified K-Fold\n",
        "------------"
      ],
      "metadata": {
        "id": "K_i8nwMAWBbq"
      }
    },
    {
      "cell_type": "markdown",
      "source": [
        "**imbalanced한 분포의 데이터**에 사용, 예를 들어 앞쪽 index의 분포와 뒤쪽 index의 분포가 크게 다를경우 사용함"
      ],
      "metadata": {
        "id": "de65oL4_WD-7"
      }
    },
    {
      "cell_type": "markdown",
      "source": [
        "**레이블 데이터 분포도**에 따라 학습/검증 데이터를 나눈다."
      ],
      "metadata": {
        "id": "MpM24FDxWEBC"
      }
    },
    {
      "cell_type": "code",
      "source": [
        "import pandas as pd\n",
        "\n",
        "iris = load_iris()\n",
        "iris_df = pd.DataFrame(data = iris.data, columns = iris.feature_names)\n",
        "iris_df['label'] = iris.target\n",
        "iris_df['label'].value_counts()"
      ],
      "metadata": {
        "colab": {
          "base_uri": "https://localhost:8080/"
        },
        "id": "7QeSB5qEV9eZ",
        "outputId": "5e7a175d-dd9c-4b41-989e-16111ced8f29"
      },
      "execution_count": 15,
      "outputs": [
        {
          "output_type": "execute_result",
          "data": {
            "text/plain": [
              "0    50\n",
              "1    50\n",
              "2    50\n",
              "Name: label, dtype: int64"
            ]
          },
          "metadata": {},
          "execution_count": 15
        }
      ]
    },
    {
      "cell_type": "code",
      "source": [
        "kfold = KFold(n_splits = 3)\n",
        "n_iter = 0\n",
        "for train_index, test_index in kfold.split(iris_df):\n",
        "  n_iter += 1\n",
        "  label_train= iris_df['label'].iloc[train_index]\n",
        "  label_test= iris_df['label'].iloc[test_index]\n",
        "  print('## 교차 검증: {0}'.format(n_iter))\n",
        "  print('학습 레이블 데이터 분포:\\n', label_train.value_counts())\n",
        "  print('검증 레이블 데이터 분포:\\n', label_test.value_counts())"
      ],
      "metadata": {
        "colab": {
          "base_uri": "https://localhost:8080/"
        },
        "id": "BmyqaGWCV9gf",
        "outputId": "4065fdc4-cab1-43da-d0b3-635ee9a840da"
      },
      "execution_count": 16,
      "outputs": [
        {
          "output_type": "stream",
          "name": "stdout",
          "text": [
            "## 교차 검증: 1\n",
            "학습 레이블 데이터 분포:\n",
            " 1    50\n",
            "2    50\n",
            "Name: label, dtype: int64\n",
            "검증 레이블 데이터 분포:\n",
            " 0    50\n",
            "Name: label, dtype: int64\n",
            "## 교차 검증: 2\n",
            "학습 레이블 데이터 분포:\n",
            " 0    50\n",
            "2    50\n",
            "Name: label, dtype: int64\n",
            "검증 레이블 데이터 분포:\n",
            " 1    50\n",
            "Name: label, dtype: int64\n",
            "## 교차 검증: 3\n",
            "학습 레이블 데이터 분포:\n",
            " 0    50\n",
            "1    50\n",
            "Name: label, dtype: int64\n",
            "검증 레이블 데이터 분포:\n",
            " 2    50\n",
            "Name: label, dtype: int64\n"
          ]
        }
      ]
    },
    {
      "cell_type": "code",
      "source": [
        "from sklearn.model_selection import StratifiedKFold\n",
        "\n",
        "skf = StratifiedKFold(n_splits=3)\n",
        "n_iter=0\n",
        "\n",
        "for train_index, test_index in skf.split(iris_df, iris_df['label']):\n",
        "    n_iter += 1\n",
        "    label_train= iris_df['label'].iloc[train_index]\n",
        "    label_test= iris_df['label'].iloc[test_index]\n",
        "    print('## 교차 검증: {0}'.format(n_iter))\n",
        "    print('학습 레이블 데이터 분포:\\n', label_train.value_counts())\n",
        "    print('검증 레이블 데이터 분포:\\n', label_test.value_counts())"
      ],
      "metadata": {
        "colab": {
          "base_uri": "https://localhost:8080/"
        },
        "id": "YaNiWZvJV9il",
        "outputId": "109960d5-60b3-4148-a01a-4d03078fb9b7"
      },
      "execution_count": 17,
      "outputs": [
        {
          "output_type": "stream",
          "name": "stdout",
          "text": [
            "## 교차 검증: 1\n",
            "학습 레이블 데이터 분포:\n",
            " 2    34\n",
            "0    33\n",
            "1    33\n",
            "Name: label, dtype: int64\n",
            "검증 레이블 데이터 분포:\n",
            " 0    17\n",
            "1    17\n",
            "2    16\n",
            "Name: label, dtype: int64\n",
            "## 교차 검증: 2\n",
            "학습 레이블 데이터 분포:\n",
            " 1    34\n",
            "0    33\n",
            "2    33\n",
            "Name: label, dtype: int64\n",
            "검증 레이블 데이터 분포:\n",
            " 0    17\n",
            "2    17\n",
            "1    16\n",
            "Name: label, dtype: int64\n",
            "## 교차 검증: 3\n",
            "학습 레이블 데이터 분포:\n",
            " 0    34\n",
            "1    33\n",
            "2    33\n",
            "Name: label, dtype: int64\n",
            "검증 레이블 데이터 분포:\n",
            " 1    17\n",
            "2    17\n",
            "0    16\n",
            "Name: label, dtype: int64\n"
          ]
        }
      ]
    },
    {
      "cell_type": "code",
      "source": [
        "dt_clf = DecisionTreeClassifier(random_state=156)\n",
        "\n",
        "skfold = StratifiedKFold(n_splits=3)\n",
        "n_iter=0\n",
        "cv_accuracy=[]\n",
        "\n",
        "# StratifiedKFold의 split( ) 호출시 반드시 레이블 데이터 셋도 추가 입력 필요  \n",
        "for train_index, test_index  in skfold.split(features, label):\n",
        "    # split( )으로 반환된 인덱스를 이용하여 학습용, 검증용 테스트 데이터 추출\n",
        "    X_train, X_test = features[train_index], features[test_index]\n",
        "    y_train, y_test = label[train_index], label[test_index]\n",
        "    #학습 및 예측 \n",
        "    dt_clf.fit(X_train , y_train)    \n",
        "    pred = dt_clf.predict(X_test)\n",
        "\n",
        "    # 반복 시 마다 정확도 측정 \n",
        "    n_iter += 1\n",
        "    accuracy = np.round(accuracy_score(y_test,pred), 4)\n",
        "    train_size = X_train.shape[0]\n",
        "    test_size = X_test.shape[0]\n",
        "    print('\\n#{0} 교차 검증 정확도 :{1}, 학습 데이터 크기: {2}, 검증 데이터 크기: {3}'\n",
        "          .format(n_iter, accuracy, train_size, test_size))\n",
        "    print('#{0} 검증 세트 인덱스:{1}'.format(n_iter,test_index))\n",
        "    cv_accuracy.append(accuracy)\n",
        "    \n",
        "# 교차 검증별 정확도 및 평균 정확도 계산 \n",
        "print('\\n## 교차 검증별 정확도:', np.round(cv_accuracy, 4))\n",
        "print('## 평균 검증 정확도:', np.round(np.mean(cv_accuracy), 4))"
      ],
      "metadata": {
        "colab": {
          "base_uri": "https://localhost:8080/"
        },
        "id": "I6PEmKXWV9ku",
        "outputId": "031da8a8-9508-48ea-adf2-57cdab906b00"
      },
      "execution_count": 18,
      "outputs": [
        {
          "output_type": "stream",
          "name": "stdout",
          "text": [
            "\n",
            "#1 교차 검증 정확도 :0.98, 학습 데이터 크기: 100, 검증 데이터 크기: 50\n",
            "#1 검증 세트 인덱스:[  0   1   2   3   4   5   6   7   8   9  10  11  12  13  14  15  16  50\n",
            "  51  52  53  54  55  56  57  58  59  60  61  62  63  64  65  66 100 101\n",
            " 102 103 104 105 106 107 108 109 110 111 112 113 114 115]\n",
            "\n",
            "#2 교차 검증 정확도 :0.94, 학습 데이터 크기: 100, 검증 데이터 크기: 50\n",
            "#2 검증 세트 인덱스:[ 17  18  19  20  21  22  23  24  25  26  27  28  29  30  31  32  33  67\n",
            "  68  69  70  71  72  73  74  75  76  77  78  79  80  81  82 116 117 118\n",
            " 119 120 121 122 123 124 125 126 127 128 129 130 131 132]\n",
            "\n",
            "#3 교차 검증 정확도 :0.98, 학습 데이터 크기: 100, 검증 데이터 크기: 50\n",
            "#3 검증 세트 인덱스:[ 34  35  36  37  38  39  40  41  42  43  44  45  46  47  48  49  83  84\n",
            "  85  86  87  88  89  90  91  92  93  94  95  96  97  98  99 133 134 135\n",
            " 136 137 138 139 140 141 142 143 144 145 146 147 148 149]\n",
            "\n",
            "## 교차 검증별 정확도: [0.98 0.94 0.98]\n",
            "## 평균 검증 정확도: 0.9667\n"
          ]
        }
      ]
    },
    {
      "cell_type": "markdown",
      "source": [
        "cross_val_score()\n",
        "---------------"
      ],
      "metadata": {
        "id": "KMKi97-3WPqT"
      }
    },
    {
      "cell_type": "markdown",
      "source": [
        "앞에서 한 과정들을 간단하게 해주는 함수"
      ],
      "metadata": {
        "id": "tnFAjJUKWTU_"
      }
    },
    {
      "cell_type": "code",
      "source": [
        "from sklearn.tree import DecisionTreeClassifier\n",
        "from sklearn.model_selection import cross_val_score , cross_validate\n",
        "from sklearn.datasets import load_iris\n",
        "\n",
        "iris_data = load_iris()\n",
        "dt_clf = DecisionTreeClassifier(random_state=156)\n",
        "\n",
        "data = iris_data.data\n",
        "label = iris_data.target\n",
        "\n",
        "# 성능 지표는 정확도(accuracy) , 교차 검증 세트는 3개 \n",
        "scores = cross_val_score(dt_clf , data , label , scoring='accuracy',cv=3)\n",
        "print('교차 검증별 정확도:',np.round(scores, 4))\n",
        "print('평균 검증 정확도:', np.round(np.mean(scores), 4))"
      ],
      "metadata": {
        "colab": {
          "base_uri": "https://localhost:8080/"
        },
        "id": "_vpJW4InV9mc",
        "outputId": "861e2f60-703f-42c1-8848-eebd33e0a6d5"
      },
      "execution_count": 19,
      "outputs": [
        {
          "output_type": "stream",
          "name": "stdout",
          "text": [
            "교차 검증별 정확도: [0.98 0.94 0.98]\n",
            "평균 검증 정확도: 0.9667\n"
          ]
        }
      ]
    },
    {
      "cell_type": "markdown",
      "source": [
        "cross_val score()는 StratifiedKFold 사용"
      ],
      "metadata": {
        "id": "zShIRI98WV3x"
      }
    },
    {
      "cell_type": "markdown",
      "source": [
        "GridSearchCV - 교차 검증과 최적 하이퍼 파라미터 튜닝을 한번에\n",
        "---------------"
      ],
      "metadata": {
        "id": "H2RylAWtWXA2"
      }
    },
    {
      "cell_type": "markdown",
      "source": [
        "for loop으로 해야할 일들을 간편하게 해줌"
      ],
      "metadata": {
        "id": "e594Ki72Wgx9"
      }
    },
    {
      "cell_type": "code",
      "source": [
        "from sklearn.datasets import load_iris\n",
        "from sklearn.tree import DecisionTreeClassifier\n",
        "from sklearn.model_selection import GridSearchCV\n",
        "\n",
        "# 데이터를 로딩하고 학습데이타와 테스트 데이터 분리\n",
        "iris = load_iris()\n",
        "X_train, X_test, y_train, y_test = train_test_split(iris_data.data, iris_data.target, \n",
        "                                                    test_size=0.2, random_state=121)\n",
        "dtree = DecisionTreeClassifier()\n",
        "\n",
        "# parameter 들을 dictionary 형태로 설정\n",
        "parameters = {'max_depth':[1,2,3], 'min_samples_split':[2,3]}"
      ],
      "metadata": {
        "id": "2FnA6sobWWY6"
      },
      "execution_count": 20,
      "outputs": []
    },
    {
      "cell_type": "code",
      "source": [
        "import pandas as pd\n",
        "\n",
        "# param_grid의 하이퍼 파라미터들을 3개의 train, test set fold 로 나누어서 테스트 수행 설정.  \n",
        "# refit=True 가 default 임. True이면 가장 좋은 파라미터 설정으로 재 학습 시킴.  \n",
        "grid_dtree = GridSearchCV(dtree, param_grid=parameters, cv=3, refit=True)\n",
        "\n",
        "# 붓꽃 Train 데이터로 param_grid의 하이퍼 파라미터들을 순차적으로 학습/평가 .\n",
        "grid_dtree.fit(X_train, y_train)\n",
        "\n",
        "# GridSearchCV 결과 추출하여 DataFrame으로 변환\n",
        "scores_df = pd.DataFrame(grid_dtree.cv_results_)\n",
        "print(grid_dtree.cv_results_)\n",
        "scores_df[['params', 'mean_test_score', 'rank_test_score', \\\n",
        "           'split0_test_score', 'split1_test_score', 'split2_test_score']]"
      ],
      "metadata": {
        "colab": {
          "base_uri": "https://localhost:8080/",
          "height": 496
        },
        "id": "mgZmSjz5WZOt",
        "outputId": "ce8aac95-59c3-4a0d-f1c7-b394b7a57c93"
      },
      "execution_count": 21,
      "outputs": [
        {
          "output_type": "stream",
          "name": "stdout",
          "text": [
            "{'mean_fit_time': array([0.00736515, 0.00457025, 0.00339723, 0.00188939, 0.00121983,\n",
            "       0.00117509]), 'std_fit_time': array([0.00206416, 0.00017899, 0.00303005, 0.00100184, 0.0001978 ,\n",
            "       0.00015326]), 'mean_score_time': array([0.00378831, 0.00475025, 0.00389099, 0.00098022, 0.00090138,\n",
            "       0.00373443]), 'std_score_time': array([1.64429200e-03, 1.41788555e-03, 2.00950305e-03, 4.40729854e-05,\n",
            "       5.21057185e-05, 3.98616567e-03]), 'param_max_depth': masked_array(data=[1, 1, 2, 2, 3, 3],\n",
            "             mask=[False, False, False, False, False, False],\n",
            "       fill_value='?',\n",
            "            dtype=object), 'param_min_samples_split': masked_array(data=[2, 3, 2, 3, 2, 3],\n",
            "             mask=[False, False, False, False, False, False],\n",
            "       fill_value='?',\n",
            "            dtype=object), 'params': [{'max_depth': 1, 'min_samples_split': 2}, {'max_depth': 1, 'min_samples_split': 3}, {'max_depth': 2, 'min_samples_split': 2}, {'max_depth': 2, 'min_samples_split': 3}, {'max_depth': 3, 'min_samples_split': 2}, {'max_depth': 3, 'min_samples_split': 3}], 'split0_test_score': array([0.7  , 0.7  , 0.925, 0.925, 0.975, 0.975]), 'split1_test_score': array([0.7, 0.7, 1. , 1. , 1. , 1. ]), 'split2_test_score': array([0.7 , 0.7 , 0.95, 0.95, 0.95, 0.95]), 'mean_test_score': array([0.7       , 0.7       , 0.95833333, 0.95833333, 0.975     ,\n",
            "       0.975     ]), 'std_test_score': array([1.11022302e-16, 1.11022302e-16, 3.11804782e-02, 3.11804782e-02,\n",
            "       2.04124145e-02, 2.04124145e-02]), 'rank_test_score': array([5, 5, 3, 3, 1, 1], dtype=int32)}\n"
          ]
        },
        {
          "output_type": "execute_result",
          "data": {
            "text/plain": [
              "                                     params  mean_test_score  rank_test_score  \\\n",
              "0  {'max_depth': 1, 'min_samples_split': 2}         0.700000                5   \n",
              "1  {'max_depth': 1, 'min_samples_split': 3}         0.700000                5   \n",
              "2  {'max_depth': 2, 'min_samples_split': 2}         0.958333                3   \n",
              "3  {'max_depth': 2, 'min_samples_split': 3}         0.958333                3   \n",
              "4  {'max_depth': 3, 'min_samples_split': 2}         0.975000                1   \n",
              "5  {'max_depth': 3, 'min_samples_split': 3}         0.975000                1   \n",
              "\n",
              "   split0_test_score  split1_test_score  split2_test_score  \n",
              "0              0.700                0.7               0.70  \n",
              "1              0.700                0.7               0.70  \n",
              "2              0.925                1.0               0.95  \n",
              "3              0.925                1.0               0.95  \n",
              "4              0.975                1.0               0.95  \n",
              "5              0.975                1.0               0.95  "
            ],
            "text/html": [
              "\n",
              "  <div id=\"df-8e276d66-2d6c-4849-8d04-278b5ffb8c42\">\n",
              "    <div class=\"colab-df-container\">\n",
              "      <div>\n",
              "<style scoped>\n",
              "    .dataframe tbody tr th:only-of-type {\n",
              "        vertical-align: middle;\n",
              "    }\n",
              "\n",
              "    .dataframe tbody tr th {\n",
              "        vertical-align: top;\n",
              "    }\n",
              "\n",
              "    .dataframe thead th {\n",
              "        text-align: right;\n",
              "    }\n",
              "</style>\n",
              "<table border=\"1\" class=\"dataframe\">\n",
              "  <thead>\n",
              "    <tr style=\"text-align: right;\">\n",
              "      <th></th>\n",
              "      <th>params</th>\n",
              "      <th>mean_test_score</th>\n",
              "      <th>rank_test_score</th>\n",
              "      <th>split0_test_score</th>\n",
              "      <th>split1_test_score</th>\n",
              "      <th>split2_test_score</th>\n",
              "    </tr>\n",
              "  </thead>\n",
              "  <tbody>\n",
              "    <tr>\n",
              "      <th>0</th>\n",
              "      <td>{'max_depth': 1, 'min_samples_split': 2}</td>\n",
              "      <td>0.700000</td>\n",
              "      <td>5</td>\n",
              "      <td>0.700</td>\n",
              "      <td>0.7</td>\n",
              "      <td>0.70</td>\n",
              "    </tr>\n",
              "    <tr>\n",
              "      <th>1</th>\n",
              "      <td>{'max_depth': 1, 'min_samples_split': 3}</td>\n",
              "      <td>0.700000</td>\n",
              "      <td>5</td>\n",
              "      <td>0.700</td>\n",
              "      <td>0.7</td>\n",
              "      <td>0.70</td>\n",
              "    </tr>\n",
              "    <tr>\n",
              "      <th>2</th>\n",
              "      <td>{'max_depth': 2, 'min_samples_split': 2}</td>\n",
              "      <td>0.958333</td>\n",
              "      <td>3</td>\n",
              "      <td>0.925</td>\n",
              "      <td>1.0</td>\n",
              "      <td>0.95</td>\n",
              "    </tr>\n",
              "    <tr>\n",
              "      <th>3</th>\n",
              "      <td>{'max_depth': 2, 'min_samples_split': 3}</td>\n",
              "      <td>0.958333</td>\n",
              "      <td>3</td>\n",
              "      <td>0.925</td>\n",
              "      <td>1.0</td>\n",
              "      <td>0.95</td>\n",
              "    </tr>\n",
              "    <tr>\n",
              "      <th>4</th>\n",
              "      <td>{'max_depth': 3, 'min_samples_split': 2}</td>\n",
              "      <td>0.975000</td>\n",
              "      <td>1</td>\n",
              "      <td>0.975</td>\n",
              "      <td>1.0</td>\n",
              "      <td>0.95</td>\n",
              "    </tr>\n",
              "    <tr>\n",
              "      <th>5</th>\n",
              "      <td>{'max_depth': 3, 'min_samples_split': 3}</td>\n",
              "      <td>0.975000</td>\n",
              "      <td>1</td>\n",
              "      <td>0.975</td>\n",
              "      <td>1.0</td>\n",
              "      <td>0.95</td>\n",
              "    </tr>\n",
              "  </tbody>\n",
              "</table>\n",
              "</div>\n",
              "      <button class=\"colab-df-convert\" onclick=\"convertToInteractive('df-8e276d66-2d6c-4849-8d04-278b5ffb8c42')\"\n",
              "              title=\"Convert this dataframe to an interactive table.\"\n",
              "              style=\"display:none;\">\n",
              "        \n",
              "  <svg xmlns=\"http://www.w3.org/2000/svg\" height=\"24px\"viewBox=\"0 0 24 24\"\n",
              "       width=\"24px\">\n",
              "    <path d=\"M0 0h24v24H0V0z\" fill=\"none\"/>\n",
              "    <path d=\"M18.56 5.44l.94 2.06.94-2.06 2.06-.94-2.06-.94-.94-2.06-.94 2.06-2.06.94zm-11 1L8.5 8.5l.94-2.06 2.06-.94-2.06-.94L8.5 2.5l-.94 2.06-2.06.94zm10 10l.94 2.06.94-2.06 2.06-.94-2.06-.94-.94-2.06-.94 2.06-2.06.94z\"/><path d=\"M17.41 7.96l-1.37-1.37c-.4-.4-.92-.59-1.43-.59-.52 0-1.04.2-1.43.59L10.3 9.45l-7.72 7.72c-.78.78-.78 2.05 0 2.83L4 21.41c.39.39.9.59 1.41.59.51 0 1.02-.2 1.41-.59l7.78-7.78 2.81-2.81c.8-.78.8-2.07 0-2.86zM5.41 20L4 18.59l7.72-7.72 1.47 1.35L5.41 20z\"/>\n",
              "  </svg>\n",
              "      </button>\n",
              "      \n",
              "  <style>\n",
              "    .colab-df-container {\n",
              "      display:flex;\n",
              "      flex-wrap:wrap;\n",
              "      gap: 12px;\n",
              "    }\n",
              "\n",
              "    .colab-df-convert {\n",
              "      background-color: #E8F0FE;\n",
              "      border: none;\n",
              "      border-radius: 50%;\n",
              "      cursor: pointer;\n",
              "      display: none;\n",
              "      fill: #1967D2;\n",
              "      height: 32px;\n",
              "      padding: 0 0 0 0;\n",
              "      width: 32px;\n",
              "    }\n",
              "\n",
              "    .colab-df-convert:hover {\n",
              "      background-color: #E2EBFA;\n",
              "      box-shadow: 0px 1px 2px rgba(60, 64, 67, 0.3), 0px 1px 3px 1px rgba(60, 64, 67, 0.15);\n",
              "      fill: #174EA6;\n",
              "    }\n",
              "\n",
              "    [theme=dark] .colab-df-convert {\n",
              "      background-color: #3B4455;\n",
              "      fill: #D2E3FC;\n",
              "    }\n",
              "\n",
              "    [theme=dark] .colab-df-convert:hover {\n",
              "      background-color: #434B5C;\n",
              "      box-shadow: 0px 1px 3px 1px rgba(0, 0, 0, 0.15);\n",
              "      filter: drop-shadow(0px 1px 2px rgba(0, 0, 0, 0.3));\n",
              "      fill: #FFFFFF;\n",
              "    }\n",
              "  </style>\n",
              "\n",
              "      <script>\n",
              "        const buttonEl =\n",
              "          document.querySelector('#df-8e276d66-2d6c-4849-8d04-278b5ffb8c42 button.colab-df-convert');\n",
              "        buttonEl.style.display =\n",
              "          google.colab.kernel.accessAllowed ? 'block' : 'none';\n",
              "\n",
              "        async function convertToInteractive(key) {\n",
              "          const element = document.querySelector('#df-8e276d66-2d6c-4849-8d04-278b5ffb8c42');\n",
              "          const dataTable =\n",
              "            await google.colab.kernel.invokeFunction('convertToInteractive',\n",
              "                                                     [key], {});\n",
              "          if (!dataTable) return;\n",
              "\n",
              "          const docLinkHtml = 'Like what you see? Visit the ' +\n",
              "            '<a target=\"_blank\" href=https://colab.research.google.com/notebooks/data_table.ipynb>data table notebook</a>'\n",
              "            + ' to learn more about interactive tables.';\n",
              "          element.innerHTML = '';\n",
              "          dataTable['output_type'] = 'display_data';\n",
              "          await google.colab.output.renderOutput(dataTable, element);\n",
              "          const docLink = document.createElement('div');\n",
              "          docLink.innerHTML = docLinkHtml;\n",
              "          element.appendChild(docLink);\n",
              "        }\n",
              "      </script>\n",
              "    </div>\n",
              "  </div>\n",
              "  "
            ]
          },
          "metadata": {},
          "execution_count": 21
        }
      ]
    },
    {
      "cell_type": "markdown",
      "source": [
        "해당 결과를 cv_results_에 저장함함"
      ],
      "metadata": {
        "id": "1Cv_IARuWayq"
      }
    },
    {
      "cell_type": "code",
      "source": [
        "print('GridSearchCV 최적 파라미터:', grid_dtree.best_params_)\n",
        "print('GridSearchCV 최고 정확도: {0:.4f}'.format(grid_dtree.best_score_))"
      ],
      "metadata": {
        "colab": {
          "base_uri": "https://localhost:8080/"
        },
        "id": "Brw9AR1xWZRV",
        "outputId": "7d43179e-43f4-4af8-beca-48602d845ac5"
      },
      "execution_count": 22,
      "outputs": [
        {
          "output_type": "stream",
          "name": "stdout",
          "text": [
            "GridSearchCV 최적 파라미터: {'max_depth': 3, 'min_samples_split': 2}\n",
            "GridSearchCV 최고 정확도: 0.9750\n"
          ]
        }
      ]
    },
    {
      "cell_type": "code",
      "source": [
        "# GridSearchCV의 refit으로 이미 학습이 된 estimator 반환\n",
        "estimator = grid_dtree.best_estimator_\n",
        "\n",
        "# GridSearchCV의 best_estimator_는 이미 최적 하이퍼 파라미터로 학습이 됨\n",
        "pred = estimator.predict(X_test)\n",
        "print('테스트 데이터 세트 정확도: {0:.4f}'.format(accuracy_score(y_test,pred)))"
      ],
      "metadata": {
        "colab": {
          "base_uri": "https://localhost:8080/"
        },
        "id": "Pb3Sv8rFWZTW",
        "outputId": "406cfcd0-037a-4e8b-aaa7-9d6ad30df119"
      },
      "execution_count": 23,
      "outputs": [
        {
          "output_type": "stream",
          "name": "stdout",
          "text": [
            "테스트 데이터 세트 정확도: 0.9667\n"
          ]
        }
      ]
    },
    {
      "cell_type": "markdown",
      "source": [
        "2.5 데이터 전처리\n",
        "==============="
      ],
      "metadata": {
        "id": "UzZkP9iEWl-W"
      }
    },
    {
      "cell_type": "markdown",
      "source": [
        "레이블 인코딩\n",
        "------------"
      ],
      "metadata": {
        "id": "biH9o7eXWpbM"
      }
    },
    {
      "cell_type": "code",
      "source": [
        "from sklearn.preprocessing import LabelEncoder\n",
        "\n",
        "items=['TV','냉장고','전자레인지','컴퓨터','선풍기','선풍기','믹서','믹서']\n",
        "\n",
        "# LabelEncoder를 객체로 생성한 후 , fit( ) 과 transform( ) 으로 label 인코딩 수행. \n",
        "encoder = LabelEncoder()\n",
        "encoder.fit(items)\n",
        "labels = encoder.transform(items)\n",
        "print('인코딩 변환값:',labels)"
      ],
      "metadata": {
        "colab": {
          "base_uri": "https://localhost:8080/"
        },
        "id": "zw8M46_CWoFf",
        "outputId": "c071d95b-c449-40d7-fadd-c668bdfa81ce"
      },
      "execution_count": 24,
      "outputs": [
        {
          "output_type": "stream",
          "name": "stdout",
          "text": [
            "인코딩 변환값: [0 1 4 5 3 3 2 2]\n"
          ]
        }
      ]
    },
    {
      "cell_type": "markdown",
      "source": [
        "가나다 순으로 인코딩 한듯"
      ],
      "metadata": {
        "id": "IE2cQyh8Wrjy"
      }
    },
    {
      "cell_type": "code",
      "source": [
        "print('인코딩 클래스:',encoder.classes_)"
      ],
      "metadata": {
        "colab": {
          "base_uri": "https://localhost:8080/"
        },
        "id": "6_mxTyomWqtJ",
        "outputId": "3217d99e-43c0-4ca4-e6f1-94a690e7ba6c"
      },
      "execution_count": 25,
      "outputs": [
        {
          "output_type": "stream",
          "name": "stdout",
          "text": [
            "인코딩 클래스: ['TV' '냉장고' '믹서' '선풍기' '전자레인지' '컴퓨터']\n"
          ]
        }
      ]
    },
    {
      "cell_type": "code",
      "source": [
        "print('디코딩 원본 값:',encoder.inverse_transform([4, 5, 2, 0, 1, 1, 3, 3]))"
      ],
      "metadata": {
        "colab": {
          "base_uri": "https://localhost:8080/"
        },
        "id": "MjUdOVu3Wqvo",
        "outputId": "9b0f3c95-b83f-4840-eee6-814df39385d9"
      },
      "execution_count": 26,
      "outputs": [
        {
          "output_type": "stream",
          "name": "stdout",
          "text": [
            "디코딩 원본 값: ['전자레인지' '컴퓨터' '믹서' 'TV' '냉장고' '냉장고' '선풍기' '선풍기']\n"
          ]
        }
      ]
    },
    {
      "cell_type": "markdown",
      "source": [
        "원-핫 인코딩(One-Hot Encoding)\n",
        "---------------\n",
        "\n"
      ],
      "metadata": {
        "id": "4lg5PIM7WuHv"
      }
    },
    {
      "cell_type": "code",
      "source": [
        "from sklearn.preprocessing import OneHotEncoder\n",
        "import numpy as np\n",
        "\n",
        "items=['TV','냉장고','전자레인지','컴퓨터','선풍기','선풍기','믹서','믹서']\n",
        "\n",
        "# 2차원 ndarray로 변환합니다. \n",
        "items = np.array(items).reshape(-1, 1)\n",
        "\n",
        "# 원-핫 인코딩을 적용합니다. \n",
        "oh_encoder = OneHotEncoder()\n",
        "oh_encoder.fit(items)\n",
        "oh_labels = oh_encoder.transform(items)\n",
        "\n",
        "# OneHotEncoder로 변환한 결과는 희소행렬이므로 toarray()를 이용해 밀집 행렬로 변환. \n",
        "print('원-핫 인코딩 데이터')\n",
        "print(oh_labels.toarray())\n",
        "print('원-핫 인코딩 데이터 차원')\n",
        "print(oh_labels.shape)"
      ],
      "metadata": {
        "colab": {
          "base_uri": "https://localhost:8080/"
        },
        "id": "k3eKabT1WqyK",
        "outputId": "2c058a81-2bbd-4646-f64b-f64aeb1b3199"
      },
      "execution_count": 27,
      "outputs": [
        {
          "output_type": "stream",
          "name": "stdout",
          "text": [
            "원-핫 인코딩 데이터\n",
            "[[1. 0. 0. 0. 0. 0.]\n",
            " [0. 1. 0. 0. 0. 0.]\n",
            " [0. 0. 0. 0. 1. 0.]\n",
            " [0. 0. 0. 0. 0. 1.]\n",
            " [0. 0. 0. 1. 0. 0.]\n",
            " [0. 0. 0. 1. 0. 0.]\n",
            " [0. 0. 1. 0. 0. 0.]\n",
            " [0. 0. 1. 0. 0. 0.]]\n",
            "원-핫 인코딩 데이터 차원\n",
            "(8, 6)\n"
          ]
        }
      ]
    },
    {
      "cell_type": "markdown",
      "source": [
        "행 : 원본 데이터 \\\n",
        "열 : 레이블"
      ],
      "metadata": {
        "id": "mxudShAHWwLs"
      }
    },
    {
      "cell_type": "code",
      "source": [
        "import pandas as pd\n",
        "\n",
        "df = pd.DataFrame({'item':['TV','냉장고','전자레인지','컴퓨터','선풍기','선풍기','믹서','믹서'] })\n",
        "pd.get_dummies(df)"
      ],
      "metadata": {
        "colab": {
          "base_uri": "https://localhost:8080/",
          "height": 300
        },
        "id": "KyFtaie9Wq0f",
        "outputId": "5c078eb1-56f3-4c11-ede3-e5bce8bd7d59"
      },
      "execution_count": 28,
      "outputs": [
        {
          "output_type": "execute_result",
          "data": {
            "text/plain": [
              "   item_TV  item_냉장고  item_믹서  item_선풍기  item_전자레인지  item_컴퓨터\n",
              "0        1         0        0         0           0         0\n",
              "1        0         1        0         0           0         0\n",
              "2        0         0        0         0           1         0\n",
              "3        0         0        0         0           0         1\n",
              "4        0         0        0         1           0         0\n",
              "5        0         0        0         1           0         0\n",
              "6        0         0        1         0           0         0\n",
              "7        0         0        1         0           0         0"
            ],
            "text/html": [
              "\n",
              "  <div id=\"df-31281ae6-941d-4c45-b4a7-83dfd86c023c\">\n",
              "    <div class=\"colab-df-container\">\n",
              "      <div>\n",
              "<style scoped>\n",
              "    .dataframe tbody tr th:only-of-type {\n",
              "        vertical-align: middle;\n",
              "    }\n",
              "\n",
              "    .dataframe tbody tr th {\n",
              "        vertical-align: top;\n",
              "    }\n",
              "\n",
              "    .dataframe thead th {\n",
              "        text-align: right;\n",
              "    }\n",
              "</style>\n",
              "<table border=\"1\" class=\"dataframe\">\n",
              "  <thead>\n",
              "    <tr style=\"text-align: right;\">\n",
              "      <th></th>\n",
              "      <th>item_TV</th>\n",
              "      <th>item_냉장고</th>\n",
              "      <th>item_믹서</th>\n",
              "      <th>item_선풍기</th>\n",
              "      <th>item_전자레인지</th>\n",
              "      <th>item_컴퓨터</th>\n",
              "    </tr>\n",
              "  </thead>\n",
              "  <tbody>\n",
              "    <tr>\n",
              "      <th>0</th>\n",
              "      <td>1</td>\n",
              "      <td>0</td>\n",
              "      <td>0</td>\n",
              "      <td>0</td>\n",
              "      <td>0</td>\n",
              "      <td>0</td>\n",
              "    </tr>\n",
              "    <tr>\n",
              "      <th>1</th>\n",
              "      <td>0</td>\n",
              "      <td>1</td>\n",
              "      <td>0</td>\n",
              "      <td>0</td>\n",
              "      <td>0</td>\n",
              "      <td>0</td>\n",
              "    </tr>\n",
              "    <tr>\n",
              "      <th>2</th>\n",
              "      <td>0</td>\n",
              "      <td>0</td>\n",
              "      <td>0</td>\n",
              "      <td>0</td>\n",
              "      <td>1</td>\n",
              "      <td>0</td>\n",
              "    </tr>\n",
              "    <tr>\n",
              "      <th>3</th>\n",
              "      <td>0</td>\n",
              "      <td>0</td>\n",
              "      <td>0</td>\n",
              "      <td>0</td>\n",
              "      <td>0</td>\n",
              "      <td>1</td>\n",
              "    </tr>\n",
              "    <tr>\n",
              "      <th>4</th>\n",
              "      <td>0</td>\n",
              "      <td>0</td>\n",
              "      <td>0</td>\n",
              "      <td>1</td>\n",
              "      <td>0</td>\n",
              "      <td>0</td>\n",
              "    </tr>\n",
              "    <tr>\n",
              "      <th>5</th>\n",
              "      <td>0</td>\n",
              "      <td>0</td>\n",
              "      <td>0</td>\n",
              "      <td>1</td>\n",
              "      <td>0</td>\n",
              "      <td>0</td>\n",
              "    </tr>\n",
              "    <tr>\n",
              "      <th>6</th>\n",
              "      <td>0</td>\n",
              "      <td>0</td>\n",
              "      <td>1</td>\n",
              "      <td>0</td>\n",
              "      <td>0</td>\n",
              "      <td>0</td>\n",
              "    </tr>\n",
              "    <tr>\n",
              "      <th>7</th>\n",
              "      <td>0</td>\n",
              "      <td>0</td>\n",
              "      <td>1</td>\n",
              "      <td>0</td>\n",
              "      <td>0</td>\n",
              "      <td>0</td>\n",
              "    </tr>\n",
              "  </tbody>\n",
              "</table>\n",
              "</div>\n",
              "      <button class=\"colab-df-convert\" onclick=\"convertToInteractive('df-31281ae6-941d-4c45-b4a7-83dfd86c023c')\"\n",
              "              title=\"Convert this dataframe to an interactive table.\"\n",
              "              style=\"display:none;\">\n",
              "        \n",
              "  <svg xmlns=\"http://www.w3.org/2000/svg\" height=\"24px\"viewBox=\"0 0 24 24\"\n",
              "       width=\"24px\">\n",
              "    <path d=\"M0 0h24v24H0V0z\" fill=\"none\"/>\n",
              "    <path d=\"M18.56 5.44l.94 2.06.94-2.06 2.06-.94-2.06-.94-.94-2.06-.94 2.06-2.06.94zm-11 1L8.5 8.5l.94-2.06 2.06-.94-2.06-.94L8.5 2.5l-.94 2.06-2.06.94zm10 10l.94 2.06.94-2.06 2.06-.94-2.06-.94-.94-2.06-.94 2.06-2.06.94z\"/><path d=\"M17.41 7.96l-1.37-1.37c-.4-.4-.92-.59-1.43-.59-.52 0-1.04.2-1.43.59L10.3 9.45l-7.72 7.72c-.78.78-.78 2.05 0 2.83L4 21.41c.39.39.9.59 1.41.59.51 0 1.02-.2 1.41-.59l7.78-7.78 2.81-2.81c.8-.78.8-2.07 0-2.86zM5.41 20L4 18.59l7.72-7.72 1.47 1.35L5.41 20z\"/>\n",
              "  </svg>\n",
              "      </button>\n",
              "      \n",
              "  <style>\n",
              "    .colab-df-container {\n",
              "      display:flex;\n",
              "      flex-wrap:wrap;\n",
              "      gap: 12px;\n",
              "    }\n",
              "\n",
              "    .colab-df-convert {\n",
              "      background-color: #E8F0FE;\n",
              "      border: none;\n",
              "      border-radius: 50%;\n",
              "      cursor: pointer;\n",
              "      display: none;\n",
              "      fill: #1967D2;\n",
              "      height: 32px;\n",
              "      padding: 0 0 0 0;\n",
              "      width: 32px;\n",
              "    }\n",
              "\n",
              "    .colab-df-convert:hover {\n",
              "      background-color: #E2EBFA;\n",
              "      box-shadow: 0px 1px 2px rgba(60, 64, 67, 0.3), 0px 1px 3px 1px rgba(60, 64, 67, 0.15);\n",
              "      fill: #174EA6;\n",
              "    }\n",
              "\n",
              "    [theme=dark] .colab-df-convert {\n",
              "      background-color: #3B4455;\n",
              "      fill: #D2E3FC;\n",
              "    }\n",
              "\n",
              "    [theme=dark] .colab-df-convert:hover {\n",
              "      background-color: #434B5C;\n",
              "      box-shadow: 0px 1px 3px 1px rgba(0, 0, 0, 0.15);\n",
              "      filter: drop-shadow(0px 1px 2px rgba(0, 0, 0, 0.3));\n",
              "      fill: #FFFFFF;\n",
              "    }\n",
              "  </style>\n",
              "\n",
              "      <script>\n",
              "        const buttonEl =\n",
              "          document.querySelector('#df-31281ae6-941d-4c45-b4a7-83dfd86c023c button.colab-df-convert');\n",
              "        buttonEl.style.display =\n",
              "          google.colab.kernel.accessAllowed ? 'block' : 'none';\n",
              "\n",
              "        async function convertToInteractive(key) {\n",
              "          const element = document.querySelector('#df-31281ae6-941d-4c45-b4a7-83dfd86c023c');\n",
              "          const dataTable =\n",
              "            await google.colab.kernel.invokeFunction('convertToInteractive',\n",
              "                                                     [key], {});\n",
              "          if (!dataTable) return;\n",
              "\n",
              "          const docLinkHtml = 'Like what you see? Visit the ' +\n",
              "            '<a target=\"_blank\" href=https://colab.research.google.com/notebooks/data_table.ipynb>data table notebook</a>'\n",
              "            + ' to learn more about interactive tables.';\n",
              "          element.innerHTML = '';\n",
              "          dataTable['output_type'] = 'display_data';\n",
              "          await google.colab.output.renderOutput(dataTable, element);\n",
              "          const docLink = document.createElement('div');\n",
              "          docLink.innerHTML = docLinkHtml;\n",
              "          element.appendChild(docLink);\n",
              "        }\n",
              "      </script>\n",
              "    </div>\n",
              "  </div>\n",
              "  "
            ]
          },
          "metadata": {},
          "execution_count": 28
        }
      ]
    },
    {
      "cell_type": "markdown",
      "source": [
        "get_dummies() : 원-핫 인코딩 지원하는 API, 숫자형 값으로 변환 없이 바로 변환 가능"
      ],
      "metadata": {
        "id": "LG-dE1YsWzjn"
      }
    },
    {
      "cell_type": "markdown",
      "source": [
        "피처 스케일링과 정규화\n",
        "-------------"
      ],
      "metadata": {
        "id": "-Rz5SENaW1dq"
      }
    },
    {
      "cell_type": "markdown",
      "source": [
        "스케일링은 보통 딥러닝에서 많이 사용하고 여러 모델에서도 사용함 \\\n",
        "**사용시 성능 향상, loss function 수렴속도 향상**"
      ],
      "metadata": {
        "id": "WqjT-OFNW2Qk"
      }
    },
    {
      "cell_type": "markdown",
      "source": [
        "Standard Scaler"
      ],
      "metadata": {
        "id": "Qk1dLEXnXKgw"
      }
    },
    {
      "cell_type": "markdown",
      "source": [
        "가우시안 분포로 스케일링함 ~ ε(0,1)"
      ],
      "metadata": {
        "id": "7Wp8vvOWXM-k"
      }
    },
    {
      "cell_type": "markdown",
      "source": [
        "![image.png](data:image/png;base64,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)"
      ],
      "metadata": {
        "id": "3ozS3losXmc3"
      }
    },
    {
      "cell_type": "code",
      "source": [
        "from sklearn.datasets import load_iris\n",
        "import pandas as pd\n",
        "# 붓꽃 데이터 셋을 로딩하고 DataFrame으로 변환합니다. \n",
        "iris = load_iris()\n",
        "iris_data = iris.data\n",
        "iris_df = pd.DataFrame(data=iris_data, columns=iris.feature_names)\n",
        "\n",
        "print('feature 들의 평균 값')\n",
        "print(iris_df.mean())\n",
        "print('\\nfeature 들의 분산 값')\n",
        "print(iris_df.var())"
      ],
      "metadata": {
        "colab": {
          "base_uri": "https://localhost:8080/"
        },
        "id": "tUQKsvoDWq4e",
        "outputId": "35d1fd34-9d99-47d0-a368-72be90ad20f4"
      },
      "execution_count": 29,
      "outputs": [
        {
          "output_type": "stream",
          "name": "stdout",
          "text": [
            "feature 들의 평균 값\n",
            "sepal length (cm)    5.843333\n",
            "sepal width (cm)     3.057333\n",
            "petal length (cm)    3.758000\n",
            "petal width (cm)     1.199333\n",
            "dtype: float64\n",
            "\n",
            "feature 들의 분산 값\n",
            "sepal length (cm)    0.685694\n",
            "sepal width (cm)     0.189979\n",
            "petal length (cm)    3.116278\n",
            "petal width (cm)     0.581006\n",
            "dtype: float64\n"
          ]
        }
      ]
    },
    {
      "cell_type": "code",
      "source": [
        "from sklearn.preprocessing import StandardScaler\n",
        "\n",
        "# StandardScaler객체 생성\n",
        "scaler = StandardScaler()\n",
        "# StandardScaler 로 데이터 셋 변환. fit( ) 과 transform( ) 호출.  \n",
        "scaler.fit(iris_df)\n",
        "iris_scaled = scaler.transform(iris_df)\n",
        "\n",
        "#transform( )시 scale 변환된 데이터 셋이 numpy ndarry로 반환되어 이를 DataFrame으로 변환\n",
        "iris_df_scaled = pd.DataFrame(data=iris_scaled, columns=iris.feature_names)\n",
        "print('feature 들의 평균 값')\n",
        "print(iris_df_scaled.mean())\n",
        "print('\\nfeature 들의 분산 값')\n",
        "print(iris_df_scaled.var())"
      ],
      "metadata": {
        "colab": {
          "base_uri": "https://localhost:8080/"
        },
        "id": "A40bgpx9Wq6v",
        "outputId": "eedf5937-600e-4188-b069-a592e3af0f48"
      },
      "execution_count": 30,
      "outputs": [
        {
          "output_type": "stream",
          "name": "stdout",
          "text": [
            "feature 들의 평균 값\n",
            "sepal length (cm)   -1.690315e-15\n",
            "sepal width (cm)    -1.842970e-15\n",
            "petal length (cm)   -1.698641e-15\n",
            "petal width (cm)    -1.409243e-15\n",
            "dtype: float64\n",
            "\n",
            "feature 들의 분산 값\n",
            "sepal length (cm)    1.006711\n",
            "sepal width (cm)     1.006711\n",
            "petal length (cm)    1.006711\n",
            "petal width (cm)     1.006711\n",
            "dtype: float64\n"
          ]
        }
      ]
    },
    {
      "cell_type": "markdown",
      "source": [
        "MinMaxScaler"
      ],
      "metadata": {
        "id": "PFNRkx36XaSJ"
      }
    },
    {
      "cell_type": "markdown",
      "source": [
        "![image.png](data:image/png;base64,iVBORw0KGgoAAAANSUhEUgAAAdwAAABqCAIAAACZJXd+AAAgAElEQVR4nO2df2xb1fXAb78JC7PbjmDaufwwZWUuMKcNOAwDrxQoc5uqLi0b1GUBFU0uQga5bBOV5gaDENpcUbRJVOnazWwjgKOppEqY+0O0LrSQpHWgTvkxRx12+eEUR7Wp05clji1//zhwdnnv2UnbOHac8/nr+v28ftc+97xzz49p2WyWEQRBEKXB/xW7AwRBEMT/IKFMEARRQpBQJgiCKCFIKBMEQZQQJJQJgiBKCBLKxJRjcHAwkUhkMplcByQSicHBwYnsUhEZHh5OJBIjIyO5DhgYGBgYGJjILk1xSCgTU4Xh4eGWlpaVK1feeOONN9xwwy233LJhw4ZIJIIHZDKZbdu2LVq0qLa29sYbb3zooYe6u7uL2OGCkslk2tvb165dW1dXd8MNN9x0003r16/v6enhj2lpaVm6dKnBYKirq1u5cuXu3buL1dupRZYgpgDBYFCv1yv+BbxebzabTSaTJpMp194yIxwOC4Kg+DS2bNkCx1it1jx7icJBQpkofzo6OkCmmM1mv98fj8fj8fiWLVtQ1rS2tprNZsaYIAihUCidTgeDQa1WC3uj0Wixv8F4EgqF4HsZDAafzxeLxZLJpNfrxafh8XhsNhtjTK/Xd3R0pNNpXogHAoFif4Myh4QyUeZEo1GQJi6XS7JLogyaTKahoaFsNhsKhXQ6XVkqy6IoajQaxpjdbk+lUvwul8vFPw2tVguzUSwW49VqUpYLDdmUiXImk8k88MADjDGXy/XMM89I9t588838xz//+c9VVVWMsd/+9refffYZbi+nRb9HH3309OnTNpvtpZdeuuiii/hdtbW1/Mft27fPmTOHMfbss88ePnwYtyeTyYnp6pSFhDJRzvzjH/84fPiwwWBobGyU7+Ulr8lkWrBgAWOsv7+/vb2dP+z6668vdD8nhoMHDzY3N6vVarfbLd+bSCT4jxaLhTGWyWQ6Ozv57WXzNEoWEspE2TI4OPjiiy8yxjZv3lxRUSE/gHeuuP/++6GhVqv5JUGLxaK4ADgZ2bx5M2PshRdeqK6ulu/ln4bdbodGRUXF7NmzcbvBYFi1alWBu5mTSCTy+OOPb9iwocxd9IptPyGIQhEMBuFHnk6n5XuTyaRarcY/Ar9+FQgE6uvrBUFwOp1gZS4DwuEwfNNwOKx4AD8V8Wb0cDhstVoFQbDb7bFYbKL6K4U3m5S3XbtyQiQ/QRSBa6+91ufzVVdXK6rJvb29oijiR14kGY1Gn893gXfv6+sLBAKVleP8F0un0/Pnz8/l3peHq666yu/3M8bmzp0r3xuJRHp7e/HjHXfcge25c+e+/vrr59XZ8eSjjz7C9hVXXFHEnhQaEspE2aJSqerr63PtPXr0KLYbGhpmzJgxvndft27dvn37xveaSDKZPNcOV1RU3Hnnnbn2fvLJJ9g2Go28yaJEWLBggdFo7O7udrlcv/jFL4rdnQJCQpmYovC68O233z7u11+9enU0Gp0+ffr4XnZkZOSBBx4Y9ylk79692F62bJniu0VxUalUgUBgcHBQpVIVuy+FZVqWKo8QU49EIvHjH//49OnT8DEYDILrxdQkk8kIgoBeFj6fL88bBlFoyPuCmIp8+umnKJF1Ot0111xT3P4Ul88//5z3eyOnt+JCQpmYirz99tvYvu2228bdGjC5OHbsGLYFQbjqqqvG8eJ5svGNunccbzSJIKFMlD/yv+vBgwexvXjxYsWzenp6tm3bVn6J4vI/DaPRqGhQjkQi27Zt449ENm3aNG3atPnz5z/++OPoQRyJRDZt2nT11VdXVlbOmTNn5cqVvHdHT0/P+vXrL7vsssrKyvnz52/atEkSuoIkEon169dPmzbt6quvfvrppxUlb3d3d01NTWVl5dKlS/nxamlpWbRo0bRp06ZPn75o0aKWlpacD6WkKLZPHkEUEMw6ZLPZ0Fs5Ho/zf4GOjg7FcyFFUVNT0wT2t7Bg1iGz2ZxMJmHj0NAQ72DX2tqqeK7T6WSMORwOyfaGhgZ4SgaDAa6czWY9Hg9jTKfTud1uj8eDqTOCwSBeymQybdmypampCdOMyBM/xWIxxphWq21qaoJO2mw2yTGQbcput2PASyAQiEajkE+qoaHB4/HAHRX7X4KQUCbKlqamJl74+v1+2C7xQVZMAodpjHKFWkw6Wltb+W/t8XhgOyaN4+WmhFQqpTiBBQIBxpjP58ty+YwgzRNeP8vFrVgsFpCPcAqAOfzkGaMEQdDr9aIoZr+V/pLxSqfTgiDATIBDBgHiFouFD3WBvHeTYkBJKBPliSiKfMAeLwhQpWKM6fV6xdPhGLleNklJp9Og+CP4BsCnMFWr1Yoxe3CM2WyWxEbCU4I2aqMSmZvNZkVRxDyocrmPIttqtfLbIdQFIi3T6bTRaJRLVQjahOkWryO/VDabxXQfbW1t5/LkigAJZaI8kSczAw1LYrswmUzyc/E1v/S1qjEiiSlHyZhOp3lxqdPp5GHlqMlK1GR4kqjeohedXOGNxWJ4d3keVFC3GWMNDQ38dovFYjQaoY0R87gFAPUcTDFtbW34RdA4g+CcQUKZIIoDL5TVajXaLuQFNeLxOH8i2ENZbuvqZCSVSqGmyUtGXr0FQqEQfyKaeuTpJsDuAZIaTQeMMbA28KDYFQRB3jecAp1OJ24Ea/L27dvhI9pGJN2or69HUY7fRTH/Nb4oKNpnSgoSykTZ4nA48J8ci8WCwSBYG3U6XSgUwtxvZrMZlob8fj8cwMprfQ9AC7vD4YhGo6FQCM2sgUAA5yqdTuf3+6PRaEdHBx4gV34lgKmBMWaxWPLc2u12y/eisVhi9EBEUcSlyDzvLqMuGAL5v0gpMAm6SBDnRywWA5cAHr1eD8pgNBpVrFOn0+lySYdJzdDQEE45PKDqiqKoWJSPfXfJLhdosVU8GK+M7ysIb27OVXYLJT4s6CmCYlev10sqqmS5RU6JhaQ0odwXRNkya9as995779VXX3333Xdjsdill166ePHiX/7ylxAqMmfOnAMHDrzxxhv79+9///33L7roopqamiVLlixfvrwsY0mqqqr++c9/7tq1a//+/SdPnqyqqhIE4ZFHHpk1axZjTKVSvf766w8//PC//vWv7u7ukZGRm2666dZbb12xYgUckB/0X+aNJMDAwMB7770H7Z/85CeSvUeOHDl16hRjzGKxQKETOa+99ho0NmzYkKsDaCGpr6+XVFRhjO3cuRMaUIam1Cn2rEAQxOSGXzuV7821RgegJ0yuQoj8xeUqMJLHoMyvLsgXAEsQiugjCOKCQLGraB5BNVmupSYSCVzlu/vuuxljmUxm7dq1u3btwmOw7XK5QAXetWvX2rVrJaF9r7zyCjRuueUWyV1wrdLhcMA7UGdn58qVK0u2fAkJZYIgLogjR45AQ1Eov/vuu9D46U9/KtkVDAYhLVR9fT0YSY4ePer1enkvvT/84Q/QuO+++6DR1NT0xRdf8LHgkUgEyi0ajUa5DeTVV1+FBhayam5uDoVCF1988Tl+0Ymi2Ko6QRCTG/RjkXub8bVd5K5ycpsD+HvgAehpJwgCxK2AVi7xNUZd2G63S26BtgutVgu2C1gSLGXvGtKUCYI4f4aHhyHtp1qtvvbaayV7T5w4AQ2j0ShPTo8uE2Bz6Ozs3LFjBxo04OLQWLx4MajGjz76qNFoXL58OX8dVMbvueceyS3Onj2Lu8B28etf/5ox9vOf//ycv+pEQUKZIIjz54MPPoDGunXr5GK3q6sLGg8++KD8XJStx48fb2lpufXWW+12+5o1a/CAuXPnQijgyZMnu7u7ly9f3tnZ+dprr0ny2GEi1traWskt5syZA4p8LBbr7u5+6KGHmpubOzo6xuJSUjSKraoTBDGJyRWEDYDaq1arcwV9YKgey1GjOhwOo5udIAiSgMMsl9ZDbrsAotEoXkGv1/Nly0sTKgdFEMQFEYlEqqqqcnkZRyKRH/zgB9XV1blO7+/vF0UxzzGZTObzzz9nOepwM8YGBgb6+vrmzZuXq7QgXuGqq64qwfKDEkgoEwRBlBBkUyYIgigh8oVZj4yMjIyMMMYqKiqqqqrkBwwPD4MLd9kX/SYIgpgYlDXlSCTyzDPPGAwGtVqtVqs1Gs2GDRv4Elt9fX2bNm3SaDRwwMqVK/lquARBEMT5oWBTbmlpyZUvqrW1ddWqVb29vfPnz4ctarUa/cNhb+H6ShAEUfZINeUdO3aARHY4HOFweGhoSBRFLBizevXqlpaWn/3sZ4wxm80Wj8fPnj2LPjGrV68eHBycwM4TBEGUG9/RlA8ePHjXXXcxxnw+HxZ3AW699VbeQGG321966SXG2O7du/noGr/ff+eddxa811OY4eHhAwcOFO766XR6/vz5fHljgiAmkv8t9CUSCZDIbW1tEonMGKupqeGF8u9//3vG2MDAwEMPPTQh/SwsIyMjZ8+ezeNKOb73GhoaUqlU5+cv+fLLLz/22GPj3isJoijS4i1BFIX/CeVnn32WMWaz2RRTPZ08eRLbdrsdosj7+vogyROCtubS58UXX/z3v//93//+98yZM/39/Z2dnclkskDZzVtaWg4dOnTmzJkzZ84kEonDhw+f9yvFzTffbDabFZ1hxoikgKacG2+8kSQyQRSLb8wXfX19l19+OWMsFAopvrpOnz5dvqCXSCQuvfRSPMbtdj/11FMT0esLBr8vYjAYjh8/XqDb1dXVdXd381tisVhJR98TBFEkvlnoO3bsGGNMo9EoSuTe3l4+Bd/tt98OjerqaihGabFYvF7vZJHIjLHZs2fH4/FYLIa1Ne+9997C3e6dd96JxWJYPlKv15NEJghCkW/MF4sXL+7o6OBzS/N8/PHH2DaZTLxAWbBgQVtbW0G7WAgqKirAgvzVV1/BFnnBgnFEpVKpVCq0Wd9///2Fu1eJ0NPTs3DhwmL3giBKGpvNtn37dsnGb4SySqXCTNVyMIc0Y2zp0qWF6FyxwOStdXV1hb7Xm2++OWH3KjoQC0oQxLkyeu6LkZER9ERmjJWTxxvGKJpMpssuu6zQt2tuboaGPOsrQRBTEMU6gflyXwDhcPjDDz/Ej/Ii4ZMXzM99yy23yMuSjy84ASiWESs/amtrh4aGit0Lgihp/u//FNTi0YUySi7G1TcsD9CesGTJkkLfCx+jIAgX4tA2WaioqCj9xLUEUYKMLpT379+PbXk92vMgkUik0+mLL754jE7BmUwmmUyO8RQIA6mqqhrV0zaTyWAV3pqamlG7MTw8DEHkKpVqLFJ1cHBQFEXsM04AF2j/iUQif/nLXy7kCqNSU1PDl+QhCGJC4cuQRKPRaDTKbxFFkXeS8/l8ivVLWltbHQ7HqHVWvF4vFG4BrFZr/lOi0ajb7RYEAU+x2WzyejBAKBRyOp0Gg4Explar3W53Op1OJpN+vz8ejyseD9c0Go1QKDcXwWDQ4XDgc9Dr9W63e2hoKM/xTqcTj3c6nfF4HDrGGMvV/zGCeUgKCtT9JQhi4vlGUx4eHn7iiSd27NjBGLPb7X/605/g3fOLL77gM3Zef/31iv/hhoYGURTzOGZkMpl169Y1NzebzWav16tSqb788sutW7fW1dXlClfZtm0bxBMLguDxeFQqVSKReOyxx3bs2BEOhyWFYfBgh8Px3HPP9fb2bty48fDhwxA+Zzab9+7dK7k++vkJgpDrRbuvr++pp56CBbrGxsabbrqJMbZz586NGzceP378lVdekZ/y9NNPP/fcc3D8zTfffPTo0eeee27Pnj3hcJgxZjAYrrnmmlxPaSxAXHtBI+6uu+66AkU2EgQxOiCbGxoa+I2ozWG8A2PMYDCkUim5XAffDJ1Ol0e9stlsjLGGhgb5RqfTKT8ec4e2trbiRo/HAxtdLhd/MAaA8Ip8a2sr9lxyX8But8vPkn8vxpjZbJbo2uA+KK8Fid3mi0jyuq3NZlO8F0EQBMCy2SwocYpCmTcdWCwWxUtApVjFSrRAMBiUXDbLiXt5DVoUbby4RGuDRI673W7Y6PF4FDvGGPN6vZJdQ0NDuFexzq7f78epSBRFyV4Q6BJDBM4NbW1t/PZ4PI5ROfwcQxAEIYdlOaEJGI1GMJgGAgF+u9VqlZ/vdDpzSS4EVUVe/KFQ9vv9/MFYctzhcPDb+c6gJRqVWb1eL7lpOp3GcBi5GRfnIZ1OJ+9wLBbDrD3ywumxWAxO5L8yhjUKgiA5PpVK4QRwgQZlgiDKHqmmbDabYa0vmUzqdDqQdyj4eDGUSqVQNwwGg3nuAYKbMWYymVpbW1E0+/1+iZbKTw9y+eXxeFwuF38v7FtTU5Pk4Hg8jpeSdwkD+SSiH8CJQfJyIIqiz+eDm/I6byqVwp7ItXJ8vFqtVvH5EARBIFKbclNTUzAYbGtrAykDMhqkM3z0+XyBQMDj8aAYkuuSEtAWjGg0GpfLJXdgACsz3GjUrqOFgSmZIDA0XFHBz2VqyHKzEcwiTqfTbrdbLBZ0n1Cr1RLtns/+ITes4wRABmWCIEblG6Eci8VQ6CBWqxXkZiwWwxdwHrPZrGiQlcCLOQm8Bx6YBXBuGPWyOJEIgiD3aUNtV25rTqVS2J9YLCbZy2vrBoPBZDIJgmCxWBwOh8fjUXwnwAzUinMJTgBkUCYIYlS+cYmbNWvWe++95/P5Dh06lEqlVCrV0qVLsf7IrFmzurq69u3bt3fv3tOnT3//+9+//PLLly1blieHEc+MGTM6Ozuff/75v/3tb3wKUMaY2+3+4x//CO3PPvsMt48lO8Rbb70FjSVLlsh92nbu3AkNTDSKfPnll3AvnU4nD1D85JNPsN3V1TUW57P29nZorF69WrJrZGRk9+7d0KaUFwRBjE6hpX4ymURLdDweDwaDXq8X9W5BENDNjndiGzV4gTcZy33aUPRDsW3JXrQnKHrjYSY9+eLhqD2RW3J4e/1YrkYQxBRn9CxxF8KLL744c+bM2bNn9/T0MMaqq6sXLFiwZs0a3hwsT8mh0+lGDV5Ip9PYnjdvnmQvxk+vXr0aVN3NmzevX78eNh46dAgakEJzYGCgrq6upaUFNs6cORMaYyxtlb8nXV1d0EC36E2bNm3YsGEsVyYIYgpSQKHc09Pzm9/8hjEmiiKaGoAZM2aACdtoNKLl4Uc/+hE0JIWaJLS0tHR3d8+aNQu91uQS/ODBg9BA28XGjRtx79atW6EBie0/+uij7u7ua6+9FjZi1GL+WnabN2/u7+9njF1yySW4UX4KTgCLFi1ijA0MDDz//PP5vyBBEFOawinhvDosWR+LRqPy7aIogqTWaDS5rgmOHBDRh2k0JPk6+JU68GiGLWDlQMsGBig6nU6NRoNWjqGhIeiGwWBQ7EM6nQYvETSboCOKxFQi9w+BLfk9CAmCmMoUUChDDJ5Go5E4kImiCDF7cpMuWnvlLhPRaBTcGBobG2ELOr3xNmU+Hz+KQpvNptPp0AMPdoGnRDKZZIy53W7+XmjdlvQcrg/Lm4rx37xNmS/Xwr61klutVkVfEYIgCKCwq09gSLVarR6Px+fz+Xw+t9sN7mjy6GoAXdlcLpff7/f7/R6PRzEVRpbLX+HxePx+P0htu92OKqrL5YLQQf5EPusFeJjIHeMw4GXLli1+vx96DuuTgiBIAlvS6TT456nVaq/X6/f7Ma0HujC73W6IbJQLeoIgCKTgLgFNTU0SJ2W73Z4/Y6ff7+dzboBY9/v9igpma2srWg8MBgNqzT6fT6PRwPbt27fzp6TTaRT9arU6l6t1W1ubxHfbZrPliZTxeDyY40IQBBS+Xq8Xbc3yNwCCIAieadlvX+cLSiaTGRwcVKlUY69GkclkwNtsLLVOoEynvKTT4OBgVVVVrpv29/ePevHh4eFkMjlz5swxlgsZHh6urKyU33FgYOCcvj5BEFOTCRLKBEEQxFgorJ8yQRAEcU6QUCYIgighRi+cShAFpbOz85133jlx4sT3vvc9g8GwbNkySa2v3bt3v/vuuydPnpw3b57FYlHMjUWUOJlM5tChQ0eOHIGBXrhw4YoVK+bMmcMfsG/fPhjompqaZcuWLViwoIgdLibFXmkkpi6BQEAxpxW6jUejUYkfDmPM4XCQo/fkoqOjQ56EknHlisLhsHyuVUxNMxUgoUwUB4zQMZlMTU1NPp+vqakJfQcdDkc0GsWk3q2trX6/n3ceL3b3ibGCEWGCIMBA81UrXS5XNBqFcbdYLDDQmO1W4sw6RSChTBQBDLzcsmULr/bygekgka1WKxwQDAZRa+bjM4lSBgdUkiFdPtB2ux0Gmn9/ypNxoYwhlzhiounv7589ezZjzOPxPPLII/yuTCZz5ZVXnjp1CreIoqhSqfr6+iRZnJLJ5KipBIniggPd2tq6atUqflcmk6ms/N+Clk6nO3HixEUXXRSJRK655hr+yCkooMj7gphowApht9slEpkxlk6nIQ4IaGpqgsyr77zzDn+YVqulMJzS51e/+hVjrLGxUSKR2XcT3jLGnnnmGYj84jXoKQsJZWJC6enp2bFjB2MMI915+vr6Tp8+jR/vvvtuxYs8+eSTY6kIQxSR7u7u9vZ2tVr9xBNPyPeePHmS/3jXXXcpXgRr3heFnp6elpYWyNA7kZBQJiaUN954gzFmtVoVA9wjkQi2dTrdlVdeCe3ly5djplaHw/Hkk08WvqfEBfHKK68wxtatW6c40B9//DG21Wo1OkGuWrUK3TCcTidWUp54du3atXDhQqvVirVAJwzyUyYmlNra2oaGBkzUJ+HAgQPYtlgsqA7PmDHD5/PFYrGLL764urp6Ijo62RgeHs5kMuN+2YqKijFmfZGwcOHChoYGLPcjActQMMb4QjzV1dVdXV2lMNDoAbJv376RkRF5Xp0CUuyVRoL4H6gOM8a8Xm+xuzNp4As7jDt5MiOeN3zmSHmNzVIA0wW3tbVN8K1JUyZKhb6+vn379uFHKNZFjIXBwcFid+EciEQifOl6KJVZavz1r3999NFH586dK4kvnQBIKBOlApSqAYxG4xVXXFHEzkwuTCYTllgbXyorK8eSO/ecOHbsGLYFQRj3648LKpXqzjvvLMqtSSgTpQJvZzSZTBNqxZv88HkkShy+jPKSJUuK2JPShLwviJIgk8ns378fP95zzz1F7AxROEZGRt5++238SEYqOaQpEyVBLBY7fPgwfrzhhhsUD4tEIqlUat68eZLgkYGBgaampmQyOW/evBUrVuAbcV9f3549e/7zn/+cPXtWp9OtWLECi4cxxnp7e998883PPvts+vTp8+bNW7Vq1agr/plM5tixY2+//XY8Hr/00kvXrl0LKioU1sl1yqFDhw4ePPj1119fd9119957L57S3t7e0dFxySWX3HfffVMkKVo4HP7www/xY21treJhuQa6v7//5ZdfhoHmxysSiezZs+eLL76Agb7vvvt4W3BPT89bb70FA11TU2M2m3MNdG9v72uvvfb1118vXLjwwQcfVPQ82b179969eyWjNjw8fODAga6urq+//vryyy+/4447FJNtjYkJXlgkpjjpdNrr9dpsNqfTyVdHxPxEjDGdTqeYB04URThAUlYxHo/r9XqtVosurvF4PJvNut1u+GixWDBLGTh1JJNJcMvTaDQWiwWLK+avHhkMBtE/BFfnIVOSRqNRdBeJxWJQnNdgMOC5Pp8vmUxCl7BvkqLAk51UKuXxeGCgo9Eobsf8RIwxk8mUSqXk56J9HMYRicVi8POAJ6bX60VR5Etu1tfX46QLzzMej4OjsVartVgskPlIrVYHg0H5faECvV6vh4sIgiCKouQY+FHBmOLPye/3gz+JIAg4yg0NDef36EgoExMK76FsNptxO7qFgpxSPBcEtyAIEpEN54qiGA6H4QoOhwPiDlpbW5PJZDabHRoawj9SMBg0Go1qtdrv90Nio1gsBv9Dg8GQK9URThuNjY3wX43H43xmUXmqSVEU9Xq9Wq0OBALQZ4/HAwcLgqDVasPh8NDQEEgNEDHn/2RLDJy0YALD7Xw8iM1mUzwXBHd9fb38mjqdThRFdAF0Op1wI5/PB09PFEWYmzUaTTAYNBgMWq02EAjgQOPzl/yKYJ3Z6XSm02mM9pZMtJBICzZaLBY8hn2b11Ayyufn1klCmZg4MDkcoNPpQGJKMiHkyswJ+pGkIjhoVZDjUeKBIFGoUXFmjBmNRrg1goFbeXQoueTFaUDxHwjX5PVEvofg/8vPRrFYbLRHODmQpLDQarWgEUMpZESSOg4BfVby6gCPGh4y76ij1Wr5J5zNZjHFKwhfySyLmqzkLLPZbDQaoY0TsMvl4o9paGjQ6/XQ5mcXSYpR/FXkUi/yQzZlYuI4fvw4/3HhwoWQ6Y13T2aMKTrDbd68+cMPPzQYDA8//DC/fc+ePYwxSHnDZ1QIBAJ5PEzb29slSebOnDkDDT4jEhCJRJYvX84Y0+v1v/vd7/hd/C0ka1adnZ3Nzc0+n4/3ixgYGICGXq8Hm2N3dzdsqa+vL03nsPOAd6RhjN1zzz3gS8Mv8THGrrvuOvm5GzZsEEXRbDajKgpAgD4MBD+37d27N5fniUajaWtrk9iFMbnK8PAwbuzu7t63bx/OJTt37oQGP6Z9fX3Nzc2QjmNkZAQ1DHk4eCqVgkYikVDs2CichyAniPMDX+sA0EmHhob4xTempCljYhq5Gmu1WlF5wezpikUr8J8j0bWz2Ww6nUajs0S/znIvqnLNDnUiufEBbic5Hi2qjY2NsKWtrc1oNFosFvl9Jy/8S4lGowmFQtlsNplM8oF8TCmHPZ4Ip/AYjUaDwQBt1IWxSA0P2qkUzfR4d/69BN5XoI0mDrVazRu14W0JOsbPCnKzOL5XnZ9ZmYQyMXHgW6dWqwXxGo1GQeTV19fjH1KtVmNobygUQmGqGPAaDodRnKH0lK/XJZNJFP1yKwHKVoPBIDE18m/icrmJf0rUDDsAAAU+SURBVD+5eTQcDsslCxor/H4/biy/6laBQACfJzyEcDgMbwZWqxVFqlarxYEOBoNoQeIfDhIKhfD5owlCPkknk0lczZMPNP4CJTblaDSKg4UTp91ul1w5GAzCWWjfcDgc8q42NjbCXvn0PxZIKBMTCkolnU6HzhIajQb+P/xroMFg4Au7jZohAX0zFJUX/DeiWs2T63/Id0kQBPmJKF/GsqSTSqVQVZRYtMsPfG56vR4H2mAwgO7JmyYkAz1qqg3UUtVqtXw+w/lAvk6YzWa3b98Oe/FNRQ72LU9PcNzlyng6ncbvK5+VxwIJZWKi2bJlC7qgga7Bv/h7vV7emqHT6dxut8Q1ShG08SmurqDlRPHfyPu38dv5N27FN+Vz+vuhPm4ymUY9uAxwu90ajQaH0uVy8ZOlx+ORD/RY5ip8d+GdOhC0dCmOF3rL5BK4/Mtcnj7g95KsFvJXUKvVo34XRUgoE8UhGo2CQ1iuvfzr6lhAg7Limj4qbnKNm7cPSvqD5kW5vM5+16A8lpqBqI8ryotyZSwDLRdteUCvZEXjAM6vcrHLvy3l8j5EG1ouz5As94PR6/VyVR2vcN7lfUkoE2UCBlDJDcqpVApVG7nSjUo02i5CoRCYI3h5LZ8hUGXD9Ry/38/LgmQyyd8uj83U6/WW00JfQcljUI7H4/gSJh9oVKJxHTgUCvH2h3Q6jb8TsKcNDQ15vV7JnJHfoIxXgAFNp9M+n++c7BgklIlyAJ2QmJK5Nr9BGW2IKCtB28p+VyjLdSLJeg54W+OKn8fjgRUnFNN4KckCFJhBFVe3CAm8p7N8LwaVKBqIUJrjiJhMJvRNzioZRsAmJhkaXBeRG5SxAxgYxbtXjxESykQ5gAZlRTsj6sKSWIDsd//kIHZBEMPbazweR8VHciJvbgbdHGQrmEf4oBK4KfZQr9dL1iEtFkuuyHJCgvzthAdNWHLTAY6IVquFRw1beBuI3M/HbrdrNBrJeKEyLn+5kdvQwJoxlkURhLLEEeUApuhdvHixfC9WmZJnyP3000+hYbPZIPfN1q1bGWNr1qxhjFVXV6ONkg8EGBgYMJvNmKkdFqzgrRbUMb7Y4LJlyxhjODHMnj2bz0q6Y8eO9vb2v//971SfeywcOXIEGitWrJDvPXr0KDRuu+02ya5Tp05BY82aNfCoX3jhBfbtQAPvv/8+NGA9sKenZ+vWrVu3buXHKxKJwKUEQZBHOWHUDNT87evr27hxo8vlOrfSVmOX3wRRsqAJQjFIGn/tcoUFNWVIegCik38tRdOH0+mMx+PJZLKjowOSH/GR2fDeivoR6mUejyedToM1k3dSTqVS0WgU1qym1LrfBYLuE3ItNZlM4kDLXztwRNxudyqVghGRrPqio1ssFoNxt1gskkvlCrgHUFOGZWq9Xm8wGM7V/ZGEMlEOgJFBMZ0Q+i8rWjaynHEDTMBy818oFEJHWjjGbrfH43FJQiLJHxj+n2q1Gk6BF2r0k0XTx/nFF0xZ4KEZjUa52MUFgFxxdCgxAblFOBaLwbjAz8lqtcrlKa4WKjrViaLI+1wLgnAe+UymZTk9giAmKb29vR988MEdd9yhmAahu7v7xIkTy5cvl+S74E+Hove33367YgIKSKP8+eefV1RU1NXV8Xfp7Ow8efLkD3/4Q7ltBC9bW1uLWTL6+vq6urqGh4dnzpwpCEKuLhGK9PT0fPLJJ3fffbfiMHV2dp46daq+vj5XBW4YkYqKCkEQFE0KkBY5mUxeffXVigmRIQt2rr1whY6Ojq+++irPMfn5f4chWPhmhbUgAAAAAElFTkSuQmCC)"
      ],
      "metadata": {
        "id": "aHyEmY50Xfzq"
      }
    },
    {
      "cell_type": "code",
      "source": [
        "from sklearn.preprocessing import MinMaxScaler\n",
        "\n",
        "# MinMaxScaler객체 생성\n",
        "scaler = MinMaxScaler()\n",
        "# MinMaxScaler 로 데이터 셋 변환. fit() 과 transform() 호출.  \n",
        "scaler.fit(iris_df)\n",
        "iris_scaled = scaler.transform(iris_df)\n",
        "\n",
        "# transform()시 scale 변환된 데이터 셋이 numpy ndarry로 반환되어 이를 DataFrame으로 변환\n",
        "iris_df_scaled = pd.DataFrame(data=iris_scaled, columns=iris.feature_names)\n",
        "print('feature들의 최솟값')\n",
        "print(iris_df_scaled.min())\n",
        "print('\\nfeature들의 최댓값')\n",
        "print(iris_df_scaled.max())"
      ],
      "metadata": {
        "colab": {
          "base_uri": "https://localhost:8080/"
        },
        "id": "Jzon_pT7XbjO",
        "outputId": "c9935a2a-d605-4da4-8efc-b2b23e9e92e8"
      },
      "execution_count": 31,
      "outputs": [
        {
          "output_type": "stream",
          "name": "stdout",
          "text": [
            "feature들의 최솟값\n",
            "sepal length (cm)    0.0\n",
            "sepal width (cm)     0.0\n",
            "petal length (cm)    0.0\n",
            "petal width (cm)     0.0\n",
            "dtype: float64\n",
            "\n",
            "feature들의 최댓값\n",
            "sepal length (cm)    1.0\n",
            "sepal width (cm)     1.0\n",
            "petal length (cm)    1.0\n",
            "petal width (cm)     1.0\n",
            "dtype: float64\n"
          ]
        }
      ]
    },
    {
      "cell_type": "markdown",
      "source": [
        "학습 데이터와 테스트 데이터의 스케일링 변환시 유의점\n",
        "---------------"
      ],
      "metadata": {
        "id": "4f5GZoPIXhwk"
      }
    },
    {
      "cell_type": "markdown",
      "source": [
        "test데이터에서 Scaler 객체를 이용해 fit을 하였다면 이 Scaler 객체를 이용해 train데이터에도 동일하게 fit을 적용해야함"
      ],
      "metadata": {
        "id": "BSdsH2cPXpVf"
      }
    },
    {
      "cell_type": "markdown",
      "source": [
        "ex) train data를 scaling된 값으로 학습하였는데 이 모델로 scaling되지 않은 test data를 predict하면 당연히 성능 안좋음"
      ],
      "metadata": {
        "id": "tFo98ABCXrG0"
      }
    },
    {
      "cell_type": "code",
      "source": [
        "from sklearn.preprocessing import MinMaxScaler\n",
        "import numpy as np\n",
        "\n",
        "# 학습 데이터는 0 부터 10까지, 테스트 데이터는 0 부터 5까지 값을 가지는 데이터 세트로 생성\n",
        "# Scaler클래스의 fit(), transform()은 2차원 이상 데이터만 가능하므로 reshape(-1, 1)로 차원 변경\n",
        "train_array = np.arange(0, 11).reshape(-1, 1)\n",
        "test_array =  np.arange(0, 6).reshape(-1, 1)"
      ],
      "metadata": {
        "id": "Yb2EUvGZXpkr"
      },
      "execution_count": 32,
      "outputs": []
    },
    {
      "cell_type": "code",
      "source": [
        "# MinMaxScaler 객체에 별도의 feature_range 파라미터 값을 지정하지 않으면 0~1 값으로 변환\n",
        "scaler = MinMaxScaler()\n",
        "\n",
        "# fit()하게 되면 train_array 데이터의 최솟값이 0, 최댓값이 10으로 설정.\n",
        "scaler.fit(train_array)\n",
        "\n",
        "# 1/10 scale로 train_array 데이터 변환함. 원본 10-> 1로 변환됨.\n",
        "train_scaled = scaler.transform(train_array)\n",
        "\n",
        "print('원본 train_array 데이터:', np.round(train_array.reshape(-1), 2))\n",
        "print('Scale된 train_array 데이터:', np.round(train_scaled.reshape(-1), 2))"
      ],
      "metadata": {
        "colab": {
          "base_uri": "https://localhost:8080/"
        },
        "id": "r9tqqsaGXprg",
        "outputId": "460e4fa7-6c7a-4f59-8bad-b0411d0fb495"
      },
      "execution_count": 33,
      "outputs": [
        {
          "output_type": "stream",
          "name": "stdout",
          "text": [
            "원본 train_array 데이터: [ 0  1  2  3  4  5  6  7  8  9 10]\n",
            "Scale된 train_array 데이터: [0.  0.1 0.2 0.3 0.4 0.5 0.6 0.7 0.8 0.9 1. ]\n"
          ]
        }
      ]
    },
    {
      "cell_type": "code",
      "source": [
        "# MinMaxScaler에 test_array를 fit()하게 되면 원본 데이터의 최솟값이 0, 최댓값이 5로 설정됨\n",
        "scaler.fit(test_array)\n",
        "\n",
        "# 1/5 scale로 test_array 데이터 변환함. 원본 5->1로 변환.\n",
        "test_scaled = scaler.transform(test_array)\n",
        "\n",
        "# test_array의 scale 변환 출력.\n",
        "print('원본 test_array 데이터:', np.round(test_array.reshape(-1), 2))\n",
        "print('Scale된 test_array 데이터:', np.round(test_scaled.reshape(-1), 2))"
      ],
      "metadata": {
        "colab": {
          "base_uri": "https://localhost:8080/"
        },
        "id": "G46EIzXBYGGG",
        "outputId": "7f1c5121-a04d-4819-8aac-6ee0535ccad8"
      },
      "execution_count": 34,
      "outputs": [
        {
          "output_type": "stream",
          "name": "stdout",
          "text": [
            "원본 test_array 데이터: [0 1 2 3 4 5]\n",
            "Scale된 test_array 데이터: [0.  0.2 0.4 0.6 0.8 1. ]\n"
          ]
        }
      ]
    },
    {
      "cell_type": "code",
      "source": [
        "scaler = MinMaxScaler()\n",
        "scaler.fit(train_array)\n",
        "train_scaled = scaler.transform(train_array)\n",
        "print('원본 train_array 데이터:', np.round(train_array.reshape(-1), 2))\n",
        "print('Scale된 train_array 데이터:', np.round(train_scaled.reshape(-1), 2))\n",
        "\n",
        "# test_array에 Scale 변환을 할 때는 반드시 fit()을 호출하지 않고 transform() 만으로 변환해야 함. \n",
        "test_scaled = scaler.transform(test_array)\n",
        "print('\\n원본 test_array 데이터:', np.round(test_array.reshape(-1), 2))\n",
        "print('Scale된 test_array 데이터:', np.round(test_scaled.reshape(-1), 2))"
      ],
      "metadata": {
        "colab": {
          "base_uri": "https://localhost:8080/"
        },
        "id": "KwXSynDvYGKv",
        "outputId": "95de7bbf-e504-4cc3-ff07-e106bdad6ed2"
      },
      "execution_count": 35,
      "outputs": [
        {
          "output_type": "stream",
          "name": "stdout",
          "text": [
            "원본 train_array 데이터: [ 0  1  2  3  4  5  6  7  8  9 10]\n",
            "Scale된 train_array 데이터: [0.  0.1 0.2 0.3 0.4 0.5 0.6 0.7 0.8 0.9 1. ]\n",
            "\n",
            "원본 test_array 데이터: [0 1 2 3 4 5]\n",
            "Scale된 test_array 데이터: [0.  0.1 0.2 0.3 0.4 0.5]\n"
          ]
        }
      ]
    },
    {
      "cell_type": "markdown",
      "source": [
        "**fit_transform()은 test데이터에서 절대 사용 금지**"
      ],
      "metadata": {
        "id": "j3zSAZdGYMQX"
      }
    },
    {
      "cell_type": "markdown",
      "source": [
        "**trian_test_split 하기 전에 스케일링 하는게 바람직함**"
      ],
      "metadata": {
        "id": "Tw2FjX2PYOqf"
      }
    },
    {
      "cell_type": "markdown",
      "source": [
        "2.6 사이킷런으로 수행하는 타이타닉 생존자 예측\n",
        "================"
      ],
      "metadata": {
        "id": "aSPmM23mYTWA"
      }
    },
    {
      "cell_type": "code",
      "source": [
        "import numpy as np\n",
        "import pandas as pd\n",
        "import matplotlib.pyplot as plt\n",
        "import seaborn as sns\n",
        "%matplotlib inline\n",
        "\n",
        "titanic_df = pd.read_csv('titanic_train.csv')\n",
        "titanic_df.head(3)"
      ],
      "metadata": {
        "colab": {
          "base_uri": "https://localhost:8080/",
          "height": 143
        },
        "id": "-oo75jVSYGOk",
        "outputId": "f578650e-ff96-4a80-b831-93b3c0acf5ee"
      },
      "execution_count": 36,
      "outputs": [
        {
          "output_type": "execute_result",
          "data": {
            "text/plain": [
              "   PassengerId  Survived  Pclass  \\\n",
              "0            1         0       3   \n",
              "1            2         1       1   \n",
              "2            3         1       3   \n",
              "\n",
              "                                                Name     Sex   Age  SibSp  \\\n",
              "0                            Braund, Mr. Owen Harris    male  22.0      1   \n",
              "1  Cumings, Mrs. John Bradley (Florence Briggs Th...  female  38.0      1   \n",
              "2                             Heikkinen, Miss. Laina  female  26.0      0   \n",
              "\n",
              "   Parch            Ticket     Fare Cabin Embarked  \n",
              "0      0         A/5 21171   7.2500   NaN        S  \n",
              "1      0          PC 17599  71.2833   C85        C  \n",
              "2      0  STON/O2. 3101282   7.9250   NaN        S  "
            ],
            "text/html": [
              "\n",
              "  <div id=\"df-a2e9d137-c723-46c2-8f2a-fd3b397661be\">\n",
              "    <div class=\"colab-df-container\">\n",
              "      <div>\n",
              "<style scoped>\n",
              "    .dataframe tbody tr th:only-of-type {\n",
              "        vertical-align: middle;\n",
              "    }\n",
              "\n",
              "    .dataframe tbody tr th {\n",
              "        vertical-align: top;\n",
              "    }\n",
              "\n",
              "    .dataframe thead th {\n",
              "        text-align: right;\n",
              "    }\n",
              "</style>\n",
              "<table border=\"1\" class=\"dataframe\">\n",
              "  <thead>\n",
              "    <tr style=\"text-align: right;\">\n",
              "      <th></th>\n",
              "      <th>PassengerId</th>\n",
              "      <th>Survived</th>\n",
              "      <th>Pclass</th>\n",
              "      <th>Name</th>\n",
              "      <th>Sex</th>\n",
              "      <th>Age</th>\n",
              "      <th>SibSp</th>\n",
              "      <th>Parch</th>\n",
              "      <th>Ticket</th>\n",
              "      <th>Fare</th>\n",
              "      <th>Cabin</th>\n",
              "      <th>Embarked</th>\n",
              "    </tr>\n",
              "  </thead>\n",
              "  <tbody>\n",
              "    <tr>\n",
              "      <th>0</th>\n",
              "      <td>1</td>\n",
              "      <td>0</td>\n",
              "      <td>3</td>\n",
              "      <td>Braund, Mr. Owen Harris</td>\n",
              "      <td>male</td>\n",
              "      <td>22.0</td>\n",
              "      <td>1</td>\n",
              "      <td>0</td>\n",
              "      <td>A/5 21171</td>\n",
              "      <td>7.2500</td>\n",
              "      <td>NaN</td>\n",
              "      <td>S</td>\n",
              "    </tr>\n",
              "    <tr>\n",
              "      <th>1</th>\n",
              "      <td>2</td>\n",
              "      <td>1</td>\n",
              "      <td>1</td>\n",
              "      <td>Cumings, Mrs. John Bradley (Florence Briggs Th...</td>\n",
              "      <td>female</td>\n",
              "      <td>38.0</td>\n",
              "      <td>1</td>\n",
              "      <td>0</td>\n",
              "      <td>PC 17599</td>\n",
              "      <td>71.2833</td>\n",
              "      <td>C85</td>\n",
              "      <td>C</td>\n",
              "    </tr>\n",
              "    <tr>\n",
              "      <th>2</th>\n",
              "      <td>3</td>\n",
              "      <td>1</td>\n",
              "      <td>3</td>\n",
              "      <td>Heikkinen, Miss. Laina</td>\n",
              "      <td>female</td>\n",
              "      <td>26.0</td>\n",
              "      <td>0</td>\n",
              "      <td>0</td>\n",
              "      <td>STON/O2. 3101282</td>\n",
              "      <td>7.9250</td>\n",
              "      <td>NaN</td>\n",
              "      <td>S</td>\n",
              "    </tr>\n",
              "  </tbody>\n",
              "</table>\n",
              "</div>\n",
              "      <button class=\"colab-df-convert\" onclick=\"convertToInteractive('df-a2e9d137-c723-46c2-8f2a-fd3b397661be')\"\n",
              "              title=\"Convert this dataframe to an interactive table.\"\n",
              "              style=\"display:none;\">\n",
              "        \n",
              "  <svg xmlns=\"http://www.w3.org/2000/svg\" height=\"24px\"viewBox=\"0 0 24 24\"\n",
              "       width=\"24px\">\n",
              "    <path d=\"M0 0h24v24H0V0z\" fill=\"none\"/>\n",
              "    <path d=\"M18.56 5.44l.94 2.06.94-2.06 2.06-.94-2.06-.94-.94-2.06-.94 2.06-2.06.94zm-11 1L8.5 8.5l.94-2.06 2.06-.94-2.06-.94L8.5 2.5l-.94 2.06-2.06.94zm10 10l.94 2.06.94-2.06 2.06-.94-2.06-.94-.94-2.06-.94 2.06-2.06.94z\"/><path d=\"M17.41 7.96l-1.37-1.37c-.4-.4-.92-.59-1.43-.59-.52 0-1.04.2-1.43.59L10.3 9.45l-7.72 7.72c-.78.78-.78 2.05 0 2.83L4 21.41c.39.39.9.59 1.41.59.51 0 1.02-.2 1.41-.59l7.78-7.78 2.81-2.81c.8-.78.8-2.07 0-2.86zM5.41 20L4 18.59l7.72-7.72 1.47 1.35L5.41 20z\"/>\n",
              "  </svg>\n",
              "      </button>\n",
              "      \n",
              "  <style>\n",
              "    .colab-df-container {\n",
              "      display:flex;\n",
              "      flex-wrap:wrap;\n",
              "      gap: 12px;\n",
              "    }\n",
              "\n",
              "    .colab-df-convert {\n",
              "      background-color: #E8F0FE;\n",
              "      border: none;\n",
              "      border-radius: 50%;\n",
              "      cursor: pointer;\n",
              "      display: none;\n",
              "      fill: #1967D2;\n",
              "      height: 32px;\n",
              "      padding: 0 0 0 0;\n",
              "      width: 32px;\n",
              "    }\n",
              "\n",
              "    .colab-df-convert:hover {\n",
              "      background-color: #E2EBFA;\n",
              "      box-shadow: 0px 1px 2px rgba(60, 64, 67, 0.3), 0px 1px 3px 1px rgba(60, 64, 67, 0.15);\n",
              "      fill: #174EA6;\n",
              "    }\n",
              "\n",
              "    [theme=dark] .colab-df-convert {\n",
              "      background-color: #3B4455;\n",
              "      fill: #D2E3FC;\n",
              "    }\n",
              "\n",
              "    [theme=dark] .colab-df-convert:hover {\n",
              "      background-color: #434B5C;\n",
              "      box-shadow: 0px 1px 3px 1px rgba(0, 0, 0, 0.15);\n",
              "      filter: drop-shadow(0px 1px 2px rgba(0, 0, 0, 0.3));\n",
              "      fill: #FFFFFF;\n",
              "    }\n",
              "  </style>\n",
              "\n",
              "      <script>\n",
              "        const buttonEl =\n",
              "          document.querySelector('#df-a2e9d137-c723-46c2-8f2a-fd3b397661be button.colab-df-convert');\n",
              "        buttonEl.style.display =\n",
              "          google.colab.kernel.accessAllowed ? 'block' : 'none';\n",
              "\n",
              "        async function convertToInteractive(key) {\n",
              "          const element = document.querySelector('#df-a2e9d137-c723-46c2-8f2a-fd3b397661be');\n",
              "          const dataTable =\n",
              "            await google.colab.kernel.invokeFunction('convertToInteractive',\n",
              "                                                     [key], {});\n",
              "          if (!dataTable) return;\n",
              "\n",
              "          const docLinkHtml = 'Like what you see? Visit the ' +\n",
              "            '<a target=\"_blank\" href=https://colab.research.google.com/notebooks/data_table.ipynb>data table notebook</a>'\n",
              "            + ' to learn more about interactive tables.';\n",
              "          element.innerHTML = '';\n",
              "          dataTable['output_type'] = 'display_data';\n",
              "          await google.colab.output.renderOutput(dataTable, element);\n",
              "          const docLink = document.createElement('div');\n",
              "          docLink.innerHTML = docLinkHtml;\n",
              "          element.appendChild(docLink);\n",
              "        }\n",
              "      </script>\n",
              "    </div>\n",
              "  </div>\n",
              "  "
            ]
          },
          "metadata": {},
          "execution_count": 36
        }
      ]
    },
    {
      "cell_type": "code",
      "source": [
        "print('\\n ### 학습습 데이터 정보 ###  \\n')\n",
        "print(titanic_df.info())"
      ],
      "metadata": {
        "colab": {
          "base_uri": "https://localhost:8080/"
        },
        "id": "DoQoQHUBYiZl",
        "outputId": "ff536666-9a60-4eab-cf60-1abcc208a00d"
      },
      "execution_count": 37,
      "outputs": [
        {
          "output_type": "stream",
          "name": "stdout",
          "text": [
            "\n",
            " ### 학습습 데이터 정보 ###  \n",
            "\n",
            "<class 'pandas.core.frame.DataFrame'>\n",
            "RangeIndex: 891 entries, 0 to 890\n",
            "Data columns (total 12 columns):\n",
            " #   Column       Non-Null Count  Dtype  \n",
            "---  ------       --------------  -----  \n",
            " 0   PassengerId  891 non-null    int64  \n",
            " 1   Survived     891 non-null    int64  \n",
            " 2   Pclass       891 non-null    int64  \n",
            " 3   Name         891 non-null    object \n",
            " 4   Sex          891 non-null    object \n",
            " 5   Age          714 non-null    float64\n",
            " 6   SibSp        891 non-null    int64  \n",
            " 7   Parch        891 non-null    int64  \n",
            " 8   Ticket       891 non-null    object \n",
            " 9   Fare         891 non-null    float64\n",
            " 10  Cabin        204 non-null    object \n",
            " 11  Embarked     889 non-null    object \n",
            "dtypes: float64(2), int64(5), object(5)\n",
            "memory usage: 83.7+ KB\n",
            "None\n"
          ]
        }
      ]
    },
    {
      "cell_type": "markdown",
      "source": [
        "RangeIndex : 전체 row수 \\\n",
        "칼럼 수 : 12 "
      ],
      "metadata": {
        "id": "t3PE0MMDYkJ7"
      }
    },
    {
      "cell_type": "code",
      "source": [
        "titanic_df['Age'].fillna(titanic_df['Age'].mean(),inplace=True)\n",
        "titanic_df['Cabin'].fillna('N',inplace=True)\n",
        "titanic_df['Embarked'].fillna('N',inplace=True)\n",
        "print('데이터 세트 Null 값 갯수 ',titanic_df.isnull().sum().sum())"
      ],
      "metadata": {
        "colab": {
          "base_uri": "https://localhost:8080/"
        },
        "id": "73zagRsnYicT",
        "outputId": "f4cb2e89-024c-4809-a152-3433cdf83729"
      },
      "execution_count": 38,
      "outputs": [
        {
          "output_type": "stream",
          "name": "stdout",
          "text": [
            "데이터 세트 Null 값 갯수  0\n"
          ]
        }
      ]
    },
    {
      "cell_type": "markdown",
      "source": [
        "**Age는 결측치를 mean으로, Cabin, Embarked는 N으로 변경**"
      ],
      "metadata": {
        "id": "6NnGZ3nYYnJo"
      }
    },
    {
      "cell_type": "code",
      "source": [
        "print(' Sex 값 분포 :\\n',titanic_df['Sex'].value_counts())\n",
        "print('\\n Cabin 값 분포 :\\n',titanic_df['Cabin'].value_counts())\n",
        "print('\\n Embarked 값 분포 :\\n',titanic_df['Embarked'].value_counts())"
      ],
      "metadata": {
        "colab": {
          "base_uri": "https://localhost:8080/"
        },
        "id": "Bo6kLIpkYier",
        "outputId": "8badc40d-f73f-4c28-eac7-9224c40c2c42"
      },
      "execution_count": 39,
      "outputs": [
        {
          "output_type": "stream",
          "name": "stdout",
          "text": [
            " Sex 값 분포 :\n",
            " male      577\n",
            "female    314\n",
            "Name: Sex, dtype: int64\n",
            "\n",
            " Cabin 값 분포 :\n",
            " N              687\n",
            "C23 C25 C27      4\n",
            "G6               4\n",
            "B96 B98          4\n",
            "C22 C26          3\n",
            "              ... \n",
            "E34              1\n",
            "C7               1\n",
            "C54              1\n",
            "E36              1\n",
            "C148             1\n",
            "Name: Cabin, Length: 148, dtype: int64\n",
            "\n",
            " Embarked 값 분포 :\n",
            " S    644\n",
            "C    168\n",
            "Q     77\n",
            "N      2\n",
            "Name: Embarked, dtype: int64\n"
          ]
        }
      ]
    },
    {
      "cell_type": "code",
      "source": [
        "titanic_df['Cabin'] = titanic_df['Cabin'].str[:1]\n",
        "print(titanic_df['Cabin'].head(3))"
      ],
      "metadata": {
        "colab": {
          "base_uri": "https://localhost:8080/"
        },
        "id": "mNIcqbp8YihR",
        "outputId": "3b3ab20f-d6f7-4a8c-95b3-fdb704b6b2b5"
      },
      "execution_count": 40,
      "outputs": [
        {
          "output_type": "stream",
          "name": "stdout",
          "text": [
            "0    N\n",
            "1    C\n",
            "2    N\n",
            "Name: Cabin, dtype: object\n"
          ]
        }
      ]
    },
    {
      "cell_type": "code",
      "source": [
        "titanic_df.groupby(['Sex','Survived'])['Survived'].count()"
      ],
      "metadata": {
        "colab": {
          "base_uri": "https://localhost:8080/"
        },
        "id": "leimQfNFYijR",
        "outputId": "0565ebf5-13e0-4335-f673-442cdead615b"
      },
      "execution_count": 41,
      "outputs": [
        {
          "output_type": "execute_result",
          "data": {
            "text/plain": [
              "Sex     Survived\n",
              "female  0            81\n",
              "        1           233\n",
              "male    0           468\n",
              "        1           109\n",
              "Name: Survived, dtype: int64"
            ]
          },
          "metadata": {},
          "execution_count": 41
        }
      ]
    },
    {
      "cell_type": "code",
      "source": [
        "sns.barplot(x='Sex', y = 'Survived', data=titanic_df)"
      ],
      "metadata": {
        "colab": {
          "base_uri": "https://localhost:8080/",
          "height": 297
        },
        "id": "_TR-djw-Yp6Y",
        "outputId": "dff9f9f3-10d1-49c2-991f-90b66081f6db"
      },
      "execution_count": 42,
      "outputs": [
        {
          "output_type": "execute_result",
          "data": {
            "text/plain": [
              "<Axes: xlabel='Sex', ylabel='Survived'>"
            ]
          },
          "metadata": {},
          "execution_count": 42
        },
        {
          "output_type": "display_data",
          "data": {
            "text/plain": [
              "<Figure size 432x288 with 1 Axes>"
            ],
            "image/png": "[encoded data removed]"
          },
          "metadata": {
            "needs_background": "light"
          }
        }
      ]
    },
    {
      "cell_type": "markdown",
      "source": [
        "여자가 남자보다 생존율이 높음"
      ],
      "metadata": {
        "id": "4iDRIqJDYrE7"
      }
    },
    {
      "cell_type": "code",
      "source": [
        "sns.barplot(x='Pclass', y='Survived', hue='Sex', data=titanic_df)"
      ],
      "metadata": {
        "colab": {
          "base_uri": "https://localhost:8080/",
          "height": 297
        },
        "id": "3U6Aq3O-Yp8r",
        "outputId": "ddc869a4-a797-4d9d-be3b-7e19b107ebaa"
      },
      "execution_count": 43,
      "outputs": [
        {
          "output_type": "execute_result",
          "data": {
            "text/plain": [
              "<Axes: xlabel='Pclass', ylabel='Survived'>"
            ]
          },
          "metadata": {},
          "execution_count": 43
        },
        {
          "output_type": "display_data",
          "data": {
            "text/plain": [
              "<Figure size 432x288 with 1 Axes>"
            ],
            "image/png": "[encoded data removed]"
          },
          "metadata": {
            "needs_background": "light"
          }
        }
      ]
    },
    {
      "cell_type": "markdown",
      "source": [
        "Pclass의 값이 클수록 생존율이 낮음"
      ],
      "metadata": {
        "id": "rBAabkYaYtsm"
      }
    },
    {
      "cell_type": "code",
      "source": [
        "# 입력 age에 따라 구분값을 반환하는 함수 설정. DataFrame의 apply lambda식에 사용. \n",
        "def get_category(age):\n",
        "    cat = ''\n",
        "    if age <= -1: cat = 'Unknown'\n",
        "    elif age <= 5: cat = 'Baby'\n",
        "    elif age <= 12: cat = 'Child'\n",
        "    elif age <= 18: cat = 'Teenager'\n",
        "    elif age <= 25: cat = 'Student'\n",
        "    elif age <= 35: cat = 'Young Adult'\n",
        "    elif age <= 60: cat = 'Adult'\n",
        "    else : cat = 'Elderly'\n",
        "    \n",
        "    return cat\n",
        "\n",
        "# 막대그래프의 크기 figure를 더 크게 설정 \n",
        "plt.figure(figsize=(10,6))\n",
        "\n",
        "#X축의 값을 순차적으로 표시하기 위한 설정 \n",
        "group_names = ['Unknown', 'Baby', 'Child', 'Teenager', 'Student', 'Young Adult', 'Adult', 'Elderly']\n",
        "\n",
        "# lambda 식에 위에서 생성한 get_category( ) 함수를 반환값으로 지정. \n",
        "# get_category(X)는 입력값으로 'Age' 컬럼값을 받아서 해당하는 cat 반환\n",
        "titanic_df['Age_cat'] = titanic_df['Age'].apply(lambda x : get_category(x))\n",
        "sns.barplot(x='Age_cat', y = 'Survived', hue='Sex', data=titanic_df, order=group_names)\n",
        "titanic_df.drop('Age_cat', axis=1, inplace=True)\n",
        "# 막대그래프 표시를 위해 Age_cat사용하고 바로 drop함\n",
        "# hue : 여러 열에서 집단 묶어서 세부 집단 시각화 하기"
      ],
      "metadata": {
        "colab": {
          "base_uri": "https://localhost:8080/",
          "height": 389
        },
        "id": "_21R4x9EYuVO",
        "outputId": "0ba3e707-6832-41df-9943-2dadc6d30410"
      },
      "execution_count": 44,
      "outputs": [
        {
          "output_type": "display_data",
          "data": {
            "text/plain": [
              "<Figure size 720x432 with 1 Axes>"
            ],
            "image/png": "[encoded data removed]"
          },
          "metadata": {
            "needs_background": "light"
          }
        }
      ]
    },
    {
      "cell_type": "markdown",
      "source": [
        "Age를 범주화함"
      ],
      "metadata": {
        "id": "g1v3NmU-YvAT"
      }
    },
    {
      "cell_type": "code",
      "source": [
        "from sklearn import preprocessing\n",
        "\n",
        "def encode_features(dataDF):\n",
        "    features = ['Cabin', 'Sex', 'Embarked']\n",
        "    for feature in features:\n",
        "        le = preprocessing.LabelEncoder()\n",
        "        le = le.fit(dataDF[feature])\n",
        "        dataDF[feature] = le.transform(dataDF[feature])\n",
        "        \n",
        "    return dataDF\n",
        "\n",
        "titanic_df = encode_features(titanic_df)\n",
        "titanic_df.head()"
      ],
      "metadata": {
        "colab": {
          "base_uri": "https://localhost:8080/",
          "height": 206
        },
        "id": "SHi_aqsdYp-w",
        "outputId": "79ba62c5-0b9a-4a1d-bb11-142f5e757284"
      },
      "execution_count": 45,
      "outputs": [
        {
          "output_type": "execute_result",
          "data": {
            "text/plain": [
              "   PassengerId  Survived  Pclass  \\\n",
              "0            1         0       3   \n",
              "1            2         1       1   \n",
              "2            3         1       3   \n",
              "3            4         1       1   \n",
              "4            5         0       3   \n",
              "\n",
              "                                                Name  Sex   Age  SibSp  Parch  \\\n",
              "0                            Braund, Mr. Owen Harris    1  22.0      1      0   \n",
              "1  Cumings, Mrs. John Bradley (Florence Briggs Th...    0  38.0      1      0   \n",
              "2                             Heikkinen, Miss. Laina    0  26.0      0      0   \n",
              "3       Futrelle, Mrs. Jacques Heath (Lily May Peel)    0  35.0      1      0   \n",
              "4                           Allen, Mr. William Henry    1  35.0      0      0   \n",
              "\n",
              "             Ticket     Fare  Cabin  Embarked  \n",
              "0         A/5 21171   7.2500      7         3  \n",
              "1          PC 17599  71.2833      2         0  \n",
              "2  STON/O2. 3101282   7.9250      7         3  \n",
              "3            113803  53.1000      2         3  \n",
              "4            373450   8.0500      7         3  "
            ],
            "text/html": [
              "\n",
              "  <div id=\"df-f81dd320-5a07-445e-8d9c-f64268996345\">\n",
              "    <div class=\"colab-df-container\">\n",
              "      <div>\n",
              "<style scoped>\n",
              "    .dataframe tbody tr th:only-of-type {\n",
              "        vertical-align: middle;\n",
              "    }\n",
              "\n",
              "    .dataframe tbody tr th {\n",
              "        vertical-align: top;\n",
              "    }\n",
              "\n",
              "    .dataframe thead th {\n",
              "        text-align: right;\n",
              "    }\n",
              "</style>\n",
              "<table border=\"1\" class=\"dataframe\">\n",
              "  <thead>\n",
              "    <tr style=\"text-align: right;\">\n",
              "      <th></th>\n",
              "      <th>PassengerId</th>\n",
              "      <th>Survived</th>\n",
              "      <th>Pclass</th>\n",
              "      <th>Name</th>\n",
              "      <th>Sex</th>\n",
              "      <th>Age</th>\n",
              "      <th>SibSp</th>\n",
              "      <th>Parch</th>\n",
              "      <th>Ticket</th>\n",
              "      <th>Fare</th>\n",
              "      <th>Cabin</th>\n",
              "      <th>Embarked</th>\n",
              "    </tr>\n",
              "  </thead>\n",
              "  <tbody>\n",
              "    <tr>\n",
              "      <th>0</th>\n",
              "      <td>1</td>\n",
              "      <td>0</td>\n",
              "      <td>3</td>\n",
              "      <td>Braund, Mr. Owen Harris</td>\n",
              "      <td>1</td>\n",
              "      <td>22.0</td>\n",
              "      <td>1</td>\n",
              "      <td>0</td>\n",
              "      <td>A/5 21171</td>\n",
              "      <td>7.2500</td>\n",
              "      <td>7</td>\n",
              "      <td>3</td>\n",
              "    </tr>\n",
              "    <tr>\n",
              "      <th>1</th>\n",
              "      <td>2</td>\n",
              "      <td>1</td>\n",
              "      <td>1</td>\n",
              "      <td>Cumings, Mrs. John Bradley (Florence Briggs Th...</td>\n",
              "      <td>0</td>\n",
              "      <td>38.0</td>\n",
              "      <td>1</td>\n",
              "      <td>0</td>\n",
              "      <td>PC 17599</td>\n",
              "      <td>71.2833</td>\n",
              "      <td>2</td>\n",
              "      <td>0</td>\n",
              "    </tr>\n",
              "    <tr>\n",
              "      <th>2</th>\n",
              "      <td>3</td>\n",
              "      <td>1</td>\n",
              "      <td>3</td>\n",
              "      <td>Heikkinen, Miss. Laina</td>\n",
              "      <td>0</td>\n",
              "      <td>26.0</td>\n",
              "      <td>0</td>\n",
              "      <td>0</td>\n",
              "      <td>STON/O2. 3101282</td>\n",
              "      <td>7.9250</td>\n",
              "      <td>7</td>\n",
              "      <td>3</td>\n",
              "    </tr>\n",
              "    <tr>\n",
              "      <th>3</th>\n",
              "      <td>4</td>\n",
              "      <td>1</td>\n",
              "      <td>1</td>\n",
              "      <td>Futrelle, Mrs. Jacques Heath (Lily May Peel)</td>\n",
              "      <td>0</td>\n",
              "      <td>35.0</td>\n",
              "      <td>1</td>\n",
              "      <td>0</td>\n",
              "      <td>113803</td>\n",
              "      <td>53.1000</td>\n",
              "      <td>2</td>\n",
              "      <td>3</td>\n",
              "    </tr>\n",
              "    <tr>\n",
              "      <th>4</th>\n",
              "      <td>5</td>\n",
              "      <td>0</td>\n",
              "      <td>3</td>\n",
              "      <td>Allen, Mr. William Henry</td>\n",
              "      <td>1</td>\n",
              "      <td>35.0</td>\n",
              "      <td>0</td>\n",
              "      <td>0</td>\n",
              "      <td>373450</td>\n",
              "      <td>8.0500</td>\n",
              "      <td>7</td>\n",
              "      <td>3</td>\n",
              "    </tr>\n",
              "  </tbody>\n",
              "</table>\n",
              "</div>\n",
              "      <button class=\"colab-df-convert\" onclick=\"convertToInteractive('df-f81dd320-5a07-445e-8d9c-f64268996345')\"\n",
              "              title=\"Convert this dataframe to an interactive table.\"\n",
              "              style=\"display:none;\">\n",
              "        \n",
              "  <svg xmlns=\"http://www.w3.org/2000/svg\" height=\"24px\"viewBox=\"0 0 24 24\"\n",
              "       width=\"24px\">\n",
              "    <path d=\"M0 0h24v24H0V0z\" fill=\"none\"/>\n",
              "    <path d=\"M18.56 5.44l.94 2.06.94-2.06 2.06-.94-2.06-.94-.94-2.06-.94 2.06-2.06.94zm-11 1L8.5 8.5l.94-2.06 2.06-.94-2.06-.94L8.5 2.5l-.94 2.06-2.06.94zm10 10l.94 2.06.94-2.06 2.06-.94-2.06-.94-.94-2.06-.94 2.06-2.06.94z\"/><path d=\"M17.41 7.96l-1.37-1.37c-.4-.4-.92-.59-1.43-.59-.52 0-1.04.2-1.43.59L10.3 9.45l-7.72 7.72c-.78.78-.78 2.05 0 2.83L4 21.41c.39.39.9.59 1.41.59.51 0 1.02-.2 1.41-.59l7.78-7.78 2.81-2.81c.8-.78.8-2.07 0-2.86zM5.41 20L4 18.59l7.72-7.72 1.47 1.35L5.41 20z\"/>\n",
              "  </svg>\n",
              "      </button>\n",
              "      \n",
              "  <style>\n",
              "    .colab-df-container {\n",
              "      display:flex;\n",
              "      flex-wrap:wrap;\n",
              "      gap: 12px;\n",
              "    }\n",
              "\n",
              "    .colab-df-convert {\n",
              "      background-color: #E8F0FE;\n",
              "      border: none;\n",
              "      border-radius: 50%;\n",
              "      cursor: pointer;\n",
              "      display: none;\n",
              "      fill: #1967D2;\n",
              "      height: 32px;\n",
              "      padding: 0 0 0 0;\n",
              "      width: 32px;\n",
              "    }\n",
              "\n",
              "    .colab-df-convert:hover {\n",
              "      background-color: #E2EBFA;\n",
              "      box-shadow: 0px 1px 2px rgba(60, 64, 67, 0.3), 0px 1px 3px 1px rgba(60, 64, 67, 0.15);\n",
              "      fill: #174EA6;\n",
              "    }\n",
              "\n",
              "    [theme=dark] .colab-df-convert {\n",
              "      background-color: #3B4455;\n",
              "      fill: #D2E3FC;\n",
              "    }\n",
              "\n",
              "    [theme=dark] .colab-df-convert:hover {\n",
              "      background-color: #434B5C;\n",
              "      box-shadow: 0px 1px 3px 1px rgba(0, 0, 0, 0.15);\n",
              "      filter: drop-shadow(0px 1px 2px rgba(0, 0, 0, 0.3));\n",
              "      fill: #FFFFFF;\n",
              "    }\n",
              "  </style>\n",
              "\n",
              "      <script>\n",
              "        const buttonEl =\n",
              "          document.querySelector('#df-f81dd320-5a07-445e-8d9c-f64268996345 button.colab-df-convert');\n",
              "        buttonEl.style.display =\n",
              "          google.colab.kernel.accessAllowed ? 'block' : 'none';\n",
              "\n",
              "        async function convertToInteractive(key) {\n",
              "          const element = document.querySelector('#df-f81dd320-5a07-445e-8d9c-f64268996345');\n",
              "          const dataTable =\n",
              "            await google.colab.kernel.invokeFunction('convertToInteractive',\n",
              "                                                     [key], {});\n",
              "          if (!dataTable) return;\n",
              "\n",
              "          const docLinkHtml = 'Like what you see? Visit the ' +\n",
              "            '<a target=\"_blank\" href=https://colab.research.google.com/notebooks/data_table.ipynb>data table notebook</a>'\n",
              "            + ' to learn more about interactive tables.';\n",
              "          element.innerHTML = '';\n",
              "          dataTable['output_type'] = 'display_data';\n",
              "          await google.colab.output.renderOutput(dataTable, element);\n",
              "          const docLink = document.createElement('div');\n",
              "          docLink.innerHTML = docLinkHtml;\n",
              "          element.appendChild(docLink);\n",
              "        }\n",
              "      </script>\n",
              "    </div>\n",
              "  </div>\n",
              "  "
            ]
          },
          "metadata": {},
          "execution_count": 45
        }
      ]
    },
    {
      "cell_type": "code",
      "source": [
        "from sklearn.preprocessing import LabelEncoder\n",
        "\n",
        "# Null 처리 함수\n",
        "def fillna(df):\n",
        "    df['Age'].fillna(df['Age'].mean(), inplace=True)\n",
        "    df['Cabin'].fillna('N', inplace=True)\n",
        "    df['Embarked'].fillna('N', inplace=True)\n",
        "    df['Fare'].fillna(0, inplace=True)\n",
        "    return df\n",
        "\n",
        "# 머신러닝 알고리즘에 불필요한 피처 제거\n",
        "def drop_features(df):\n",
        "    df.drop(['PassengerId', 'Name', 'Ticket'], axis=1, inplace=True)\n",
        "    return df\n",
        "\n",
        "# 레이블 인코딩 수행.\n",
        "def format_features(df):\n",
        "    df['Cabin'] = df['Cabin'].str[:1]\n",
        "    features = ['Cabin', 'Sex', 'Embarked']\n",
        "    for feature in features:\n",
        "        le = LabelEncoder()\n",
        "        le = le.fit(df[feature])\n",
        "        df[feature] = le.transform(df[feature])\n",
        "    return df\n",
        "\n",
        "# 앞에서 설정한 데이터 전처리 함수 호출\n",
        "def transform_features(df):\n",
        "    df = fillna(df)\n",
        "    df = drop_features(df)\n",
        "    df = format_features(df)\n",
        "    return df"
      ],
      "metadata": {
        "id": "DXXgItRIYqA_"
      },
      "execution_count": 46,
      "outputs": []
    },
    {
      "cell_type": "code",
      "source": [
        "# 원본 데이터를 재로딩 하고, feature데이터 셋과 Label 데이터 셋 추출. \n",
        "titanic_df = pd.read_csv('./titanic_train.csv')\n",
        "y_titanic_df = titanic_df['Survived']\n",
        "X_titanic_df= titanic_df.drop('Survived',axis=1)\n",
        "\n",
        "X_titanic_df = transform_features(X_titanic_df) # 데이터 전처리"
      ],
      "metadata": {
        "id": "ALNFkqevYyZx"
      },
      "execution_count": 47,
      "outputs": []
    },
    {
      "cell_type": "code",
      "source": [
        "from sklearn.model_selection import train_test_split\n",
        "X_train, X_test, y_train, y_test=train_test_split(X_titanic_df, y_titanic_df, \\\n",
        "                                                  test_size=0.2, random_state=11)"
      ],
      "metadata": {
        "id": "wFIGIBZ7Yyb_"
      },
      "execution_count": 48,
      "outputs": []
    },
    {
      "cell_type": "code",
      "source": [
        "from sklearn.tree import DecisionTreeClassifier\n",
        "from sklearn.ensemble import RandomForestClassifier\n",
        "from sklearn.linear_model import LogisticRegression\n",
        "from sklearn.metrics import accuracy_score\n",
        "\n",
        "# 결정트리, Random Forest, 로지스틱 회귀를 위한 사이킷런 Classifier 클래스 생성\n",
        "dt_clf = DecisionTreeClassifier(random_state=11)\n",
        "rf_clf = RandomForestClassifier(random_state=11)\n",
        "lr_clf = LogisticRegression(solver='liblinear')\n",
        "\n",
        "# DecisionTreeClassifier 학습/예측/평가\n",
        "dt_clf.fit(X_train , y_train)\n",
        "dt_pred = dt_clf.predict(X_test)\n",
        "print('DecisionTreeClassifier 정확도: {0:.4f}'.format(accuracy_score(y_test, dt_pred)))\n",
        "\n",
        "# RandomForestClassifier 학습/예측/평가\n",
        "rf_clf.fit(X_train , y_train)\n",
        "rf_pred = rf_clf.predict(X_test)\n",
        "print('RandomForestClassifier 정확도:{0:.4f}'.format(accuracy_score(y_test, rf_pred)))\n",
        "\n",
        "# LogisticRegression 학습/예측/평가\n",
        "lr_clf.fit(X_train , y_train)\n",
        "lr_pred = lr_clf.predict(X_test)\n",
        "print('LogisticRegression 정확도: {0:.4f}'.format(accuracy_score(y_test, lr_pred)))"
      ],
      "metadata": {
        "colab": {
          "base_uri": "https://localhost:8080/"
        },
        "id": "pa1YnwZmYyeJ",
        "outputId": "63aec530-8041-4330-cc69-de652799c5b6"
      },
      "execution_count": 49,
      "outputs": [
        {
          "output_type": "stream",
          "name": "stdout",
          "text": [
            "DecisionTreeClassifier 정확도: 0.7877\n",
            "RandomForestClassifier 정확도:0.8547\n",
            "LogisticRegression 정확도: 0.8659\n"
          ]
        }
      ]
    },
    {
      "cell_type": "code",
      "source": [
        "from sklearn.model_selection import KFold\n",
        "\n",
        "def exec_kfold(clf, folds=5):\n",
        "    # 폴드 세트를 5개인 KFold객체를 생성, 폴드 수만큼 예측결과 저장을 위한  리스트 객체 생성.\n",
        "    kfold = KFold(n_splits=folds)\n",
        "    scores = []\n",
        "    \n",
        "    # KFold 교차 검증 수행. \n",
        "    for iter_count , (train_index, test_index) in enumerate(kfold.split(X_titanic_df)):\n",
        "        # X_titanic_df 데이터에서 교차 검증별로 학습과 검증 데이터를 가리키는 index 생성\n",
        "        X_train, X_test = X_titanic_df.values[train_index], X_titanic_df.values[test_index]\n",
        "        y_train, y_test = y_titanic_df.values[train_index], y_titanic_df.values[test_index]\n",
        "        \n",
        "        # Classifier 학습, 예측, 정확도 계산 \n",
        "        clf.fit(X_train, y_train) \n",
        "        predictions = clf.predict(X_test)\n",
        "        accuracy = accuracy_score(y_test, predictions)\n",
        "        scores.append(accuracy)\n",
        "        print(\"교차 검증 {0} 정확도: {1:.4f}\".format(iter_count, accuracy))     \n",
        "    \n",
        "    # 5개 fold에서의 평균 정확도 계산. \n",
        "    mean_score = np.mean(scores)\n",
        "    print(\"평균 정확도: {0:.4f}\".format(mean_score)) \n",
        "# exec_kfold 호출\n",
        "exec_kfold(dt_clf , folds=5) "
      ],
      "metadata": {
        "colab": {
          "base_uri": "https://localhost:8080/"
        },
        "id": "qPyLG6H3YygG",
        "outputId": "e417af80-f8c8-4228-b46b-873818667a6c"
      },
      "execution_count": 50,
      "outputs": [
        {
          "output_type": "stream",
          "name": "stdout",
          "text": [
            "교차 검증 0 정확도: 0.7542\n",
            "교차 검증 1 정확도: 0.7809\n",
            "교차 검증 2 정확도: 0.7865\n",
            "교차 검증 3 정확도: 0.7697\n",
            "교차 검증 4 정확도: 0.8202\n",
            "평균 정확도: 0.7823\n"
          ]
        }
      ]
    },
    {
      "cell_type": "code",
      "source": [
        "from sklearn.model_selection import GridSearchCV\n",
        "\n",
        "parameters = {'max_depth':[2,3,5,10],\n",
        "             'min_samples_split':[2,3,5], 'min_samples_leaf':[1,5,8]}\n",
        "\n",
        "grid_dclf = GridSearchCV(dt_clf , param_grid=parameters , scoring='accuracy' , cv=5)\n",
        "grid_dclf.fit(X_train , y_train)\n",
        "\n",
        "print('GridSearchCV 최적 하이퍼 파라미터 :',grid_dclf.best_params_)\n",
        "print('GridSearchCV 최고 정확도: {0:.4f}'.format(grid_dclf.best_score_))\n",
        "best_dclf = grid_dclf.best_estimator_\n",
        "\n",
        "# GridSearchCV의 최적 하이퍼 파라미터로 학습된 Estimator로 예측 및 평가 수행. \n",
        "dpredictions = best_dclf.predict(X_test)\n",
        "accuracy = accuracy_score(y_test , dpredictions)\n",
        "print('테스트 세트에서의 DecisionTreeClassifier 정확도 : {0:.4f}'.format(accuracy))"
      ],
      "metadata": {
        "colab": {
          "base_uri": "https://localhost:8080/"
        },
        "id": "AwF5BiLcYyih",
        "outputId": "5257cf37-7e47-4762-bc24-c4ff6e26e3b9"
      },
      "execution_count": 51,
      "outputs": [
        {
          "output_type": "stream",
          "name": "stdout",
          "text": [
            "GridSearchCV 최적 하이퍼 파라미터 : {'max_depth': 3, 'min_samples_leaf': 5, 'min_samples_split': 2}\n",
            "GridSearchCV 최고 정확도: 0.7992\n",
            "테스트 세트에서의 DecisionTreeClassifier 정확도 : 0.8715\n"
          ]
        }
      ]
    }
  ]
}