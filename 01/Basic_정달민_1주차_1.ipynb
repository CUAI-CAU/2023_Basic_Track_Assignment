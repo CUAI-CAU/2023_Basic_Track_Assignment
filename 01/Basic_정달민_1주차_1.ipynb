{
  "cells": [
    {
      "cell_type": "markdown",
      "source": [
        "# 1.3 넘파이"
      ],
      "metadata": {
        "id": "SWJ2lIUmu3J2"
      }
    },
    {
      "cell_type": "markdown",
      "metadata": {
        "id": "cf0wrAVgtX7w"
      },
      "source": [
        "### Numpy ndarray 개요"
      ]
    },
    {
      "cell_type": "code",
      "execution_count": null,
      "metadata": {
        "id": "_b989JkHtX71"
      },
      "outputs": [],
      "source": [
        "import numpy as np # 넘파이 라이브러리 불러오기"
      ]
    },
    {
      "cell_type": "code",
      "execution_count": null,
      "metadata": {
        "id": "eNznFvfZtX73",
        "colab": {
          "base_uri": "https://localhost:8080/"
        },
        "outputId": "fe4629ca-4014-4ef0-cd7b-997121bb05fd"
      },
      "outputs": [
        {
          "output_type": "stream",
          "name": "stdout",
          "text": [
            "array1 type: <class 'numpy.ndarray'>\n",
            "array1 array 형태: (3,)\n",
            "array2 type: <class 'numpy.ndarray'>\n",
            "array2 array 형태: (2, 3)\n",
            "array3 type: <class 'numpy.ndarray'>\n",
            "array3 array 형태: (1, 3)\n"
          ]
        }
      ],
      "source": [
        "array1 = np.array([1,2,3]) # 1x3의 1차원 배열 array1 생성\n",
        "print('array1 type:',type(array1)) # array1의 자료형 확인\n",
        "print('array1 array 형태:',array1.shape) # array1의 형태 확인\n",
        "\n",
        "array2 = np.array([[1,2,3],\n",
        "                  [2,3,4]]) # 2x3의 2차원 배열 array2 생성\n",
        "print('array2 type:',type(array2)) # array2의 자료형 확인\n",
        "print('array2 array 형태:',array2.shape) # array2의 형태 확인\n",
        "\n",
        "array3 = np.array([[1,2,3]]) # 1x3의 2차원 배열 array3 생성\n",
        "print('array3 type:',type(array3)) # array3의 자료형 확인\n",
        "print('array3 array 형태:',array3.shape) # array3의 형태 확인\n",
        "\n",
        "\n",
        "# ndarray의 shape 변수는 ndarray의 크기, ndarray의 배열의 차원을 알려준다\n",
        "\n",
        "# array1은 array3과 동일한 데이터 건수를 가지고 있지만\n",
        "# 명확히 데이터의 차원이 다르다\n",
        "# array1과 array3의 차이를 이해하는 것이 중요하다\n",
        "# reshape() 함수를 통해 차원의 변환이 가능하다\n"
      ]
    },
    {
      "cell_type": "code",
      "execution_count": null,
      "metadata": {
        "id": "5AaJI9ACtX74",
        "colab": {
          "base_uri": "https://localhost:8080/"
        },
        "outputId": "a5df3616-0299-42c8-f4a7-fa1a6edd888d"
      },
      "outputs": [
        {
          "output_type": "stream",
          "name": "stdout",
          "text": [
            "array1: 1차원, array2: 2차원, array3:  2차원\n"
          ]
        }
      ],
      "source": [
        "print('array1: {:0}차원, array2: {:1}차원, array3: {:2}차원'.format(array1.ndim,array2.ndim,array3.ndim))\n",
        "\n",
        "# ndarray의 ndim은 ndarray의 차원을 알려준다\n"
      ]
    },
    {
      "cell_type": "code",
      "execution_count": null,
      "metadata": {
        "id": "bNMzBCWdtX75",
        "colab": {
          "base_uri": "https://localhost:8080/"
        },
        "outputId": "652d7765-5113-4b32-b095-574d86dc0cdc"
      },
      "outputs": [
        {
          "output_type": "stream",
          "name": "stdout",
          "text": [
            "<class 'list'>\n",
            "<class 'numpy.ndarray'>\n",
            "[1 2 3] int64\n"
          ]
        }
      ],
      "source": [
        "list1 = [1,2,3] # 리스트 변수 생성\n",
        "print(type(list1)) \n",
        "array1 = np.array(list1) # ndarray로 변경\n",
        "print(type(array1))\n",
        "print(array1, array1.dtype) # array1의 데이터 자료형 출력\n",
        "\n",
        "# ndarray 내의 데이터 타입은 그 연산의 특성상 같은 데이터 타입만 가능하다\n"
      ]
    },
    {
      "cell_type": "code",
      "execution_count": null,
      "metadata": {
        "id": "25NvsmOptX75",
        "colab": {
          "base_uri": "https://localhost:8080/"
        },
        "outputId": "8aa588c0-32b5-44f8-8bde-7ae51b5b01f6"
      },
      "outputs": [
        {
          "output_type": "stream",
          "name": "stdout",
          "text": [
            "['1' '2' 'test'] <U21\n",
            "[1. 2. 3.] float64\n"
          ]
        }
      ],
      "source": [
        "list2 = [1, 2, 'test'] # 리스트 내 서로 다른 데이터 타입인 int형과 문자열 존재\n",
        "array2 = np.array(list2) # ndarray로 변환\n",
        "print(array2, array2.dtype) # 유니코드 문자열로 형 변환되었다\n",
        "\n",
        "list3 = [1, 2, 3.0] # 리스트 내 서로 다른 데이터 타입인 int형과 float형 존재\n",
        "array3 = np.array(list3) # ndarray로 변환\n",
        "print(array3, array3.dtype) # int형 -> float형으로 형 변환되었다\n",
        "\n",
        "# 서로 다른 데이터 유형이 섞여 있는 리스트의 경우 -> \n",
        "# ndarray로 변경 시 데이터 크기가 더 큰 데이터 타입으로 형 변환이 적용된다"
      ]
    },
    {
      "cell_type": "code",
      "execution_count": null,
      "metadata": {
        "id": "wiUjm9x-tX76",
        "colab": {
          "base_uri": "https://localhost:8080/"
        },
        "outputId": "27b5c6d6-5be7-46d7-89b6-012701c1f6ca"
      },
      "outputs": [
        {
          "output_type": "stream",
          "name": "stdout",
          "text": [
            "[1. 2. 3.] float64\n",
            "[1 2 3] int32\n",
            "[1 2 3] int32\n"
          ]
        }
      ],
      "source": [
        "array_int = np.array([1, 2, 3]) # 데이터 타입 int형\n",
        "array_float = array_int.astype('float64') # float형태로 데이터 타입 변경하기\n",
        "print(array_float, array_float.dtype) # 데이터타입: float형\n",
        "\n",
        "array_int1= array_float.astype('int32') # int형태로 데이터 타입 변경하기\n",
        "print(array_int1, array_int1.dtype) # 데이터타입: int형\n",
        "\n",
        "array_float1 = np.array([1.1, 2.1, 3.1]) # 데이터 타입 float형\n",
        "array_int2= array_float1.astype('int32') # int형태로 데이터 타입 변경하기\n",
        "print(array_int2, array_int2.dtype) # 데이터 타입: int형\n",
        "\n",
        "# astype() 메서드는 인자로 원하는 타입을 문자열로 지정할 수 있다\n",
        "# astype() 메서드는 보통 메모리를 절약하는 데 이용된다\n"
      ]
    },
    {
      "cell_type": "markdown",
      "metadata": {
        "id": "apPA0lcltX76"
      },
      "source": [
        "### ndarray를 편리하게 생성하기 - arange, zeros, ones"
      ]
    },
    {
      "cell_type": "code",
      "execution_count": null,
      "metadata": {
        "id": "XL0XtIMctX76",
        "colab": {
          "base_uri": "https://localhost:8080/"
        },
        "outputId": "619690e6-5c5b-4184-bd76-f7aff0dc4292"
      },
      "outputs": [
        {
          "output_type": "stream",
          "name": "stdout",
          "text": [
            "[0 1 2 3 4 5 6 7 8 9]\n",
            "int64 (10,)\n"
          ]
        }
      ],
      "source": [
        "sequence_array = np.arange(10)\n",
        "print(sequence_array)\n",
        "print(sequence_array.dtype, sequence_array.shape)\n",
        "\n",
        "# arange(), zeros(), ones() 함수는 주로 테스트용으로 데이터를 만들거나\n",
        "# 대규모의 데이터를 일괄적으로 초기화해야 할 경우에 사용된다\n",
        "\n",
        "# arange()는 파이썬 표준 함수인 range()와 유사한 기능을 한다\n",
        "# 이는 0부터 (함수 인자 값 -1)까지의 값을 순차적으로 ndarray의 데이터값으로 변환해준다\n",
        "# default값은 stop 값이며, 1차원 ndarray를 만들어준다.\n"
      ]
    },
    {
      "cell_type": "code",
      "execution_count": null,
      "metadata": {
        "id": "gNlF_4rptX77",
        "colab": {
          "base_uri": "https://localhost:8080/"
        },
        "outputId": "529ec326-c5b5-4994-e212-955819f6f05f"
      },
      "outputs": [
        {
          "output_type": "stream",
          "name": "stdout",
          "text": [
            "[[0 0]\n",
            " [0 0]\n",
            " [0 0]]\n",
            "int32 (3, 2)\n",
            "[[1. 1.]\n",
            " [1. 1.]\n",
            " [1. 1.]]\n",
            "float64 (3, 2)\n"
          ]
        }
      ],
      "source": [
        "zero_array = np.zeros((3,2),dtype='int32') # 3x2 배열에 데이터값이 모두 0인 int형으로 채우기\n",
        "print(zero_array)\n",
        "print(zero_array.dtype, zero_array.shape) # 데이터 타입과 크기 확인\n",
        "\n",
        "one_array = np.ones((3,2)) # 3x2 배열에 데이터값을 모두 1로 채우기\n",
        "print(one_array)\n",
        "print(one_array.dtype, one_array.shape) # 데이터 타입과 크기 확인\n",
        "\n",
        "# zeros()는 튜플 형태의 shape 값을 입력하면 모든 값을 0으로 채운 해당 shape을 가진 ndarray로 반환힌다\n",
        "# ones()는 튜플 형태의 shape 값을 입력하면 모든 값을 1로 채운 해당 shape을 가진 ndarray로 반환한다\n"
      ]
    },
    {
      "cell_type": "markdown",
      "metadata": {
        "id": "Vfw4g7XKtX77"
      },
      "source": [
        "### reshape"
      ]
    },
    {
      "cell_type": "code",
      "execution_count": null,
      "metadata": {
        "id": "ct3AKlG2tX77",
        "colab": {
          "base_uri": "https://localhost:8080/"
        },
        "outputId": "1721536d-7a53-438f-cfa5-52f55715a479"
      },
      "outputs": [
        {
          "output_type": "stream",
          "name": "stdout",
          "text": [
            "array1:\n",
            " [0 1 2 3 4 5 6 7 8 9]\n",
            "array2:\n",
            " [[0 1 2 3 4]\n",
            " [5 6 7 8 9]]\n",
            "array3:\n",
            " [[0 1]\n",
            " [2 3]\n",
            " [4 5]\n",
            " [6 7]\n",
            " [8 9]]\n"
          ]
        }
      ],
      "source": [
        "array1 = np.arange(10) # 1x10의 1차원 배열 생성\n",
        "print('array1:\\n', array1)\n",
        "\n",
        "array2 = array1.reshape(2,5) # 2x5의 2차원 배열로 차원 및 크기 변환\n",
        "print('array2:\\n',array2)\n",
        "\n",
        "array3 = array1.reshape(5,2) # 5x2의 2차원 배열로 차원 및 크기 변환\n",
        "print('array3:\\n',array3)\n",
        "\n",
        "# reshape() 메서드는 ndarray의 특정 차원 및 크기를 반환한다\n",
        "# 변환을 원하는 크기를 함수 인자로 부여하면 된다\n",
        "# 지정된 사이즈로 변경이 불가능하면 오류가 발생된다"
      ]
    },
    {
      "cell_type": "code",
      "execution_count": null,
      "metadata": {
        "id": "1ai8Fw-3tX78"
      },
      "outputs": [],
      "source": [
        "# array1.reshape(4,3) \n",
        "\n",
        "# 지정된 사이즈로 변경이 불가능하면 오류가 발생된다"
      ]
    },
    {
      "cell_type": "code",
      "execution_count": null,
      "metadata": {
        "id": "OFENajoKtX78",
        "colab": {
          "base_uri": "https://localhost:8080/"
        },
        "outputId": "0bd1a736-374c-4b1c-94b7-23b49b56ed2a"
      },
      "outputs": [
        {
          "output_type": "stream",
          "name": "stdout",
          "text": [
            "[0 1 2 3 4 5 6 7 8 9]\n",
            "array2 shape: (2, 5)\n",
            "array3 shape: (5, 2)\n"
          ]
        }
      ],
      "source": [
        "array1 = np.arange(10) # 1x10의 1차원 배열 생성\n",
        "print(array1)\n",
        "\n",
        "array2 = array1.reshape(-1,5) # 고정된 5개의 칼럼에 맞는 로우를 자동으로 새롭게 생성해 변환 (로우: 2개)\n",
        "print('array2 shape:',array2.shape) # 2x5의 2차원 배열 array2\n",
        "\n",
        "array3 = array1.reshape(5,-1) # 고정된 5개의 로우에 맞는 칼럼를 자동으로 새롭게 생성해 변환 (칼럼: 2개)\n",
        "print('array3 shape:',array3.shape) # 5x2의 2차원 배열 array3\n",
        "\n",
        "# reshape()를 실전에서 효율적으로 사용하는 경우는 인자를 -1로 적용하는 경우이다\n",
        "# reshape(-1, 1)을 이용해 차원을 변경할 수 있다\n"
      ]
    },
    {
      "cell_type": "code",
      "execution_count": null,
      "metadata": {
        "id": "4x-IseNytX78"
      },
      "outputs": [],
      "source": [
        "# array1 = np.arange(10)\n",
        "# array4 = array1.reshape(-1,4) # -1을 사용하더라도 호환될 수 없는 형태는 변환할 수 없다 (4 x ? = 10)\n"
      ]
    },
    {
      "cell_type": "code",
      "execution_count": null,
      "metadata": {
        "id": "j3aKgctjtX79",
        "colab": {
          "base_uri": "https://localhost:8080/"
        },
        "outputId": "4270acad-4425-476e-91e5-c54b4d6bad83"
      },
      "outputs": [
        {
          "output_type": "stream",
          "name": "stdout",
          "text": [
            "array3d:\n",
            " [[[0, 1], [2, 3]], [[4, 5], [6, 7]]]\n",
            "array5:\n",
            " [[0], [1], [2], [3], [4], [5], [6], [7]]\n",
            "array5 shape: (8, 1)\n",
            "array6:\n",
            " [[0], [1], [2], [3], [4], [5], [6], [7]]\n",
            "array6 shape: (8, 1)\n"
          ]
        }
      ],
      "source": [
        "array1 = np.arange(8) # 8개 데이터를 가지고 있는 1차원 배열 생성\n",
        "array3d = array1.reshape((2,2,2)) # 2x2x2의 3차원 배열 array3d 생성\n",
        "print('array3d:\\n',array3d.tolist())\n",
        "\n",
        "# 3차원 ndarray를 2차원 ndarray로 변환\n",
        "array5 = array3d.reshape(-1,1)\n",
        "print('array5:\\n',array5.tolist()) \n",
        "print('array5 shape:',array5.shape)\n",
        "\n",
        "# 1차원 ndarray를 2차원 ndarray로 변환\n",
        "array6 = array1.reshape(-1,1)\n",
        "print('array6:\\n',array6.tolist())\n",
        "print('array6 shape:',array6.shape)\n",
        "\n",
        "# ndarray.tolist() 메서드는 데이터 자료형을 리스트 자료형으로 변환하는 것이다\n"
      ]
    },
    {
      "cell_type": "markdown",
      "metadata": {
        "id": "jYHr1seOtX79"
      },
      "source": [
        "### indexing"
      ]
    },
    {
      "cell_type": "markdown",
      "metadata": {
        "id": "YBZsYRw6tX79"
      },
      "source": [
        "* 단일값 추출"
      ]
    },
    {
      "cell_type": "code",
      "execution_count": null,
      "metadata": {
        "id": "t4B86-ZAtX79",
        "colab": {
          "base_uri": "https://localhost:8080/"
        },
        "outputId": "1649bf54-74cf-46cd-8b95-b247c3c4ae30"
      },
      "outputs": [
        {
          "output_type": "stream",
          "name": "stdout",
          "text": [
            "array1: [1 2 3 4 5 6 7 8 9]\n",
            "value: 3\n",
            "<class 'numpy.int64'>\n"
          ]
        }
      ],
      "source": [
        "# 1에서 부터 9 까지의 1차원 ndarray 생성 \n",
        "array1 = np.arange(start=1, stop=10)\n",
        "print('array1:',array1)\n",
        "\n",
        "# index는 0 부터 시작하므로 array1[2]는 3번째 index 위치의 데이터 값을 의미\n",
        "value = array1[2] \n",
        "print('value:',value)\n",
        "print(type(value)) # ndarray 타입이 아닌 ndarray 내의 데이터 값을 의미\n",
        "\n",
        "# 1개의 데이터값을 선택하려면 ndarray 객체에 해당하는 위치의 인덱스 값을 [] 안에 입력하면 된다\n"
      ]
    },
    {
      "cell_type": "code",
      "execution_count": null,
      "metadata": {
        "id": "2tXsMFJmtX7-",
        "colab": {
          "base_uri": "https://localhost:8080/"
        },
        "outputId": "f5b2bf74-ccf6-4ed0-ed28-1c8f723a7d35"
      },
      "outputs": [
        {
          "output_type": "stream",
          "name": "stdout",
          "text": [
            "맨 뒤의 값: 9 , 맨 뒤에서 두번째 값: 8\n"
          ]
        }
      ],
      "source": [
        "print('맨 뒤의 값:',array1[-1], ', 맨 뒤에서 두번째 값:',array1[-2])"
      ]
    },
    {
      "cell_type": "code",
      "execution_count": null,
      "metadata": {
        "id": "SSxcARzGtX7-",
        "colab": {
          "base_uri": "https://localhost:8080/"
        },
        "outputId": "8d588bfd-0a08-4e61-b0f8-799256494b22"
      },
      "outputs": [
        {
          "output_type": "stream",
          "name": "stdout",
          "text": [
            "array1: [9 2 3 4 5 6 7 8 0]\n"
          ]
        }
      ],
      "source": [
        "array1[0] = 9\n",
        "array1[8] = 0\n",
        "print('array1:',array1)\n",
        "\n",
        "# 단일 인덱스를 이용해 ndarray내의 데이터값 수정 가능하다\n"
      ]
    },
    {
      "cell_type": "code",
      "execution_count": null,
      "metadata": {
        "id": "O0ggshvTtX7_",
        "colab": {
          "base_uri": "https://localhost:8080/"
        },
        "outputId": "41fc96bc-d70f-4b35-f7ff-de707ef18bbb"
      },
      "outputs": [
        {
          "output_type": "stream",
          "name": "stdout",
          "text": [
            "[[1 2 3]\n",
            " [4 5 6]\n",
            " [7 8 9]]\n",
            "(row=0,col=0) index 가리키는 값: 1\n",
            "(row=0,col=1) index 가리키는 값: 2\n",
            "(row=1,col=0) index 가리키는 값: 4\n",
            "(row=2,col=2) index 가리키는 값: 9\n"
          ]
        }
      ],
      "source": [
        "array1d = np.arange(start=1, stop=10) # 10개 데이터를 가지고 있는 1차원 배열 생성\n",
        "array2d = array1d.reshape(3,3) # 3x3의 2차원 배열로 차원 및 크기 변환\n",
        "print(array2d)\n",
        "\n",
        "print('(row=0,col=0) index 가리키는 값:', array2d[0,0] ) # (0, 0) 위치에 있는 데이터 값\n",
        "print('(row=0,col=1) index 가리키는 값:', array2d[0,1] ) # (0, 1) 위치에 있는 데이터 값\n",
        "print('(row=1,col=0) index 가리키는 값:', array2d[1,0] ) # (1, 0) 위치에 있는 데이터 값\n",
        "print('(row=2,col=2) index 가리키는 값:', array2d[2,2] ) # (2, 2) 위치에 있는 데이터 값\n",
        "\n",
        "# 다차원 ndarray의 경우 축(axis)에 따른 연산을 지원한다\n",
        "# 2차원 ndarray에서 axis = 0은 로우 방향, axis = 1은 칼럼 방향 축이다"
      ]
    },
    {
      "cell_type": "markdown",
      "metadata": {
        "id": "VQM2jEu0tX7_"
      },
      "source": [
        "* Slicing"
      ]
    },
    {
      "cell_type": "code",
      "execution_count": null,
      "metadata": {
        "id": "OwLZReaItX7_",
        "colab": {
          "base_uri": "https://localhost:8080/"
        },
        "outputId": "16442a2d-2d35-46a4-b3e2-b597065b92c8"
      },
      "outputs": [
        {
          "output_type": "stream",
          "name": "stdout",
          "text": [
            "[1 2 3]\n",
            "<class 'numpy.ndarray'>\n"
          ]
        }
      ],
      "source": [
        "array1 = np.arange(start=1, stop=10)\n",
        "array3 = array1[0:3] # 0부터 2번째 인덱스에 위치한 데이터 값을 추출\n",
        "print(array3)\n",
        "print(type(array3))\n",
        "\n",
        "# ndarray 타입: 슬라이싱, 펜시 인덱싱, 불린 인덱싱 (단일 데이터값 추출은 제외)\n"
      ]
    },
    {
      "cell_type": "code",
      "execution_count": null,
      "metadata": {
        "id": "LGxmaCY_tX8A",
        "colab": {
          "base_uri": "https://localhost:8080/"
        },
        "outputId": "7d214175-7745-4e9a-8cb5-6f4b44c90ef4"
      },
      "outputs": [
        {
          "output_type": "stream",
          "name": "stdout",
          "text": [
            "[1 2 3]\n",
            "[4 5 6 7 8 9]\n",
            "[1 2 3 4 5 6 7 8 9]\n"
          ]
        }
      ],
      "source": [
        "array1 = np.arange(start=1, stop=10)\n",
        "array4 = array1[:3] # 0부터 2번째까지의 인덱스 슬라이싱\n",
        "print(array4)\n",
        "\n",
        "array5 = array1[3:] # 3번째부터 끝까지 인덱스 슬라이싱\n",
        "print(array5)\n",
        "\n",
        "array6 = array1[:] # 전체 인덱스 슬라이싱\n",
        "print(array6)"
      ]
    },
    {
      "cell_type": "code",
      "execution_count": null,
      "metadata": {
        "id": "83gj03j-tX8A",
        "colab": {
          "base_uri": "https://localhost:8080/"
        },
        "outputId": "1cd8df47-ee79-4967-9127-a9eb19318ce7"
      },
      "outputs": [
        {
          "output_type": "stream",
          "name": "stdout",
          "text": [
            "array2d:\n",
            " [[1 2 3]\n",
            " [4 5 6]\n",
            " [7 8 9]]\n",
            "array2d[0:2, 0:2] \n",
            " [[1 2]\n",
            " [4 5]]\n",
            "array2d[1:3, 0:3] \n",
            " [[4 5 6]\n",
            " [7 8 9]]\n",
            "array2d[1:3, :] \n",
            " [[4 5 6]\n",
            " [7 8 9]]\n",
            "array2d[:, :] \n",
            " [[1 2 3]\n",
            " [4 5 6]\n",
            " [7 8 9]]\n",
            "array2d[:2, 1:] \n",
            " [[2 3]\n",
            " [5 6]]\n",
            "array2d[:2, 0] \n",
            " [1 4]\n"
          ]
        }
      ],
      "source": [
        "array1d = np.arange(start=1, stop=10)\n",
        "array2d = array1d.reshape(3,3) # 3x3의 2차원 배열로 차원 및 크기 변환\n",
        "print('array2d:\\n',array2d)\n",
        "\n",
        "print('array2d[0:2, 0:2] \\n', array2d[0:2, 0:2])\n",
        "print('array2d[1:3, 0:3] \\n', array2d[1:3, 0:3])\n",
        "print('array2d[1:3, :] \\n', array2d[1:3, :])\n",
        "print('array2d[:, :] \\n', array2d[:, :])\n",
        "print('array2d[:2, 1:] \\n', array2d[:2, 1:])\n",
        "print('array2d[:2, 0] \\n', array2d[:2, 0])"
      ]
    },
    {
      "cell_type": "code",
      "execution_count": null,
      "metadata": {
        "id": "bqEX0I2AtX8A",
        "colab": {
          "base_uri": "https://localhost:8080/"
        },
        "outputId": "c7c654b1-99ea-4b32-a9df-dec011839f32"
      },
      "outputs": [
        {
          "output_type": "stream",
          "name": "stdout",
          "text": [
            "[1 2 3]\n",
            "[4 5 6]\n",
            "array2d[0] shape: (3,) array2d[1] shape: (3,)\n"
          ]
        }
      ],
      "source": [
        "print(array2d[0]) # 1번째 행\n",
        "print(array2d[1]) # 2번째 행\n",
        "print('array2d[0] shape:', array2d[0].shape, 'array2d[1] shape:', array2d[1].shape ) "
      ]
    },
    {
      "cell_type": "markdown",
      "metadata": {
        "id": "GCmi2l3BtX8B"
      },
      "source": [
        "* fancy indexing"
      ]
    },
    {
      "cell_type": "code",
      "execution_count": null,
      "metadata": {
        "id": "cbnMTSAdtX8B",
        "colab": {
          "base_uri": "https://localhost:8080/"
        },
        "outputId": "e53a3b87-62ed-4786-fcc7-b66695b59948"
      },
      "outputs": [
        {
          "output_type": "stream",
          "name": "stdout",
          "text": [
            "array2d[[0,1], 2] =>  [3, 6]\n",
            "array2d[[0,1], 0:2] =>  [[1, 2], [4, 5]]\n",
            "array2d[[0,1]] =>  [[1, 2, 3], [4, 5, 6]]\n"
          ]
        }
      ],
      "source": [
        "array1d = np.arange(start=1, stop=10)\n",
        "array2d = array1d.reshape(3,3)\n",
        "\n",
        "array3 = array2d[[0,1], 2]\n",
        "print('array2d[[0,1], 2] => ',array3.tolist())\n",
        "\n",
        "array4 = array2d[[0,1], 0:2] # ((0, 0), (0, 1)), ((1, 0), (1, 1)) 인덱싱\n",
        "print('array2d[[0,1], 0:2] => ',array4.tolist())\n",
        "\n",
        "array5 = array2d[[0,1]]\n",
        "print('array2d[[0,1]] => ',array5.tolist())\n",
        "\n",
        "# 펜시 인덱싱: 리스트나 ndarray로 인덱스 집합을 지정하면 해당 위치의 인덱스에 해당하는 ndarray를 반환하는 인덱싱 방식\n"
      ]
    },
    {
      "cell_type": "markdown",
      "metadata": {
        "id": "DLd23633tX8C"
      },
      "source": [
        "* Boolean indexing"
      ]
    },
    {
      "cell_type": "code",
      "execution_count": null,
      "metadata": {
        "id": "gLbUk_ZQtX8C",
        "colab": {
          "base_uri": "https://localhost:8080/"
        },
        "outputId": "f7f0205f-c2ba-4429-f1b9-533b8943e756"
      },
      "outputs": [
        {
          "output_type": "stream",
          "name": "stdout",
          "text": [
            "array1d > 5 불린 인덱싱 결과 값 : [6 7 8 9]\n"
          ]
        }
      ],
      "source": [
        "array1d = np.arange(start=1, stop=10)\n",
        "# [ ] 안에 array1d > 5 Boolean indexing을 적용 \n",
        "array3 = array1d[array1d > 5]\n",
        "print('array1d > 5 불린 인덱싱 결과 값 :', array3)\n",
        "\n",
        "# 불린 인덱싱: 조건 필터링과 검색을 동시에 할 수 있는 인덱싱 방식"
      ]
    },
    {
      "cell_type": "code",
      "execution_count": null,
      "metadata": {
        "id": "MG4UFsYptX8D",
        "colab": {
          "base_uri": "https://localhost:8080/"
        },
        "outputId": "ad1281bb-0d5c-4065-a3d5-d602fb2ae084"
      },
      "outputs": [
        {
          "output_type": "execute_result",
          "data": {
            "text/plain": [
              "array([False, False, False, False, False,  True,  True,  True,  True])"
            ]
          },
          "metadata": {},
          "execution_count": 41
        }
      ],
      "source": [
        "array1d > 5"
      ]
    },
    {
      "cell_type": "code",
      "execution_count": null,
      "metadata": {
        "id": "9T3gLAoWtX8D",
        "colab": {
          "base_uri": "https://localhost:8080/"
        },
        "outputId": "82987ec4-030d-4558-f302-5dfd9bcb30d6"
      },
      "outputs": [
        {
          "output_type": "stream",
          "name": "stdout",
          "text": [
            "불린 인덱스로 필터링 결과 : [6 7 8 9]\n"
          ]
        }
      ],
      "source": [
        "boolean_indexes = np.array([False, False, False, False, False,  True,  True,  True,  True])\n",
        "array3 = array1d[boolean_indexes]\n",
        "print('불린 인덱스로 필터링 결과 :', array3)"
      ]
    },
    {
      "cell_type": "code",
      "execution_count": null,
      "metadata": {
        "id": "VLjfAJ_5tX8E",
        "colab": {
          "base_uri": "https://localhost:8080/"
        },
        "outputId": "d41305c6-7c66-4abe-a781-854b68729a5d"
      },
      "outputs": [
        {
          "output_type": "stream",
          "name": "stdout",
          "text": [
            "일반 인덱스로 필터링 결과 : [6 7 8 9]\n"
          ]
        }
      ],
      "source": [
        "indexes = np.array([5,6,7,8])\n",
        "array4 = array1d[ indexes ]\n",
        "print('일반 인덱스로 필터링 결과 :',array4)"
      ]
    },
    {
      "cell_type": "markdown",
      "metadata": {
        "id": "oCQehMLwtX8E"
      },
      "source": [
        "### 행렬의 정렬 – sort( )와 argsort( )\n",
        "\n",
        "* 행렬 정렬"
      ]
    },
    {
      "cell_type": "code",
      "execution_count": null,
      "metadata": {
        "id": "qFyJ5-CNtX8E",
        "colab": {
          "base_uri": "https://localhost:8080/"
        },
        "outputId": "1f32b99a-15f1-4fcb-dee3-742824f6b130"
      },
      "outputs": [
        {
          "output_type": "stream",
          "name": "stdout",
          "text": [
            "원본 행렬: [3 1 9 5]\n",
            "np.sort( ) 호출 후 반환된 정렬 행렬: [1 3 5 9]\n",
            "np.sort( ) 호출 후 원본 행렬: [3 1 9 5]\n",
            "org_array.sort( ) 호출 후 반환된 행렬: None\n",
            "org_array.sort( ) 호출 후 원본 행렬: [1 3 5 9]\n"
          ]
        }
      ],
      "source": [
        "org_array = np.array([ 3, 1, 9, 5]) \n",
        "print('원본 행렬:', org_array)\n",
        "\n",
        "# np.sort( )로 정렬 \n",
        "sort_array1 = np.sort(org_array)         \n",
        "print ('np.sort( ) 호출 후 반환된 정렬 행렬:', sort_array1) \n",
        "print('np.sort( ) 호출 후 원본 행렬:', org_array)\n",
        "\n",
        "# ndarray.sort( )로 정렬\n",
        "sort_array2 = org_array.sort()\n",
        "print('org_array.sort( ) 호출 후 반환된 행렬:', sort_array2)\n",
        "print('org_array.sort( ) 호출 후 원본 행렬:', org_array)\n",
        "\n",
        "# np.sort() 메서드는 원 행렬은 그대로 유지한 채 원 행렬의 정렬된 행렬을 반환\n",
        "# ndarray.sort() 메서드는 원 행렬 자체를 정렬한 형태로 변환하여 반환 값은 None\n"
      ]
    },
    {
      "cell_type": "code",
      "execution_count": null,
      "metadata": {
        "id": "fzuh5jRitX8F",
        "colab": {
          "base_uri": "https://localhost:8080/"
        },
        "outputId": "87f7fc47-7caa-40bf-b85d-45fd64fc221b"
      },
      "outputs": [
        {
          "output_type": "stream",
          "name": "stdout",
          "text": [
            "내림차순으로 정렬: [9 5 3 1]\n"
          ]
        }
      ],
      "source": [
        "sort_array1_desc = np.sort(org_array)[::-1] # 내림차순 정렬\n",
        "print ('내림차순으로 정렬:', sort_array1_desc) \n"
      ]
    },
    {
      "cell_type": "code",
      "execution_count": null,
      "metadata": {
        "id": "-zJNdYTZtX8F",
        "colab": {
          "base_uri": "https://localhost:8080/"
        },
        "outputId": "de43e65b-fb66-46b1-ba3e-399696adb62c"
      },
      "outputs": [
        {
          "output_type": "stream",
          "name": "stdout",
          "text": [
            "로우 방향으로 정렬:\n",
            " [[ 7  1]\n",
            " [ 8 12]]\n",
            "컬럼 방향으로 정렬:\n",
            " [[ 8 12]\n",
            " [ 1  7]]\n"
          ]
        }
      ],
      "source": [
        "array2d = np.array([[8, 12], \n",
        "                   [7, 1]])\n",
        "\n",
        "sort_array2d_axis0 = np.sort(array2d, axis=0) # 로우 방향으로 정렬\n",
        "print('로우 방향으로 정렬:\\n', sort_array2d_axis0)\n",
        "\n",
        "sort_array2d_axis1 = np.sort(array2d, axis=1) # 칼럼 방향으로 정렬\n",
        "print('칼럼 방향으로 정렬:\\n', sort_array2d_axis1)\n"
      ]
    },
    {
      "cell_type": "markdown",
      "metadata": {
        "id": "FkXZo25etX8F"
      },
      "source": [
        "* 정렬 행렬의 인덱스 반환"
      ]
    },
    {
      "cell_type": "code",
      "execution_count": null,
      "metadata": {
        "id": "Ansc8Q6xtX8F",
        "colab": {
          "base_uri": "https://localhost:8080/"
        },
        "outputId": "bf168b88-399a-4623-e159-5285dd964371"
      },
      "outputs": [
        {
          "output_type": "stream",
          "name": "stdout",
          "text": [
            "<class 'numpy.ndarray'>\n",
            "행렬 정렬 시 원본 행렬의 인덱스: [1 0 3 2]\n"
          ]
        }
      ],
      "source": [
        "org_array = np.array([3, 1, 9, 5]) \n",
        "sort_indices = np.argsort(org_array)\n",
        "print(type(sort_indices))\n",
        "print('행렬 정렬 시 원본 행렬의 인덱스:', sort_indices)\n",
        "\n",
        "# np.sort() 메서드는 원본 행렬의 정렬 시 행렬 인덱스 값을 구한다\n"
      ]
    },
    {
      "cell_type": "code",
      "execution_count": null,
      "metadata": {
        "id": "qbqULxmTtX8F",
        "colab": {
          "base_uri": "https://localhost:8080/"
        },
        "outputId": "8e14264d-9969-402e-d2e4-9d7256fcc0d9"
      },
      "outputs": [
        {
          "output_type": "stream",
          "name": "stdout",
          "text": [
            "행렬 내림차순 정렬 시 원본 행렬의 인덱스: [2 3 0 1]\n"
          ]
        }
      ],
      "source": [
        "org_array = np.array([ 3, 1, 9, 5]) \n",
        "sort_indices_desc = np.argsort(org_array)[::-1]\n",
        "print('행렬 내림차순 정렬 시 원본 행렬의 인덱스:', sort_indices_desc)"
      ]
    },
    {
      "cell_type": "code",
      "execution_count": null,
      "metadata": {
        "id": "oXcDiQWQtX8G",
        "colab": {
          "base_uri": "https://localhost:8080/"
        },
        "outputId": "4c2ebc14-f286-4ddc-9ea0-a63bd35310e1"
      },
      "outputs": [
        {
          "output_type": "stream",
          "name": "stdout",
          "text": [
            "성적 오름차순 정렬 시 score_array의 인덱스: [0 2 4 1 3]\n",
            "성적 오름차순으로 name_array의 이름 출력: ['John' 'Sarah' 'Samuel' 'Mike' 'Kate']\n"
          ]
        }
      ],
      "source": [
        "import numpy as np\n",
        "\n",
        "name_array = np.array(['John', 'Mike', 'Sarah', 'Kate', 'Samuel']) \n",
        "score_array= np.array([78, 95, 84, 98, 88]) \n",
        "\n",
        "sort_indices_asc = np.argsort(score_array)\n",
        "print('성적 오름차순 정렬 시 score_array의 인덱스:', sort_indices_asc) \n",
        "print('성적 오름차순으로 name_array의 이름 출력:', name_array[sort_indices_asc])\n"
      ]
    },
    {
      "cell_type": "markdown",
      "metadata": {
        "id": "iyF9gvVNtX8G"
      },
      "source": [
        "### 선형대수 연산 – 행렬 내적과 전치 행렬 구하기\n",
        "\n",
        "* 행렬 내적"
      ]
    },
    {
      "cell_type": "code",
      "execution_count": null,
      "metadata": {
        "id": "WryDblW7tX8G",
        "colab": {
          "base_uri": "https://localhost:8080/"
        },
        "outputId": "3a7ae090-1ac2-4475-ef6d-5a9dbd09cc7e"
      },
      "outputs": [
        {
          "output_type": "stream",
          "name": "stdout",
          "text": [
            "행렬 내적 결과:\n",
            " [[ 58  64]\n",
            " [139 154]]\n"
          ]
        }
      ],
      "source": [
        "A = np.array([[1, 2, 3],\n",
        "              [4, 5, 6]]) # 2x3의 2차원 배열 A\n",
        "B = np.array([[7, 8],\n",
        "              [9, 10],\n",
        "              [11, 12]]) # 3x2의 2차원 배열 B\n",
        "\n",
        "dot_product = np.dot(A, B) # 2x3, 3x2 -> 2x2 2차원 배열 생성\n",
        "print('행렬 내적 결과:\\n', dot_product)\n",
        "\n",
        "# np.dot() 메서드는 A와 B의 행렬 내적 연산을 구해준다 "
      ]
    },
    {
      "cell_type": "markdown",
      "metadata": {
        "id": "bDuEfYkmtX8G"
      },
      "source": [
        "* 전치 행렬"
      ]
    },
    {
      "cell_type": "code",
      "execution_count": null,
      "metadata": {
        "id": "4fFOQGFctX8G",
        "colab": {
          "base_uri": "https://localhost:8080/"
        },
        "outputId": "5792d46f-ad1e-4f2f-f7d4-a461454fcfa9"
      },
      "outputs": [
        {
          "output_type": "stream",
          "name": "stdout",
          "text": [
            "A의 전치 행렬:\n",
            " [[1 3]\n",
            " [2 4]]\n"
          ]
        }
      ],
      "source": [
        "A = np.array([[1, 2],\n",
        "              [3, 4]]) # 2x2의 2차원 배열 A 생성\n",
        "transpose_mat = np.transpose(A) # A의 전치 행렬\n",
        "print('A의 전치 행렬:\\n', transpose_mat) "
      ]
    },
    {
      "cell_type": "code",
      "execution_count": null,
      "metadata": {
        "id": "Dp9TP8REtX8H"
      },
      "outputs": [],
      "source": []
    }
  ],
  "metadata": {
    "kernelspec": {
      "display_name": "Python 3 (ipykernel)",
      "language": "python",
      "name": "python3"
    },
    "language_info": {
      "codemirror_mode": {
        "name": "ipython",
        "version": 3
      },
      "file_extension": ".py",
      "mimetype": "text/x-python",
      "name": "python",
      "nbconvert_exporter": "python",
      "pygments_lexer": "ipython3",
      "version": "3.9.7"
    },
    "colab": {
      "provenance": [],
      "collapsed_sections": [
        "cf0wrAVgtX7w",
        "apPA0lcltX76",
        "Vfw4g7XKtX77",
        "jYHr1seOtX79",
        "oCQehMLwtX8E",
        "iyF9gvVNtX8G"
      ]
    }
  },
  "nbformat": 4,
  "nbformat_minor": 0
}