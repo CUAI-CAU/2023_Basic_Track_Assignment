{
 "cells": [
  {
   "cell_type": "markdown",
   "metadata": {
    "id": "59f9o7l03scl"
   },
   "source": [
    "## 넘파이"
   ]
  },
  {
   "cell_type": "markdown",
   "metadata": {
    "id": "JTYMgHVk4KUI"
   },
   "source": [
    "### 넘파이 ndarray 개요"
   ]
  },
  {
   "cell_type": "code",
   "execution_count": 1,
   "metadata": {
    "id": "nM_P0IERvfVB"
   },
   "outputs": [],
   "source": [
    "import numpy as np"
   ]
  },
  {
   "cell_type": "code",
   "execution_count": 2,
   "metadata": {
    "colab": {
     "base_uri": "https://localhost:8080/"
    },
    "id": "rS0IOEsBv7_Z",
    "outputId": "cae6acae-92da-45f7-cad5-c628d232107b"
   },
   "outputs": [
    {
     "name": "stdout",
     "output_type": "stream",
     "text": [
      "array1 type: <class 'numpy.ndarray'>\n",
      "array1 array 형태: (3,)\n",
      "array2 type: <class 'numpy.ndarray'>\n",
      "array2 array 형태: (2, 3)\n",
      "array3 type: <class 'numpy.ndarray'>\n",
      "array3 array 형태: (1, 3)\n"
     ]
    }
   ],
   "source": [
    "array1 = np.array([1,2,3])\n",
    "print('array1 type:', type(array1))\n",
    "print('array1 array 형태:', array1.shape)\n",
    "\n",
    "array2 = np.array([[1,2,3],[2,3,4]])\n",
    "print('array2 type:', type(array2))\n",
    "print('array2 array 형태:', array2.shape)\n",
    "\n",
    "array3 = np.array([[1,2,3]])\n",
    "print('array3 type:', type(array3))\n",
    "print('array3 array 형태:', array3.shape)"
   ]
  },
  {
   "cell_type": "code",
   "execution_count": 3,
   "metadata": {
    "colab": {
     "base_uri": "https://localhost:8080/"
    },
    "id": "SWjNn4-Dwwyx",
    "outputId": "1a423e36-c6cb-4c98-9438-637f80e35d44"
   },
   "outputs": [
    {
     "name": "stdout",
     "output_type": "stream",
     "text": [
      "array1: 1차원, array2: 2차원, array3:  2차원\n"
     ]
    }
   ],
   "source": [
    "print('array1: {:0}차원, array2: {:1}차원, array3: {:2}차원'.format(array1.ndim, array2.ndim, array3.ndim))"
   ]
  },
  {
   "cell_type": "markdown",
   "metadata": {
    "id": "1ZiLi5FF7hLC"
   },
   "source": [
    "![image.png](data:image/png;base64,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)"
   ]
  },
  {
   "cell_type": "markdown",
   "metadata": {
    "id": "vWXZCjkx4AUD"
   },
   "source": [
    "### ndarray의 데이터 타입"
   ]
  },
  {
   "cell_type": "code",
   "execution_count": 4,
   "metadata": {
    "colab": {
     "base_uri": "https://localhost:8080/"
    },
    "id": "Ei6Ao6IZxZgI",
    "outputId": "009576cf-e6bc-4d4a-9f1a-517be65afb8f"
   },
   "outputs": [
    {
     "name": "stdout",
     "output_type": "stream",
     "text": [
      "<class 'list'>\n",
      "<class 'numpy.ndarray'>\n",
      "[1 2 3] int32\n"
     ]
    }
   ],
   "source": [
    "list1 = [1,2,3]\n",
    "print(type(list1))\n",
    "array1 = np.array(list1)\n",
    "print(type(array1))\n",
    "print(array1, array1.dtype)"
   ]
  },
  {
   "cell_type": "code",
   "execution_count": 5,
   "metadata": {
    "colab": {
     "base_uri": "https://localhost:8080/"
    },
    "id": "CFTL5JBryS9T",
    "outputId": "78077424-f319-43c5-f22c-235b44e8e55c"
   },
   "outputs": [
    {
     "name": "stdout",
     "output_type": "stream",
     "text": [
      "['1' '2' 'test'] <U11\n",
      "[1. 2. 3.] float64\n"
     ]
    }
   ],
   "source": [
    "list2 = [1,2,'test']\n",
    "array2 = np.array(list2)\n",
    "print(array2, array2.dtype)\n",
    "\n",
    "list3 = [1,2, 3.0]\n",
    "array3 = np.array(list3)\n",
    "print(array3, array3.dtype)"
   ]
  },
  {
   "cell_type": "code",
   "execution_count": 6,
   "metadata": {
    "colab": {
     "base_uri": "https://localhost:8080/"
    },
    "id": "KiKSMKfHym4H",
    "outputId": "0909eae8-877c-42eb-e3fd-91c5ddf0fe71"
   },
   "outputs": [
    {
     "name": "stdout",
     "output_type": "stream",
     "text": [
      "[1. 2. 3.] float64\n",
      "[1 2 3] int32\n",
      "[1 2 3] int32\n"
     ]
    }
   ],
   "source": [
    "array_int = np.array([1,2,3])\n",
    "array_float = array_int.astype('float64')\n",
    "print(array_float, array_float.dtype)\n",
    "\n",
    "array_int1 = array_float.astype('int32')\n",
    "print(array_int1, array_int1.dtype)\n",
    "\n",
    "array_float1 = np.array([1.1, 2.1, 3.1])\n",
    "array_int2 = array_float1.astype('int32')\n",
    "print(array_int2, array_int2.dtype)"
   ]
  },
  {
   "cell_type": "markdown",
   "metadata": {
    "id": "xOzTMl2G4WkA"
   },
   "source": [
    "### ndarray를 편리하게 생성하기 - arange, zeros, ones"
   ]
  },
  {
   "cell_type": "code",
   "execution_count": 7,
   "metadata": {
    "colab": {
     "base_uri": "https://localhost:8080/"
    },
    "id": "N5nmoc-V0Osq",
    "outputId": "aa6547d2-b939-4810-c8e4-861ab55cdc88"
   },
   "outputs": [
    {
     "name": "stdout",
     "output_type": "stream",
     "text": [
      "[0 1 2 3 4 5 6 7 8 9]\n",
      "int32 (10,)\n"
     ]
    }
   ],
   "source": [
    "sequence_array = np.arange(10)\n",
    "print(sequence_array)\n",
    "print(sequence_array.dtype, sequence_array.shape)"
   ]
  },
  {
   "cell_type": "code",
   "execution_count": 8,
   "metadata": {
    "colab": {
     "base_uri": "https://localhost:8080/"
    },
    "id": "UZA1BCj10csg",
    "outputId": "87b997f4-2365-4be6-de3c-f7c44a3e319f"
   },
   "outputs": [
    {
     "name": "stdout",
     "output_type": "stream",
     "text": [
      "[[0 0]\n",
      " [0 0]\n",
      " [0 0]]\n",
      "int32 (3, 2)\n",
      "[[1. 1.]\n",
      " [1. 1.]\n",
      " [1. 1.]]\n",
      "float64 (3, 2)\n"
     ]
    }
   ],
   "source": [
    "zero_array = np.zeros((3,2), dtype = 'int32')\n",
    "print(zero_array)\n",
    "print(zero_array.dtype, zero_array.shape)\n",
    "\n",
    "one_array = np.ones((3,2))\n",
    "print(one_array)\n",
    "print(one_array.dtype, one_array.shape)"
   ]
  },
  {
   "cell_type": "markdown",
   "metadata": {
    "id": "m5tx1t4_4eQp"
   },
   "source": [
    "### ndarray의 차원과 크기를 변경하는 reshape()"
   ]
  },
  {
   "cell_type": "code",
   "execution_count": 9,
   "metadata": {
    "colab": {
     "base_uri": "https://localhost:8080/"
    },
    "id": "dMw5eWGo04A6",
    "outputId": "1bc334cf-50fe-40c7-d801-38394e5a801c"
   },
   "outputs": [
    {
     "name": "stdout",
     "output_type": "stream",
     "text": [
      "array1:\n",
      " [0 1 2 3 4 5 6 7 8 9]\n",
      "array2:\n",
      " [[0 1 2 3 4]\n",
      " [5 6 7 8 9]]\n",
      "array3:\n",
      " [[0 1]\n",
      " [2 3]\n",
      " [4 5]\n",
      " [6 7]\n",
      " [8 9]]\n"
     ]
    }
   ],
   "source": [
    "array1 = np.arange(10)\n",
    "print('array1:\\n', array1)\n",
    "\n",
    "array2 = array1.reshape(2,5)\n",
    "print('array2:\\n', array2)\n",
    "\n",
    "array3 = array1.reshape(5,2)\n",
    "print('array3:\\n', array3)"
   ]
  },
  {
   "cell_type": "markdown",
   "metadata": {
    "id": "b6NGzPdw1j6E"
   },
   "source": [
    "(10,) 데이터를 (4,3) Shape 데이터로 변경할 수는 없다."
   ]
  },
  {
   "cell_type": "code",
   "execution_count": 10,
   "metadata": {
    "colab": {
     "base_uri": "https://localhost:8080/",
     "height": 172
    },
    "id": "VRK1dJqT1d_q",
    "outputId": "f243ceaa-b12f-4c0a-9627-9336a0943cbe"
   },
   "outputs": [
    {
     "ename": "ValueError",
     "evalue": "cannot reshape array of size 10 into shape (4,3)",
     "output_type": "error",
     "traceback": [
      "\u001b[1;31m---------------------------------------------------------------------------\u001b[0m",
      "\u001b[1;31mValueError\u001b[0m                                Traceback (most recent call last)",
      "\u001b[1;32m~\\AppData\\Local\\Temp\\ipykernel_10908\\1938297127.py\u001b[0m in \u001b[0;36m<module>\u001b[1;34m\u001b[0m\n\u001b[1;32m----> 1\u001b[1;33m \u001b[0marray1\u001b[0m\u001b[1;33m.\u001b[0m\u001b[0mreshape\u001b[0m\u001b[1;33m(\u001b[0m\u001b[1;36m4\u001b[0m\u001b[1;33m,\u001b[0m\u001b[1;36m3\u001b[0m\u001b[1;33m)\u001b[0m\u001b[1;33m\u001b[0m\u001b[1;33m\u001b[0m\u001b[0m\n\u001b[0m",
      "\u001b[1;31mValueError\u001b[0m: cannot reshape array of size 10 into shape (4,3)"
     ]
    }
   ],
   "source": [
    "array1.reshape(4,3)"
   ]
  },
  {
   "cell_type": "markdown",
   "metadata": {
    "id": "8adl43SF1y4i"
   },
   "source": [
    "reshape()를 실전에서 효율적으로 사용하는 경우 : 인자로 -1을 적용"
   ]
  },
  {
   "cell_type": "code",
   "execution_count": 11,
   "metadata": {
    "colab": {
     "base_uri": "https://localhost:8080/"
    },
    "id": "y8c10jty1h8d",
    "outputId": "01ef0570-b179-438c-d2be-9e7a01a00f24"
   },
   "outputs": [
    {
     "name": "stdout",
     "output_type": "stream",
     "text": [
      "[0 1 2 3 4 5 6 7 8 9]\n",
      "array2 shape: (2, 5)\n",
      "array3 shape: (5, 2)\n"
     ]
    }
   ],
   "source": [
    "array1 = np.arange(10)\n",
    "print(array1)\n",
    "array2 = array1.reshape(-1,5)\n",
    "print('array2 shape:', array2.shape)\n",
    "array3 = array1.reshape(5,-1)\n",
    "print('array3 shape:', array3.shape)"
   ]
  },
  {
   "cell_type": "code",
   "execution_count": 12,
   "metadata": {
    "colab": {
     "base_uri": "https://localhost:8080/",
     "height": 190
    },
    "id": "0zxjjTga2RK7",
    "outputId": "11b1bfcd-2434-4a49-b4db-2b7757b0ac70"
   },
   "outputs": [
    {
     "ename": "ValueError",
     "evalue": "cannot reshape array of size 10 into shape (4)",
     "output_type": "error",
     "traceback": [
      "\u001b[1;31m---------------------------------------------------------------------------\u001b[0m",
      "\u001b[1;31mValueError\u001b[0m                                Traceback (most recent call last)",
      "\u001b[1;32m~\\AppData\\Local\\Temp\\ipykernel_10908\\3911823226.py\u001b[0m in \u001b[0;36m<module>\u001b[1;34m\u001b[0m\n\u001b[0;32m      1\u001b[0m \u001b[0marray1\u001b[0m \u001b[1;33m=\u001b[0m \u001b[0mnp\u001b[0m\u001b[1;33m.\u001b[0m\u001b[0marange\u001b[0m\u001b[1;33m(\u001b[0m\u001b[1;36m10\u001b[0m\u001b[1;33m)\u001b[0m\u001b[1;33m\u001b[0m\u001b[1;33m\u001b[0m\u001b[0m\n\u001b[1;32m----> 2\u001b[1;33m \u001b[0marray4\u001b[0m \u001b[1;33m=\u001b[0m \u001b[0marray1\u001b[0m\u001b[1;33m.\u001b[0m\u001b[0mreshape\u001b[0m\u001b[1;33m(\u001b[0m\u001b[1;33m-\u001b[0m\u001b[1;36m1\u001b[0m\u001b[1;33m,\u001b[0m\u001b[1;36m4\u001b[0m\u001b[1;33m)\u001b[0m\u001b[1;33m\u001b[0m\u001b[1;33m\u001b[0m\u001b[0m\n\u001b[0m",
      "\u001b[1;31mValueError\u001b[0m: cannot reshape array of size 10 into shape (4)"
     ]
    }
   ],
   "source": [
    "array1 = np.arange(10)\n",
    "array4 = array1.reshape(-1,4)"
   ]
  },
  {
   "cell_type": "code",
   "execution_count": 13,
   "metadata": {
    "colab": {
     "base_uri": "https://localhost:8080/"
    },
    "id": "ZNvBbLdT2nS2",
    "outputId": "45d77419-55f7-4b85-9988-86d191f9f4a8"
   },
   "outputs": [
    {
     "name": "stdout",
     "output_type": "stream",
     "text": [
      "array3d:\n",
      " [[[0, 1], [2, 3]], [[4, 5], [6, 7]]]\n",
      "array5:\n",
      " [[0], [1], [2], [3], [4], [5], [6], [7]]\n",
      "array5 shape: (8, 1)\n",
      "array6:\n",
      " [[0], [1], [2], [3], [4], [5], [6], [7]]\n",
      "array6 shape: (8, 1)\n"
     ]
    }
   ],
   "source": [
    "array1 = np.arange(8)\n",
    "array3d = array1.reshape((2,2,2))\n",
    "print('array3d:\\n',array3d.tolist())\n",
    "\n",
    "array5 = array3d.reshape(-1,1)\n",
    "print('array5:\\n',array5.tolist())\n",
    "print('array5 shape:',array5.shape)\n",
    "\n",
    "array6 = array1.reshape(-1,1)\n",
    "print('array6:\\n',array6.tolist())\n",
    "print('array6 shape:',array6.shape)"
   ]
  },
  {
   "cell_type": "markdown",
   "metadata": {
    "id": "jjFvgKrd4pHa"
   },
   "source": [
    "### 넘파이의 ndarray의 데이터 세트 선택하기 - 인덱싱(indexing)"
   ]
  },
  {
   "cell_type": "markdown",
   "metadata": {
    "id": "v-rNX3mo44IK"
   },
   "source": [
    "##### 단일값 추출"
   ]
  },
  {
   "cell_type": "code",
   "execution_count": 14,
   "metadata": {
    "colab": {
     "base_uri": "https://localhost:8080/"
    },
    "id": "k8bwBRvT3Ciq",
    "outputId": "21be3a6e-f41c-44e8-d672-752d57cd7443"
   },
   "outputs": [
    {
     "name": "stdout",
     "output_type": "stream",
     "text": [
      "array1: [1 2 3 4 5 6 7 8 9]\n",
      "value: 3\n",
      "<class 'numpy.int32'>\n"
     ]
    }
   ],
   "source": [
    "# 1에서 부터 9 까지의 1차원 ndarray 생성 \n",
    "array1 = np.arange(start=1, stop=10)\n",
    "print('array1:',array1)\n",
    "\n",
    "\n",
    "# index는 0부터 시작하므로 array1[2]는 3번째 index 위치의 데이터값을 의미\n",
    "value = array1[2]\n",
    "print('value:',value)\n",
    "print(type(value))"
   ]
  },
  {
   "cell_type": "code",
   "execution_count": 15,
   "metadata": {
    "colab": {
     "base_uri": "https://localhost:8080/"
    },
    "id": "lrwfXzR25OXp",
    "outputId": "ac167d3f-7e0d-4991-b7b1-b09b53b83a93"
   },
   "outputs": [
    {
     "name": "stdout",
     "output_type": "stream",
     "text": [
      "맨 뒤의 값: 9 , 맨 뒤에서 두번째 값: 8\n"
     ]
    }
   ],
   "source": [
    "print('맨 뒤의 값:',array1[-1], ', 맨 뒤에서 두번째 값:',array1[-2])\n",
    "\n",
    "## 인덱스로 데이터 뒤에서부터 추출"
   ]
  },
  {
   "cell_type": "code",
   "execution_count": 16,
   "metadata": {
    "colab": {
     "base_uri": "https://localhost:8080/"
    },
    "id": "-WVpcR_z5SnR",
    "outputId": "0fdb7d35-f27f-432c-fe7a-26b8f797ea53"
   },
   "outputs": [
    {
     "name": "stdout",
     "output_type": "stream",
     "text": [
      "array1: [9 2 3 4 5 6 7 8 0]\n"
     ]
    }
   ],
   "source": [
    "array1[0] = 9\n",
    "array1[8] = 0\n",
    "print('array1:',array1)\n",
    "\n",
    "## 인덱스로 데이터 수정"
   ]
  },
  {
   "cell_type": "code",
   "execution_count": 17,
   "metadata": {
    "colab": {
     "base_uri": "https://localhost:8080/"
    },
    "id": "oFOrocE86iah",
    "outputId": "acaaeb29-a8ba-4f47-b000-eff202c76ee7"
   },
   "outputs": [
    {
     "name": "stdout",
     "output_type": "stream",
     "text": [
      "[[1 2 3]\n",
      " [4 5 6]\n",
      " [7 8 9]]\n",
      "(row=0,col=0) index 가리키는 값: 1\n",
      "(row=0,col=1) index 가리키는 값: 2\n",
      "(row=1,col=0) index 가리키는 값: 4\n",
      "(row=2,col=2) index 가리키는 값: 9\n"
     ]
    }
   ],
   "source": [
    "array1d = np.arange(start=1, stop=10)\n",
    "array2d = array1d.reshape(3,3)\n",
    "print(array2d)\n",
    "\n",
    "print('(row=0,col=0) index 가리키는 값:', array2d[0,0] )\n",
    "print('(row=0,col=1) index 가리키는 값:', array2d[0,1] )\n",
    "print('(row=1,col=0) index 가리키는 값:', array2d[1,0] )\n",
    "print('(row=2,col=2) index 가리키는 값:', array2d[2,2] )"
   ]
  },
  {
   "cell_type": "markdown",
   "metadata": {
    "id": "hyWlpDEM75qd"
   },
   "source": [
    "![image.png](data:image/png;base64,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)"
   ]
  },
  {
   "cell_type": "markdown",
   "metadata": {
    "id": "VdEQvakr8eY_"
   },
   "source": [
    "#### 슬라이싱"
   ]
  },
  {
   "cell_type": "code",
   "execution_count": 18,
   "metadata": {
    "colab": {
     "base_uri": "https://localhost:8080/"
    },
    "id": "1jZH5d5b6jAQ",
    "outputId": "d3883c6d-7c6c-4762-99e2-4715ab4d76e8"
   },
   "outputs": [
    {
     "name": "stdout",
     "output_type": "stream",
     "text": [
      "[1 2 3]\n",
      "<class 'numpy.ndarray'>\n"
     ]
    }
   ],
   "source": [
    "array1 = np.arange(start=1, stop=10)\n",
    "array3 = array1[0:3]\n",
    "print(array3)\n",
    "print(type(array3))"
   ]
  },
  {
   "cell_type": "code",
   "execution_count": 19,
   "metadata": {
    "colab": {
     "base_uri": "https://localhost:8080/"
    },
    "id": "YOygZlyx8sWH",
    "outputId": "fdd5994c-243d-4ba1-a8bf-d58b96fd823e"
   },
   "outputs": [
    {
     "name": "stdout",
     "output_type": "stream",
     "text": [
      "[1 2 3]\n",
      "[4 5 6 7 8 9]\n",
      "[1 2 3 4 5 6 7 8 9]\n"
     ]
    }
   ],
   "source": [
    "array1 = np.arange(start=1, stop=10)\n",
    "array4 = array1[:3]\n",
    "print(array4)\n",
    "\n",
    "array5 = array1[3:]\n",
    "print(array5)\n",
    "\n",
    "array6 = array1[:]\n",
    "print(array6)"
   ]
  },
  {
   "cell_type": "code",
   "execution_count": 20,
   "metadata": {
    "colab": {
     "base_uri": "https://localhost:8080/"
    },
    "id": "D-kLd6lJ8u96",
    "outputId": "ea424d9b-b697-4f00-eafc-4fbc121e8a1e"
   },
   "outputs": [
    {
     "name": "stdout",
     "output_type": "stream",
     "text": [
      "array2d:\n",
      " [[1 2 3]\n",
      " [4 5 6]\n",
      " [7 8 9]]\n",
      "array2d[0:2, 0:2] \n",
      " [[1 2]\n",
      " [4 5]]\n",
      "array2d[1:3, 0:3] \n",
      " [[4 5 6]\n",
      " [7 8 9]]\n",
      "array2d[1:3, :] \n",
      " [[4 5 6]\n",
      " [7 8 9]]\n",
      "array2d[:, :] \n",
      " [[1 2 3]\n",
      " [4 5 6]\n",
      " [7 8 9]]\n",
      "array2d[:2, 1:] \n",
      " [[2 3]\n",
      " [5 6]]\n",
      "array2d[:2, 0] \n",
      " [1 4]\n"
     ]
    }
   ],
   "source": [
    "array1d = np.arange(start=1, stop=10)\n",
    "array2d = array1d.reshape(3,3)\n",
    "print('array2d:\\n',array2d)\n",
    "\n",
    "print('array2d[0:2, 0:2] \\n', array2d[0:2, 0:2])\n",
    "print('array2d[1:3, 0:3] \\n', array2d[1:3, 0:3])\n",
    "print('array2d[1:3, :] \\n', array2d[1:3, :])\n",
    "print('array2d[:, :] \\n', array2d[:, :])\n",
    "print('array2d[:2, 1:] \\n', array2d[:2, 1:])\n",
    "print('array2d[:2, 0] \\n', array2d[:2, 0])"
   ]
  },
  {
   "cell_type": "markdown",
   "metadata": {
    "id": "_NFCQhzc9Tba"
   },
   "source": [
    "![image.png](data:image/png;base64,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)"
   ]
  },
  {
   "cell_type": "code",
   "execution_count": 21,
   "metadata": {
    "colab": {
     "base_uri": "https://localhost:8080/"
    },
    "id": "xKe-fWVW88aE",
    "outputId": "1a30919c-55af-4e69-dd4e-1831a9bf2a73"
   },
   "outputs": [
    {
     "name": "stdout",
     "output_type": "stream",
     "text": [
      "[1 2 3]\n",
      "[4 5 6]\n",
      "array2d[0] shape: (3,) array2d[1] shape: (3,)\n"
     ]
    }
   ],
   "source": [
    "print(array2d[0])\n",
    "print(array2d[1])\n",
    "print('array2d[0] shape:', array2d[0].shape, 'array2d[1] shape:', array2d[1].shape )"
   ]
  },
  {
   "cell_type": "markdown",
   "metadata": {
    "id": "pfUUadm494yH"
   },
   "source": [
    "#### 팬시 인덱싱"
   ]
  },
  {
   "cell_type": "code",
   "execution_count": 22,
   "metadata": {
    "colab": {
     "base_uri": "https://localhost:8080/"
    },
    "id": "Ph0BIgYx92Me",
    "outputId": "625716f0-bacb-4ef1-a391-55ffd178c3ed"
   },
   "outputs": [
    {
     "name": "stdout",
     "output_type": "stream",
     "text": [
      "array2d[[0,1], 2] =>  [3, 6]\n",
      "array2d[[0,1], 0:2] =>  [[1, 2], [4, 5]]\n",
      "array2d[[0,1]] =>  [[1, 2, 3], [4, 5, 6]]\n"
     ]
    }
   ],
   "source": [
    "array1d = np.arange(start=1, stop=10)\n",
    "array2d = array1d.reshape(3,3)\n",
    "\n",
    "array3 = array2d[[0,1], 2]\n",
    "print('array2d[[0,1], 2] => ',array3.tolist())\n",
    "\n",
    "array4 = array2d[[0,1], 0:2]\n",
    "print('array2d[[0,1], 0:2] => ',array4.tolist())\n",
    "\n",
    "array5 = array2d[[0,1]]\n",
    "print('array2d[[0,1]] => ',array5.tolist())"
   ]
  },
  {
   "cell_type": "markdown",
   "metadata": {
    "id": "4FEtfuBJ-fC_"
   },
   "source": [
    "#### 불린 인덱싱"
   ]
  },
  {
   "cell_type": "code",
   "execution_count": 23,
   "metadata": {
    "colab": {
     "base_uri": "https://localhost:8080/"
    },
    "id": "CIV0CFqD-bnj",
    "outputId": "6cae9665-b56f-4680-ce37-865d2e2f1b40"
   },
   "outputs": [
    {
     "name": "stdout",
     "output_type": "stream",
     "text": [
      "array1d > 5 불린 인덱싱 결과 값 : [6 7 8 9]\n"
     ]
    }
   ],
   "source": [
    "array1d = np.arange(start=1, stop=10)\n",
    "# [ ] 안에 array1d > 5 Boolean indexing을 적용 \n",
    "array3 = array1d[array1d > 5]\n",
    "print('array1d > 5 불린 인덱싱 결과 값 :', array3)"
   ]
  },
  {
   "cell_type": "code",
   "execution_count": 24,
   "metadata": {
    "colab": {
     "base_uri": "https://localhost:8080/"
    },
    "id": "0Cec4MDW-mhB",
    "outputId": "774ba540-687b-4718-dbc6-ec873f74d87e"
   },
   "outputs": [
    {
     "data": {
      "text/plain": [
       "array([False, False, False, False, False,  True,  True,  True,  True])"
      ]
     },
     "execution_count": 24,
     "metadata": {},
     "output_type": "execute_result"
    }
   ],
   "source": [
    "array1d > 5"
   ]
  },
  {
   "cell_type": "code",
   "execution_count": 25,
   "metadata": {
    "colab": {
     "base_uri": "https://localhost:8080/"
    },
    "id": "05XRU5_B_LR1",
    "outputId": "a9078490-0c01-45c1-df95-2d8ce3f2cb2b"
   },
   "outputs": [
    {
     "name": "stdout",
     "output_type": "stream",
     "text": [
      "불린 인덱스로 필터링 결과 : [6 7 8 9]\n"
     ]
    }
   ],
   "source": [
    "boolean_indexes = np.array([False, False, False, False, False,  True,  True,  True,  True])\n",
    "array3 = array1d[boolean_indexes]\n",
    "print('불린 인덱스로 필터링 결과 :', array3)"
   ]
  },
  {
   "cell_type": "code",
   "execution_count": 26,
   "metadata": {
    "colab": {
     "base_uri": "https://localhost:8080/"
    },
    "id": "W79EENzW_RJ0",
    "outputId": "98d05d2b-7a61-459a-b002-4812eb84d469"
   },
   "outputs": [
    {
     "name": "stdout",
     "output_type": "stream",
     "text": [
      "일반 인덱스로 필터링 결과 : [6 7 8 9]\n"
     ]
    }
   ],
   "source": [
    "indexes = np.array([5,6,7,8])\n",
    "array4 = array1d[ indexes ]\n",
    "print('일반 인덱스로 필터링 결과 :',array4)"
   ]
  },
  {
   "cell_type": "markdown",
   "metadata": {
    "id": "tYDZjnMj_Xn_"
   },
   "source": [
    "인덱싱의 동작\n",
    "\n",
    "Step1 : array1d > 5 와 같이 ndarray의  필터링 조건을 [ ]안에 기재\n",
    "\n",
    "Step2 : False 값은 무시하고 True 값에 해당하는 인덱스값만 저장(유의해야 할 사항은 True값 자체인 1을 저장하는 것이 아니라 True값을 가진 인덱스를 저장한다는 점)\n",
    "\n",
    "Step3 : 저장된 인덱스 데이터 세트로 ndarray 조회"
   ]
  },
  {
   "cell_type": "markdown",
   "metadata": {
    "id": "k2oridwMAShs"
   },
   "source": [
    "### 행렬의 정렬 - sort()와 argsort()"
   ]
  },
  {
   "cell_type": "markdown",
   "metadata": {
    "id": "Ctkr-OY5Acmr"
   },
   "source": [
    "#### 행렬 정렬"
   ]
  },
  {
   "cell_type": "code",
   "execution_count": 27,
   "metadata": {
    "colab": {
     "base_uri": "https://localhost:8080/"
    },
    "id": "BlE_QlDW_WBn",
    "outputId": "56fd4679-4f77-477c-8dfe-ad493eacd800"
   },
   "outputs": [
    {
     "name": "stdout",
     "output_type": "stream",
     "text": [
      "원본 행렬: [3 1 9 5]\n",
      "np.sort( ) 호출 후 반환된 정렬 행렬: [1 3 5 9]\n",
      "np.sort( ) 호출 후 원본 행렬: [3 1 9 5]\n",
      "org_array.sort( ) 호출 후 반환된 행렬: None\n",
      "org_array.sort( ) 호출 후 원본 행렬: [1 3 5 9]\n"
     ]
    }
   ],
   "source": [
    "org_array = np.array([ 3, 1, 9, 5]) \n",
    "print('원본 행렬:', org_array)\n",
    "\n",
    "# np.sort( )로 정렬 \n",
    "sort_array1 = np.sort(org_array)         \n",
    "print ('np.sort( ) 호출 후 반환된 정렬 행렬:', sort_array1) \n",
    "print('np.sort( ) 호출 후 원본 행렬:', org_array)\n",
    "\n",
    "# ndarray.sort( )로 정렬\n",
    "sort_array2 = org_array.sort()\n",
    "print('org_array.sort( ) 호출 후 반환된 행렬:', sort_array2)\n",
    "print('org_array.sort( ) 호출 후 원본 행렬:', org_array)"
   ]
  },
  {
   "cell_type": "code",
   "execution_count": 28,
   "metadata": {
    "colab": {
     "base_uri": "https://localhost:8080/"
    },
    "id": "GzUb6A_BAtRl",
    "outputId": "08a5c92c-1793-42be-f582-88501fc47ca8"
   },
   "outputs": [
    {
     "name": "stdout",
     "output_type": "stream",
     "text": [
      "내림차순으로 정렬: [9 5 3 1]\n"
     ]
    }
   ],
   "source": [
    "sort_array1_desc = np.sort(org_array)[::-1]\n",
    "print ('내림차순으로 정렬:', sort_array1_desc) "
   ]
  },
  {
   "cell_type": "code",
   "execution_count": 29,
   "metadata": {
    "colab": {
     "base_uri": "https://localhost:8080/"
    },
    "id": "UzrlTNuRAxIq",
    "outputId": "74f5aebf-c2d2-42bb-bbe4-9aae1b530999"
   },
   "outputs": [
    {
     "name": "stdout",
     "output_type": "stream",
     "text": [
      "로우 방향으로 정렬:\n",
      " [[ 7  1]\n",
      " [ 8 12]]\n",
      "컬럼 방향으로 정렬:\n",
      " [[ 8 12]\n",
      " [ 1  7]]\n"
     ]
    }
   ],
   "source": [
    "array2d = np.array([[8, 12], \n",
    "                   [7, 1 ]])\n",
    "\n",
    "sort_array2d_axis0 = np.sort(array2d, axis=0)\n",
    "print('로우 방향으로 정렬:\\n', sort_array2d_axis0)\n",
    "\n",
    "sort_array2d_axis1 = np.sort(array2d, axis=1)\n",
    "print('컬럼 방향으로 정렬:\\n', sort_array2d_axis1)"
   ]
  },
  {
   "cell_type": "markdown",
   "metadata": {
    "id": "l0atMInXBENG"
   },
   "source": [
    "#### 정렬된 행렬의 인덱스를 반환하기"
   ]
  },
  {
   "cell_type": "code",
   "execution_count": 30,
   "metadata": {
    "colab": {
     "base_uri": "https://localhost:8080/"
    },
    "id": "KGXPrb2KA1K8",
    "outputId": "80d6ffbc-3d78-4cb1-a172-c0324832581a"
   },
   "outputs": [
    {
     "name": "stdout",
     "output_type": "stream",
     "text": [
      "<class 'numpy.ndarray'>\n",
      "행렬 정렬 시 원본 행렬의 인덱스: [1 0 3 2]\n"
     ]
    }
   ],
   "source": [
    "org_array = np.array([ 3, 1, 9, 5]) \n",
    "sort_indices = np.argsort(org_array)\n",
    "print(type(sort_indices))\n",
    "print('행렬 정렬 시 원본 행렬의 인덱스:', sort_indices)"
   ]
  },
  {
   "cell_type": "code",
   "execution_count": 31,
   "metadata": {
    "colab": {
     "base_uri": "https://localhost:8080/"
    },
    "id": "Yw_A7Dn7BQFx",
    "outputId": "7457e728-cb0e-4176-dfbb-bc1d973664c8"
   },
   "outputs": [
    {
     "name": "stdout",
     "output_type": "stream",
     "text": [
      "행렬 내림차순 정렬 시 원본 행렬의 인덱스: [2 3 0 1]\n"
     ]
    }
   ],
   "source": [
    "org_array = np.array([ 3, 1, 9, 5]) \n",
    "sort_indices_desc = np.argsort(org_array)[::-1]\n",
    "print('행렬 내림차순 정렬 시 원본 행렬의 인덱스:', sort_indices_desc)"
   ]
  },
  {
   "cell_type": "markdown",
   "metadata": {
    "id": "LDjb3tewB37p"
   },
   "source": [
    "Ex. 학생별 시험 성적을 ndarray로 표현할 때 -> 학생의 이름과 시험 성적을 각각 ndarray로 가져야 함"
   ]
  },
  {
   "cell_type": "code",
   "execution_count": 32,
   "metadata": {
    "colab": {
     "base_uri": "https://localhost:8080/"
    },
    "id": "k8TmA9xcBSME",
    "outputId": "0f532ff4-0fce-49b1-ffc7-201d780b8e4a"
   },
   "outputs": [
    {
     "name": "stdout",
     "output_type": "stream",
     "text": [
      "['John' 'Sarah' 'Samuel' 'Mike' 'Kate']\n"
     ]
    }
   ],
   "source": [
    "name_array = np.array(['John', 'Mike', 'Sarah', 'Kate', 'Samuel'])\n",
    "score_array= np.array([78, 95, 84, 98, 88])\n",
    "\n",
    "# 시험 성적순으로 학생 이름을 출력\n",
    "print(name_array[np.argsort(score_array)])\n",
    "\n",
    "# an.argsprt를 이용해 인덱스 반환 후\n",
    "# name_array에 팬시 인덱스로 적용해 추출"
   ]
  },
  {
   "cell_type": "markdown",
   "metadata": {
    "id": "md6F8jchDMNB"
   },
   "source": [
    "### 선형대수 연산 - 행렬 내적과 전치 행렬 구하기"
   ]
  },
  {
   "cell_type": "markdown",
   "metadata": {
    "id": "yZTF9Ax7DbKH"
   },
   "source": [
    "#### 행렬 내적(행렬 곱)\n",
    "\n",
    "np. dot()을 이용"
   ]
  },
  {
   "cell_type": "code",
   "execution_count": 33,
   "metadata": {
    "id": "asgw3PPRCgFb"
   },
   "outputs": [],
   "source": [
    "A = np.array([[1, 2, 3],\n",
    "              [4, 5, 6]])\n",
    "B = np.array([[7, 8],\n",
    "              [9, 10],\n",
    "              [11, 12]])"
   ]
  },
  {
   "cell_type": "code",
   "execution_count": 34,
   "metadata": {
    "colab": {
     "base_uri": "https://localhost:8080/"
    },
    "id": "MIoWuZbXDrw4",
    "outputId": "c269c212-2e75-4c08-e69f-91c2f559d860"
   },
   "outputs": [
    {
     "name": "stdout",
     "output_type": "stream",
     "text": [
      "행렬 내적 결과:\n",
      " [[ 58  64]\n",
      " [139 154]]\n"
     ]
    }
   ],
   "source": [
    "dot_product = np.dot(A, B)\n",
    "print('행렬 내적 결과:\\n', dot_product)"
   ]
  },
  {
   "cell_type": "markdown",
   "metadata": {
    "id": "nfsCm8fjDy9q"
   },
   "source": [
    "#### 전치 행렬"
   ]
  },
  {
   "cell_type": "code",
   "execution_count": 35,
   "metadata": {
    "colab": {
     "base_uri": "https://localhost:8080/"
    },
    "id": "Jmt7wOoNDxbi",
    "outputId": "6813734f-2555-4b1b-dc06-5f267c01f860"
   },
   "outputs": [
    {
     "name": "stdout",
     "output_type": "stream",
     "text": [
      "A의 전치 행렬:\n",
      " [[1 3]\n",
      " [2 4]]\n"
     ]
    }
   ],
   "source": [
    "A = np.array([[1, 2],\n",
    "              [3, 4]])\n",
    "transpose_mat = np.transpose(A)\n",
    "print('A의 전치 행렬:\\n', transpose_mat)"
   ]
  },
  {
   "cell_type": "markdown",
   "metadata": {
    "id": "BsWXh8fyUXy6"
   },
   "source": [
    "## Pandas"
   ]
  },
  {
   "cell_type": "code",
   "execution_count": 36,
   "metadata": {
    "id": "i57BT9fu9-nY"
   },
   "outputs": [],
   "source": [
    "import pandas as pd"
   ]
  },
  {
   "cell_type": "code",
   "execution_count": 37,
   "metadata": {
    "colab": {
     "base_uri": "https://localhost:8080/",
     "height": 143
    },
    "id": "IbvZVt35-NiG",
    "outputId": "f3b788b5-363a-481f-fb1a-d1c0e6de86d6"
   },
   "outputs": [
    {
     "data": {
      "text/html": [
       "<div>\n",
       "<style scoped>\n",
       "    .dataframe tbody tr th:only-of-type {\n",
       "        vertical-align: middle;\n",
       "    }\n",
       "\n",
       "    .dataframe tbody tr th {\n",
       "        vertical-align: top;\n",
       "    }\n",
       "\n",
       "    .dataframe thead th {\n",
       "        text-align: right;\n",
       "    }\n",
       "</style>\n",
       "<table border=\"1\" class=\"dataframe\">\n",
       "  <thead>\n",
       "    <tr style=\"text-align: right;\">\n",
       "      <th></th>\n",
       "      <th>PassengerId</th>\n",
       "      <th>Survived</th>\n",
       "      <th>Pclass</th>\n",
       "      <th>Name</th>\n",
       "      <th>Sex</th>\n",
       "      <th>Age</th>\n",
       "      <th>SibSp</th>\n",
       "      <th>Parch</th>\n",
       "      <th>Ticket</th>\n",
       "      <th>Fare</th>\n",
       "      <th>Cabin</th>\n",
       "      <th>Embarked</th>\n",
       "    </tr>\n",
       "  </thead>\n",
       "  <tbody>\n",
       "    <tr>\n",
       "      <th>0</th>\n",
       "      <td>1</td>\n",
       "      <td>0</td>\n",
       "      <td>3</td>\n",
       "      <td>Braund, Mr. Owen Harris</td>\n",
       "      <td>male</td>\n",
       "      <td>22.0</td>\n",
       "      <td>1</td>\n",
       "      <td>0</td>\n",
       "      <td>A/5 21171</td>\n",
       "      <td>7.2500</td>\n",
       "      <td>NaN</td>\n",
       "      <td>S</td>\n",
       "    </tr>\n",
       "    <tr>\n",
       "      <th>1</th>\n",
       "      <td>2</td>\n",
       "      <td>1</td>\n",
       "      <td>1</td>\n",
       "      <td>Cumings, Mrs. John Bradley (Florence Briggs Th...</td>\n",
       "      <td>female</td>\n",
       "      <td>38.0</td>\n",
       "      <td>1</td>\n",
       "      <td>0</td>\n",
       "      <td>PC 17599</td>\n",
       "      <td>71.2833</td>\n",
       "      <td>C85</td>\n",
       "      <td>C</td>\n",
       "    </tr>\n",
       "    <tr>\n",
       "      <th>2</th>\n",
       "      <td>3</td>\n",
       "      <td>1</td>\n",
       "      <td>3</td>\n",
       "      <td>Heikkinen, Miss. Laina</td>\n",
       "      <td>female</td>\n",
       "      <td>26.0</td>\n",
       "      <td>0</td>\n",
       "      <td>0</td>\n",
       "      <td>STON/O2. 3101282</td>\n",
       "      <td>7.9250</td>\n",
       "      <td>NaN</td>\n",
       "      <td>S</td>\n",
       "    </tr>\n",
       "  </tbody>\n",
       "</table>\n",
       "</div>"
      ],
      "text/plain": [
       "   PassengerId  Survived  Pclass  \\\n",
       "0            1         0       3   \n",
       "1            2         1       1   \n",
       "2            3         1       3   \n",
       "\n",
       "                                                Name     Sex   Age  SibSp  \\\n",
       "0                            Braund, Mr. Owen Harris    male  22.0      1   \n",
       "1  Cumings, Mrs. John Bradley (Florence Briggs Th...  female  38.0      1   \n",
       "2                             Heikkinen, Miss. Laina  female  26.0      0   \n",
       "\n",
       "   Parch            Ticket     Fare Cabin Embarked  \n",
       "0      0         A/5 21171   7.2500   NaN        S  \n",
       "1      0          PC 17599  71.2833   C85        C  \n",
       "2      0  STON/O2. 3101282   7.9250   NaN        S  "
      ]
     },
     "execution_count": 37,
     "metadata": {},
     "output_type": "execute_result"
    }
   ],
   "source": [
    "titanic_df = pd.read_csv('titanic_train.csv')\n",
    "titanic_df.head(3)"
   ]
  },
  {
   "cell_type": "markdown",
   "metadata": {
    "id": "eJKMsTaEUf2c"
   },
   "source": [
    "DataFrame의 행과 열의 크기 알아보기"
   ]
  },
  {
   "cell_type": "code",
   "execution_count": 38,
   "metadata": {
    "colab": {
     "base_uri": "https://localhost:8080/"
    },
    "id": "QIEj8NYeTa85",
    "outputId": "9dc9d4f0-8606-425f-9f5d-9baca4909b73"
   },
   "outputs": [
    {
     "name": "stdout",
     "output_type": "stream",
     "text": [
      "DataFrame 크기:  (891, 12)\n"
     ]
    }
   ],
   "source": [
    "print('DataFrame 크기: ', titanic_df.shape)"
   ]
  },
  {
   "cell_type": "markdown",
   "metadata": {
    "id": "gYTRxO6vUoJf"
   },
   "source": [
    "칼럼의 타입, Null 데이터 개수, 데이터 분포도 등의 메타 데이터 조회"
   ]
  },
  {
   "cell_type": "code",
   "execution_count": 39,
   "metadata": {
    "colab": {
     "base_uri": "https://localhost:8080/"
    },
    "id": "zLgcgwf5UiQa",
    "outputId": "f2b29e53-c14b-40c3-acfd-4045fc9ae731"
   },
   "outputs": [
    {
     "name": "stdout",
     "output_type": "stream",
     "text": [
      "<class 'pandas.core.frame.DataFrame'>\n",
      "RangeIndex: 891 entries, 0 to 890\n",
      "Data columns (total 12 columns):\n",
      " #   Column       Non-Null Count  Dtype  \n",
      "---  ------       --------------  -----  \n",
      " 0   PassengerId  891 non-null    int64  \n",
      " 1   Survived     891 non-null    int64  \n",
      " 2   Pclass       891 non-null    int64  \n",
      " 3   Name         891 non-null    object \n",
      " 4   Sex          891 non-null    object \n",
      " 5   Age          714 non-null    float64\n",
      " 6   SibSp        891 non-null    int64  \n",
      " 7   Parch        891 non-null    int64  \n",
      " 8   Ticket       891 non-null    object \n",
      " 9   Fare         891 non-null    float64\n",
      " 10  Cabin        204 non-null    object \n",
      " 11  Embarked     889 non-null    object \n",
      "dtypes: float64(2), int64(5), object(5)\n",
      "memory usage: 83.7+ KB\n"
     ]
    }
   ],
   "source": [
    "titanic_df.info()\n",
    "\n",
    "# 총 데이터 건수와 데이터 타입, Null 건수"
   ]
  },
  {
   "cell_type": "code",
   "execution_count": 40,
   "metadata": {
    "colab": {
     "base_uri": "https://localhost:8080/",
     "height": 300
    },
    "id": "--GDFNxhU54p",
    "outputId": "be49e176-ab11-4cc2-c18a-460823536c1f"
   },
   "outputs": [
    {
     "data": {
      "text/html": [
       "<div>\n",
       "<style scoped>\n",
       "    .dataframe tbody tr th:only-of-type {\n",
       "        vertical-align: middle;\n",
       "    }\n",
       "\n",
       "    .dataframe tbody tr th {\n",
       "        vertical-align: top;\n",
       "    }\n",
       "\n",
       "    .dataframe thead th {\n",
       "        text-align: right;\n",
       "    }\n",
       "</style>\n",
       "<table border=\"1\" class=\"dataframe\">\n",
       "  <thead>\n",
       "    <tr style=\"text-align: right;\">\n",
       "      <th></th>\n",
       "      <th>PassengerId</th>\n",
       "      <th>Survived</th>\n",
       "      <th>Pclass</th>\n",
       "      <th>Age</th>\n",
       "      <th>SibSp</th>\n",
       "      <th>Parch</th>\n",
       "      <th>Fare</th>\n",
       "    </tr>\n",
       "  </thead>\n",
       "  <tbody>\n",
       "    <tr>\n",
       "      <th>count</th>\n",
       "      <td>891.000000</td>\n",
       "      <td>891.000000</td>\n",
       "      <td>891.000000</td>\n",
       "      <td>714.000000</td>\n",
       "      <td>891.000000</td>\n",
       "      <td>891.000000</td>\n",
       "      <td>891.000000</td>\n",
       "    </tr>\n",
       "    <tr>\n",
       "      <th>mean</th>\n",
       "      <td>446.000000</td>\n",
       "      <td>0.383838</td>\n",
       "      <td>2.308642</td>\n",
       "      <td>29.699118</td>\n",
       "      <td>0.523008</td>\n",
       "      <td>0.381594</td>\n",
       "      <td>32.204208</td>\n",
       "    </tr>\n",
       "    <tr>\n",
       "      <th>std</th>\n",
       "      <td>257.353842</td>\n",
       "      <td>0.486592</td>\n",
       "      <td>0.836071</td>\n",
       "      <td>14.526497</td>\n",
       "      <td>1.102743</td>\n",
       "      <td>0.806057</td>\n",
       "      <td>49.693429</td>\n",
       "    </tr>\n",
       "    <tr>\n",
       "      <th>min</th>\n",
       "      <td>1.000000</td>\n",
       "      <td>0.000000</td>\n",
       "      <td>1.000000</td>\n",
       "      <td>0.420000</td>\n",
       "      <td>0.000000</td>\n",
       "      <td>0.000000</td>\n",
       "      <td>0.000000</td>\n",
       "    </tr>\n",
       "    <tr>\n",
       "      <th>25%</th>\n",
       "      <td>223.500000</td>\n",
       "      <td>0.000000</td>\n",
       "      <td>2.000000</td>\n",
       "      <td>20.125000</td>\n",
       "      <td>0.000000</td>\n",
       "      <td>0.000000</td>\n",
       "      <td>7.910400</td>\n",
       "    </tr>\n",
       "    <tr>\n",
       "      <th>50%</th>\n",
       "      <td>446.000000</td>\n",
       "      <td>0.000000</td>\n",
       "      <td>3.000000</td>\n",
       "      <td>28.000000</td>\n",
       "      <td>0.000000</td>\n",
       "      <td>0.000000</td>\n",
       "      <td>14.454200</td>\n",
       "    </tr>\n",
       "    <tr>\n",
       "      <th>75%</th>\n",
       "      <td>668.500000</td>\n",
       "      <td>1.000000</td>\n",
       "      <td>3.000000</td>\n",
       "      <td>38.000000</td>\n",
       "      <td>1.000000</td>\n",
       "      <td>0.000000</td>\n",
       "      <td>31.000000</td>\n",
       "    </tr>\n",
       "    <tr>\n",
       "      <th>max</th>\n",
       "      <td>891.000000</td>\n",
       "      <td>1.000000</td>\n",
       "      <td>3.000000</td>\n",
       "      <td>80.000000</td>\n",
       "      <td>8.000000</td>\n",
       "      <td>6.000000</td>\n",
       "      <td>512.329200</td>\n",
       "    </tr>\n",
       "  </tbody>\n",
       "</table>\n",
       "</div>"
      ],
      "text/plain": [
       "       PassengerId    Survived      Pclass         Age       SibSp  \\\n",
       "count   891.000000  891.000000  891.000000  714.000000  891.000000   \n",
       "mean    446.000000    0.383838    2.308642   29.699118    0.523008   \n",
       "std     257.353842    0.486592    0.836071   14.526497    1.102743   \n",
       "min       1.000000    0.000000    1.000000    0.420000    0.000000   \n",
       "25%     223.500000    0.000000    2.000000   20.125000    0.000000   \n",
       "50%     446.000000    0.000000    3.000000   28.000000    0.000000   \n",
       "75%     668.500000    1.000000    3.000000   38.000000    1.000000   \n",
       "max     891.000000    1.000000    3.000000   80.000000    8.000000   \n",
       "\n",
       "            Parch        Fare  \n",
       "count  891.000000  891.000000  \n",
       "mean     0.381594   32.204208  \n",
       "std      0.806057   49.693429  \n",
       "min      0.000000    0.000000  \n",
       "25%      0.000000    7.910400  \n",
       "50%      0.000000   14.454200  \n",
       "75%      0.000000   31.000000  \n",
       "max      6.000000  512.329200  "
      ]
     },
     "execution_count": 40,
     "metadata": {},
     "output_type": "execute_result"
    }
   ],
   "source": [
    "titanic_df.describe()\n",
    "\n",
    "# 칼럼별 숫자형 데이터값의 n-percentile 분포도, 평균값, 최댓값, 최솟값\n",
    "# 숫자형(int, float 등) 칼럼의 분포도만 조사 / 자동으로 object 타입은 제외"
   ]
  },
  {
   "cell_type": "code",
   "execution_count": 41,
   "metadata": {
    "colab": {
     "base_uri": "https://localhost:8080/"
    },
    "id": "21GdUbs9VP38",
    "outputId": "de4ebbc8-917e-407f-e8af-6688572d8451"
   },
   "outputs": [
    {
     "name": "stdout",
     "output_type": "stream",
     "text": [
      "3    491\n",
      "1    216\n",
      "2    184\n",
      "Name: Pclass, dtype: int64\n"
     ]
    }
   ],
   "source": [
    "value_counts = titanic_df['Pclass'].value_counts()\n",
    "print(value_counts)\n",
    "\n",
    "# 지정된 칼럼의 데이터값 건수를 반환\n",
    "# 데이터의 분포도 확인"
   ]
  },
  {
   "cell_type": "code",
   "execution_count": 42,
   "metadata": {
    "colab": {
     "base_uri": "https://localhost:8080/"
    },
    "id": "so2JjZuEVsqK",
    "outputId": "a0c78ba4-d3a2-428a-c8f0-aa98366affb2"
   },
   "outputs": [
    {
     "name": "stdout",
     "output_type": "stream",
     "text": [
      "<class 'pandas.core.series.Series'>\n"
     ]
    }
   ],
   "source": [
    "titanic_pclass = titanic_df['Pclass']\n",
    "print(type(titanic_pclass))\n",
    "\n",
    "# [ ] 연산자 내부에 칼럼명 입력 -> Series 반환"
   ]
  },
  {
   "cell_type": "code",
   "execution_count": 43,
   "metadata": {
    "colab": {
     "base_uri": "https://localhost:8080/"
    },
    "id": "xG_0bOLsWQAq",
    "outputId": "09c6612d-28ea-4448-e67e-079951173f18"
   },
   "outputs": [
    {
     "data": {
      "text/plain": [
       "0    3\n",
       "1    1\n",
       "2    3\n",
       "3    1\n",
       "4    3\n",
       "Name: Pclass, dtype: int64"
      ]
     },
     "execution_count": 43,
     "metadata": {},
     "output_type": "execute_result"
    }
   ],
   "source": [
    "titanic_pclass.head()\n",
    "\n",
    "# 모든 Series와 DataFrame은 인덱스를 가진다"
   ]
  },
  {
   "cell_type": "code",
   "execution_count": 44,
   "metadata": {
    "colab": {
     "base_uri": "https://localhost:8080/"
    },
    "id": "jH2uMGZrWWpj",
    "outputId": "af708ebc-cd13-4447-dc24-84a3e7250b04"
   },
   "outputs": [
    {
     "name": "stdout",
     "output_type": "stream",
     "text": [
      "<class 'pandas.core.series.Series'>\n",
      "3    491\n",
      "1    216\n",
      "2    184\n",
      "Name: Pclass, dtype: int64\n"
     ]
    }
   ],
   "source": [
    "value_counts = titanic_df['Pclass'].value_counts()\n",
    "print(type(value_counts))\n",
    "print(value_counts)\n",
    "\n",
    "# values_coun() 역시 Series 객체 반환"
   ]
  },
  {
   "cell_type": "markdown",
   "metadata": {
    "id": "OzouCQeKXGPx"
   },
   "source": [
    "values_count() 메서드 -> Null 값을 무시한다는 점 유의\n",
    "\n",
    "만약 Null 값을 포함하여 계산 -> dropna=False"
   ]
  },
  {
   "cell_type": "code",
   "execution_count": 45,
   "metadata": {
    "colab": {
     "base_uri": "https://localhost:8080/"
    },
    "id": "-P2nUQ4UWshw",
    "outputId": "deef1515-f3a1-4f70-ca71-e33bd7406f86"
   },
   "outputs": [
    {
     "name": "stdout",
     "output_type": "stream",
     "text": [
      "titanic_df 데이터 건수: 891\n",
      "\n",
      " 기본 설정인 dropna = True로 value_counts()\n",
      "S    644\n",
      "C    168\n",
      "Q     77\n",
      "Name: Embarked, dtype: int64\n",
      "\n",
      " 설정 변경 -> dropna = False\n",
      "S      644\n",
      "C      168\n",
      "Q       77\n",
      "NaN      2\n",
      "Name: Embarked, dtype: int64\n"
     ]
    }
   ],
   "source": [
    "print('titanic_df 데이터 건수:', titanic_df.shape[0])\n",
    "\n",
    "print('\\n 기본 설정인 dropna = True로 value_counts()')\n",
    "print(titanic_df['Embarked'].value_counts())\n",
    "# value_counts()는 디폴트로 dropna=True이므로 value_counts(dropna=True)와 동일.\n",
    "\n",
    "print('\\n 설정 변경 -> dropna = False')\n",
    "print(titanic_df['Embarked'].value_counts(dropna=False))"
   ]
  },
  {
   "cell_type": "markdown",
   "metadata": {
    "id": "6GYx8-D-Y6v-"
   },
   "source": [
    "### DataFrame과 리스트, 딕셔너리, 넘파이 ndarray 상호 변환"
   ]
  },
  {
   "cell_type": "markdown",
   "metadata": {
    "id": "xBt50n4Iaeqn"
   },
   "source": [
    "#### 넘파이 ndarray, 리스트, 딕셔너리를 DataFrame으로 변환하기"
   ]
  },
  {
   "cell_type": "markdown",
   "metadata": {
    "id": "o3FhGjVNb6s2"
   },
   "source": [
    "1차원 형태 리스트와 넘파이 ndarray"
   ]
  },
  {
   "cell_type": "code",
   "execution_count": 46,
   "metadata": {
    "colab": {
     "base_uri": "https://localhost:8080/"
    },
    "id": "b-vT5m7YXfGa",
    "outputId": "db79f320-7327-4406-f989-a6696030c966"
   },
   "outputs": [
    {
     "name": "stdout",
     "output_type": "stream",
     "text": [
      "array1 shape: (3,)\n",
      "1차원 리스트로 만든 DataFrame:\n",
      "    col1\n",
      "0     1\n",
      "1     2\n",
      "2     3\n",
      "1차원 ndarray로 만든 DataFrame:\n",
      "    col1\n",
      "0     1\n",
      "1     2\n",
      "2     3\n"
     ]
    }
   ],
   "source": [
    "import numpy as np\n",
    "\n",
    "col_name1=['col1']\n",
    "list1 = [1, 2, 3]\n",
    "array1 = np.array(list1)\n",
    "print('array1 shape:', array1.shape )\n",
    "# 리스트를 이용해 DataFrame 생성.\n",
    "df_list1 = pd.DataFrame(list1, columns=col_name1)\n",
    "print('1차원 리스트로 만든 DataFrame:\\n', df_list1)\n",
    "# 넘파이 ndarray를 이용해 DataFrame 생성.\n",
    "df_array1 = pd.DataFrame(array1, columns=col_name1)\n",
    "print('1차원 ndarray로 만든 DataFrame:\\n', df_array1)\n",
    "\n",
    "# DataFrame의 생성 인자 data -> 리스트 / 딕셔너리 / 넘파이 ndarray\n",
    "# DataFrame의 생성 인자 columns -> 칼럼명 리스트"
   ]
  },
  {
   "cell_type": "markdown",
   "metadata": {
    "id": "YPApDqZnczgt"
   },
   "source": [
    "2차원 형태"
   ]
  },
  {
   "cell_type": "code",
   "execution_count": 47,
   "metadata": {
    "colab": {
     "base_uri": "https://localhost:8080/"
    },
    "id": "oHdMapKAatEP",
    "outputId": "96a2598a-d067-48f2-a36c-e3b45705e5ef"
   },
   "outputs": [
    {
     "name": "stdout",
     "output_type": "stream",
     "text": [
      "array2 shape: (2, 3)\n",
      "2차원 리스트로 만든 DataFrame:\n",
      "    col1  col2  col3\n",
      "0     1     2     3\n",
      "1    11    12    13\n",
      "2차원 ndarray로 만든 DataFrame:\n",
      "    col1  col2  col3\n",
      "0     1     2     3\n",
      "1    11    12    13\n"
     ]
    }
   ],
   "source": [
    "# 3개의 칼럼명이 필요함.\n",
    "col_name2=['col1', 'col2', 'col3']\n",
    "\n",
    "# 2행x3열 형태의 리스트와 ndarray 생성한 뒤 이를 DataFrame으로 변환.\n",
    "list2 = [[1, 2, 3],\n",
    "         [11, 12, 13]]\n",
    "array2 = np.array(list2)\n",
    "print('array2 shape:', array2.shape )\n",
    "df_list2 = pd.DataFrame(list2, columns=col_name2)\n",
    "print('2차원 리스트로 만든 DataFrame:\\n', df_list2)\n",
    "df_array2 = pd.DataFrame(array2, columns=col_name2)\n",
    "print('2차원 ndarray로 만든 DataFrame:\\n', df_array2)"
   ]
  },
  {
   "cell_type": "markdown",
   "metadata": {
    "id": "hSPshxL9dCmI"
   },
   "source": [
    "딕셔너리"
   ]
  },
  {
   "cell_type": "code",
   "execution_count": 48,
   "metadata": {
    "colab": {
     "base_uri": "https://localhost:8080/"
    },
    "id": "mzw1i_E5c4N3",
    "outputId": "189947f1-51e7-419d-ae57-a54e1602e6a2"
   },
   "outputs": [
    {
     "name": "stdout",
     "output_type": "stream",
     "text": [
      "딕셔너리로 만든 DataFrame:\n",
      "    col1  col2  col3\n",
      "0     1     2     3\n",
      "1    11    22    33\n"
     ]
    }
   ],
   "source": [
    "# Key는 문자열 칼럼명으로 매핑, Value는 리스트 형(또는 ndarray) 칼럼 데이터로 매핑\n",
    "dict = {'col1':[1, 11], 'col2':[2, 22], 'col3':[3, 33]}\n",
    "df_dict = pd.DataFrame(dict)\n",
    "print('딕셔너리로 만든 DataFrame:\\n', df_dict)"
   ]
  },
  {
   "cell_type": "markdown",
   "metadata": {
    "id": "qVLLP8bIdX5H"
   },
   "source": [
    "#### (중요)DataFrame을 넘파이 ndarray, 리스트, 딕셔너리로 변환하기"
   ]
  },
  {
   "cell_type": "markdown",
   "metadata": {
    "id": "BPLNtmvXdzdz"
   },
   "source": [
    "DataFrame을 ndarray로 변환"
   ]
  },
  {
   "cell_type": "code",
   "execution_count": 49,
   "metadata": {
    "colab": {
     "base_uri": "https://localhost:8080/"
    },
    "id": "4DBv-u2PdMes",
    "outputId": "92b908f1-5873-49e2-daac-48946af528d2"
   },
   "outputs": [
    {
     "name": "stdout",
     "output_type": "stream",
     "text": [
      "df_dict.values 타입: <class 'numpy.ndarray'> df_dict.values shape: (2, 3)\n",
      "[[ 1  2  3]\n",
      " [11 22 33]]\n"
     ]
    }
   ],
   "source": [
    "array3 = df_dict.values\n",
    "print('df_dict.values 타입:', type(array3), 'df_dict.values shape:', array3.shape)\n",
    "print(array3)"
   ]
  },
  {
   "cell_type": "markdown",
   "metadata": {
    "id": "56mFHsGud1He"
   },
   "source": [
    "DataFrame을 리스트와 딕셔너리로 변환"
   ]
  },
  {
   "cell_type": "code",
   "execution_count": 50,
   "metadata": {
    "colab": {
     "base_uri": "https://localhost:8080/"
    },
    "id": "uoUgnMe3dudO",
    "outputId": "d8e232ea-cfab-433a-bf2a-80f69d314c8d"
   },
   "outputs": [
    {
     "name": "stdout",
     "output_type": "stream",
     "text": [
      "df_dict.values.tolist() 타입: <class 'list'>\n",
      "[[1, 2, 3], [11, 22, 33]]\n",
      "\n",
      " df_dict.to_dict() 타입: <class 'dict'>\n",
      "{'col1': [1, 11], 'col2': [2, 22], 'col3': [3, 33]}\n"
     ]
    }
   ],
   "source": [
    "# DataFrame을 리스트로 변환\n",
    "list3 = df_dict.values.tolist()\n",
    "print('df_dict.values.tolist() 타입:', type(list3))\n",
    "print(list3)\n",
    "\n",
    "# DataFrame을 딕셔너리로 변환\n",
    "dict3 = df_dict.to_dict('list')\n",
    "print('\\n df_dict.to_dict() 타입:', type(dict3))\n",
    "print(dict3)"
   ]
  },
  {
   "cell_type": "markdown",
   "metadata": {
    "id": "HBsl1UoLd_ON"
   },
   "source": [
    "### DataFrame의 칼럼 데이터 세트 생성과 수정"
   ]
  },
  {
   "cell_type": "code",
   "execution_count": 51,
   "metadata": {
    "colab": {
     "base_uri": "https://localhost:8080/",
     "height": 143
    },
    "id": "UQOo9fGcd9My",
    "outputId": "daabfe1e-f7a2-404b-c7b1-7db85c9d3a50"
   },
   "outputs": [
    {
     "data": {
      "text/html": [
       "<div>\n",
       "<style scoped>\n",
       "    .dataframe tbody tr th:only-of-type {\n",
       "        vertical-align: middle;\n",
       "    }\n",
       "\n",
       "    .dataframe tbody tr th {\n",
       "        vertical-align: top;\n",
       "    }\n",
       "\n",
       "    .dataframe thead th {\n",
       "        text-align: right;\n",
       "    }\n",
       "</style>\n",
       "<table border=\"1\" class=\"dataframe\">\n",
       "  <thead>\n",
       "    <tr style=\"text-align: right;\">\n",
       "      <th></th>\n",
       "      <th>PassengerId</th>\n",
       "      <th>Survived</th>\n",
       "      <th>Pclass</th>\n",
       "      <th>Name</th>\n",
       "      <th>Sex</th>\n",
       "      <th>Age</th>\n",
       "      <th>SibSp</th>\n",
       "      <th>Parch</th>\n",
       "      <th>Ticket</th>\n",
       "      <th>Fare</th>\n",
       "      <th>Cabin</th>\n",
       "      <th>Embarked</th>\n",
       "      <th>Age_0</th>\n",
       "    </tr>\n",
       "  </thead>\n",
       "  <tbody>\n",
       "    <tr>\n",
       "      <th>0</th>\n",
       "      <td>1</td>\n",
       "      <td>0</td>\n",
       "      <td>3</td>\n",
       "      <td>Braund, Mr. Owen Harris</td>\n",
       "      <td>male</td>\n",
       "      <td>22.0</td>\n",
       "      <td>1</td>\n",
       "      <td>0</td>\n",
       "      <td>A/5 21171</td>\n",
       "      <td>7.2500</td>\n",
       "      <td>NaN</td>\n",
       "      <td>S</td>\n",
       "      <td>0</td>\n",
       "    </tr>\n",
       "    <tr>\n",
       "      <th>1</th>\n",
       "      <td>2</td>\n",
       "      <td>1</td>\n",
       "      <td>1</td>\n",
       "      <td>Cumings, Mrs. John Bradley (Florence Briggs Th...</td>\n",
       "      <td>female</td>\n",
       "      <td>38.0</td>\n",
       "      <td>1</td>\n",
       "      <td>0</td>\n",
       "      <td>PC 17599</td>\n",
       "      <td>71.2833</td>\n",
       "      <td>C85</td>\n",
       "      <td>C</td>\n",
       "      <td>0</td>\n",
       "    </tr>\n",
       "    <tr>\n",
       "      <th>2</th>\n",
       "      <td>3</td>\n",
       "      <td>1</td>\n",
       "      <td>3</td>\n",
       "      <td>Heikkinen, Miss. Laina</td>\n",
       "      <td>female</td>\n",
       "      <td>26.0</td>\n",
       "      <td>0</td>\n",
       "      <td>0</td>\n",
       "      <td>STON/O2. 3101282</td>\n",
       "      <td>7.9250</td>\n",
       "      <td>NaN</td>\n",
       "      <td>S</td>\n",
       "      <td>0</td>\n",
       "    </tr>\n",
       "  </tbody>\n",
       "</table>\n",
       "</div>"
      ],
      "text/plain": [
       "   PassengerId  Survived  Pclass  \\\n",
       "0            1         0       3   \n",
       "1            2         1       1   \n",
       "2            3         1       3   \n",
       "\n",
       "                                                Name     Sex   Age  SibSp  \\\n",
       "0                            Braund, Mr. Owen Harris    male  22.0      1   \n",
       "1  Cumings, Mrs. John Bradley (Florence Briggs Th...  female  38.0      1   \n",
       "2                             Heikkinen, Miss. Laina  female  26.0      0   \n",
       "\n",
       "   Parch            Ticket     Fare Cabin Embarked  Age_0  \n",
       "0      0         A/5 21171   7.2500   NaN        S      0  \n",
       "1      0          PC 17599  71.2833   C85        C      0  \n",
       "2      0  STON/O2. 3101282   7.9250   NaN        S      0  "
      ]
     },
     "execution_count": 51,
     "metadata": {},
     "output_type": "execute_result"
    }
   ],
   "source": [
    "# 새로운 칼럼 'Age_0' 추가 & 일괄적으로 0값을 할당\n",
    "\n",
    "titanic_df['Age_0']=0\n",
    "titanic_df.head(3)"
   ]
  },
  {
   "cell_type": "code",
   "execution_count": 52,
   "metadata": {
    "colab": {
     "base_uri": "https://localhost:8080/",
     "height": 222
    },
    "id": "reW8DzfeeQ1n",
    "outputId": "03b931dd-e115-4167-e18a-32ec38763c0e"
   },
   "outputs": [
    {
     "data": {
      "text/html": [
       "<div>\n",
       "<style scoped>\n",
       "    .dataframe tbody tr th:only-of-type {\n",
       "        vertical-align: middle;\n",
       "    }\n",
       "\n",
       "    .dataframe tbody tr th {\n",
       "        vertical-align: top;\n",
       "    }\n",
       "\n",
       "    .dataframe thead th {\n",
       "        text-align: right;\n",
       "    }\n",
       "</style>\n",
       "<table border=\"1\" class=\"dataframe\">\n",
       "  <thead>\n",
       "    <tr style=\"text-align: right;\">\n",
       "      <th></th>\n",
       "      <th>PassengerId</th>\n",
       "      <th>Survived</th>\n",
       "      <th>Pclass</th>\n",
       "      <th>Name</th>\n",
       "      <th>Sex</th>\n",
       "      <th>Age</th>\n",
       "      <th>SibSp</th>\n",
       "      <th>Parch</th>\n",
       "      <th>Ticket</th>\n",
       "      <th>Fare</th>\n",
       "      <th>Cabin</th>\n",
       "      <th>Embarked</th>\n",
       "      <th>Age_0</th>\n",
       "      <th>Age_by_10</th>\n",
       "      <th>Family_No</th>\n",
       "    </tr>\n",
       "  </thead>\n",
       "  <tbody>\n",
       "    <tr>\n",
       "      <th>0</th>\n",
       "      <td>1</td>\n",
       "      <td>0</td>\n",
       "      <td>3</td>\n",
       "      <td>Braund, Mr. Owen Harris</td>\n",
       "      <td>male</td>\n",
       "      <td>22.0</td>\n",
       "      <td>1</td>\n",
       "      <td>0</td>\n",
       "      <td>A/5 21171</td>\n",
       "      <td>7.2500</td>\n",
       "      <td>NaN</td>\n",
       "      <td>S</td>\n",
       "      <td>0</td>\n",
       "      <td>220.0</td>\n",
       "      <td>2</td>\n",
       "    </tr>\n",
       "    <tr>\n",
       "      <th>1</th>\n",
       "      <td>2</td>\n",
       "      <td>1</td>\n",
       "      <td>1</td>\n",
       "      <td>Cumings, Mrs. John Bradley (Florence Briggs Th...</td>\n",
       "      <td>female</td>\n",
       "      <td>38.0</td>\n",
       "      <td>1</td>\n",
       "      <td>0</td>\n",
       "      <td>PC 17599</td>\n",
       "      <td>71.2833</td>\n",
       "      <td>C85</td>\n",
       "      <td>C</td>\n",
       "      <td>0</td>\n",
       "      <td>380.0</td>\n",
       "      <td>2</td>\n",
       "    </tr>\n",
       "    <tr>\n",
       "      <th>2</th>\n",
       "      <td>3</td>\n",
       "      <td>1</td>\n",
       "      <td>3</td>\n",
       "      <td>Heikkinen, Miss. Laina</td>\n",
       "      <td>female</td>\n",
       "      <td>26.0</td>\n",
       "      <td>0</td>\n",
       "      <td>0</td>\n",
       "      <td>STON/O2. 3101282</td>\n",
       "      <td>7.9250</td>\n",
       "      <td>NaN</td>\n",
       "      <td>S</td>\n",
       "      <td>0</td>\n",
       "      <td>260.0</td>\n",
       "      <td>1</td>\n",
       "    </tr>\n",
       "  </tbody>\n",
       "</table>\n",
       "</div>"
      ],
      "text/plain": [
       "   PassengerId  Survived  Pclass  \\\n",
       "0            1         0       3   \n",
       "1            2         1       1   \n",
       "2            3         1       3   \n",
       "\n",
       "                                                Name     Sex   Age  SibSp  \\\n",
       "0                            Braund, Mr. Owen Harris    male  22.0      1   \n",
       "1  Cumings, Mrs. John Bradley (Florence Briggs Th...  female  38.0      1   \n",
       "2                             Heikkinen, Miss. Laina  female  26.0      0   \n",
       "\n",
       "   Parch            Ticket     Fare Cabin Embarked  Age_0  Age_by_10  \\\n",
       "0      0         A/5 21171   7.2500   NaN        S      0      220.0   \n",
       "1      0          PC 17599  71.2833   C85        C      0      380.0   \n",
       "2      0  STON/O2. 3101282   7.9250   NaN        S      0      260.0   \n",
       "\n",
       "   Family_No  \n",
       "0          2  \n",
       "1          2  \n",
       "2          1  "
      ]
     },
     "execution_count": 52,
     "metadata": {},
     "output_type": "execute_result"
    }
   ],
   "source": [
    "# 기존 칼럼 Series의 데이터를 이용해 새로운 칼럼 Series 만들기\n",
    "\n",
    "titanic_df['Age_by_10'] = titanic_df['Age']*10\n",
    "titanic_df['Family_No'] = titanic_df['SibSp'] + titanic_df['Parch']+1\n",
    "titanic_df.head(3)"
   ]
  },
  {
   "cell_type": "code",
   "execution_count": 53,
   "metadata": {
    "colab": {
     "base_uri": "https://localhost:8080/",
     "height": 222
    },
    "id": "lH6PphY-edEh",
    "outputId": "95318378-42ab-406e-d374-9f21df3b24c6"
   },
   "outputs": [
    {
     "data": {
      "text/html": [
       "<div>\n",
       "<style scoped>\n",
       "    .dataframe tbody tr th:only-of-type {\n",
       "        vertical-align: middle;\n",
       "    }\n",
       "\n",
       "    .dataframe tbody tr th {\n",
       "        vertical-align: top;\n",
       "    }\n",
       "\n",
       "    .dataframe thead th {\n",
       "        text-align: right;\n",
       "    }\n",
       "</style>\n",
       "<table border=\"1\" class=\"dataframe\">\n",
       "  <thead>\n",
       "    <tr style=\"text-align: right;\">\n",
       "      <th></th>\n",
       "      <th>PassengerId</th>\n",
       "      <th>Survived</th>\n",
       "      <th>Pclass</th>\n",
       "      <th>Name</th>\n",
       "      <th>Sex</th>\n",
       "      <th>Age</th>\n",
       "      <th>SibSp</th>\n",
       "      <th>Parch</th>\n",
       "      <th>Ticket</th>\n",
       "      <th>Fare</th>\n",
       "      <th>Cabin</th>\n",
       "      <th>Embarked</th>\n",
       "      <th>Age_0</th>\n",
       "      <th>Age_by_10</th>\n",
       "      <th>Family_No</th>\n",
       "    </tr>\n",
       "  </thead>\n",
       "  <tbody>\n",
       "    <tr>\n",
       "      <th>0</th>\n",
       "      <td>1</td>\n",
       "      <td>0</td>\n",
       "      <td>3</td>\n",
       "      <td>Braund, Mr. Owen Harris</td>\n",
       "      <td>male</td>\n",
       "      <td>22.0</td>\n",
       "      <td>1</td>\n",
       "      <td>0</td>\n",
       "      <td>A/5 21171</td>\n",
       "      <td>7.2500</td>\n",
       "      <td>NaN</td>\n",
       "      <td>S</td>\n",
       "      <td>0</td>\n",
       "      <td>320.0</td>\n",
       "      <td>2</td>\n",
       "    </tr>\n",
       "    <tr>\n",
       "      <th>1</th>\n",
       "      <td>2</td>\n",
       "      <td>1</td>\n",
       "      <td>1</td>\n",
       "      <td>Cumings, Mrs. John Bradley (Florence Briggs Th...</td>\n",
       "      <td>female</td>\n",
       "      <td>38.0</td>\n",
       "      <td>1</td>\n",
       "      <td>0</td>\n",
       "      <td>PC 17599</td>\n",
       "      <td>71.2833</td>\n",
       "      <td>C85</td>\n",
       "      <td>C</td>\n",
       "      <td>0</td>\n",
       "      <td>480.0</td>\n",
       "      <td>2</td>\n",
       "    </tr>\n",
       "    <tr>\n",
       "      <th>2</th>\n",
       "      <td>3</td>\n",
       "      <td>1</td>\n",
       "      <td>3</td>\n",
       "      <td>Heikkinen, Miss. Laina</td>\n",
       "      <td>female</td>\n",
       "      <td>26.0</td>\n",
       "      <td>0</td>\n",
       "      <td>0</td>\n",
       "      <td>STON/O2. 3101282</td>\n",
       "      <td>7.9250</td>\n",
       "      <td>NaN</td>\n",
       "      <td>S</td>\n",
       "      <td>0</td>\n",
       "      <td>360.0</td>\n",
       "      <td>1</td>\n",
       "    </tr>\n",
       "  </tbody>\n",
       "</table>\n",
       "</div>"
      ],
      "text/plain": [
       "   PassengerId  Survived  Pclass  \\\n",
       "0            1         0       3   \n",
       "1            2         1       1   \n",
       "2            3         1       3   \n",
       "\n",
       "                                                Name     Sex   Age  SibSp  \\\n",
       "0                            Braund, Mr. Owen Harris    male  22.0      1   \n",
       "1  Cumings, Mrs. John Bradley (Florence Briggs Th...  female  38.0      1   \n",
       "2                             Heikkinen, Miss. Laina  female  26.0      0   \n",
       "\n",
       "   Parch            Ticket     Fare Cabin Embarked  Age_0  Age_by_10  \\\n",
       "0      0         A/5 21171   7.2500   NaN        S      0      320.0   \n",
       "1      0          PC 17599  71.2833   C85        C      0      480.0   \n",
       "2      0  STON/O2. 3101282   7.9250   NaN        S      0      360.0   \n",
       "\n",
       "   Family_No  \n",
       "0          2  \n",
       "1          2  \n",
       "2          1  "
      ]
     },
     "execution_count": 53,
     "metadata": {},
     "output_type": "execute_result"
    }
   ],
   "source": [
    "# 기존 칼럼의 값 일괄 업데이트\n",
    "\n",
    "titanic_df['Age_by_10'] = titanic_df['Age_by_10'] + 100\n",
    "titanic_df.head(3)"
   ]
  },
  {
   "cell_type": "markdown",
   "metadata": {
    "id": "zRE2bSIGe6sf"
   },
   "source": [
    "### DataFrame 데이터 삭제"
   ]
  },
  {
   "cell_type": "markdown",
   "metadata": {
    "id": "HbWqEkzxgEgz"
   },
   "source": [
    "'Age_0' 칼럼 삭제 -> axis = 1"
   ]
  },
  {
   "cell_type": "code",
   "execution_count": 54,
   "metadata": {
    "colab": {
     "base_uri": "https://localhost:8080/",
     "height": 222
    },
    "id": "lcaAXa1Pe0gl",
    "outputId": "63825951-e2cf-471f-bd21-4aa29ec536d9"
   },
   "outputs": [
    {
     "data": {
      "text/html": [
       "<div>\n",
       "<style scoped>\n",
       "    .dataframe tbody tr th:only-of-type {\n",
       "        vertical-align: middle;\n",
       "    }\n",
       "\n",
       "    .dataframe tbody tr th {\n",
       "        vertical-align: top;\n",
       "    }\n",
       "\n",
       "    .dataframe thead th {\n",
       "        text-align: right;\n",
       "    }\n",
       "</style>\n",
       "<table border=\"1\" class=\"dataframe\">\n",
       "  <thead>\n",
       "    <tr style=\"text-align: right;\">\n",
       "      <th></th>\n",
       "      <th>PassengerId</th>\n",
       "      <th>Survived</th>\n",
       "      <th>Pclass</th>\n",
       "      <th>Name</th>\n",
       "      <th>Sex</th>\n",
       "      <th>Age</th>\n",
       "      <th>SibSp</th>\n",
       "      <th>Parch</th>\n",
       "      <th>Ticket</th>\n",
       "      <th>Fare</th>\n",
       "      <th>Cabin</th>\n",
       "      <th>Embarked</th>\n",
       "      <th>Age_by_10</th>\n",
       "      <th>Family_No</th>\n",
       "    </tr>\n",
       "  </thead>\n",
       "  <tbody>\n",
       "    <tr>\n",
       "      <th>0</th>\n",
       "      <td>1</td>\n",
       "      <td>0</td>\n",
       "      <td>3</td>\n",
       "      <td>Braund, Mr. Owen Harris</td>\n",
       "      <td>male</td>\n",
       "      <td>22.0</td>\n",
       "      <td>1</td>\n",
       "      <td>0</td>\n",
       "      <td>A/5 21171</td>\n",
       "      <td>7.2500</td>\n",
       "      <td>NaN</td>\n",
       "      <td>S</td>\n",
       "      <td>320.0</td>\n",
       "      <td>2</td>\n",
       "    </tr>\n",
       "    <tr>\n",
       "      <th>1</th>\n",
       "      <td>2</td>\n",
       "      <td>1</td>\n",
       "      <td>1</td>\n",
       "      <td>Cumings, Mrs. John Bradley (Florence Briggs Th...</td>\n",
       "      <td>female</td>\n",
       "      <td>38.0</td>\n",
       "      <td>1</td>\n",
       "      <td>0</td>\n",
       "      <td>PC 17599</td>\n",
       "      <td>71.2833</td>\n",
       "      <td>C85</td>\n",
       "      <td>C</td>\n",
       "      <td>480.0</td>\n",
       "      <td>2</td>\n",
       "    </tr>\n",
       "    <tr>\n",
       "      <th>2</th>\n",
       "      <td>3</td>\n",
       "      <td>1</td>\n",
       "      <td>3</td>\n",
       "      <td>Heikkinen, Miss. Laina</td>\n",
       "      <td>female</td>\n",
       "      <td>26.0</td>\n",
       "      <td>0</td>\n",
       "      <td>0</td>\n",
       "      <td>STON/O2. 3101282</td>\n",
       "      <td>7.9250</td>\n",
       "      <td>NaN</td>\n",
       "      <td>S</td>\n",
       "      <td>360.0</td>\n",
       "      <td>1</td>\n",
       "    </tr>\n",
       "  </tbody>\n",
       "</table>\n",
       "</div>"
      ],
      "text/plain": [
       "   PassengerId  Survived  Pclass  \\\n",
       "0            1         0       3   \n",
       "1            2         1       1   \n",
       "2            3         1       3   \n",
       "\n",
       "                                                Name     Sex   Age  SibSp  \\\n",
       "0                            Braund, Mr. Owen Harris    male  22.0      1   \n",
       "1  Cumings, Mrs. John Bradley (Florence Briggs Th...  female  38.0      1   \n",
       "2                             Heikkinen, Miss. Laina  female  26.0      0   \n",
       "\n",
       "   Parch            Ticket     Fare Cabin Embarked  Age_by_10  Family_No  \n",
       "0      0         A/5 21171   7.2500   NaN        S      320.0          2  \n",
       "1      0          PC 17599  71.2833   C85        C      480.0          2  \n",
       "2      0  STON/O2. 3101282   7.9250   NaN        S      360.0          1  "
      ]
     },
     "execution_count": 54,
     "metadata": {},
     "output_type": "execute_result"
    }
   ],
   "source": [
    "titanic_drop_df = titanic_df.drop('Age_0', axis=1 )\n",
    "titanic_drop_df.head(3)"
   ]
  },
  {
   "cell_type": "code",
   "execution_count": 55,
   "metadata": {
    "colab": {
     "base_uri": "https://localhost:8080/",
     "height": 222
    },
    "id": "2HDrOb44fis_",
    "outputId": "d64074ec-9ee9-4d8f-8afe-922b6adc22d8"
   },
   "outputs": [
    {
     "data": {
      "text/html": [
       "<div>\n",
       "<style scoped>\n",
       "    .dataframe tbody tr th:only-of-type {\n",
       "        vertical-align: middle;\n",
       "    }\n",
       "\n",
       "    .dataframe tbody tr th {\n",
       "        vertical-align: top;\n",
       "    }\n",
       "\n",
       "    .dataframe thead th {\n",
       "        text-align: right;\n",
       "    }\n",
       "</style>\n",
       "<table border=\"1\" class=\"dataframe\">\n",
       "  <thead>\n",
       "    <tr style=\"text-align: right;\">\n",
       "      <th></th>\n",
       "      <th>PassengerId</th>\n",
       "      <th>Survived</th>\n",
       "      <th>Pclass</th>\n",
       "      <th>Name</th>\n",
       "      <th>Sex</th>\n",
       "      <th>Age</th>\n",
       "      <th>SibSp</th>\n",
       "      <th>Parch</th>\n",
       "      <th>Ticket</th>\n",
       "      <th>Fare</th>\n",
       "      <th>Cabin</th>\n",
       "      <th>Embarked</th>\n",
       "      <th>Age_0</th>\n",
       "      <th>Age_by_10</th>\n",
       "      <th>Family_No</th>\n",
       "    </tr>\n",
       "  </thead>\n",
       "  <tbody>\n",
       "    <tr>\n",
       "      <th>0</th>\n",
       "      <td>1</td>\n",
       "      <td>0</td>\n",
       "      <td>3</td>\n",
       "      <td>Braund, Mr. Owen Harris</td>\n",
       "      <td>male</td>\n",
       "      <td>22.0</td>\n",
       "      <td>1</td>\n",
       "      <td>0</td>\n",
       "      <td>A/5 21171</td>\n",
       "      <td>7.2500</td>\n",
       "      <td>NaN</td>\n",
       "      <td>S</td>\n",
       "      <td>0</td>\n",
       "      <td>320.0</td>\n",
       "      <td>2</td>\n",
       "    </tr>\n",
       "    <tr>\n",
       "      <th>1</th>\n",
       "      <td>2</td>\n",
       "      <td>1</td>\n",
       "      <td>1</td>\n",
       "      <td>Cumings, Mrs. John Bradley (Florence Briggs Th...</td>\n",
       "      <td>female</td>\n",
       "      <td>38.0</td>\n",
       "      <td>1</td>\n",
       "      <td>0</td>\n",
       "      <td>PC 17599</td>\n",
       "      <td>71.2833</td>\n",
       "      <td>C85</td>\n",
       "      <td>C</td>\n",
       "      <td>0</td>\n",
       "      <td>480.0</td>\n",
       "      <td>2</td>\n",
       "    </tr>\n",
       "    <tr>\n",
       "      <th>2</th>\n",
       "      <td>3</td>\n",
       "      <td>1</td>\n",
       "      <td>3</td>\n",
       "      <td>Heikkinen, Miss. Laina</td>\n",
       "      <td>female</td>\n",
       "      <td>26.0</td>\n",
       "      <td>0</td>\n",
       "      <td>0</td>\n",
       "      <td>STON/O2. 3101282</td>\n",
       "      <td>7.9250</td>\n",
       "      <td>NaN</td>\n",
       "      <td>S</td>\n",
       "      <td>0</td>\n",
       "      <td>360.0</td>\n",
       "      <td>1</td>\n",
       "    </tr>\n",
       "  </tbody>\n",
       "</table>\n",
       "</div>"
      ],
      "text/plain": [
       "   PassengerId  Survived  Pclass  \\\n",
       "0            1         0       3   \n",
       "1            2         1       1   \n",
       "2            3         1       3   \n",
       "\n",
       "                                                Name     Sex   Age  SibSp  \\\n",
       "0                            Braund, Mr. Owen Harris    male  22.0      1   \n",
       "1  Cumings, Mrs. John Bradley (Florence Briggs Th...  female  38.0      1   \n",
       "2                             Heikkinen, Miss. Laina  female  26.0      0   \n",
       "\n",
       "   Parch            Ticket     Fare Cabin Embarked  Age_0  Age_by_10  \\\n",
       "0      0         A/5 21171   7.2500   NaN        S      0      320.0   \n",
       "1      0          PC 17599  71.2833   C85        C      0      480.0   \n",
       "2      0  STON/O2. 3101282   7.9250   NaN        S      0      360.0   \n",
       "\n",
       "   Family_No  \n",
       "0          2  \n",
       "1          2  \n",
       "2          1  "
      ]
     },
     "execution_count": 55,
     "metadata": {},
     "output_type": "execute_result"
    }
   ],
   "source": [
    "titanic_df.head(3)"
   ]
  },
  {
   "cell_type": "markdown",
   "metadata": {
    "id": "9eXxTWTAgGtR"
   },
   "source": [
    "'Age_0' 칼럼이 여전히 존재\n",
    "\n",
    "-> inplace=False 로 설정했기 때문\n",
    "\n",
    "-> 자기 자신의 DataFrame 데이터는 삭제하지 않으며 & 삭제한 결과를 반환"
   ]
  },
  {
   "cell_type": "code",
   "execution_count": 56,
   "metadata": {
    "colab": {
     "base_uri": "https://localhost:8080/",
     "height": 161
    },
    "id": "hDdV9WRWgANp",
    "outputId": "6b7a5652-d3c4-46fc-f305-a6ea28743722"
   },
   "outputs": [
    {
     "name": "stdout",
     "output_type": "stream",
     "text": [
      " inplace=True 로 drop 후 반환된 값: None\n"
     ]
    },
    {
     "data": {
      "text/html": [
       "<div>\n",
       "<style scoped>\n",
       "    .dataframe tbody tr th:only-of-type {\n",
       "        vertical-align: middle;\n",
       "    }\n",
       "\n",
       "    .dataframe tbody tr th {\n",
       "        vertical-align: top;\n",
       "    }\n",
       "\n",
       "    .dataframe thead th {\n",
       "        text-align: right;\n",
       "    }\n",
       "</style>\n",
       "<table border=\"1\" class=\"dataframe\">\n",
       "  <thead>\n",
       "    <tr style=\"text-align: right;\">\n",
       "      <th></th>\n",
       "      <th>PassengerId</th>\n",
       "      <th>Survived</th>\n",
       "      <th>Pclass</th>\n",
       "      <th>Name</th>\n",
       "      <th>Sex</th>\n",
       "      <th>Age</th>\n",
       "      <th>SibSp</th>\n",
       "      <th>Parch</th>\n",
       "      <th>Ticket</th>\n",
       "      <th>Fare</th>\n",
       "      <th>Cabin</th>\n",
       "      <th>Embarked</th>\n",
       "    </tr>\n",
       "  </thead>\n",
       "  <tbody>\n",
       "    <tr>\n",
       "      <th>0</th>\n",
       "      <td>1</td>\n",
       "      <td>0</td>\n",
       "      <td>3</td>\n",
       "      <td>Braund, Mr. Owen Harris</td>\n",
       "      <td>male</td>\n",
       "      <td>22.0</td>\n",
       "      <td>1</td>\n",
       "      <td>0</td>\n",
       "      <td>A/5 21171</td>\n",
       "      <td>7.2500</td>\n",
       "      <td>NaN</td>\n",
       "      <td>S</td>\n",
       "    </tr>\n",
       "    <tr>\n",
       "      <th>1</th>\n",
       "      <td>2</td>\n",
       "      <td>1</td>\n",
       "      <td>1</td>\n",
       "      <td>Cumings, Mrs. John Bradley (Florence Briggs Th...</td>\n",
       "      <td>female</td>\n",
       "      <td>38.0</td>\n",
       "      <td>1</td>\n",
       "      <td>0</td>\n",
       "      <td>PC 17599</td>\n",
       "      <td>71.2833</td>\n",
       "      <td>C85</td>\n",
       "      <td>C</td>\n",
       "    </tr>\n",
       "    <tr>\n",
       "      <th>2</th>\n",
       "      <td>3</td>\n",
       "      <td>1</td>\n",
       "      <td>3</td>\n",
       "      <td>Heikkinen, Miss. Laina</td>\n",
       "      <td>female</td>\n",
       "      <td>26.0</td>\n",
       "      <td>0</td>\n",
       "      <td>0</td>\n",
       "      <td>STON/O2. 3101282</td>\n",
       "      <td>7.9250</td>\n",
       "      <td>NaN</td>\n",
       "      <td>S</td>\n",
       "    </tr>\n",
       "  </tbody>\n",
       "</table>\n",
       "</div>"
      ],
      "text/plain": [
       "   PassengerId  Survived  Pclass  \\\n",
       "0            1         0       3   \n",
       "1            2         1       1   \n",
       "2            3         1       3   \n",
       "\n",
       "                                                Name     Sex   Age  SibSp  \\\n",
       "0                            Braund, Mr. Owen Harris    male  22.0      1   \n",
       "1  Cumings, Mrs. John Bradley (Florence Briggs Th...  female  38.0      1   \n",
       "2                             Heikkinen, Miss. Laina  female  26.0      0   \n",
       "\n",
       "   Parch            Ticket     Fare Cabin Embarked  \n",
       "0      0         A/5 21171   7.2500   NaN        S  \n",
       "1      0          PC 17599  71.2833   C85        C  \n",
       "2      0  STON/O2. 3101282   7.9250   NaN        S  "
      ]
     },
     "execution_count": 56,
     "metadata": {},
     "output_type": "execute_result"
    }
   ],
   "source": [
    "drop_result = titanic_df.drop(['Age_0', 'Age_by_10', 'Family_No'], axis=1, inplace=True) # inplace=True -> 원 데이터를 변환\n",
    "print(' inplace=True 로 drop 후 반환된 값:',drop_result)\n",
    "titanic_df.head(3)"
   ]
  },
  {
   "cell_type": "markdown",
   "metadata": {
    "id": "wnHHuiGghKzg"
   },
   "source": [
    "axis=0 으로 index 0, 1, 2(맨 앞 3개 데이터) 로우를 삭제"
   ]
  },
  {
   "cell_type": "code",
   "execution_count": 57,
   "metadata": {
    "colab": {
     "base_uri": "https://localhost:8080/"
    },
    "id": "8WyeAkKgg3wV",
    "outputId": "b1e5ca8c-843c-454a-a935-5b21e3d2f4ab"
   },
   "outputs": [
    {
     "name": "stdout",
     "output_type": "stream",
     "text": [
      "#### before axis 0 drop ####\n",
      "   PassengerId  Survived  Pclass            Name     Sex   Age  SibSp  Parch          Ticket     Fare Cabin Embarked\n",
      "0            1         0       3  Braund, Mr....    male  22.0      1      0       A/5 21171   7.2500   NaN        S\n",
      "1            2         1       1  Cumings, Mr...  female  38.0      1      0        PC 17599  71.2833   C85        C\n",
      "2            3         1       3  Heikkinen, ...  female  26.0      0      0  STON/O2. 31...   7.9250   NaN        S\n",
      "#### after axis 0 drop ####\n",
      "   PassengerId  Survived  Pclass            Name     Sex   Age  SibSp  Parch  Ticket     Fare Cabin Embarked\n",
      "3            4         1       1  Futrelle, M...  female  35.0      1      0  113803  53.1000  C123        S\n",
      "4            5         0       3  Allen, Mr. ...    male  35.0      0      0  373450   8.0500   NaN        S\n",
      "5            6         0       3  Moran, Mr. ...    male   NaN      0      0  330877   8.4583   NaN        Q\n"
     ]
    }
   ],
   "source": [
    "pd.set_option('display.width', 1000)\n",
    "pd.set_option('display.max_colwidth', 15)\n",
    "print('#### before axis 0 drop ####')\n",
    "print(titanic_df.head(3))\n",
    "\n",
    "titanic_df.drop([0,1,2], axis=0, inplace=True)\n",
    "\n",
    "print('#### after axis 0 drop ####')\n",
    "print(titanic_df.head(3))"
   ]
  },
  {
   "cell_type": "markdown",
   "metadata": {
    "id": "XFFnDxpUhmGT"
   },
   "source": [
    "<정리> 58p.\n",
    "\n",
    "\n",
    "\n",
    "*   axis : DataFrame의 로우를 삭제할 때는 axis=0, 칼럼을 삭제할 때는 axis=1 로 설정\n",
    "*   원본 DataFrame은 유지&드롭된 DataFrame을 새롭게 객체 변수로 받을 때 -> inplace=False\n",
    "*   원본 DataFrame에 드롭된 결과를 적용 -> inplace=True\n",
    "\n",
    "\n"
   ]
  },
  {
   "cell_type": "markdown",
   "metadata": {
    "id": "UBy7DsgeiQAB"
   },
   "source": [
    "### Index 객체"
   ]
  },
  {
   "cell_type": "code",
   "execution_count": 58,
   "metadata": {
    "colab": {
     "base_uri": "https://localhost:8080/"
    },
    "id": "31viob3xhZVd",
    "outputId": "d0bf2ca8-8fc9-4191-a56e-afb068b41a25"
   },
   "outputs": [
    {
     "name": "stdout",
     "output_type": "stream",
     "text": [
      "RangeIndex(start=0, stop=891, step=1)\n",
      "Index 객체 array값:\n",
      " [  0   1   2   3   4   5   6   7   8   9  10  11  12  13  14  15  16  17\n",
      "  18  19  20  21  22  23  24  25  26  27  28  29  30  31  32  33  34  35\n",
      "  36  37  38  39  40  41  42  43  44  45  46  47  48  49  50  51  52  53\n",
      "  54  55  56  57  58  59  60  61  62  63  64  65  66  67  68  69  70  71\n",
      "  72  73  74  75  76  77  78  79  80  81  82  83  84  85  86  87  88  89\n",
      "  90  91  92  93  94  95  96  97  98  99 100 101 102 103 104 105 106 107\n",
      " 108 109 110 111 112 113 114 115 116 117 118 119 120 121 122 123 124 125\n",
      " 126 127 128 129 130 131 132 133 134 135 136 137 138 139 140 141 142 143\n",
      " 144 145 146 147 148 149 150 151 152 153 154 155 156 157 158 159 160 161\n",
      " 162 163 164 165 166 167 168 169 170 171 172 173 174 175 176 177 178 179\n",
      " 180 181 182 183 184 185 186 187 188 189 190 191 192 193 194 195 196 197\n",
      " 198 199 200 201 202 203 204 205 206 207 208 209 210 211 212 213 214 215\n",
      " 216 217 218 219 220 221 222 223 224 225 226 227 228 229 230 231 232 233\n",
      " 234 235 236 237 238 239 240 241 242 243 244 245 246 247 248 249 250 251\n",
      " 252 253 254 255 256 257 258 259 260 261 262 263 264 265 266 267 268 269\n",
      " 270 271 272 273 274 275 276 277 278 279 280 281 282 283 284 285 286 287\n",
      " 288 289 290 291 292 293 294 295 296 297 298 299 300 301 302 303 304 305\n",
      " 306 307 308 309 310 311 312 313 314 315 316 317 318 319 320 321 322 323\n",
      " 324 325 326 327 328 329 330 331 332 333 334 335 336 337 338 339 340 341\n",
      " 342 343 344 345 346 347 348 349 350 351 352 353 354 355 356 357 358 359\n",
      " 360 361 362 363 364 365 366 367 368 369 370 371 372 373 374 375 376 377\n",
      " 378 379 380 381 382 383 384 385 386 387 388 389 390 391 392 393 394 395\n",
      " 396 397 398 399 400 401 402 403 404 405 406 407 408 409 410 411 412 413\n",
      " 414 415 416 417 418 419 420 421 422 423 424 425 426 427 428 429 430 431\n",
      " 432 433 434 435 436 437 438 439 440 441 442 443 444 445 446 447 448 449\n",
      " 450 451 452 453 454 455 456 457 458 459 460 461 462 463 464 465 466 467\n",
      " 468 469 470 471 472 473 474 475 476 477 478 479 480 481 482 483 484 485\n",
      " 486 487 488 489 490 491 492 493 494 495 496 497 498 499 500 501 502 503\n",
      " 504 505 506 507 508 509 510 511 512 513 514 515 516 517 518 519 520 521\n",
      " 522 523 524 525 526 527 528 529 530 531 532 533 534 535 536 537 538 539\n",
      " 540 541 542 543 544 545 546 547 548 549 550 551 552 553 554 555 556 557\n",
      " 558 559 560 561 562 563 564 565 566 567 568 569 570 571 572 573 574 575\n",
      " 576 577 578 579 580 581 582 583 584 585 586 587 588 589 590 591 592 593\n",
      " 594 595 596 597 598 599 600 601 602 603 604 605 606 607 608 609 610 611\n",
      " 612 613 614 615 616 617 618 619 620 621 622 623 624 625 626 627 628 629\n",
      " 630 631 632 633 634 635 636 637 638 639 640 641 642 643 644 645 646 647\n",
      " 648 649 650 651 652 653 654 655 656 657 658 659 660 661 662 663 664 665\n",
      " 666 667 668 669 670 671 672 673 674 675 676 677 678 679 680 681 682 683\n",
      " 684 685 686 687 688 689 690 691 692 693 694 695 696 697 698 699 700 701\n",
      " 702 703 704 705 706 707 708 709 710 711 712 713 714 715 716 717 718 719\n",
      " 720 721 722 723 724 725 726 727 728 729 730 731 732 733 734 735 736 737\n",
      " 738 739 740 741 742 743 744 745 746 747 748 749 750 751 752 753 754 755\n",
      " 756 757 758 759 760 761 762 763 764 765 766 767 768 769 770 771 772 773\n",
      " 774 775 776 777 778 779 780 781 782 783 784 785 786 787 788 789 790 791\n",
      " 792 793 794 795 796 797 798 799 800 801 802 803 804 805 806 807 808 809\n",
      " 810 811 812 813 814 815 816 817 818 819 820 821 822 823 824 825 826 827\n",
      " 828 829 830 831 832 833 834 835 836 837 838 839 840 841 842 843 844 845\n",
      " 846 847 848 849 850 851 852 853 854 855 856 857 858 859 860 861 862 863\n",
      " 864 865 866 867 868 869 870 871 872 873 874 875 876 877 878 879 880 881\n",
      " 882 883 884 885 886 887 888 889 890]\n"
     ]
    }
   ],
   "source": [
    "# 원본 파일 재 로딩 \n",
    "titanic_df = pd.read_csv('titanic_train.csv')\n",
    "# Index 객체 추출\n",
    "indexes = titanic_df.index\n",
    "print(indexes)\n",
    "# Index 객체를 실제 값 arrray로 변환 \n",
    "print('Index 객체 array값:\\n',indexes.values)"
   ]
  },
  {
   "cell_type": "code",
   "execution_count": 59,
   "metadata": {
    "colab": {
     "base_uri": "https://localhost:8080/"
    },
    "id": "YDhIGbagidXZ",
    "outputId": "f59e1a22-f90d-4eff-cf2f-e0b0d2fdb81d"
   },
   "outputs": [
    {
     "name": "stdout",
     "output_type": "stream",
     "text": [
      "<class 'numpy.ndarray'>\n",
      "(891,)\n",
      "[0 1 2 3 4]\n",
      "[0 1 2 3 4]\n",
      "6\n"
     ]
    }
   ],
   "source": [
    "print(type(indexes.values))\n",
    "print(indexes.values.shape)\n",
    "print(indexes[:5].values)\n",
    "print(indexes.values[:5])\n",
    "print(indexes[6])"
   ]
  },
  {
   "cell_type": "markdown",
   "metadata": {
    "id": "ffnghPLOjK_J"
   },
   "source": [
    "Index 객체의 값은 변경 불가, 오직 식별용"
   ]
  },
  {
   "cell_type": "code",
   "execution_count": 60,
   "metadata": {
    "colab": {
     "base_uri": "https://localhost:8080/",
     "height": 299
    },
    "id": "ekR6QuIai8wG",
    "outputId": "60ee53bc-7257-4331-fc33-c41efe773f2a"
   },
   "outputs": [
    {
     "ename": "TypeError",
     "evalue": "Index does not support mutable operations",
     "output_type": "error",
     "traceback": [
      "\u001b[1;31m---------------------------------------------------------------------------\u001b[0m",
      "\u001b[1;31mTypeError\u001b[0m                                 Traceback (most recent call last)",
      "\u001b[1;32m~\\AppData\\Local\\Temp\\ipykernel_10908\\1439934777.py\u001b[0m in \u001b[0;36m<module>\u001b[1;34m\u001b[0m\n\u001b[1;32m----> 1\u001b[1;33m \u001b[0mindexes\u001b[0m\u001b[1;33m[\u001b[0m\u001b[1;36m0\u001b[0m\u001b[1;33m]\u001b[0m \u001b[1;33m=\u001b[0m \u001b[1;36m5\u001b[0m\u001b[1;33m\u001b[0m\u001b[1;33m\u001b[0m\u001b[0m\n\u001b[0m",
      "\u001b[1;32m~\\anaconda3\\lib\\site-packages\\pandas\\core\\indexes\\base.py\u001b[0m in \u001b[0;36m__setitem__\u001b[1;34m(self, key, value)\u001b[0m\n\u001b[0;32m   5033\u001b[0m     \u001b[1;33m@\u001b[0m\u001b[0mfinal\u001b[0m\u001b[1;33m\u001b[0m\u001b[1;33m\u001b[0m\u001b[0m\n\u001b[0;32m   5034\u001b[0m     \u001b[1;32mdef\u001b[0m \u001b[0m__setitem__\u001b[0m\u001b[1;33m(\u001b[0m\u001b[0mself\u001b[0m\u001b[1;33m,\u001b[0m \u001b[0mkey\u001b[0m\u001b[1;33m,\u001b[0m \u001b[0mvalue\u001b[0m\u001b[1;33m)\u001b[0m\u001b[1;33m:\u001b[0m\u001b[1;33m\u001b[0m\u001b[1;33m\u001b[0m\u001b[0m\n\u001b[1;32m-> 5035\u001b[1;33m         \u001b[1;32mraise\u001b[0m \u001b[0mTypeError\u001b[0m\u001b[1;33m(\u001b[0m\u001b[1;34m\"Index does not support mutable operations\"\u001b[0m\u001b[1;33m)\u001b[0m\u001b[1;33m\u001b[0m\u001b[1;33m\u001b[0m\u001b[0m\n\u001b[0m\u001b[0;32m   5036\u001b[0m \u001b[1;33m\u001b[0m\u001b[0m\n\u001b[0;32m   5037\u001b[0m     \u001b[1;32mdef\u001b[0m \u001b[0m__getitem__\u001b[0m\u001b[1;33m(\u001b[0m\u001b[0mself\u001b[0m\u001b[1;33m,\u001b[0m \u001b[0mkey\u001b[0m\u001b[1;33m)\u001b[0m\u001b[1;33m:\u001b[0m\u001b[1;33m\u001b[0m\u001b[1;33m\u001b[0m\u001b[0m\n",
      "\u001b[1;31mTypeError\u001b[0m: Index does not support mutable operations"
     ]
    }
   ],
   "source": [
    "indexes[0] = 5"
   ]
  },
  {
   "cell_type": "code",
   "execution_count": 61,
   "metadata": {
    "colab": {
     "base_uri": "https://localhost:8080/"
    },
    "id": "b2v6nKEQkHM2",
    "outputId": "367a5cba-6fcf-4994-95ed-904a1353a4ef"
   },
   "outputs": [
    {
     "name": "stdout",
     "output_type": "stream",
     "text": [
      "Fair Series max 값: 512.3292\n",
      "Fair Series sum 값: 28693.9493\n",
      "sum() Fair Series: 28693.949299999967\n",
      "Fair Series + 3:\n",
      " 0    10.2500\n",
      "1    74.2833\n",
      "2    10.9250\n",
      "Name: Fare, dtype: float64\n"
     ]
    }
   ],
   "source": [
    "series_fair = titanic_df['Fare']\n",
    "print('Fair Series max 값:', series_fair.max())\n",
    "print('Fair Series sum 값:', series_fair.sum())\n",
    "print('sum() Fair Series:', sum(series_fair))\n",
    "print('Fair Series + 3:\\n',(series_fair + 3).head(3) )"
   ]
  },
  {
   "cell_type": "markdown",
   "metadata": {
    "id": "rBgy7z2djsJd"
   },
   "source": [
    "reset_index()\n",
    "\n",
    "\n",
    "*  새롭게 인덱스를 연속 숫자형으로 할당\n",
    "*  기존의 인덱스는 'index'라는 새로운 칼럼명으로 추가된다"
   ]
  },
  {
   "cell_type": "code",
   "execution_count": 62,
   "metadata": {
    "colab": {
     "base_uri": "https://localhost:8080/",
     "height": 143
    },
    "id": "UZomM9l1jIdb",
    "outputId": "d4348ed3-1241-444c-af25-4d470000946e"
   },
   "outputs": [
    {
     "data": {
      "text/html": [
       "<div>\n",
       "<style scoped>\n",
       "    .dataframe tbody tr th:only-of-type {\n",
       "        vertical-align: middle;\n",
       "    }\n",
       "\n",
       "    .dataframe tbody tr th {\n",
       "        vertical-align: top;\n",
       "    }\n",
       "\n",
       "    .dataframe thead th {\n",
       "        text-align: right;\n",
       "    }\n",
       "</style>\n",
       "<table border=\"1\" class=\"dataframe\">\n",
       "  <thead>\n",
       "    <tr style=\"text-align: right;\">\n",
       "      <th></th>\n",
       "      <th>index</th>\n",
       "      <th>PassengerId</th>\n",
       "      <th>Survived</th>\n",
       "      <th>Pclass</th>\n",
       "      <th>Name</th>\n",
       "      <th>Sex</th>\n",
       "      <th>Age</th>\n",
       "      <th>SibSp</th>\n",
       "      <th>Parch</th>\n",
       "      <th>Ticket</th>\n",
       "      <th>Fare</th>\n",
       "      <th>Cabin</th>\n",
       "      <th>Embarked</th>\n",
       "    </tr>\n",
       "  </thead>\n",
       "  <tbody>\n",
       "    <tr>\n",
       "      <th>0</th>\n",
       "      <td>0</td>\n",
       "      <td>1</td>\n",
       "      <td>0</td>\n",
       "      <td>3</td>\n",
       "      <td>Braund, Mr....</td>\n",
       "      <td>male</td>\n",
       "      <td>22.0</td>\n",
       "      <td>1</td>\n",
       "      <td>0</td>\n",
       "      <td>A/5 21171</td>\n",
       "      <td>7.2500</td>\n",
       "      <td>NaN</td>\n",
       "      <td>S</td>\n",
       "    </tr>\n",
       "    <tr>\n",
       "      <th>1</th>\n",
       "      <td>1</td>\n",
       "      <td>2</td>\n",
       "      <td>1</td>\n",
       "      <td>1</td>\n",
       "      <td>Cumings, Mr...</td>\n",
       "      <td>female</td>\n",
       "      <td>38.0</td>\n",
       "      <td>1</td>\n",
       "      <td>0</td>\n",
       "      <td>PC 17599</td>\n",
       "      <td>71.2833</td>\n",
       "      <td>C85</td>\n",
       "      <td>C</td>\n",
       "    </tr>\n",
       "    <tr>\n",
       "      <th>2</th>\n",
       "      <td>2</td>\n",
       "      <td>3</td>\n",
       "      <td>1</td>\n",
       "      <td>3</td>\n",
       "      <td>Heikkinen, ...</td>\n",
       "      <td>female</td>\n",
       "      <td>26.0</td>\n",
       "      <td>0</td>\n",
       "      <td>0</td>\n",
       "      <td>STON/O2. 31...</td>\n",
       "      <td>7.9250</td>\n",
       "      <td>NaN</td>\n",
       "      <td>S</td>\n",
       "    </tr>\n",
       "  </tbody>\n",
       "</table>\n",
       "</div>"
      ],
      "text/plain": [
       "   index  PassengerId  Survived  Pclass            Name     Sex   Age  SibSp  Parch          Ticket     Fare Cabin Embarked\n",
       "0      0            1         0       3  Braund, Mr....    male  22.0      1      0       A/5 21171   7.2500   NaN        S\n",
       "1      1            2         1       1  Cumings, Mr...  female  38.0      1      0        PC 17599  71.2833   C85        C\n",
       "2      2            3         1       3  Heikkinen, ...  female  26.0      0      0  STON/O2. 31...   7.9250   NaN        S"
      ]
     },
     "execution_count": 62,
     "metadata": {},
     "output_type": "execute_result"
    }
   ],
   "source": [
    "titanic_reset_df = titanic_df.reset_index(inplace=False)\n",
    "titanic_reset_df.head(3)"
   ]
  },
  {
   "cell_type": "markdown",
   "metadata": {
    "id": "kniTFwiHkpcu"
   },
   "source": [
    "Series에 reset_index()를 적용하면 DataFrame이 반환\n",
    "\n",
    "(기존 인덱스가 칼럼으로 추가되어 칼럼이 2개가 되기 때문)"
   ]
  },
  {
   "cell_type": "code",
   "execution_count": 63,
   "metadata": {
    "colab": {
     "base_uri": "https://localhost:8080/"
    },
    "id": "pZ3SBzhcjhlX",
    "outputId": "f473274f-5b21-40a4-e96a-9fa35a5a52c4"
   },
   "outputs": [
    {
     "name": "stdout",
     "output_type": "stream",
     "text": [
      "### before reset_index ###\n",
      "3    491\n",
      "1    216\n",
      "2    184\n",
      "Name: Pclass, dtype: int64\n",
      "value_counts 객체 변수 타입: <class 'pandas.core.series.Series'>\n",
      "### After reset_index ###\n",
      "   index  Pclass\n",
      "0      3     491\n",
      "1      1     216\n",
      "2      2     184\n",
      "new_value_counts 객체 변수 타입: <class 'pandas.core.frame.DataFrame'>\n"
     ]
    }
   ],
   "source": [
    "print('### before reset_index ###')\n",
    "\n",
    "value_counts = titanic_df['Pclass'].value_counts()\n",
    "print(value_counts)\n",
    "print('value_counts 객체 변수 타입:',type(value_counts))\n",
    "\n",
    "new_value_counts = value_counts.reset_index(inplace=False)\n",
    "\n",
    "print('### After reset_index ###')\n",
    "\n",
    "print(new_value_counts)\n",
    "print('new_value_counts 객체 변수 타입:',type(new_value_counts))"
   ]
  },
  {
   "cell_type": "markdown",
   "metadata": {
    "id": "3UY9Cju0k9De"
   },
   "source": [
    "reset_index()의 parameter 중 drop=True로 설정하면 기존 인덱스가 삭제됨\n",
    "\n",
    "새로운 칼럼이 추가되지 않음 & 그대로 Series로 유지됨"
   ]
  },
  {
   "cell_type": "markdown",
   "metadata": {
    "id": "JFy7eJJJlTF1"
   },
   "source": [
    "### 데이터 셀렉션 및 필터링"
   ]
  },
  {
   "cell_type": "markdown",
   "metadata": {
    "id": "2P48gpaRlYYR"
   },
   "source": [
    "#### DataFrame의 [ ] 연산자"
   ]
  },
  {
   "cell_type": "markdown",
   "metadata": {
    "id": "jY1SUv1elvXw"
   },
   "source": [
    "DataFrame 뒤의 [ ] 에는 칼럼명을 지정(숫자는 안됨)"
   ]
  },
  {
   "cell_type": "code",
   "execution_count": 64,
   "metadata": {
    "colab": {
     "base_uri": "https://localhost:8080/",
     "height": 720
    },
    "id": "mDMtvLwpkO11",
    "outputId": "6e865fdb-5afe-4e53-d89d-28d96f605b5d"
   },
   "outputs": [
    {
     "name": "stdout",
     "output_type": "stream",
     "text": [
      "단일 컬럼 데이터 추출:\n",
      " 0    3\n",
      "1    1\n",
      "2    3\n",
      "Name: Pclass, dtype: int64\n",
      "\n",
      "여러 컬럼들의 데이터 추출:\n",
      "    Survived  Pclass\n",
      "0         0       3\n",
      "1         1       1\n",
      "2         1       3\n"
     ]
    },
    {
     "ename": "KeyError",
     "evalue": "0",
     "output_type": "error",
     "traceback": [
      "\u001b[1;31m---------------------------------------------------------------------------\u001b[0m",
      "\u001b[1;31mKeyError\u001b[0m                                  Traceback (most recent call last)",
      "\u001b[1;32m~\\anaconda3\\lib\\site-packages\\pandas\\core\\indexes\\base.py\u001b[0m in \u001b[0;36mget_loc\u001b[1;34m(self, key, method, tolerance)\u001b[0m\n\u001b[0;32m   3628\u001b[0m             \u001b[1;32mtry\u001b[0m\u001b[1;33m:\u001b[0m\u001b[1;33m\u001b[0m\u001b[1;33m\u001b[0m\u001b[0m\n\u001b[1;32m-> 3629\u001b[1;33m                 \u001b[1;32mreturn\u001b[0m \u001b[0mself\u001b[0m\u001b[1;33m.\u001b[0m\u001b[0m_engine\u001b[0m\u001b[1;33m.\u001b[0m\u001b[0mget_loc\u001b[0m\u001b[1;33m(\u001b[0m\u001b[0mcasted_key\u001b[0m\u001b[1;33m)\u001b[0m\u001b[1;33m\u001b[0m\u001b[1;33m\u001b[0m\u001b[0m\n\u001b[0m\u001b[0;32m   3630\u001b[0m             \u001b[1;32mexcept\u001b[0m \u001b[0mKeyError\u001b[0m \u001b[1;32mas\u001b[0m \u001b[0merr\u001b[0m\u001b[1;33m:\u001b[0m\u001b[1;33m\u001b[0m\u001b[1;33m\u001b[0m\u001b[0m\n",
      "\u001b[1;32m~\\anaconda3\\lib\\site-packages\\pandas\\_libs\\index.pyx\u001b[0m in \u001b[0;36mpandas._libs.index.IndexEngine.get_loc\u001b[1;34m()\u001b[0m\n",
      "\u001b[1;32m~\\anaconda3\\lib\\site-packages\\pandas\\_libs\\index.pyx\u001b[0m in \u001b[0;36mpandas._libs.index.IndexEngine.get_loc\u001b[1;34m()\u001b[0m\n",
      "\u001b[1;32mpandas\\_libs\\hashtable_class_helper.pxi\u001b[0m in \u001b[0;36mpandas._libs.hashtable.PyObjectHashTable.get_item\u001b[1;34m()\u001b[0m\n",
      "\u001b[1;32mpandas\\_libs\\hashtable_class_helper.pxi\u001b[0m in \u001b[0;36mpandas._libs.hashtable.PyObjectHashTable.get_item\u001b[1;34m()\u001b[0m\n",
      "\u001b[1;31mKeyError\u001b[0m: 0",
      "\nThe above exception was the direct cause of the following exception:\n",
      "\u001b[1;31mKeyError\u001b[0m                                  Traceback (most recent call last)",
      "\u001b[1;32m~\\AppData\\Local\\Temp\\ipykernel_10908\\227810055.py\u001b[0m in \u001b[0;36m<module>\u001b[1;34m\u001b[0m\n\u001b[0;32m      1\u001b[0m \u001b[0mprint\u001b[0m\u001b[1;33m(\u001b[0m\u001b[1;34m'단일 컬럼 데이터 추출:\\n'\u001b[0m\u001b[1;33m,\u001b[0m \u001b[0mtitanic_df\u001b[0m\u001b[1;33m[\u001b[0m \u001b[1;34m'Pclass'\u001b[0m \u001b[1;33m]\u001b[0m\u001b[1;33m.\u001b[0m\u001b[0mhead\u001b[0m\u001b[1;33m(\u001b[0m\u001b[1;36m3\u001b[0m\u001b[1;33m)\u001b[0m\u001b[1;33m)\u001b[0m\u001b[1;33m\u001b[0m\u001b[1;33m\u001b[0m\u001b[0m\n\u001b[0;32m      2\u001b[0m \u001b[0mprint\u001b[0m\u001b[1;33m(\u001b[0m\u001b[1;34m'\\n여러 컬럼들의 데이터 추출:\\n'\u001b[0m\u001b[1;33m,\u001b[0m \u001b[0mtitanic_df\u001b[0m\u001b[1;33m[\u001b[0m \u001b[1;33m[\u001b[0m\u001b[1;34m'Survived'\u001b[0m\u001b[1;33m,\u001b[0m \u001b[1;34m'Pclass'\u001b[0m\u001b[1;33m]\u001b[0m \u001b[1;33m]\u001b[0m\u001b[1;33m.\u001b[0m\u001b[0mhead\u001b[0m\u001b[1;33m(\u001b[0m\u001b[1;36m3\u001b[0m\u001b[1;33m)\u001b[0m\u001b[1;33m)\u001b[0m\u001b[1;33m\u001b[0m\u001b[1;33m\u001b[0m\u001b[0m\n\u001b[1;32m----> 3\u001b[1;33m \u001b[0mprint\u001b[0m\u001b[1;33m(\u001b[0m\u001b[1;34m'[ ] 안에 숫자 index는 KeyError 오류 발생:\\n'\u001b[0m\u001b[1;33m,\u001b[0m \u001b[0mtitanic_df\u001b[0m\u001b[1;33m[\u001b[0m\u001b[1;36m0\u001b[0m\u001b[1;33m]\u001b[0m\u001b[1;33m)\u001b[0m\u001b[1;33m\u001b[0m\u001b[1;33m\u001b[0m\u001b[0m\n\u001b[0m",
      "\u001b[1;32m~\\anaconda3\\lib\\site-packages\\pandas\\core\\frame.py\u001b[0m in \u001b[0;36m__getitem__\u001b[1;34m(self, key)\u001b[0m\n\u001b[0;32m   3503\u001b[0m             \u001b[1;32mif\u001b[0m \u001b[0mself\u001b[0m\u001b[1;33m.\u001b[0m\u001b[0mcolumns\u001b[0m\u001b[1;33m.\u001b[0m\u001b[0mnlevels\u001b[0m \u001b[1;33m>\u001b[0m \u001b[1;36m1\u001b[0m\u001b[1;33m:\u001b[0m\u001b[1;33m\u001b[0m\u001b[1;33m\u001b[0m\u001b[0m\n\u001b[0;32m   3504\u001b[0m                 \u001b[1;32mreturn\u001b[0m \u001b[0mself\u001b[0m\u001b[1;33m.\u001b[0m\u001b[0m_getitem_multilevel\u001b[0m\u001b[1;33m(\u001b[0m\u001b[0mkey\u001b[0m\u001b[1;33m)\u001b[0m\u001b[1;33m\u001b[0m\u001b[1;33m\u001b[0m\u001b[0m\n\u001b[1;32m-> 3505\u001b[1;33m             \u001b[0mindexer\u001b[0m \u001b[1;33m=\u001b[0m \u001b[0mself\u001b[0m\u001b[1;33m.\u001b[0m\u001b[0mcolumns\u001b[0m\u001b[1;33m.\u001b[0m\u001b[0mget_loc\u001b[0m\u001b[1;33m(\u001b[0m\u001b[0mkey\u001b[0m\u001b[1;33m)\u001b[0m\u001b[1;33m\u001b[0m\u001b[1;33m\u001b[0m\u001b[0m\n\u001b[0m\u001b[0;32m   3506\u001b[0m             \u001b[1;32mif\u001b[0m \u001b[0mis_integer\u001b[0m\u001b[1;33m(\u001b[0m\u001b[0mindexer\u001b[0m\u001b[1;33m)\u001b[0m\u001b[1;33m:\u001b[0m\u001b[1;33m\u001b[0m\u001b[1;33m\u001b[0m\u001b[0m\n\u001b[0;32m   3507\u001b[0m                 \u001b[0mindexer\u001b[0m \u001b[1;33m=\u001b[0m \u001b[1;33m[\u001b[0m\u001b[0mindexer\u001b[0m\u001b[1;33m]\u001b[0m\u001b[1;33m\u001b[0m\u001b[1;33m\u001b[0m\u001b[0m\n",
      "\u001b[1;32m~\\anaconda3\\lib\\site-packages\\pandas\\core\\indexes\\base.py\u001b[0m in \u001b[0;36mget_loc\u001b[1;34m(self, key, method, tolerance)\u001b[0m\n\u001b[0;32m   3629\u001b[0m                 \u001b[1;32mreturn\u001b[0m \u001b[0mself\u001b[0m\u001b[1;33m.\u001b[0m\u001b[0m_engine\u001b[0m\u001b[1;33m.\u001b[0m\u001b[0mget_loc\u001b[0m\u001b[1;33m(\u001b[0m\u001b[0mcasted_key\u001b[0m\u001b[1;33m)\u001b[0m\u001b[1;33m\u001b[0m\u001b[1;33m\u001b[0m\u001b[0m\n\u001b[0;32m   3630\u001b[0m             \u001b[1;32mexcept\u001b[0m \u001b[0mKeyError\u001b[0m \u001b[1;32mas\u001b[0m \u001b[0merr\u001b[0m\u001b[1;33m:\u001b[0m\u001b[1;33m\u001b[0m\u001b[1;33m\u001b[0m\u001b[0m\n\u001b[1;32m-> 3631\u001b[1;33m                 \u001b[1;32mraise\u001b[0m \u001b[0mKeyError\u001b[0m\u001b[1;33m(\u001b[0m\u001b[0mkey\u001b[0m\u001b[1;33m)\u001b[0m \u001b[1;32mfrom\u001b[0m \u001b[0merr\u001b[0m\u001b[1;33m\u001b[0m\u001b[1;33m\u001b[0m\u001b[0m\n\u001b[0m\u001b[0;32m   3632\u001b[0m             \u001b[1;32mexcept\u001b[0m \u001b[0mTypeError\u001b[0m\u001b[1;33m:\u001b[0m\u001b[1;33m\u001b[0m\u001b[1;33m\u001b[0m\u001b[0m\n\u001b[0;32m   3633\u001b[0m                 \u001b[1;31m# If we have a listlike key, _check_indexing_error will raise\u001b[0m\u001b[1;33m\u001b[0m\u001b[1;33m\u001b[0m\u001b[0m\n",
      "\u001b[1;31mKeyError\u001b[0m: 0"
     ]
    }
   ],
   "source": [
    "print('단일 컬럼 데이터 추출:\\n', titanic_df[ 'Pclass' ].head(3))\n",
    "print('\\n여러 컬럼들의 데이터 추출:\\n', titanic_df[ ['Survived', 'Pclass'] ].head(3))\n",
    "print('[ ] 안에 숫자 index는 KeyError 오류 발생:\\n', titanic_df[0])"
   ]
  },
  {
   "cell_type": "markdown",
   "metadata": {
    "id": "iAvKn6HOmHNV"
   },
   "source": [
    "슬라이싱 (사용하지 않는 것이 좋다)"
   ]
  },
  {
   "cell_type": "code",
   "execution_count": 65,
   "metadata": {
    "colab": {
     "base_uri": "https://localhost:8080/",
     "height": 112
    },
    "id": "vbp3tMmKlgmj",
    "outputId": "1008ff02-2976-415f-cb68-d1245401c7d9"
   },
   "outputs": [
    {
     "data": {
      "text/html": [
       "<div>\n",
       "<style scoped>\n",
       "    .dataframe tbody tr th:only-of-type {\n",
       "        vertical-align: middle;\n",
       "    }\n",
       "\n",
       "    .dataframe tbody tr th {\n",
       "        vertical-align: top;\n",
       "    }\n",
       "\n",
       "    .dataframe thead th {\n",
       "        text-align: right;\n",
       "    }\n",
       "</style>\n",
       "<table border=\"1\" class=\"dataframe\">\n",
       "  <thead>\n",
       "    <tr style=\"text-align: right;\">\n",
       "      <th></th>\n",
       "      <th>PassengerId</th>\n",
       "      <th>Survived</th>\n",
       "      <th>Pclass</th>\n",
       "      <th>Name</th>\n",
       "      <th>Sex</th>\n",
       "      <th>Age</th>\n",
       "      <th>SibSp</th>\n",
       "      <th>Parch</th>\n",
       "      <th>Ticket</th>\n",
       "      <th>Fare</th>\n",
       "      <th>Cabin</th>\n",
       "      <th>Embarked</th>\n",
       "    </tr>\n",
       "  </thead>\n",
       "  <tbody>\n",
       "    <tr>\n",
       "      <th>0</th>\n",
       "      <td>1</td>\n",
       "      <td>0</td>\n",
       "      <td>3</td>\n",
       "      <td>Braund, Mr....</td>\n",
       "      <td>male</td>\n",
       "      <td>22.0</td>\n",
       "      <td>1</td>\n",
       "      <td>0</td>\n",
       "      <td>A/5 21171</td>\n",
       "      <td>7.2500</td>\n",
       "      <td>NaN</td>\n",
       "      <td>S</td>\n",
       "    </tr>\n",
       "    <tr>\n",
       "      <th>1</th>\n",
       "      <td>2</td>\n",
       "      <td>1</td>\n",
       "      <td>1</td>\n",
       "      <td>Cumings, Mr...</td>\n",
       "      <td>female</td>\n",
       "      <td>38.0</td>\n",
       "      <td>1</td>\n",
       "      <td>0</td>\n",
       "      <td>PC 17599</td>\n",
       "      <td>71.2833</td>\n",
       "      <td>C85</td>\n",
       "      <td>C</td>\n",
       "    </tr>\n",
       "  </tbody>\n",
       "</table>\n",
       "</div>"
      ],
      "text/plain": [
       "   PassengerId  Survived  Pclass            Name     Sex   Age  SibSp  Parch     Ticket     Fare Cabin Embarked\n",
       "0            1         0       3  Braund, Mr....    male  22.0      1      0  A/5 21171   7.2500   NaN        S\n",
       "1            2         1       1  Cumings, Mr...  female  38.0      1      0   PC 17599  71.2833   C85        C"
      ]
     },
     "execution_count": 65,
     "metadata": {},
     "output_type": "execute_result"
    }
   ],
   "source": [
    "titanic_df[0:2]"
   ]
  },
  {
   "cell_type": "markdown",
   "metadata": {
    "id": "QT8B96LKmIqU"
   },
   "source": [
    "불린 인덱싱 (자주 사용)"
   ]
  },
  {
   "cell_type": "code",
   "execution_count": 66,
   "metadata": {
    "colab": {
     "base_uri": "https://localhost:8080/",
     "height": 143
    },
    "id": "zXHT3-Sql6QT",
    "outputId": "f6cacd88-5065-428e-ef55-05dcbb1f0f20"
   },
   "outputs": [
    {
     "data": {
      "text/html": [
       "<div>\n",
       "<style scoped>\n",
       "    .dataframe tbody tr th:only-of-type {\n",
       "        vertical-align: middle;\n",
       "    }\n",
       "\n",
       "    .dataframe tbody tr th {\n",
       "        vertical-align: top;\n",
       "    }\n",
       "\n",
       "    .dataframe thead th {\n",
       "        text-align: right;\n",
       "    }\n",
       "</style>\n",
       "<table border=\"1\" class=\"dataframe\">\n",
       "  <thead>\n",
       "    <tr style=\"text-align: right;\">\n",
       "      <th></th>\n",
       "      <th>PassengerId</th>\n",
       "      <th>Survived</th>\n",
       "      <th>Pclass</th>\n",
       "      <th>Name</th>\n",
       "      <th>Sex</th>\n",
       "      <th>Age</th>\n",
       "      <th>SibSp</th>\n",
       "      <th>Parch</th>\n",
       "      <th>Ticket</th>\n",
       "      <th>Fare</th>\n",
       "      <th>Cabin</th>\n",
       "      <th>Embarked</th>\n",
       "    </tr>\n",
       "  </thead>\n",
       "  <tbody>\n",
       "    <tr>\n",
       "      <th>0</th>\n",
       "      <td>1</td>\n",
       "      <td>0</td>\n",
       "      <td>3</td>\n",
       "      <td>Braund, Mr....</td>\n",
       "      <td>male</td>\n",
       "      <td>22.0</td>\n",
       "      <td>1</td>\n",
       "      <td>0</td>\n",
       "      <td>A/5 21171</td>\n",
       "      <td>7.250</td>\n",
       "      <td>NaN</td>\n",
       "      <td>S</td>\n",
       "    </tr>\n",
       "    <tr>\n",
       "      <th>2</th>\n",
       "      <td>3</td>\n",
       "      <td>1</td>\n",
       "      <td>3</td>\n",
       "      <td>Heikkinen, ...</td>\n",
       "      <td>female</td>\n",
       "      <td>26.0</td>\n",
       "      <td>0</td>\n",
       "      <td>0</td>\n",
       "      <td>STON/O2. 31...</td>\n",
       "      <td>7.925</td>\n",
       "      <td>NaN</td>\n",
       "      <td>S</td>\n",
       "    </tr>\n",
       "    <tr>\n",
       "      <th>4</th>\n",
       "      <td>5</td>\n",
       "      <td>0</td>\n",
       "      <td>3</td>\n",
       "      <td>Allen, Mr. ...</td>\n",
       "      <td>male</td>\n",
       "      <td>35.0</td>\n",
       "      <td>0</td>\n",
       "      <td>0</td>\n",
       "      <td>373450</td>\n",
       "      <td>8.050</td>\n",
       "      <td>NaN</td>\n",
       "      <td>S</td>\n",
       "    </tr>\n",
       "  </tbody>\n",
       "</table>\n",
       "</div>"
      ],
      "text/plain": [
       "   PassengerId  Survived  Pclass            Name     Sex   Age  SibSp  Parch          Ticket   Fare Cabin Embarked\n",
       "0            1         0       3  Braund, Mr....    male  22.0      1      0       A/5 21171  7.250   NaN        S\n",
       "2            3         1       3  Heikkinen, ...  female  26.0      0      0  STON/O2. 31...  7.925   NaN        S\n",
       "4            5         0       3  Allen, Mr. ...    male  35.0      0      0          373450  8.050   NaN        S"
      ]
     },
     "execution_count": 66,
     "metadata": {},
     "output_type": "execute_result"
    }
   ],
   "source": [
    "titanic_df[ titanic_df['Pclass'] == 3].head(3)"
   ]
  },
  {
   "cell_type": "markdown",
   "metadata": {
    "id": "KGGFNevtmXPt"
   },
   "source": [
    "#### DataFrame iloc[ ] 연산자"
   ]
  },
  {
   "cell_type": "code",
   "execution_count": 67,
   "metadata": {
    "colab": {
     "base_uri": "https://localhost:8080/",
     "height": 174
    },
    "id": "5XMoJjRsmLFQ",
    "outputId": "4b27d0db-aa54-4a6c-a724-c182572588c6"
   },
   "outputs": [
    {
     "data": {
      "text/html": [
       "<div>\n",
       "<style scoped>\n",
       "    .dataframe tbody tr th:only-of-type {\n",
       "        vertical-align: middle;\n",
       "    }\n",
       "\n",
       "    .dataframe tbody tr th {\n",
       "        vertical-align: top;\n",
       "    }\n",
       "\n",
       "    .dataframe thead th {\n",
       "        text-align: right;\n",
       "    }\n",
       "</style>\n",
       "<table border=\"1\" class=\"dataframe\">\n",
       "  <thead>\n",
       "    <tr style=\"text-align: right;\">\n",
       "      <th></th>\n",
       "      <th>Name</th>\n",
       "      <th>Year</th>\n",
       "      <th>Gender</th>\n",
       "    </tr>\n",
       "  </thead>\n",
       "  <tbody>\n",
       "    <tr>\n",
       "      <th>one</th>\n",
       "      <td>Chulmin</td>\n",
       "      <td>2011</td>\n",
       "      <td>Male</td>\n",
       "    </tr>\n",
       "    <tr>\n",
       "      <th>two</th>\n",
       "      <td>Eunkyung</td>\n",
       "      <td>2016</td>\n",
       "      <td>Female</td>\n",
       "    </tr>\n",
       "    <tr>\n",
       "      <th>three</th>\n",
       "      <td>Jinwoong</td>\n",
       "      <td>2015</td>\n",
       "      <td>Male</td>\n",
       "    </tr>\n",
       "    <tr>\n",
       "      <th>four</th>\n",
       "      <td>Soobeom</td>\n",
       "      <td>2015</td>\n",
       "      <td>Male</td>\n",
       "    </tr>\n",
       "  </tbody>\n",
       "</table>\n",
       "</div>"
      ],
      "text/plain": [
       "           Name  Year  Gender\n",
       "one     Chulmin  2011    Male\n",
       "two    Eunkyung  2016  Female\n",
       "three  Jinwoong  2015    Male\n",
       "four    Soobeom  2015    Male"
      ]
     },
     "execution_count": 67,
     "metadata": {},
     "output_type": "execute_result"
    }
   ],
   "source": [
    "data = {'Name': ['Chulmin', 'Eunkyung','Jinwoong','Soobeom'],\n",
    "        'Year': [2011, 2016, 2015, 2015],\n",
    "        'Gender': ['Male', 'Female', 'Male', 'Male']\n",
    "       }\n",
    "data_df = pd.DataFrame(data, index=['one','two','three','four'])\n",
    "data_df"
   ]
  },
  {
   "cell_type": "markdown",
   "metadata": {
    "id": "UcjtAkg9mosr"
   },
   "source": [
    "iloc[행 위치 정숫값, 열 위치 정숫값]"
   ]
  },
  {
   "cell_type": "code",
   "execution_count": 68,
   "metadata": {
    "colab": {
     "base_uri": "https://localhost:8080/",
     "height": 35
    },
    "id": "kAoQv_PAmb2H",
    "outputId": "64db7907-99ce-4478-ec9a-9037329e9d73"
   },
   "outputs": [
    {
     "data": {
      "text/plain": [
       "'Chulmin'"
      ]
     },
     "execution_count": 68,
     "metadata": {},
     "output_type": "execute_result"
    }
   ],
   "source": [
    "data_df.iloc[0, 0]"
   ]
  },
  {
   "cell_type": "code",
   "execution_count": 69,
   "metadata": {
    "colab": {
     "base_uri": "https://localhost:8080/",
     "height": 449
    },
    "id": "98zTEJzPmen3",
    "outputId": "fb19f17b-efeb-425d-f881-035fc74b49f0"
   },
   "outputs": [
    {
     "ename": "ValueError",
     "evalue": "Location based indexing can only have [integer, integer slice (START point is INCLUDED, END point is EXCLUDED), listlike of integers, boolean array] types",
     "output_type": "error",
     "traceback": [
      "\u001b[1;31m---------------------------------------------------------------------------\u001b[0m",
      "\u001b[1;31mValueError\u001b[0m                                Traceback (most recent call last)",
      "\u001b[1;32m~\\anaconda3\\lib\\site-packages\\pandas\\core\\indexing.py\u001b[0m in \u001b[0;36m_validate_tuple_indexer\u001b[1;34m(self, key)\u001b[0m\n\u001b[0;32m    768\u001b[0m             \u001b[1;32mtry\u001b[0m\u001b[1;33m:\u001b[0m\u001b[1;33m\u001b[0m\u001b[1;33m\u001b[0m\u001b[0m\n\u001b[1;32m--> 769\u001b[1;33m                 \u001b[0mself\u001b[0m\u001b[1;33m.\u001b[0m\u001b[0m_validate_key\u001b[0m\u001b[1;33m(\u001b[0m\u001b[0mk\u001b[0m\u001b[1;33m,\u001b[0m \u001b[0mi\u001b[0m\u001b[1;33m)\u001b[0m\u001b[1;33m\u001b[0m\u001b[1;33m\u001b[0m\u001b[0m\n\u001b[0m\u001b[0;32m    770\u001b[0m             \u001b[1;32mexcept\u001b[0m \u001b[0mValueError\u001b[0m \u001b[1;32mas\u001b[0m \u001b[0merr\u001b[0m\u001b[1;33m:\u001b[0m\u001b[1;33m\u001b[0m\u001b[1;33m\u001b[0m\u001b[0m\n",
      "\u001b[1;32m~\\anaconda3\\lib\\site-packages\\pandas\\core\\indexing.py\u001b[0m in \u001b[0;36m_validate_key\u001b[1;34m(self, key, axis)\u001b[0m\n\u001b[0;32m   1380\u001b[0m         \u001b[1;32melse\u001b[0m\u001b[1;33m:\u001b[0m\u001b[1;33m\u001b[0m\u001b[1;33m\u001b[0m\u001b[0m\n\u001b[1;32m-> 1381\u001b[1;33m             \u001b[1;32mraise\u001b[0m \u001b[0mValueError\u001b[0m\u001b[1;33m(\u001b[0m\u001b[1;34mf\"Can only index by location with a [{self._valid_types}]\"\u001b[0m\u001b[1;33m)\u001b[0m\u001b[1;33m\u001b[0m\u001b[1;33m\u001b[0m\u001b[0m\n\u001b[0m\u001b[0;32m   1382\u001b[0m \u001b[1;33m\u001b[0m\u001b[0m\n",
      "\u001b[1;31mValueError\u001b[0m: Can only index by location with a [integer, integer slice (START point is INCLUDED, END point is EXCLUDED), listlike of integers, boolean array]",
      "\nThe above exception was the direct cause of the following exception:\n",
      "\u001b[1;31mValueError\u001b[0m                                Traceback (most recent call last)",
      "\u001b[1;32m~\\AppData\\Local\\Temp\\ipykernel_10908\\989265821.py\u001b[0m in \u001b[0;36m<module>\u001b[1;34m\u001b[0m\n\u001b[0;32m      1\u001b[0m \u001b[1;31m# 아래 코드는 오류가 발생합니다.\u001b[0m\u001b[1;33m\u001b[0m\u001b[1;33m\u001b[0m\u001b[0m\n\u001b[1;32m----> 2\u001b[1;33m \u001b[0mdata_df\u001b[0m\u001b[1;33m.\u001b[0m\u001b[0miloc\u001b[0m\u001b[1;33m[\u001b[0m\u001b[1;36m0\u001b[0m\u001b[1;33m,\u001b[0m \u001b[1;34m'Name'\u001b[0m\u001b[1;33m]\u001b[0m\u001b[1;33m\u001b[0m\u001b[1;33m\u001b[0m\u001b[0m\n\u001b[0m",
      "\u001b[1;32m~\\anaconda3\\lib\\site-packages\\pandas\\core\\indexing.py\u001b[0m in \u001b[0;36m__getitem__\u001b[1;34m(self, key)\u001b[0m\n\u001b[0;32m    959\u001b[0m             \u001b[1;32mif\u001b[0m \u001b[0mself\u001b[0m\u001b[1;33m.\u001b[0m\u001b[0m_is_scalar_access\u001b[0m\u001b[1;33m(\u001b[0m\u001b[0mkey\u001b[0m\u001b[1;33m)\u001b[0m\u001b[1;33m:\u001b[0m\u001b[1;33m\u001b[0m\u001b[1;33m\u001b[0m\u001b[0m\n\u001b[0;32m    960\u001b[0m                 \u001b[1;32mreturn\u001b[0m \u001b[0mself\u001b[0m\u001b[1;33m.\u001b[0m\u001b[0mobj\u001b[0m\u001b[1;33m.\u001b[0m\u001b[0m_get_value\u001b[0m\u001b[1;33m(\u001b[0m\u001b[1;33m*\u001b[0m\u001b[0mkey\u001b[0m\u001b[1;33m,\u001b[0m \u001b[0mtakeable\u001b[0m\u001b[1;33m=\u001b[0m\u001b[0mself\u001b[0m\u001b[1;33m.\u001b[0m\u001b[0m_takeable\u001b[0m\u001b[1;33m)\u001b[0m\u001b[1;33m\u001b[0m\u001b[1;33m\u001b[0m\u001b[0m\n\u001b[1;32m--> 961\u001b[1;33m             \u001b[1;32mreturn\u001b[0m \u001b[0mself\u001b[0m\u001b[1;33m.\u001b[0m\u001b[0m_getitem_tuple\u001b[0m\u001b[1;33m(\u001b[0m\u001b[0mkey\u001b[0m\u001b[1;33m)\u001b[0m\u001b[1;33m\u001b[0m\u001b[1;33m\u001b[0m\u001b[0m\n\u001b[0m\u001b[0;32m    962\u001b[0m         \u001b[1;32melse\u001b[0m\u001b[1;33m:\u001b[0m\u001b[1;33m\u001b[0m\u001b[1;33m\u001b[0m\u001b[0m\n\u001b[0;32m    963\u001b[0m             \u001b[1;31m# we by definition only have the 0th axis\u001b[0m\u001b[1;33m\u001b[0m\u001b[1;33m\u001b[0m\u001b[0m\n",
      "\u001b[1;32m~\\anaconda3\\lib\\site-packages\\pandas\\core\\indexing.py\u001b[0m in \u001b[0;36m_getitem_tuple\u001b[1;34m(self, tup)\u001b[0m\n\u001b[0;32m   1459\u001b[0m     \u001b[1;32mdef\u001b[0m \u001b[0m_getitem_tuple\u001b[0m\u001b[1;33m(\u001b[0m\u001b[0mself\u001b[0m\u001b[1;33m,\u001b[0m \u001b[0mtup\u001b[0m\u001b[1;33m:\u001b[0m \u001b[0mtuple\u001b[0m\u001b[1;33m)\u001b[0m\u001b[1;33m:\u001b[0m\u001b[1;33m\u001b[0m\u001b[1;33m\u001b[0m\u001b[0m\n\u001b[0;32m   1460\u001b[0m \u001b[1;33m\u001b[0m\u001b[0m\n\u001b[1;32m-> 1461\u001b[1;33m         \u001b[0mtup\u001b[0m \u001b[1;33m=\u001b[0m \u001b[0mself\u001b[0m\u001b[1;33m.\u001b[0m\u001b[0m_validate_tuple_indexer\u001b[0m\u001b[1;33m(\u001b[0m\u001b[0mtup\u001b[0m\u001b[1;33m)\u001b[0m\u001b[1;33m\u001b[0m\u001b[1;33m\u001b[0m\u001b[0m\n\u001b[0m\u001b[0;32m   1462\u001b[0m         \u001b[1;32mwith\u001b[0m \u001b[0msuppress\u001b[0m\u001b[1;33m(\u001b[0m\u001b[0mIndexingError\u001b[0m\u001b[1;33m)\u001b[0m\u001b[1;33m:\u001b[0m\u001b[1;33m\u001b[0m\u001b[1;33m\u001b[0m\u001b[0m\n\u001b[0;32m   1463\u001b[0m             \u001b[1;32mreturn\u001b[0m \u001b[0mself\u001b[0m\u001b[1;33m.\u001b[0m\u001b[0m_getitem_lowerdim\u001b[0m\u001b[1;33m(\u001b[0m\u001b[0mtup\u001b[0m\u001b[1;33m)\u001b[0m\u001b[1;33m\u001b[0m\u001b[1;33m\u001b[0m\u001b[0m\n",
      "\u001b[1;32m~\\anaconda3\\lib\\site-packages\\pandas\\core\\indexing.py\u001b[0m in \u001b[0;36m_validate_tuple_indexer\u001b[1;34m(self, key)\u001b[0m\n\u001b[0;32m    769\u001b[0m                 \u001b[0mself\u001b[0m\u001b[1;33m.\u001b[0m\u001b[0m_validate_key\u001b[0m\u001b[1;33m(\u001b[0m\u001b[0mk\u001b[0m\u001b[1;33m,\u001b[0m \u001b[0mi\u001b[0m\u001b[1;33m)\u001b[0m\u001b[1;33m\u001b[0m\u001b[1;33m\u001b[0m\u001b[0m\n\u001b[0;32m    770\u001b[0m             \u001b[1;32mexcept\u001b[0m \u001b[0mValueError\u001b[0m \u001b[1;32mas\u001b[0m \u001b[0merr\u001b[0m\u001b[1;33m:\u001b[0m\u001b[1;33m\u001b[0m\u001b[1;33m\u001b[0m\u001b[0m\n\u001b[1;32m--> 771\u001b[1;33m                 raise ValueError(\n\u001b[0m\u001b[0;32m    772\u001b[0m                     \u001b[1;34m\"Location based indexing can only have \"\u001b[0m\u001b[1;33m\u001b[0m\u001b[1;33m\u001b[0m\u001b[0m\n\u001b[0;32m    773\u001b[0m                     \u001b[1;34mf\"[{self._valid_types}] types\"\u001b[0m\u001b[1;33m\u001b[0m\u001b[1;33m\u001b[0m\u001b[0m\n",
      "\u001b[1;31mValueError\u001b[0m: Location based indexing can only have [integer, integer slice (START point is INCLUDED, END point is EXCLUDED), listlike of integers, boolean array] types"
     ]
    }
   ],
   "source": [
    "# 아래 코드는 오류가 발생합니다.\n",
    "data_df.iloc[0, 'Name']"
   ]
  },
  {
   "cell_type": "code",
   "execution_count": 70,
   "metadata": {
    "id": "Rs1KoSqpmiPW"
   },
   "outputs": [
    {
     "ename": "ValueError",
     "evalue": "Location based indexing can only have [integer, integer slice (START point is INCLUDED, END point is EXCLUDED), listlike of integers, boolean array] types",
     "output_type": "error",
     "traceback": [
      "\u001b[1;31m---------------------------------------------------------------------------\u001b[0m",
      "\u001b[1;31mValueError\u001b[0m                                Traceback (most recent call last)",
      "\u001b[1;32m~\\anaconda3\\lib\\site-packages\\pandas\\core\\indexing.py\u001b[0m in \u001b[0;36m_validate_tuple_indexer\u001b[1;34m(self, key)\u001b[0m\n\u001b[0;32m    768\u001b[0m             \u001b[1;32mtry\u001b[0m\u001b[1;33m:\u001b[0m\u001b[1;33m\u001b[0m\u001b[1;33m\u001b[0m\u001b[0m\n\u001b[1;32m--> 769\u001b[1;33m                 \u001b[0mself\u001b[0m\u001b[1;33m.\u001b[0m\u001b[0m_validate_key\u001b[0m\u001b[1;33m(\u001b[0m\u001b[0mk\u001b[0m\u001b[1;33m,\u001b[0m \u001b[0mi\u001b[0m\u001b[1;33m)\u001b[0m\u001b[1;33m\u001b[0m\u001b[1;33m\u001b[0m\u001b[0m\n\u001b[0m\u001b[0;32m    770\u001b[0m             \u001b[1;32mexcept\u001b[0m \u001b[0mValueError\u001b[0m \u001b[1;32mas\u001b[0m \u001b[0merr\u001b[0m\u001b[1;33m:\u001b[0m\u001b[1;33m\u001b[0m\u001b[1;33m\u001b[0m\u001b[0m\n",
      "\u001b[1;32m~\\anaconda3\\lib\\site-packages\\pandas\\core\\indexing.py\u001b[0m in \u001b[0;36m_validate_key\u001b[1;34m(self, key, axis)\u001b[0m\n\u001b[0;32m   1380\u001b[0m         \u001b[1;32melse\u001b[0m\u001b[1;33m:\u001b[0m\u001b[1;33m\u001b[0m\u001b[1;33m\u001b[0m\u001b[0m\n\u001b[1;32m-> 1381\u001b[1;33m             \u001b[1;32mraise\u001b[0m \u001b[0mValueError\u001b[0m\u001b[1;33m(\u001b[0m\u001b[1;34mf\"Can only index by location with a [{self._valid_types}]\"\u001b[0m\u001b[1;33m)\u001b[0m\u001b[1;33m\u001b[0m\u001b[1;33m\u001b[0m\u001b[0m\n\u001b[0m\u001b[0;32m   1382\u001b[0m \u001b[1;33m\u001b[0m\u001b[0m\n",
      "\u001b[1;31mValueError\u001b[0m: Can only index by location with a [integer, integer slice (START point is INCLUDED, END point is EXCLUDED), listlike of integers, boolean array]",
      "\nThe above exception was the direct cause of the following exception:\n",
      "\u001b[1;31mValueError\u001b[0m                                Traceback (most recent call last)",
      "\u001b[1;32m~\\AppData\\Local\\Temp\\ipykernel_10908\\2882489069.py\u001b[0m in \u001b[0;36m<module>\u001b[1;34m\u001b[0m\n\u001b[0;32m      1\u001b[0m \u001b[1;31m# 아래 코드는 오류가 발생합니다.\u001b[0m\u001b[1;33m\u001b[0m\u001b[1;33m\u001b[0m\u001b[0m\n\u001b[1;32m----> 2\u001b[1;33m \u001b[0mdata_df\u001b[0m\u001b[1;33m.\u001b[0m\u001b[0miloc\u001b[0m\u001b[1;33m[\u001b[0m\u001b[1;34m'one'\u001b[0m\u001b[1;33m,\u001b[0m \u001b[1;36m0\u001b[0m\u001b[1;33m]\u001b[0m\u001b[1;33m\u001b[0m\u001b[1;33m\u001b[0m\u001b[0m\n\u001b[0m",
      "\u001b[1;32m~\\anaconda3\\lib\\site-packages\\pandas\\core\\indexing.py\u001b[0m in \u001b[0;36m__getitem__\u001b[1;34m(self, key)\u001b[0m\n\u001b[0;32m    959\u001b[0m             \u001b[1;32mif\u001b[0m \u001b[0mself\u001b[0m\u001b[1;33m.\u001b[0m\u001b[0m_is_scalar_access\u001b[0m\u001b[1;33m(\u001b[0m\u001b[0mkey\u001b[0m\u001b[1;33m)\u001b[0m\u001b[1;33m:\u001b[0m\u001b[1;33m\u001b[0m\u001b[1;33m\u001b[0m\u001b[0m\n\u001b[0;32m    960\u001b[0m                 \u001b[1;32mreturn\u001b[0m \u001b[0mself\u001b[0m\u001b[1;33m.\u001b[0m\u001b[0mobj\u001b[0m\u001b[1;33m.\u001b[0m\u001b[0m_get_value\u001b[0m\u001b[1;33m(\u001b[0m\u001b[1;33m*\u001b[0m\u001b[0mkey\u001b[0m\u001b[1;33m,\u001b[0m \u001b[0mtakeable\u001b[0m\u001b[1;33m=\u001b[0m\u001b[0mself\u001b[0m\u001b[1;33m.\u001b[0m\u001b[0m_takeable\u001b[0m\u001b[1;33m)\u001b[0m\u001b[1;33m\u001b[0m\u001b[1;33m\u001b[0m\u001b[0m\n\u001b[1;32m--> 961\u001b[1;33m             \u001b[1;32mreturn\u001b[0m \u001b[0mself\u001b[0m\u001b[1;33m.\u001b[0m\u001b[0m_getitem_tuple\u001b[0m\u001b[1;33m(\u001b[0m\u001b[0mkey\u001b[0m\u001b[1;33m)\u001b[0m\u001b[1;33m\u001b[0m\u001b[1;33m\u001b[0m\u001b[0m\n\u001b[0m\u001b[0;32m    962\u001b[0m         \u001b[1;32melse\u001b[0m\u001b[1;33m:\u001b[0m\u001b[1;33m\u001b[0m\u001b[1;33m\u001b[0m\u001b[0m\n\u001b[0;32m    963\u001b[0m             \u001b[1;31m# we by definition only have the 0th axis\u001b[0m\u001b[1;33m\u001b[0m\u001b[1;33m\u001b[0m\u001b[0m\n",
      "\u001b[1;32m~\\anaconda3\\lib\\site-packages\\pandas\\core\\indexing.py\u001b[0m in \u001b[0;36m_getitem_tuple\u001b[1;34m(self, tup)\u001b[0m\n\u001b[0;32m   1459\u001b[0m     \u001b[1;32mdef\u001b[0m \u001b[0m_getitem_tuple\u001b[0m\u001b[1;33m(\u001b[0m\u001b[0mself\u001b[0m\u001b[1;33m,\u001b[0m \u001b[0mtup\u001b[0m\u001b[1;33m:\u001b[0m \u001b[0mtuple\u001b[0m\u001b[1;33m)\u001b[0m\u001b[1;33m:\u001b[0m\u001b[1;33m\u001b[0m\u001b[1;33m\u001b[0m\u001b[0m\n\u001b[0;32m   1460\u001b[0m \u001b[1;33m\u001b[0m\u001b[0m\n\u001b[1;32m-> 1461\u001b[1;33m         \u001b[0mtup\u001b[0m \u001b[1;33m=\u001b[0m \u001b[0mself\u001b[0m\u001b[1;33m.\u001b[0m\u001b[0m_validate_tuple_indexer\u001b[0m\u001b[1;33m(\u001b[0m\u001b[0mtup\u001b[0m\u001b[1;33m)\u001b[0m\u001b[1;33m\u001b[0m\u001b[1;33m\u001b[0m\u001b[0m\n\u001b[0m\u001b[0;32m   1462\u001b[0m         \u001b[1;32mwith\u001b[0m \u001b[0msuppress\u001b[0m\u001b[1;33m(\u001b[0m\u001b[0mIndexingError\u001b[0m\u001b[1;33m)\u001b[0m\u001b[1;33m:\u001b[0m\u001b[1;33m\u001b[0m\u001b[1;33m\u001b[0m\u001b[0m\n\u001b[0;32m   1463\u001b[0m             \u001b[1;32mreturn\u001b[0m \u001b[0mself\u001b[0m\u001b[1;33m.\u001b[0m\u001b[0m_getitem_lowerdim\u001b[0m\u001b[1;33m(\u001b[0m\u001b[0mtup\u001b[0m\u001b[1;33m)\u001b[0m\u001b[1;33m\u001b[0m\u001b[1;33m\u001b[0m\u001b[0m\n",
      "\u001b[1;32m~\\anaconda3\\lib\\site-packages\\pandas\\core\\indexing.py\u001b[0m in \u001b[0;36m_validate_tuple_indexer\u001b[1;34m(self, key)\u001b[0m\n\u001b[0;32m    769\u001b[0m                 \u001b[0mself\u001b[0m\u001b[1;33m.\u001b[0m\u001b[0m_validate_key\u001b[0m\u001b[1;33m(\u001b[0m\u001b[0mk\u001b[0m\u001b[1;33m,\u001b[0m \u001b[0mi\u001b[0m\u001b[1;33m)\u001b[0m\u001b[1;33m\u001b[0m\u001b[1;33m\u001b[0m\u001b[0m\n\u001b[0;32m    770\u001b[0m             \u001b[1;32mexcept\u001b[0m \u001b[0mValueError\u001b[0m \u001b[1;32mas\u001b[0m \u001b[0merr\u001b[0m\u001b[1;33m:\u001b[0m\u001b[1;33m\u001b[0m\u001b[1;33m\u001b[0m\u001b[0m\n\u001b[1;32m--> 771\u001b[1;33m                 raise ValueError(\n\u001b[0m\u001b[0;32m    772\u001b[0m                     \u001b[1;34m\"Location based indexing can only have \"\u001b[0m\u001b[1;33m\u001b[0m\u001b[1;33m\u001b[0m\u001b[0m\n\u001b[0;32m    773\u001b[0m                     \u001b[1;34mf\"[{self._valid_types}] types\"\u001b[0m\u001b[1;33m\u001b[0m\u001b[1;33m\u001b[0m\u001b[0m\n",
      "\u001b[1;31mValueError\u001b[0m: Location based indexing can only have [integer, integer slice (START point is INCLUDED, END point is EXCLUDED), listlike of integers, boolean array] types"
     ]
    }
   ],
   "source": [
    "# 아래 코드는 오류가 발생합니다.\n",
    "data_df.iloc['one', 0]"
   ]
  },
  {
   "cell_type": "markdown",
   "metadata": {
    "id": "HEAR9azNm9gj"
   },
   "source": [
    "(참조) 66p. 다양한 iloc[ ] 연산 유형"
   ]
  },
  {
   "cell_type": "code",
   "execution_count": 71,
   "metadata": {
    "colab": {
     "base_uri": "https://localhost:8080/"
    },
    "id": "0pS67Ndgm4lY",
    "outputId": "dd342096-c7c7-48b5-c469-1ab35e3971eb"
   },
   "outputs": [
    {
     "name": "stdout",
     "output_type": "stream",
     "text": [
      "\n",
      " 맨 마지막 칼럼 데이터 [:, -1] \n",
      " one        Male\n",
      "two      Female\n",
      "three      Male\n",
      "four       Male\n",
      "Name: Gender, dtype: object\n",
      "\n",
      " 맨 마지막 칼럼을 제외한 모든 데이터 [:, :-1] \n",
      "            Name  Year\n",
      "one     Chulmin  2011\n",
      "two    Eunkyung  2016\n",
      "three  Jinwoong  2015\n",
      "four    Soobeom  2015\n"
     ]
    }
   ],
   "source": [
    "print(\"\\n 맨 마지막 칼럼 데이터 [:, -1] \\n\", data_df.iloc[:, -1])\n",
    "print(\"\\n 맨 마지막 칼럼을 제외한 모든 데이터 [:, :-1] \\n\", data_df.iloc[: , :-1])"
   ]
  },
  {
   "cell_type": "markdown",
   "metadata": {
    "id": "fatja3GmndHd"
   },
   "source": [
    "#### DataFrame loc[ ] 연산자"
   ]
  },
  {
   "cell_type": "code",
   "execution_count": 72,
   "metadata": {
    "colab": {
     "base_uri": "https://localhost:8080/",
     "height": 35
    },
    "id": "tPcLW5MinLD2",
    "outputId": "648778d7-26ad-49d4-ff27-b0d182f04154"
   },
   "outputs": [
    {
     "data": {
      "text/plain": [
       "'Chulmin'"
      ]
     },
     "execution_count": 72,
     "metadata": {},
     "output_type": "execute_result"
    }
   ],
   "source": [
    "data_df.loc['one', 'Name']"
   ]
  },
  {
   "cell_type": "code",
   "execution_count": 73,
   "metadata": {
    "colab": {
     "base_uri": "https://localhost:8080/",
     "height": 521
    },
    "id": "S3Sha46-nhga",
    "outputId": "73b71792-fd2b-42d0-cc8a-75d04ecb1b0f"
   },
   "outputs": [
    {
     "ename": "KeyError",
     "evalue": "0",
     "output_type": "error",
     "traceback": [
      "\u001b[1;31m---------------------------------------------------------------------------\u001b[0m",
      "\u001b[1;31mKeyError\u001b[0m                                  Traceback (most recent call last)",
      "\u001b[1;32m~\\anaconda3\\lib\\site-packages\\pandas\\core\\indexes\\base.py\u001b[0m in \u001b[0;36mget_loc\u001b[1;34m(self, key, method, tolerance)\u001b[0m\n\u001b[0;32m   3628\u001b[0m             \u001b[1;32mtry\u001b[0m\u001b[1;33m:\u001b[0m\u001b[1;33m\u001b[0m\u001b[1;33m\u001b[0m\u001b[0m\n\u001b[1;32m-> 3629\u001b[1;33m                 \u001b[1;32mreturn\u001b[0m \u001b[0mself\u001b[0m\u001b[1;33m.\u001b[0m\u001b[0m_engine\u001b[0m\u001b[1;33m.\u001b[0m\u001b[0mget_loc\u001b[0m\u001b[1;33m(\u001b[0m\u001b[0mcasted_key\u001b[0m\u001b[1;33m)\u001b[0m\u001b[1;33m\u001b[0m\u001b[1;33m\u001b[0m\u001b[0m\n\u001b[0m\u001b[0;32m   3630\u001b[0m             \u001b[1;32mexcept\u001b[0m \u001b[0mKeyError\u001b[0m \u001b[1;32mas\u001b[0m \u001b[0merr\u001b[0m\u001b[1;33m:\u001b[0m\u001b[1;33m\u001b[0m\u001b[1;33m\u001b[0m\u001b[0m\n",
      "\u001b[1;32m~\\anaconda3\\lib\\site-packages\\pandas\\_libs\\index.pyx\u001b[0m in \u001b[0;36mpandas._libs.index.IndexEngine.get_loc\u001b[1;34m()\u001b[0m\n",
      "\u001b[1;32m~\\anaconda3\\lib\\site-packages\\pandas\\_libs\\index.pyx\u001b[0m in \u001b[0;36mpandas._libs.index.IndexEngine.get_loc\u001b[1;34m()\u001b[0m\n",
      "\u001b[1;32mpandas\\_libs\\hashtable_class_helper.pxi\u001b[0m in \u001b[0;36mpandas._libs.hashtable.PyObjectHashTable.get_item\u001b[1;34m()\u001b[0m\n",
      "\u001b[1;32mpandas\\_libs\\hashtable_class_helper.pxi\u001b[0m in \u001b[0;36mpandas._libs.hashtable.PyObjectHashTable.get_item\u001b[1;34m()\u001b[0m\n",
      "\u001b[1;31mKeyError\u001b[0m: 0",
      "\nThe above exception was the direct cause of the following exception:\n",
      "\u001b[1;31mKeyError\u001b[0m                                  Traceback (most recent call last)",
      "\u001b[1;32m~\\AppData\\Local\\Temp\\ipykernel_10908\\3578137934.py\u001b[0m in \u001b[0;36m<module>\u001b[1;34m\u001b[0m\n\u001b[0;32m      1\u001b[0m \u001b[1;31m# 아래 코드는 오류가 발생합니다.\u001b[0m\u001b[1;33m\u001b[0m\u001b[1;33m\u001b[0m\u001b[0m\n\u001b[1;32m----> 2\u001b[1;33m \u001b[0mdata_df\u001b[0m\u001b[1;33m.\u001b[0m\u001b[0mloc\u001b[0m\u001b[1;33m[\u001b[0m\u001b[1;36m0\u001b[0m\u001b[1;33m,\u001b[0m \u001b[1;34m'Name'\u001b[0m\u001b[1;33m]\u001b[0m\u001b[1;33m\u001b[0m\u001b[1;33m\u001b[0m\u001b[0m\n\u001b[0m",
      "\u001b[1;32m~\\anaconda3\\lib\\site-packages\\pandas\\core\\indexing.py\u001b[0m in \u001b[0;36m__getitem__\u001b[1;34m(self, key)\u001b[0m\n\u001b[0;32m    958\u001b[0m             \u001b[0mkey\u001b[0m \u001b[1;33m=\u001b[0m \u001b[0mtuple\u001b[0m\u001b[1;33m(\u001b[0m\u001b[0mcom\u001b[0m\u001b[1;33m.\u001b[0m\u001b[0mapply_if_callable\u001b[0m\u001b[1;33m(\u001b[0m\u001b[0mx\u001b[0m\u001b[1;33m,\u001b[0m \u001b[0mself\u001b[0m\u001b[1;33m.\u001b[0m\u001b[0mobj\u001b[0m\u001b[1;33m)\u001b[0m \u001b[1;32mfor\u001b[0m \u001b[0mx\u001b[0m \u001b[1;32min\u001b[0m \u001b[0mkey\u001b[0m\u001b[1;33m)\u001b[0m\u001b[1;33m\u001b[0m\u001b[1;33m\u001b[0m\u001b[0m\n\u001b[0;32m    959\u001b[0m             \u001b[1;32mif\u001b[0m \u001b[0mself\u001b[0m\u001b[1;33m.\u001b[0m\u001b[0m_is_scalar_access\u001b[0m\u001b[1;33m(\u001b[0m\u001b[0mkey\u001b[0m\u001b[1;33m)\u001b[0m\u001b[1;33m:\u001b[0m\u001b[1;33m\u001b[0m\u001b[1;33m\u001b[0m\u001b[0m\n\u001b[1;32m--> 960\u001b[1;33m                 \u001b[1;32mreturn\u001b[0m \u001b[0mself\u001b[0m\u001b[1;33m.\u001b[0m\u001b[0mobj\u001b[0m\u001b[1;33m.\u001b[0m\u001b[0m_get_value\u001b[0m\u001b[1;33m(\u001b[0m\u001b[1;33m*\u001b[0m\u001b[0mkey\u001b[0m\u001b[1;33m,\u001b[0m \u001b[0mtakeable\u001b[0m\u001b[1;33m=\u001b[0m\u001b[0mself\u001b[0m\u001b[1;33m.\u001b[0m\u001b[0m_takeable\u001b[0m\u001b[1;33m)\u001b[0m\u001b[1;33m\u001b[0m\u001b[1;33m\u001b[0m\u001b[0m\n\u001b[0m\u001b[0;32m    961\u001b[0m             \u001b[1;32mreturn\u001b[0m \u001b[0mself\u001b[0m\u001b[1;33m.\u001b[0m\u001b[0m_getitem_tuple\u001b[0m\u001b[1;33m(\u001b[0m\u001b[0mkey\u001b[0m\u001b[1;33m)\u001b[0m\u001b[1;33m\u001b[0m\u001b[1;33m\u001b[0m\u001b[0m\n\u001b[0;32m    962\u001b[0m         \u001b[1;32melse\u001b[0m\u001b[1;33m:\u001b[0m\u001b[1;33m\u001b[0m\u001b[1;33m\u001b[0m\u001b[0m\n",
      "\u001b[1;32m~\\anaconda3\\lib\\site-packages\\pandas\\core\\frame.py\u001b[0m in \u001b[0;36m_get_value\u001b[1;34m(self, index, col, takeable)\u001b[0m\n\u001b[0;32m   3620\u001b[0m             \u001b[1;31m#  results if our categories are integers that dont match our codes\u001b[0m\u001b[1;33m\u001b[0m\u001b[1;33m\u001b[0m\u001b[0m\n\u001b[0;32m   3621\u001b[0m             \u001b[1;31m# IntervalIndex: IntervalTree has no get_loc\u001b[0m\u001b[1;33m\u001b[0m\u001b[1;33m\u001b[0m\u001b[0m\n\u001b[1;32m-> 3622\u001b[1;33m             \u001b[0mrow\u001b[0m \u001b[1;33m=\u001b[0m \u001b[0mself\u001b[0m\u001b[1;33m.\u001b[0m\u001b[0mindex\u001b[0m\u001b[1;33m.\u001b[0m\u001b[0mget_loc\u001b[0m\u001b[1;33m(\u001b[0m\u001b[0mindex\u001b[0m\u001b[1;33m)\u001b[0m\u001b[1;33m\u001b[0m\u001b[1;33m\u001b[0m\u001b[0m\n\u001b[0m\u001b[0;32m   3623\u001b[0m             \u001b[1;32mreturn\u001b[0m \u001b[0mseries\u001b[0m\u001b[1;33m.\u001b[0m\u001b[0m_values\u001b[0m\u001b[1;33m[\u001b[0m\u001b[0mrow\u001b[0m\u001b[1;33m]\u001b[0m\u001b[1;33m\u001b[0m\u001b[1;33m\u001b[0m\u001b[0m\n\u001b[0;32m   3624\u001b[0m \u001b[1;33m\u001b[0m\u001b[0m\n",
      "\u001b[1;32m~\\anaconda3\\lib\\site-packages\\pandas\\core\\indexes\\base.py\u001b[0m in \u001b[0;36mget_loc\u001b[1;34m(self, key, method, tolerance)\u001b[0m\n\u001b[0;32m   3629\u001b[0m                 \u001b[1;32mreturn\u001b[0m \u001b[0mself\u001b[0m\u001b[1;33m.\u001b[0m\u001b[0m_engine\u001b[0m\u001b[1;33m.\u001b[0m\u001b[0mget_loc\u001b[0m\u001b[1;33m(\u001b[0m\u001b[0mcasted_key\u001b[0m\u001b[1;33m)\u001b[0m\u001b[1;33m\u001b[0m\u001b[1;33m\u001b[0m\u001b[0m\n\u001b[0;32m   3630\u001b[0m             \u001b[1;32mexcept\u001b[0m \u001b[0mKeyError\u001b[0m \u001b[1;32mas\u001b[0m \u001b[0merr\u001b[0m\u001b[1;33m:\u001b[0m\u001b[1;33m\u001b[0m\u001b[1;33m\u001b[0m\u001b[0m\n\u001b[1;32m-> 3631\u001b[1;33m                 \u001b[1;32mraise\u001b[0m \u001b[0mKeyError\u001b[0m\u001b[1;33m(\u001b[0m\u001b[0mkey\u001b[0m\u001b[1;33m)\u001b[0m \u001b[1;32mfrom\u001b[0m \u001b[0merr\u001b[0m\u001b[1;33m\u001b[0m\u001b[1;33m\u001b[0m\u001b[0m\n\u001b[0m\u001b[0;32m   3632\u001b[0m             \u001b[1;32mexcept\u001b[0m \u001b[0mTypeError\u001b[0m\u001b[1;33m:\u001b[0m\u001b[1;33m\u001b[0m\u001b[1;33m\u001b[0m\u001b[0m\n\u001b[0;32m   3633\u001b[0m                 \u001b[1;31m# If we have a listlike key, _check_indexing_error will raise\u001b[0m\u001b[1;33m\u001b[0m\u001b[1;33m\u001b[0m\u001b[0m\n",
      "\u001b[1;31mKeyError\u001b[0m: 0"
     ]
    }
   ],
   "source": [
    "# 아래 코드는 오류가 발생합니다. \n",
    "data_df.loc[0, 'Name']"
   ]
  },
  {
   "cell_type": "markdown",
   "metadata": {
    "id": "4otvAfgbn2R5"
   },
   "source": [
    "loc[ ]의 슬라이싱은 종료값까지 포함"
   ]
  },
  {
   "cell_type": "code",
   "execution_count": 74,
   "metadata": {
    "colab": {
     "base_uri": "https://localhost:8080/"
    },
    "id": "y5kmeSqlnnCQ",
    "outputId": "89fac569-5366-4466-f33f-ac1741a936a0"
   },
   "outputs": [
    {
     "name": "stdout",
     "output_type": "stream",
     "text": [
      "위치기반 iloc slicing\n",
      " one    Chulmin\n",
      "Name: Name, dtype: object \n",
      "\n",
      "명칭기반 loc slicing\n",
      " one     Chulmin\n",
      "two    Eunkyung\n",
      "Name: Name, dtype: object\n"
     ]
    }
   ],
   "source": [
    "print('위치기반 iloc slicing\\n', data_df.iloc[0:1, 0],'\\n')\n",
    "print('명칭기반 loc slicing\\n', data_df.loc['one':'two', 'Name'])"
   ]
  },
  {
   "cell_type": "markdown",
   "metadata": {
    "id": "EIjClRBGoBRe"
   },
   "source": [
    "(참조) 70p. [ ] , iloc[ ] , loc[ ] 특징과 주의사항"
   ]
  },
  {
   "cell_type": "markdown",
   "metadata": {
    "id": "sTjO4KuVoNsz"
   },
   "source": [
    "#### 불린 인덱싱"
   ]
  },
  {
   "cell_type": "code",
   "execution_count": 75,
   "metadata": {
    "colab": {
     "base_uri": "https://localhost:8080/",
     "height": 757
    },
    "id": "GDfzPKhFnv01",
    "outputId": "22b44636-faa4-48b6-cd90-8c77de11c540"
   },
   "outputs": [
    {
     "name": "stdout",
     "output_type": "stream",
     "text": [
      "<class 'pandas.core.frame.DataFrame'>\n"
     ]
    },
    {
     "data": {
      "text/html": [
       "<div>\n",
       "<style scoped>\n",
       "    .dataframe tbody tr th:only-of-type {\n",
       "        vertical-align: middle;\n",
       "    }\n",
       "\n",
       "    .dataframe tbody tr th {\n",
       "        vertical-align: top;\n",
       "    }\n",
       "\n",
       "    .dataframe thead th {\n",
       "        text-align: right;\n",
       "    }\n",
       "</style>\n",
       "<table border=\"1\" class=\"dataframe\">\n",
       "  <thead>\n",
       "    <tr style=\"text-align: right;\">\n",
       "      <th></th>\n",
       "      <th>PassengerId</th>\n",
       "      <th>Survived</th>\n",
       "      <th>Pclass</th>\n",
       "      <th>Name</th>\n",
       "      <th>Sex</th>\n",
       "      <th>Age</th>\n",
       "      <th>SibSp</th>\n",
       "      <th>Parch</th>\n",
       "      <th>Ticket</th>\n",
       "      <th>Fare</th>\n",
       "      <th>Cabin</th>\n",
       "      <th>Embarked</th>\n",
       "    </tr>\n",
       "  </thead>\n",
       "  <tbody>\n",
       "    <tr>\n",
       "      <th>33</th>\n",
       "      <td>34</td>\n",
       "      <td>0</td>\n",
       "      <td>2</td>\n",
       "      <td>Wheadon, Mr...</td>\n",
       "      <td>male</td>\n",
       "      <td>66.0</td>\n",
       "      <td>0</td>\n",
       "      <td>0</td>\n",
       "      <td>C.A. 24579</td>\n",
       "      <td>10.5000</td>\n",
       "      <td>NaN</td>\n",
       "      <td>S</td>\n",
       "    </tr>\n",
       "    <tr>\n",
       "      <th>54</th>\n",
       "      <td>55</td>\n",
       "      <td>0</td>\n",
       "      <td>1</td>\n",
       "      <td>Ostby, Mr. ...</td>\n",
       "      <td>male</td>\n",
       "      <td>65.0</td>\n",
       "      <td>0</td>\n",
       "      <td>1</td>\n",
       "      <td>113509</td>\n",
       "      <td>61.9792</td>\n",
       "      <td>B30</td>\n",
       "      <td>C</td>\n",
       "    </tr>\n",
       "    <tr>\n",
       "      <th>96</th>\n",
       "      <td>97</td>\n",
       "      <td>0</td>\n",
       "      <td>1</td>\n",
       "      <td>Goldschmidt...</td>\n",
       "      <td>male</td>\n",
       "      <td>71.0</td>\n",
       "      <td>0</td>\n",
       "      <td>0</td>\n",
       "      <td>PC 17754</td>\n",
       "      <td>34.6542</td>\n",
       "      <td>A5</td>\n",
       "      <td>C</td>\n",
       "    </tr>\n",
       "    <tr>\n",
       "      <th>116</th>\n",
       "      <td>117</td>\n",
       "      <td>0</td>\n",
       "      <td>3</td>\n",
       "      <td>Connors, Mr...</td>\n",
       "      <td>male</td>\n",
       "      <td>70.5</td>\n",
       "      <td>0</td>\n",
       "      <td>0</td>\n",
       "      <td>370369</td>\n",
       "      <td>7.7500</td>\n",
       "      <td>NaN</td>\n",
       "      <td>Q</td>\n",
       "    </tr>\n",
       "    <tr>\n",
       "      <th>170</th>\n",
       "      <td>171</td>\n",
       "      <td>0</td>\n",
       "      <td>1</td>\n",
       "      <td>Van der hoe...</td>\n",
       "      <td>male</td>\n",
       "      <td>61.0</td>\n",
       "      <td>0</td>\n",
       "      <td>0</td>\n",
       "      <td>111240</td>\n",
       "      <td>33.5000</td>\n",
       "      <td>B19</td>\n",
       "      <td>S</td>\n",
       "    </tr>\n",
       "    <tr>\n",
       "      <th>252</th>\n",
       "      <td>253</td>\n",
       "      <td>0</td>\n",
       "      <td>1</td>\n",
       "      <td>Stead, Mr. ...</td>\n",
       "      <td>male</td>\n",
       "      <td>62.0</td>\n",
       "      <td>0</td>\n",
       "      <td>0</td>\n",
       "      <td>113514</td>\n",
       "      <td>26.5500</td>\n",
       "      <td>C87</td>\n",
       "      <td>S</td>\n",
       "    </tr>\n",
       "    <tr>\n",
       "      <th>275</th>\n",
       "      <td>276</td>\n",
       "      <td>1</td>\n",
       "      <td>1</td>\n",
       "      <td>Andrews, Mi...</td>\n",
       "      <td>female</td>\n",
       "      <td>63.0</td>\n",
       "      <td>1</td>\n",
       "      <td>0</td>\n",
       "      <td>13502</td>\n",
       "      <td>77.9583</td>\n",
       "      <td>D7</td>\n",
       "      <td>S</td>\n",
       "    </tr>\n",
       "    <tr>\n",
       "      <th>280</th>\n",
       "      <td>281</td>\n",
       "      <td>0</td>\n",
       "      <td>3</td>\n",
       "      <td>Duane, Mr. ...</td>\n",
       "      <td>male</td>\n",
       "      <td>65.0</td>\n",
       "      <td>0</td>\n",
       "      <td>0</td>\n",
       "      <td>336439</td>\n",
       "      <td>7.7500</td>\n",
       "      <td>NaN</td>\n",
       "      <td>Q</td>\n",
       "    </tr>\n",
       "    <tr>\n",
       "      <th>326</th>\n",
       "      <td>327</td>\n",
       "      <td>0</td>\n",
       "      <td>3</td>\n",
       "      <td>Nysveen, Mr...</td>\n",
       "      <td>male</td>\n",
       "      <td>61.0</td>\n",
       "      <td>0</td>\n",
       "      <td>0</td>\n",
       "      <td>345364</td>\n",
       "      <td>6.2375</td>\n",
       "      <td>NaN</td>\n",
       "      <td>S</td>\n",
       "    </tr>\n",
       "    <tr>\n",
       "      <th>438</th>\n",
       "      <td>439</td>\n",
       "      <td>0</td>\n",
       "      <td>1</td>\n",
       "      <td>Fortune, Mr...</td>\n",
       "      <td>male</td>\n",
       "      <td>64.0</td>\n",
       "      <td>1</td>\n",
       "      <td>4</td>\n",
       "      <td>19950</td>\n",
       "      <td>263.0000</td>\n",
       "      <td>C23 C25 C27</td>\n",
       "      <td>S</td>\n",
       "    </tr>\n",
       "    <tr>\n",
       "      <th>456</th>\n",
       "      <td>457</td>\n",
       "      <td>0</td>\n",
       "      <td>1</td>\n",
       "      <td>Millet, Mr....</td>\n",
       "      <td>male</td>\n",
       "      <td>65.0</td>\n",
       "      <td>0</td>\n",
       "      <td>0</td>\n",
       "      <td>13509</td>\n",
       "      <td>26.5500</td>\n",
       "      <td>E38</td>\n",
       "      <td>S</td>\n",
       "    </tr>\n",
       "    <tr>\n",
       "      <th>483</th>\n",
       "      <td>484</td>\n",
       "      <td>1</td>\n",
       "      <td>3</td>\n",
       "      <td>Turkula, Mr...</td>\n",
       "      <td>female</td>\n",
       "      <td>63.0</td>\n",
       "      <td>0</td>\n",
       "      <td>0</td>\n",
       "      <td>4134</td>\n",
       "      <td>9.5875</td>\n",
       "      <td>NaN</td>\n",
       "      <td>S</td>\n",
       "    </tr>\n",
       "    <tr>\n",
       "      <th>493</th>\n",
       "      <td>494</td>\n",
       "      <td>0</td>\n",
       "      <td>1</td>\n",
       "      <td>Artagaveyti...</td>\n",
       "      <td>male</td>\n",
       "      <td>71.0</td>\n",
       "      <td>0</td>\n",
       "      <td>0</td>\n",
       "      <td>PC 17609</td>\n",
       "      <td>49.5042</td>\n",
       "      <td>NaN</td>\n",
       "      <td>C</td>\n",
       "    </tr>\n",
       "    <tr>\n",
       "      <th>545</th>\n",
       "      <td>546</td>\n",
       "      <td>0</td>\n",
       "      <td>1</td>\n",
       "      <td>Nicholson, ...</td>\n",
       "      <td>male</td>\n",
       "      <td>64.0</td>\n",
       "      <td>0</td>\n",
       "      <td>0</td>\n",
       "      <td>693</td>\n",
       "      <td>26.0000</td>\n",
       "      <td>NaN</td>\n",
       "      <td>S</td>\n",
       "    </tr>\n",
       "    <tr>\n",
       "      <th>555</th>\n",
       "      <td>556</td>\n",
       "      <td>0</td>\n",
       "      <td>1</td>\n",
       "      <td>Wright, Mr....</td>\n",
       "      <td>male</td>\n",
       "      <td>62.0</td>\n",
       "      <td>0</td>\n",
       "      <td>0</td>\n",
       "      <td>113807</td>\n",
       "      <td>26.5500</td>\n",
       "      <td>NaN</td>\n",
       "      <td>S</td>\n",
       "    </tr>\n",
       "    <tr>\n",
       "      <th>570</th>\n",
       "      <td>571</td>\n",
       "      <td>1</td>\n",
       "      <td>2</td>\n",
       "      <td>Harris, Mr....</td>\n",
       "      <td>male</td>\n",
       "      <td>62.0</td>\n",
       "      <td>0</td>\n",
       "      <td>0</td>\n",
       "      <td>S.W./PP 752</td>\n",
       "      <td>10.5000</td>\n",
       "      <td>NaN</td>\n",
       "      <td>S</td>\n",
       "    </tr>\n",
       "    <tr>\n",
       "      <th>625</th>\n",
       "      <td>626</td>\n",
       "      <td>0</td>\n",
       "      <td>1</td>\n",
       "      <td>Sutton, Mr....</td>\n",
       "      <td>male</td>\n",
       "      <td>61.0</td>\n",
       "      <td>0</td>\n",
       "      <td>0</td>\n",
       "      <td>36963</td>\n",
       "      <td>32.3208</td>\n",
       "      <td>D50</td>\n",
       "      <td>S</td>\n",
       "    </tr>\n",
       "    <tr>\n",
       "      <th>630</th>\n",
       "      <td>631</td>\n",
       "      <td>1</td>\n",
       "      <td>1</td>\n",
       "      <td>Barkworth, ...</td>\n",
       "      <td>male</td>\n",
       "      <td>80.0</td>\n",
       "      <td>0</td>\n",
       "      <td>0</td>\n",
       "      <td>27042</td>\n",
       "      <td>30.0000</td>\n",
       "      <td>A23</td>\n",
       "      <td>S</td>\n",
       "    </tr>\n",
       "    <tr>\n",
       "      <th>672</th>\n",
       "      <td>673</td>\n",
       "      <td>0</td>\n",
       "      <td>2</td>\n",
       "      <td>Mitchell, M...</td>\n",
       "      <td>male</td>\n",
       "      <td>70.0</td>\n",
       "      <td>0</td>\n",
       "      <td>0</td>\n",
       "      <td>C.A. 24580</td>\n",
       "      <td>10.5000</td>\n",
       "      <td>NaN</td>\n",
       "      <td>S</td>\n",
       "    </tr>\n",
       "    <tr>\n",
       "      <th>745</th>\n",
       "      <td>746</td>\n",
       "      <td>0</td>\n",
       "      <td>1</td>\n",
       "      <td>Crosby, Cap...</td>\n",
       "      <td>male</td>\n",
       "      <td>70.0</td>\n",
       "      <td>1</td>\n",
       "      <td>1</td>\n",
       "      <td>WE/P 5735</td>\n",
       "      <td>71.0000</td>\n",
       "      <td>B22</td>\n",
       "      <td>S</td>\n",
       "    </tr>\n",
       "    <tr>\n",
       "      <th>829</th>\n",
       "      <td>830</td>\n",
       "      <td>1</td>\n",
       "      <td>1</td>\n",
       "      <td>Stone, Mrs....</td>\n",
       "      <td>female</td>\n",
       "      <td>62.0</td>\n",
       "      <td>0</td>\n",
       "      <td>0</td>\n",
       "      <td>113572</td>\n",
       "      <td>80.0000</td>\n",
       "      <td>B28</td>\n",
       "      <td>NaN</td>\n",
       "    </tr>\n",
       "    <tr>\n",
       "      <th>851</th>\n",
       "      <td>852</td>\n",
       "      <td>0</td>\n",
       "      <td>3</td>\n",
       "      <td>Svensson, M...</td>\n",
       "      <td>male</td>\n",
       "      <td>74.0</td>\n",
       "      <td>0</td>\n",
       "      <td>0</td>\n",
       "      <td>347060</td>\n",
       "      <td>7.7750</td>\n",
       "      <td>NaN</td>\n",
       "      <td>S</td>\n",
       "    </tr>\n",
       "  </tbody>\n",
       "</table>\n",
       "</div>"
      ],
      "text/plain": [
       "     PassengerId  Survived  Pclass            Name     Sex   Age  SibSp  Parch       Ticket      Fare        Cabin Embarked\n",
       "33            34         0       2  Wheadon, Mr...    male  66.0      0      0   C.A. 24579   10.5000          NaN        S\n",
       "54            55         0       1  Ostby, Mr. ...    male  65.0      0      1       113509   61.9792          B30        C\n",
       "96            97         0       1  Goldschmidt...    male  71.0      0      0     PC 17754   34.6542           A5        C\n",
       "116          117         0       3  Connors, Mr...    male  70.5      0      0       370369    7.7500          NaN        Q\n",
       "170          171         0       1  Van der hoe...    male  61.0      0      0       111240   33.5000          B19        S\n",
       "252          253         0       1  Stead, Mr. ...    male  62.0      0      0       113514   26.5500          C87        S\n",
       "275          276         1       1  Andrews, Mi...  female  63.0      1      0        13502   77.9583           D7        S\n",
       "280          281         0       3  Duane, Mr. ...    male  65.0      0      0       336439    7.7500          NaN        Q\n",
       "326          327         0       3  Nysveen, Mr...    male  61.0      0      0       345364    6.2375          NaN        S\n",
       "438          439         0       1  Fortune, Mr...    male  64.0      1      4        19950  263.0000  C23 C25 C27        S\n",
       "456          457         0       1  Millet, Mr....    male  65.0      0      0        13509   26.5500          E38        S\n",
       "483          484         1       3  Turkula, Mr...  female  63.0      0      0         4134    9.5875          NaN        S\n",
       "493          494         0       1  Artagaveyti...    male  71.0      0      0     PC 17609   49.5042          NaN        C\n",
       "545          546         0       1  Nicholson, ...    male  64.0      0      0          693   26.0000          NaN        S\n",
       "555          556         0       1  Wright, Mr....    male  62.0      0      0       113807   26.5500          NaN        S\n",
       "570          571         1       2  Harris, Mr....    male  62.0      0      0  S.W./PP 752   10.5000          NaN        S\n",
       "625          626         0       1  Sutton, Mr....    male  61.0      0      0        36963   32.3208          D50        S\n",
       "630          631         1       1  Barkworth, ...    male  80.0      0      0        27042   30.0000          A23        S\n",
       "672          673         0       2  Mitchell, M...    male  70.0      0      0   C.A. 24580   10.5000          NaN        S\n",
       "745          746         0       1  Crosby, Cap...    male  70.0      1      1    WE/P 5735   71.0000          B22        S\n",
       "829          830         1       1  Stone, Mrs....  female  62.0      0      0       113572   80.0000          B28      NaN\n",
       "851          852         0       3  Svensson, M...    male  74.0      0      0       347060    7.7750          NaN        S"
      ]
     },
     "execution_count": 75,
     "metadata": {},
     "output_type": "execute_result"
    }
   ],
   "source": [
    "titanic_df = pd.read_csv('titanic_train.csv')\n",
    "titanic_boolean = titanic_df[titanic_df['Age'] > 60]\n",
    "print(type(titanic_boolean))\n",
    "titanic_boolean"
   ]
  },
  {
   "cell_type": "markdown",
   "metadata": {
    "id": "8LW0YK-zo1Im"
   },
   "source": [
    "60세 이상인 승객의 나이와 이름만 추출하기"
   ]
  },
  {
   "cell_type": "code",
   "execution_count": 76,
   "metadata": {
    "colab": {
     "base_uri": "https://localhost:8080/",
     "height": 143
    },
    "id": "IOkN59A6ocia",
    "outputId": "58e44e6b-f642-461e-e932-b6c3b69d2274"
   },
   "outputs": [
    {
     "data": {
      "text/html": [
       "<div>\n",
       "<style scoped>\n",
       "    .dataframe tbody tr th:only-of-type {\n",
       "        vertical-align: middle;\n",
       "    }\n",
       "\n",
       "    .dataframe tbody tr th {\n",
       "        vertical-align: top;\n",
       "    }\n",
       "\n",
       "    .dataframe thead th {\n",
       "        text-align: right;\n",
       "    }\n",
       "</style>\n",
       "<table border=\"1\" class=\"dataframe\">\n",
       "  <thead>\n",
       "    <tr style=\"text-align: right;\">\n",
       "      <th></th>\n",
       "      <th>Name</th>\n",
       "      <th>Age</th>\n",
       "    </tr>\n",
       "  </thead>\n",
       "  <tbody>\n",
       "    <tr>\n",
       "      <th>33</th>\n",
       "      <td>Wheadon, Mr...</td>\n",
       "      <td>66.0</td>\n",
       "    </tr>\n",
       "    <tr>\n",
       "      <th>54</th>\n",
       "      <td>Ostby, Mr. ...</td>\n",
       "      <td>65.0</td>\n",
       "    </tr>\n",
       "    <tr>\n",
       "      <th>96</th>\n",
       "      <td>Goldschmidt...</td>\n",
       "      <td>71.0</td>\n",
       "    </tr>\n",
       "  </tbody>\n",
       "</table>\n",
       "</div>"
      ],
      "text/plain": [
       "              Name   Age\n",
       "33  Wheadon, Mr...  66.0\n",
       "54  Ostby, Mr. ...  65.0\n",
       "96  Goldschmidt...  71.0"
      ]
     },
     "execution_count": 76,
     "metadata": {},
     "output_type": "execute_result"
    }
   ],
   "source": [
    "titanic_df[titanic_df['Age'] > 60][['Name','Age']].head(3)"
   ]
  },
  {
   "cell_type": "code",
   "execution_count": 77,
   "metadata": {
    "colab": {
     "base_uri": "https://localhost:8080/",
     "height": 143
    },
    "id": "tQkafO-Coejr",
    "outputId": "661e53c7-b611-481c-8991-455a92e8591e"
   },
   "outputs": [
    {
     "data": {
      "text/html": [
       "<div>\n",
       "<style scoped>\n",
       "    .dataframe tbody tr th:only-of-type {\n",
       "        vertical-align: middle;\n",
       "    }\n",
       "\n",
       "    .dataframe tbody tr th {\n",
       "        vertical-align: top;\n",
       "    }\n",
       "\n",
       "    .dataframe thead th {\n",
       "        text-align: right;\n",
       "    }\n",
       "</style>\n",
       "<table border=\"1\" class=\"dataframe\">\n",
       "  <thead>\n",
       "    <tr style=\"text-align: right;\">\n",
       "      <th></th>\n",
       "      <th>Name</th>\n",
       "      <th>Age</th>\n",
       "    </tr>\n",
       "  </thead>\n",
       "  <tbody>\n",
       "    <tr>\n",
       "      <th>33</th>\n",
       "      <td>Wheadon, Mr...</td>\n",
       "      <td>66.0</td>\n",
       "    </tr>\n",
       "    <tr>\n",
       "      <th>54</th>\n",
       "      <td>Ostby, Mr. ...</td>\n",
       "      <td>65.0</td>\n",
       "    </tr>\n",
       "    <tr>\n",
       "      <th>96</th>\n",
       "      <td>Goldschmidt...</td>\n",
       "      <td>71.0</td>\n",
       "    </tr>\n",
       "  </tbody>\n",
       "</table>\n",
       "</div>"
      ],
      "text/plain": [
       "              Name   Age\n",
       "33  Wheadon, Mr...  66.0\n",
       "54  Ostby, Mr. ...  65.0\n",
       "96  Goldschmidt...  71.0"
      ]
     },
     "execution_count": 77,
     "metadata": {},
     "output_type": "execute_result"
    }
   ],
   "source": [
    "titanic_df.loc[titanic_df['Age'] > 60, ['Name','Age']].head(3)"
   ]
  },
  {
   "cell_type": "code",
   "execution_count": 78,
   "metadata": {
    "colab": {
     "base_uri": "https://localhost:8080/",
     "height": 112
    },
    "id": "OsvihjbxpHjx",
    "outputId": "e38923cb-d25e-481e-8bd8-bc933ff9e52b"
   },
   "outputs": [
    {
     "data": {
      "text/html": [
       "<div>\n",
       "<style scoped>\n",
       "    .dataframe tbody tr th:only-of-type {\n",
       "        vertical-align: middle;\n",
       "    }\n",
       "\n",
       "    .dataframe tbody tr th {\n",
       "        vertical-align: top;\n",
       "    }\n",
       "\n",
       "    .dataframe thead th {\n",
       "        text-align: right;\n",
       "    }\n",
       "</style>\n",
       "<table border=\"1\" class=\"dataframe\">\n",
       "  <thead>\n",
       "    <tr style=\"text-align: right;\">\n",
       "      <th></th>\n",
       "      <th>PassengerId</th>\n",
       "      <th>Survived</th>\n",
       "      <th>Pclass</th>\n",
       "      <th>Name</th>\n",
       "      <th>Sex</th>\n",
       "      <th>Age</th>\n",
       "      <th>SibSp</th>\n",
       "      <th>Parch</th>\n",
       "      <th>Ticket</th>\n",
       "      <th>Fare</th>\n",
       "      <th>Cabin</th>\n",
       "      <th>Embarked</th>\n",
       "    </tr>\n",
       "  </thead>\n",
       "  <tbody>\n",
       "    <tr>\n",
       "      <th>275</th>\n",
       "      <td>276</td>\n",
       "      <td>1</td>\n",
       "      <td>1</td>\n",
       "      <td>Andrews, Mi...</td>\n",
       "      <td>female</td>\n",
       "      <td>63.0</td>\n",
       "      <td>1</td>\n",
       "      <td>0</td>\n",
       "      <td>13502</td>\n",
       "      <td>77.9583</td>\n",
       "      <td>D7</td>\n",
       "      <td>S</td>\n",
       "    </tr>\n",
       "    <tr>\n",
       "      <th>829</th>\n",
       "      <td>830</td>\n",
       "      <td>1</td>\n",
       "      <td>1</td>\n",
       "      <td>Stone, Mrs....</td>\n",
       "      <td>female</td>\n",
       "      <td>62.0</td>\n",
       "      <td>0</td>\n",
       "      <td>0</td>\n",
       "      <td>113572</td>\n",
       "      <td>80.0000</td>\n",
       "      <td>B28</td>\n",
       "      <td>NaN</td>\n",
       "    </tr>\n",
       "  </tbody>\n",
       "</table>\n",
       "</div>"
      ],
      "text/plain": [
       "     PassengerId  Survived  Pclass            Name     Sex   Age  SibSp  Parch  Ticket     Fare Cabin Embarked\n",
       "275          276         1       1  Andrews, Mi...  female  63.0      1      0   13502  77.9583    D7        S\n",
       "829          830         1       1  Stone, Mrs....  female  62.0      0      0  113572  80.0000   B28      NaN"
      ]
     },
     "execution_count": 78,
     "metadata": {},
     "output_type": "execute_result"
    }
   ],
   "source": [
    "titanic_df[ (titanic_df['Age'] > 60) & (titanic_df['Pclass']==1) &\n",
    "           (titanic_df['Sex']=='female')]"
   ]
  },
  {
   "cell_type": "code",
   "execution_count": 79,
   "metadata": {
    "colab": {
     "base_uri": "https://localhost:8080/",
     "height": 112
    },
    "id": "BESpFBBCpY9l",
    "outputId": "cfe24acc-feb7-46d6-db17-d5757059e3cc"
   },
   "outputs": [
    {
     "data": {
      "text/html": [
       "<div>\n",
       "<style scoped>\n",
       "    .dataframe tbody tr th:only-of-type {\n",
       "        vertical-align: middle;\n",
       "    }\n",
       "\n",
       "    .dataframe tbody tr th {\n",
       "        vertical-align: top;\n",
       "    }\n",
       "\n",
       "    .dataframe thead th {\n",
       "        text-align: right;\n",
       "    }\n",
       "</style>\n",
       "<table border=\"1\" class=\"dataframe\">\n",
       "  <thead>\n",
       "    <tr style=\"text-align: right;\">\n",
       "      <th></th>\n",
       "      <th>PassengerId</th>\n",
       "      <th>Survived</th>\n",
       "      <th>Pclass</th>\n",
       "      <th>Name</th>\n",
       "      <th>Sex</th>\n",
       "      <th>Age</th>\n",
       "      <th>SibSp</th>\n",
       "      <th>Parch</th>\n",
       "      <th>Ticket</th>\n",
       "      <th>Fare</th>\n",
       "      <th>Cabin</th>\n",
       "      <th>Embarked</th>\n",
       "    </tr>\n",
       "  </thead>\n",
       "  <tbody>\n",
       "    <tr>\n",
       "      <th>275</th>\n",
       "      <td>276</td>\n",
       "      <td>1</td>\n",
       "      <td>1</td>\n",
       "      <td>Andrews, Mi...</td>\n",
       "      <td>female</td>\n",
       "      <td>63.0</td>\n",
       "      <td>1</td>\n",
       "      <td>0</td>\n",
       "      <td>13502</td>\n",
       "      <td>77.9583</td>\n",
       "      <td>D7</td>\n",
       "      <td>S</td>\n",
       "    </tr>\n",
       "    <tr>\n",
       "      <th>829</th>\n",
       "      <td>830</td>\n",
       "      <td>1</td>\n",
       "      <td>1</td>\n",
       "      <td>Stone, Mrs....</td>\n",
       "      <td>female</td>\n",
       "      <td>62.0</td>\n",
       "      <td>0</td>\n",
       "      <td>0</td>\n",
       "      <td>113572</td>\n",
       "      <td>80.0000</td>\n",
       "      <td>B28</td>\n",
       "      <td>NaN</td>\n",
       "    </tr>\n",
       "  </tbody>\n",
       "</table>\n",
       "</div>"
      ],
      "text/plain": [
       "     PassengerId  Survived  Pclass            Name     Sex   Age  SibSp  Parch  Ticket     Fare Cabin Embarked\n",
       "275          276         1       1  Andrews, Mi...  female  63.0      1      0   13502  77.9583    D7        S\n",
       "829          830         1       1  Stone, Mrs....  female  62.0      0      0  113572  80.0000   B28      NaN"
      ]
     },
     "execution_count": 79,
     "metadata": {},
     "output_type": "execute_result"
    }
   ],
   "source": [
    "cond1 = titanic_df['Age'] > 60\n",
    "cond2 = titanic_df['Pclass']==1\n",
    "cond3 = titanic_df['Sex']=='female'\n",
    "titanic_df[ cond1 & cond2 & cond3]"
   ]
  },
  {
   "cell_type": "markdown",
   "metadata": {
    "id": "schBbHVApfW3"
   },
   "source": [
    "### 정렬, Aggregation 함수, GroupBy 적용"
   ]
  },
  {
   "cell_type": "markdown",
   "metadata": {
    "id": "aBGskPAApqnc"
   },
   "source": [
    "#### DataFrame, Series의 정렬 - sort_values()"
   ]
  },
  {
   "cell_type": "markdown",
   "metadata": {
    "id": "jxfEfUA0rfnX"
   },
   "source": [
    "sort_values()\n",
    "\n",
    "*   오름차순 (기본) ascending = True\n",
    "*   DataFrame 그대로 유지 (기본) inplace = False\n",
    "\n"
   ]
  },
  {
   "cell_type": "markdown",
   "metadata": {
    "id": "U1aNDzjYrP9z"
   },
   "source": [
    "Name 칼럼으로 오름차순 정렬해 반환"
   ]
  },
  {
   "cell_type": "code",
   "execution_count": 80,
   "metadata": {
    "colab": {
     "base_uri": "https://localhost:8080/",
     "height": 143
    },
    "id": "Lcp5857spa6w",
    "outputId": "9e9fe8d7-0953-4521-8908-13a14c3e499c"
   },
   "outputs": [
    {
     "data": {
      "text/html": [
       "<div>\n",
       "<style scoped>\n",
       "    .dataframe tbody tr th:only-of-type {\n",
       "        vertical-align: middle;\n",
       "    }\n",
       "\n",
       "    .dataframe tbody tr th {\n",
       "        vertical-align: top;\n",
       "    }\n",
       "\n",
       "    .dataframe thead th {\n",
       "        text-align: right;\n",
       "    }\n",
       "</style>\n",
       "<table border=\"1\" class=\"dataframe\">\n",
       "  <thead>\n",
       "    <tr style=\"text-align: right;\">\n",
       "      <th></th>\n",
       "      <th>PassengerId</th>\n",
       "      <th>Survived</th>\n",
       "      <th>Pclass</th>\n",
       "      <th>Name</th>\n",
       "      <th>Sex</th>\n",
       "      <th>Age</th>\n",
       "      <th>SibSp</th>\n",
       "      <th>Parch</th>\n",
       "      <th>Ticket</th>\n",
       "      <th>Fare</th>\n",
       "      <th>Cabin</th>\n",
       "      <th>Embarked</th>\n",
       "    </tr>\n",
       "  </thead>\n",
       "  <tbody>\n",
       "    <tr>\n",
       "      <th>845</th>\n",
       "      <td>846</td>\n",
       "      <td>0</td>\n",
       "      <td>3</td>\n",
       "      <td>Abbing, Mr....</td>\n",
       "      <td>male</td>\n",
       "      <td>42.0</td>\n",
       "      <td>0</td>\n",
       "      <td>0</td>\n",
       "      <td>C.A. 5547</td>\n",
       "      <td>7.55</td>\n",
       "      <td>NaN</td>\n",
       "      <td>S</td>\n",
       "    </tr>\n",
       "    <tr>\n",
       "      <th>746</th>\n",
       "      <td>747</td>\n",
       "      <td>0</td>\n",
       "      <td>3</td>\n",
       "      <td>Abbott, Mr....</td>\n",
       "      <td>male</td>\n",
       "      <td>16.0</td>\n",
       "      <td>1</td>\n",
       "      <td>1</td>\n",
       "      <td>C.A. 2673</td>\n",
       "      <td>20.25</td>\n",
       "      <td>NaN</td>\n",
       "      <td>S</td>\n",
       "    </tr>\n",
       "    <tr>\n",
       "      <th>279</th>\n",
       "      <td>280</td>\n",
       "      <td>1</td>\n",
       "      <td>3</td>\n",
       "      <td>Abbott, Mrs...</td>\n",
       "      <td>female</td>\n",
       "      <td>35.0</td>\n",
       "      <td>1</td>\n",
       "      <td>1</td>\n",
       "      <td>C.A. 2673</td>\n",
       "      <td>20.25</td>\n",
       "      <td>NaN</td>\n",
       "      <td>S</td>\n",
       "    </tr>\n",
       "  </tbody>\n",
       "</table>\n",
       "</div>"
      ],
      "text/plain": [
       "     PassengerId  Survived  Pclass            Name     Sex   Age  SibSp  Parch     Ticket   Fare Cabin Embarked\n",
       "845          846         0       3  Abbing, Mr....    male  42.0      0      0  C.A. 5547   7.55   NaN        S\n",
       "746          747         0       3  Abbott, Mr....    male  16.0      1      1  C.A. 2673  20.25   NaN        S\n",
       "279          280         1       3  Abbott, Mrs...  female  35.0      1      1  C.A. 2673  20.25   NaN        S"
      ]
     },
     "execution_count": 80,
     "metadata": {},
     "output_type": "execute_result"
    }
   ],
   "source": [
    "titanic_sorted = titanic_df.sort_values(by=['Name'])\n",
    "titanic_sorted.head(3)"
   ]
  },
  {
   "cell_type": "markdown",
   "metadata": {
    "id": "ua8PbloUrTB6"
   },
   "source": [
    "여러 개의 칼럼으로 정렬\n",
    "\n",
    "Pclass와 Name을 내림차순으로 정렬"
   ]
  },
  {
   "cell_type": "code",
   "execution_count": 81,
   "metadata": {
    "colab": {
     "base_uri": "https://localhost:8080/",
     "height": 143
    },
    "id": "kHeqotOBrKek",
    "outputId": "f385e879-8668-4fe7-861c-a6c125e3a5b4"
   },
   "outputs": [
    {
     "data": {
      "text/html": [
       "<div>\n",
       "<style scoped>\n",
       "    .dataframe tbody tr th:only-of-type {\n",
       "        vertical-align: middle;\n",
       "    }\n",
       "\n",
       "    .dataframe tbody tr th {\n",
       "        vertical-align: top;\n",
       "    }\n",
       "\n",
       "    .dataframe thead th {\n",
       "        text-align: right;\n",
       "    }\n",
       "</style>\n",
       "<table border=\"1\" class=\"dataframe\">\n",
       "  <thead>\n",
       "    <tr style=\"text-align: right;\">\n",
       "      <th></th>\n",
       "      <th>PassengerId</th>\n",
       "      <th>Survived</th>\n",
       "      <th>Pclass</th>\n",
       "      <th>Name</th>\n",
       "      <th>Sex</th>\n",
       "      <th>Age</th>\n",
       "      <th>SibSp</th>\n",
       "      <th>Parch</th>\n",
       "      <th>Ticket</th>\n",
       "      <th>Fare</th>\n",
       "      <th>Cabin</th>\n",
       "      <th>Embarked</th>\n",
       "    </tr>\n",
       "  </thead>\n",
       "  <tbody>\n",
       "    <tr>\n",
       "      <th>868</th>\n",
       "      <td>869</td>\n",
       "      <td>0</td>\n",
       "      <td>3</td>\n",
       "      <td>van Melkebe...</td>\n",
       "      <td>male</td>\n",
       "      <td>NaN</td>\n",
       "      <td>0</td>\n",
       "      <td>0</td>\n",
       "      <td>345777</td>\n",
       "      <td>9.5</td>\n",
       "      <td>NaN</td>\n",
       "      <td>S</td>\n",
       "    </tr>\n",
       "    <tr>\n",
       "      <th>153</th>\n",
       "      <td>154</td>\n",
       "      <td>0</td>\n",
       "      <td>3</td>\n",
       "      <td>van Billiar...</td>\n",
       "      <td>male</td>\n",
       "      <td>40.5</td>\n",
       "      <td>0</td>\n",
       "      <td>2</td>\n",
       "      <td>A/5. 851</td>\n",
       "      <td>14.5</td>\n",
       "      <td>NaN</td>\n",
       "      <td>S</td>\n",
       "    </tr>\n",
       "    <tr>\n",
       "      <th>282</th>\n",
       "      <td>283</td>\n",
       "      <td>0</td>\n",
       "      <td>3</td>\n",
       "      <td>de Pelsmaek...</td>\n",
       "      <td>male</td>\n",
       "      <td>16.0</td>\n",
       "      <td>0</td>\n",
       "      <td>0</td>\n",
       "      <td>345778</td>\n",
       "      <td>9.5</td>\n",
       "      <td>NaN</td>\n",
       "      <td>S</td>\n",
       "    </tr>\n",
       "  </tbody>\n",
       "</table>\n",
       "</div>"
      ],
      "text/plain": [
       "     PassengerId  Survived  Pclass            Name   Sex   Age  SibSp  Parch    Ticket  Fare Cabin Embarked\n",
       "868          869         0       3  van Melkebe...  male   NaN      0      0    345777   9.5   NaN        S\n",
       "153          154         0       3  van Billiar...  male  40.5      0      2  A/5. 851  14.5   NaN        S\n",
       "282          283         0       3  de Pelsmaek...  male  16.0      0      0    345778   9.5   NaN        S"
      ]
     },
     "execution_count": 81,
     "metadata": {},
     "output_type": "execute_result"
    }
   ],
   "source": [
    "titanic_sorted = titanic_df.sort_values(by=['Pclass', 'Name'], ascending=False)\n",
    "titanic_sorted.head(3)"
   ]
  },
  {
   "cell_type": "markdown",
   "metadata": {
    "id": "-UmulKO_scNW"
   },
   "source": [
    "#### Aggregation 함수 적용"
   ]
  },
  {
   "cell_type": "markdown",
   "metadata": {
    "id": "fm9LcghgtYtc"
   },
   "source": [
    "Null값을 반영하지 않음"
   ]
  },
  {
   "cell_type": "code",
   "execution_count": 82,
   "metadata": {
    "colab": {
     "base_uri": "https://localhost:8080/"
    },
    "id": "GD68hIMirL_6",
    "outputId": "2d0407a5-15d5-4c92-c815-3dde4885dcce"
   },
   "outputs": [
    {
     "data": {
      "text/plain": [
       "PassengerId    891\n",
       "Survived       891\n",
       "Pclass         891\n",
       "Name           891\n",
       "Sex            891\n",
       "Age            714\n",
       "SibSp          891\n",
       "Parch          891\n",
       "Ticket         891\n",
       "Fare           891\n",
       "Cabin          204\n",
       "Embarked       889\n",
       "dtype: int64"
      ]
     },
     "execution_count": 82,
     "metadata": {},
     "output_type": "execute_result"
    }
   ],
   "source": [
    "titanic_df.count()"
   ]
  },
  {
   "cell_type": "code",
   "execution_count": 83,
   "metadata": {
    "colab": {
     "base_uri": "https://localhost:8080/"
    },
    "id": "-8UWACU5sgIo",
    "outputId": "d5542de8-8266-46a8-985f-0e44e4f45a7a"
   },
   "outputs": [
    {
     "data": {
      "text/plain": [
       "Age     29.699118\n",
       "Fare    32.204208\n",
       "dtype: float64"
      ]
     },
     "execution_count": 83,
     "metadata": {},
     "output_type": "execute_result"
    }
   ],
   "source": [
    "titanic_df[['Age', 'Fare']].mean()"
   ]
  },
  {
   "cell_type": "markdown",
   "metadata": {
    "id": "WP2QlbbGtbET"
   },
   "source": [
    "#### groupby( ) 적용"
   ]
  },
  {
   "cell_type": "code",
   "execution_count": 84,
   "metadata": {
    "colab": {
     "base_uri": "https://localhost:8080/"
    },
    "id": "mp-K7WnCsiz-",
    "outputId": "3b3cc2a2-17b5-49f5-e7d1-84eb50e65b17"
   },
   "outputs": [
    {
     "name": "stdout",
     "output_type": "stream",
     "text": [
      "<class 'pandas.core.groupby.generic.DataFrameGroupBy'>\n"
     ]
    }
   ],
   "source": [
    "titanic_groupby = titanic_df.groupby(by='Pclass')\n",
    "print(type(titanic_groupby))"
   ]
  },
  {
   "cell_type": "code",
   "execution_count": 85,
   "metadata": {
    "colab": {
     "base_uri": "https://localhost:8080/",
     "height": 174
    },
    "id": "K8etciYwtgv9",
    "outputId": "a086093c-4861-4dca-be00-6ed92ea60022"
   },
   "outputs": [
    {
     "data": {
      "text/html": [
       "<div>\n",
       "<style scoped>\n",
       "    .dataframe tbody tr th:only-of-type {\n",
       "        vertical-align: middle;\n",
       "    }\n",
       "\n",
       "    .dataframe tbody tr th {\n",
       "        vertical-align: top;\n",
       "    }\n",
       "\n",
       "    .dataframe thead th {\n",
       "        text-align: right;\n",
       "    }\n",
       "</style>\n",
       "<table border=\"1\" class=\"dataframe\">\n",
       "  <thead>\n",
       "    <tr style=\"text-align: right;\">\n",
       "      <th></th>\n",
       "      <th>PassengerId</th>\n",
       "      <th>Survived</th>\n",
       "      <th>Name</th>\n",
       "      <th>Sex</th>\n",
       "      <th>Age</th>\n",
       "      <th>SibSp</th>\n",
       "      <th>Parch</th>\n",
       "      <th>Ticket</th>\n",
       "      <th>Fare</th>\n",
       "      <th>Cabin</th>\n",
       "      <th>Embarked</th>\n",
       "    </tr>\n",
       "    <tr>\n",
       "      <th>Pclass</th>\n",
       "      <th></th>\n",
       "      <th></th>\n",
       "      <th></th>\n",
       "      <th></th>\n",
       "      <th></th>\n",
       "      <th></th>\n",
       "      <th></th>\n",
       "      <th></th>\n",
       "      <th></th>\n",
       "      <th></th>\n",
       "      <th></th>\n",
       "    </tr>\n",
       "  </thead>\n",
       "  <tbody>\n",
       "    <tr>\n",
       "      <th>1</th>\n",
       "      <td>216</td>\n",
       "      <td>216</td>\n",
       "      <td>216</td>\n",
       "      <td>216</td>\n",
       "      <td>186</td>\n",
       "      <td>216</td>\n",
       "      <td>216</td>\n",
       "      <td>216</td>\n",
       "      <td>216</td>\n",
       "      <td>176</td>\n",
       "      <td>214</td>\n",
       "    </tr>\n",
       "    <tr>\n",
       "      <th>2</th>\n",
       "      <td>184</td>\n",
       "      <td>184</td>\n",
       "      <td>184</td>\n",
       "      <td>184</td>\n",
       "      <td>173</td>\n",
       "      <td>184</td>\n",
       "      <td>184</td>\n",
       "      <td>184</td>\n",
       "      <td>184</td>\n",
       "      <td>16</td>\n",
       "      <td>184</td>\n",
       "    </tr>\n",
       "    <tr>\n",
       "      <th>3</th>\n",
       "      <td>491</td>\n",
       "      <td>491</td>\n",
       "      <td>491</td>\n",
       "      <td>491</td>\n",
       "      <td>355</td>\n",
       "      <td>491</td>\n",
       "      <td>491</td>\n",
       "      <td>491</td>\n",
       "      <td>491</td>\n",
       "      <td>12</td>\n",
       "      <td>491</td>\n",
       "    </tr>\n",
       "  </tbody>\n",
       "</table>\n",
       "</div>"
      ],
      "text/plain": [
       "        PassengerId  Survived  Name  Sex  Age  SibSp  Parch  Ticket  Fare  Cabin  Embarked\n",
       "Pclass                                                                                    \n",
       "1               216       216   216  216  186    216    216     216   216    176       214\n",
       "2               184       184   184  184  173    184    184     184   184     16       184\n",
       "3               491       491   491  491  355    491    491     491   491     12       491"
      ]
     },
     "execution_count": 85,
     "metadata": {},
     "output_type": "execute_result"
    }
   ],
   "source": [
    "titanic_groupby = titanic_df.groupby('Pclass').count()\n",
    "titanic_groupby"
   ]
  },
  {
   "cell_type": "markdown",
   "metadata": {
    "id": "0MhnM0xutreg"
   },
   "source": [
    "*  특정 칼럼만 aggregation 적용\n",
    "*   Ex. PassengerId와 Survived 칼럼에만 count() 수행\n",
    "\n",
    "\n",
    "\n",
    "\n"
   ]
  },
  {
   "cell_type": "code",
   "execution_count": 86,
   "metadata": {
    "colab": {
     "base_uri": "https://localhost:8080/",
     "height": 174
    },
    "id": "v-VAbdyRtiJx",
    "outputId": "2f5b3310-3372-41a2-f045-cc839f7c9c05"
   },
   "outputs": [
    {
     "data": {
      "text/html": [
       "<div>\n",
       "<style scoped>\n",
       "    .dataframe tbody tr th:only-of-type {\n",
       "        vertical-align: middle;\n",
       "    }\n",
       "\n",
       "    .dataframe tbody tr th {\n",
       "        vertical-align: top;\n",
       "    }\n",
       "\n",
       "    .dataframe thead th {\n",
       "        text-align: right;\n",
       "    }\n",
       "</style>\n",
       "<table border=\"1\" class=\"dataframe\">\n",
       "  <thead>\n",
       "    <tr style=\"text-align: right;\">\n",
       "      <th></th>\n",
       "      <th>PassengerId</th>\n",
       "      <th>Survived</th>\n",
       "    </tr>\n",
       "    <tr>\n",
       "      <th>Pclass</th>\n",
       "      <th></th>\n",
       "      <th></th>\n",
       "    </tr>\n",
       "  </thead>\n",
       "  <tbody>\n",
       "    <tr>\n",
       "      <th>1</th>\n",
       "      <td>216</td>\n",
       "      <td>216</td>\n",
       "    </tr>\n",
       "    <tr>\n",
       "      <th>2</th>\n",
       "      <td>184</td>\n",
       "      <td>184</td>\n",
       "    </tr>\n",
       "    <tr>\n",
       "      <th>3</th>\n",
       "      <td>491</td>\n",
       "      <td>491</td>\n",
       "    </tr>\n",
       "  </tbody>\n",
       "</table>\n",
       "</div>"
      ],
      "text/plain": [
       "        PassengerId  Survived\n",
       "Pclass                       \n",
       "1               216       216\n",
       "2               184       184\n",
       "3               491       491"
      ]
     },
     "execution_count": 86,
     "metadata": {},
     "output_type": "execute_result"
    }
   ],
   "source": [
    "titanic_groupby = titanic_df.groupby('Pclass')[['PassengerId', 'Survived']].count()\n",
    "titanic_groupby"
   ]
  },
  {
   "cell_type": "code",
   "execution_count": 87,
   "metadata": {
    "colab": {
     "base_uri": "https://localhost:8080/",
     "height": 174
    },
    "id": "ntyvuMWPtoKr",
    "outputId": "438ed98a-55e4-4170-dc8e-2da3fe3f5dd5"
   },
   "outputs": [
    {
     "data": {
      "text/html": [
       "<div>\n",
       "<style scoped>\n",
       "    .dataframe tbody tr th:only-of-type {\n",
       "        vertical-align: middle;\n",
       "    }\n",
       "\n",
       "    .dataframe tbody tr th {\n",
       "        vertical-align: top;\n",
       "    }\n",
       "\n",
       "    .dataframe thead th {\n",
       "        text-align: right;\n",
       "    }\n",
       "</style>\n",
       "<table border=\"1\" class=\"dataframe\">\n",
       "  <thead>\n",
       "    <tr style=\"text-align: right;\">\n",
       "      <th></th>\n",
       "      <th>max</th>\n",
       "      <th>min</th>\n",
       "    </tr>\n",
       "    <tr>\n",
       "      <th>Pclass</th>\n",
       "      <th></th>\n",
       "      <th></th>\n",
       "    </tr>\n",
       "  </thead>\n",
       "  <tbody>\n",
       "    <tr>\n",
       "      <th>1</th>\n",
       "      <td>80.0</td>\n",
       "      <td>0.92</td>\n",
       "    </tr>\n",
       "    <tr>\n",
       "      <th>2</th>\n",
       "      <td>70.0</td>\n",
       "      <td>0.67</td>\n",
       "    </tr>\n",
       "    <tr>\n",
       "      <th>3</th>\n",
       "      <td>74.0</td>\n",
       "      <td>0.42</td>\n",
       "    </tr>\n",
       "  </tbody>\n",
       "</table>\n",
       "</div>"
      ],
      "text/plain": [
       "         max   min\n",
       "Pclass            \n",
       "1       80.0  0.92\n",
       "2       70.0  0.67\n",
       "3       74.0  0.42"
      ]
     },
     "execution_count": 87,
     "metadata": {},
     "output_type": "execute_result"
    }
   ],
   "source": [
    "titanic_df.groupby('Pclass')['Age'].agg([max, min])"
   ]
  },
  {
   "cell_type": "markdown",
   "metadata": {
    "id": "fRS7ljIvuMwA"
   },
   "source": [
    "*   agg( ) 활용\n",
    "*   딕셔너리 형태 / aggregation을 적용할 칼럼 + aggregation 함수 입력"
   ]
  },
  {
   "cell_type": "code",
   "execution_count": 88,
   "metadata": {
    "colab": {
     "base_uri": "https://localhost:8080/",
     "height": 174
    },
    "id": "gAgGHpult1Ky",
    "outputId": "3cf369b3-ada2-4e03-bac9-61f3fa38d2e7"
   },
   "outputs": [
    {
     "data": {
      "text/html": [
       "<div>\n",
       "<style scoped>\n",
       "    .dataframe tbody tr th:only-of-type {\n",
       "        vertical-align: middle;\n",
       "    }\n",
       "\n",
       "    .dataframe tbody tr th {\n",
       "        vertical-align: top;\n",
       "    }\n",
       "\n",
       "    .dataframe thead th {\n",
       "        text-align: right;\n",
       "    }\n",
       "</style>\n",
       "<table border=\"1\" class=\"dataframe\">\n",
       "  <thead>\n",
       "    <tr style=\"text-align: right;\">\n",
       "      <th></th>\n",
       "      <th>Age</th>\n",
       "      <th>SibSp</th>\n",
       "      <th>Fare</th>\n",
       "    </tr>\n",
       "    <tr>\n",
       "      <th>Pclass</th>\n",
       "      <th></th>\n",
       "      <th></th>\n",
       "      <th></th>\n",
       "    </tr>\n",
       "  </thead>\n",
       "  <tbody>\n",
       "    <tr>\n",
       "      <th>1</th>\n",
       "      <td>80.0</td>\n",
       "      <td>90</td>\n",
       "      <td>84.154687</td>\n",
       "    </tr>\n",
       "    <tr>\n",
       "      <th>2</th>\n",
       "      <td>70.0</td>\n",
       "      <td>74</td>\n",
       "      <td>20.662183</td>\n",
       "    </tr>\n",
       "    <tr>\n",
       "      <th>3</th>\n",
       "      <td>74.0</td>\n",
       "      <td>302</td>\n",
       "      <td>13.675550</td>\n",
       "    </tr>\n",
       "  </tbody>\n",
       "</table>\n",
       "</div>"
      ],
      "text/plain": [
       "         Age  SibSp       Fare\n",
       "Pclass                        \n",
       "1       80.0     90  84.154687\n",
       "2       70.0     74  20.662183\n",
       "3       74.0    302  13.675550"
      ]
     },
     "execution_count": 88,
     "metadata": {},
     "output_type": "execute_result"
    }
   ],
   "source": [
    "agg_format={'Age':'max', 'SibSp':'sum', 'Fare':'mean'}\n",
    "titanic_df.groupby('Pclass').agg(agg_format)"
   ]
  },
  {
   "cell_type": "markdown",
   "metadata": {
    "id": "zXztjfBdu9dJ"
   },
   "source": [
    "### 결손 데이터 처리하기"
   ]
  },
  {
   "cell_type": "markdown",
   "metadata": {
    "id": "Bh5ryQ87vsFo"
   },
   "source": [
    "#### isna( )로 결손 데이터 여부 확인"
   ]
  },
  {
   "cell_type": "code",
   "execution_count": 89,
   "metadata": {
    "colab": {
     "base_uri": "https://localhost:8080/",
     "height": 143
    },
    "id": "yTg_jb40uE7l",
    "outputId": "dc709523-1ae9-4648-f593-ed0a5594d313"
   },
   "outputs": [
    {
     "data": {
      "text/html": [
       "<div>\n",
       "<style scoped>\n",
       "    .dataframe tbody tr th:only-of-type {\n",
       "        vertical-align: middle;\n",
       "    }\n",
       "\n",
       "    .dataframe tbody tr th {\n",
       "        vertical-align: top;\n",
       "    }\n",
       "\n",
       "    .dataframe thead th {\n",
       "        text-align: right;\n",
       "    }\n",
       "</style>\n",
       "<table border=\"1\" class=\"dataframe\">\n",
       "  <thead>\n",
       "    <tr style=\"text-align: right;\">\n",
       "      <th></th>\n",
       "      <th>PassengerId</th>\n",
       "      <th>Survived</th>\n",
       "      <th>Pclass</th>\n",
       "      <th>Name</th>\n",
       "      <th>Sex</th>\n",
       "      <th>Age</th>\n",
       "      <th>SibSp</th>\n",
       "      <th>Parch</th>\n",
       "      <th>Ticket</th>\n",
       "      <th>Fare</th>\n",
       "      <th>Cabin</th>\n",
       "      <th>Embarked</th>\n",
       "    </tr>\n",
       "  </thead>\n",
       "  <tbody>\n",
       "    <tr>\n",
       "      <th>0</th>\n",
       "      <td>False</td>\n",
       "      <td>False</td>\n",
       "      <td>False</td>\n",
       "      <td>False</td>\n",
       "      <td>False</td>\n",
       "      <td>False</td>\n",
       "      <td>False</td>\n",
       "      <td>False</td>\n",
       "      <td>False</td>\n",
       "      <td>False</td>\n",
       "      <td>True</td>\n",
       "      <td>False</td>\n",
       "    </tr>\n",
       "    <tr>\n",
       "      <th>1</th>\n",
       "      <td>False</td>\n",
       "      <td>False</td>\n",
       "      <td>False</td>\n",
       "      <td>False</td>\n",
       "      <td>False</td>\n",
       "      <td>False</td>\n",
       "      <td>False</td>\n",
       "      <td>False</td>\n",
       "      <td>False</td>\n",
       "      <td>False</td>\n",
       "      <td>False</td>\n",
       "      <td>False</td>\n",
       "    </tr>\n",
       "    <tr>\n",
       "      <th>2</th>\n",
       "      <td>False</td>\n",
       "      <td>False</td>\n",
       "      <td>False</td>\n",
       "      <td>False</td>\n",
       "      <td>False</td>\n",
       "      <td>False</td>\n",
       "      <td>False</td>\n",
       "      <td>False</td>\n",
       "      <td>False</td>\n",
       "      <td>False</td>\n",
       "      <td>True</td>\n",
       "      <td>False</td>\n",
       "    </tr>\n",
       "  </tbody>\n",
       "</table>\n",
       "</div>"
      ],
      "text/plain": [
       "   PassengerId  Survived  Pclass   Name    Sex    Age  SibSp  Parch  Ticket   Fare  Cabin  Embarked\n",
       "0        False     False   False  False  False  False  False  False   False  False   True     False\n",
       "1        False     False   False  False  False  False  False  False   False  False  False     False\n",
       "2        False     False   False  False  False  False  False  False   False  False   True     False"
      ]
     },
     "execution_count": 89,
     "metadata": {},
     "output_type": "execute_result"
    }
   ],
   "source": [
    "titanic_df.isna().head(3)"
   ]
  },
  {
   "cell_type": "markdown",
   "metadata": {
    "id": "OAWQuh65v3jv"
   },
   "source": [
    "sum( )\n",
    "\n",
    "결손 데이터의 개수 확인( True : 1 / False : 0)"
   ]
  },
  {
   "cell_type": "code",
   "execution_count": 90,
   "metadata": {
    "colab": {
     "base_uri": "https://localhost:8080/"
    },
    "id": "bbqbHsugvwVs",
    "outputId": "a958d61d-c53a-4616-9178-bde019d625f1"
   },
   "outputs": [
    {
     "data": {
      "text/plain": [
       "PassengerId      0\n",
       "Survived         0\n",
       "Pclass           0\n",
       "Name             0\n",
       "Sex              0\n",
       "Age            177\n",
       "SibSp            0\n",
       "Parch            0\n",
       "Ticket           0\n",
       "Fare             0\n",
       "Cabin          687\n",
       "Embarked         2\n",
       "dtype: int64"
      ]
     },
     "execution_count": 90,
     "metadata": {},
     "output_type": "execute_result"
    }
   ],
   "source": [
    "titanic_df.isna( ).sum( )"
   ]
  },
  {
   "cell_type": "markdown",
   "metadata": {
    "id": "kIwVpSJSwFvh"
   },
   "source": [
    "#### filna( )로 결손 데이터 대체하기"
   ]
  },
  {
   "cell_type": "markdown",
   "metadata": {
    "id": "Ib_FZURQwOPu"
   },
   "source": [
    "'Cabin' 칼럼의 NaN 값을 'C000'으로 대체"
   ]
  },
  {
   "cell_type": "code",
   "execution_count": 91,
   "metadata": {
    "colab": {
     "base_uri": "https://localhost:8080/",
     "height": 143
    },
    "id": "pMh-ZZhQvxpP",
    "outputId": "38cd0816-97a3-495a-e472-13a3a51221ae"
   },
   "outputs": [
    {
     "data": {
      "text/html": [
       "<div>\n",
       "<style scoped>\n",
       "    .dataframe tbody tr th:only-of-type {\n",
       "        vertical-align: middle;\n",
       "    }\n",
       "\n",
       "    .dataframe tbody tr th {\n",
       "        vertical-align: top;\n",
       "    }\n",
       "\n",
       "    .dataframe thead th {\n",
       "        text-align: right;\n",
       "    }\n",
       "</style>\n",
       "<table border=\"1\" class=\"dataframe\">\n",
       "  <thead>\n",
       "    <tr style=\"text-align: right;\">\n",
       "      <th></th>\n",
       "      <th>PassengerId</th>\n",
       "      <th>Survived</th>\n",
       "      <th>Pclass</th>\n",
       "      <th>Name</th>\n",
       "      <th>Sex</th>\n",
       "      <th>Age</th>\n",
       "      <th>SibSp</th>\n",
       "      <th>Parch</th>\n",
       "      <th>Ticket</th>\n",
       "      <th>Fare</th>\n",
       "      <th>Cabin</th>\n",
       "      <th>Embarked</th>\n",
       "    </tr>\n",
       "  </thead>\n",
       "  <tbody>\n",
       "    <tr>\n",
       "      <th>0</th>\n",
       "      <td>1</td>\n",
       "      <td>0</td>\n",
       "      <td>3</td>\n",
       "      <td>Braund, Mr....</td>\n",
       "      <td>male</td>\n",
       "      <td>22.0</td>\n",
       "      <td>1</td>\n",
       "      <td>0</td>\n",
       "      <td>A/5 21171</td>\n",
       "      <td>7.2500</td>\n",
       "      <td>C000</td>\n",
       "      <td>S</td>\n",
       "    </tr>\n",
       "    <tr>\n",
       "      <th>1</th>\n",
       "      <td>2</td>\n",
       "      <td>1</td>\n",
       "      <td>1</td>\n",
       "      <td>Cumings, Mr...</td>\n",
       "      <td>female</td>\n",
       "      <td>38.0</td>\n",
       "      <td>1</td>\n",
       "      <td>0</td>\n",
       "      <td>PC 17599</td>\n",
       "      <td>71.2833</td>\n",
       "      <td>C85</td>\n",
       "      <td>C</td>\n",
       "    </tr>\n",
       "    <tr>\n",
       "      <th>2</th>\n",
       "      <td>3</td>\n",
       "      <td>1</td>\n",
       "      <td>3</td>\n",
       "      <td>Heikkinen, ...</td>\n",
       "      <td>female</td>\n",
       "      <td>26.0</td>\n",
       "      <td>0</td>\n",
       "      <td>0</td>\n",
       "      <td>STON/O2. 31...</td>\n",
       "      <td>7.9250</td>\n",
       "      <td>C000</td>\n",
       "      <td>S</td>\n",
       "    </tr>\n",
       "  </tbody>\n",
       "</table>\n",
       "</div>"
      ],
      "text/plain": [
       "   PassengerId  Survived  Pclass            Name     Sex   Age  SibSp  Parch          Ticket     Fare Cabin Embarked\n",
       "0            1         0       3  Braund, Mr....    male  22.0      1      0       A/5 21171   7.2500  C000        S\n",
       "1            2         1       1  Cumings, Mr...  female  38.0      1      0        PC 17599  71.2833   C85        C\n",
       "2            3         1       3  Heikkinen, ...  female  26.0      0      0  STON/O2. 31...   7.9250  C000        S"
      ]
     },
     "execution_count": 91,
     "metadata": {},
     "output_type": "execute_result"
    }
   ],
   "source": [
    "titanic_df['Cabin'] = titanic_df['Cabin'].fillna('C000')\n",
    "titanic_df.head(3)"
   ]
  },
  {
   "cell_type": "markdown",
   "metadata": {
    "id": "MEBfIxHMwajO"
   },
   "source": [
    "'Age' 칼럼의 NaN 값을 평균 나이로, 'Embarked'칼럼의 NaN 값을 'S'로 대체"
   ]
  },
  {
   "cell_type": "code",
   "execution_count": 92,
   "metadata": {
    "colab": {
     "base_uri": "https://localhost:8080/"
    },
    "id": "bT7JbQaowLC0",
    "outputId": "0ddcc8fd-a652-4ac2-9f40-3d6b4af6b89f"
   },
   "outputs": [
    {
     "data": {
      "text/plain": [
       "PassengerId    0\n",
       "Survived       0\n",
       "Pclass         0\n",
       "Name           0\n",
       "Sex            0\n",
       "Age            0\n",
       "SibSp          0\n",
       "Parch          0\n",
       "Ticket         0\n",
       "Fare           0\n",
       "Cabin          0\n",
       "Embarked       0\n",
       "dtype: int64"
      ]
     },
     "execution_count": 92,
     "metadata": {},
     "output_type": "execute_result"
    }
   ],
   "source": [
    "titanic_df['Age'] = titanic_df['Age'].fillna(titanic_df['Age'].mean())  # 결손값을 제외한 평균 값\n",
    "titanic_df['Embarked'] = titanic_df['Embarked'].fillna('S')\n",
    "titanic_df.isna().sum()"
   ]
  },
  {
   "cell_type": "markdown",
   "metadata": {
    "id": "jrnYItsmwpB1"
   },
   "source": [
    "### apply lanbda 식으로 데이터 가공"
   ]
  },
  {
   "cell_type": "code",
   "execution_count": 93,
   "metadata": {
    "colab": {
     "base_uri": "https://localhost:8080/"
    },
    "id": "aKXrM2NfwWun",
    "outputId": "a8b5078a-1aee-4b50-d9f3-68b9bdcb315d"
   },
   "outputs": [
    {
     "name": "stdout",
     "output_type": "stream",
     "text": [
      "3의 제곱은: 9\n"
     ]
    }
   ],
   "source": [
    "def get_square(a):\n",
    "    return a**2\n",
    "\n",
    "print('3의 제곱은:',get_square(3))"
   ]
  },
  {
   "cell_type": "markdown",
   "metadata": {
    "id": "4yElemhsw9Sw"
   },
   "source": [
    "위의 함수를 lambda 식으로 변환"
   ]
  },
  {
   "cell_type": "code",
   "execution_count": 94,
   "metadata": {
    "colab": {
     "base_uri": "https://localhost:8080/"
    },
    "id": "2_Jc3koWwzGo",
    "outputId": "3ad3c280-7f36-44f9-c5ab-fbf57989a8c3"
   },
   "outputs": [
    {
     "name": "stdout",
     "output_type": "stream",
     "text": [
      "3의 제곱은: 9\n"
     ]
    }
   ],
   "source": [
    "lambda_square = lambda x : x ** 2\n",
    "print('3의 제곱은:',lambda_square(3))"
   ]
  },
  {
   "cell_type": "markdown",
   "metadata": {
    "id": "6mUS2oBDxLv9"
   },
   "source": [
    "map( )\n",
    "\n",
    "여러 개의 값을 인자로 사용할 때"
   ]
  },
  {
   "cell_type": "code",
   "execution_count": 95,
   "metadata": {
    "colab": {
     "base_uri": "https://localhost:8080/"
    },
    "id": "2n_hnwNBw8aw",
    "outputId": "32f9b202-297c-4398-9f33-853196895ae5"
   },
   "outputs": [
    {
     "data": {
      "text/plain": [
       "[1, 4, 9]"
      ]
     },
     "execution_count": 95,
     "metadata": {},
     "output_type": "execute_result"
    }
   ],
   "source": [
    "a=[1,2,3]\n",
    "squares = map(lambda x : x**2, a)\n",
    "list(squares)"
   ]
  },
  {
   "cell_type": "markdown",
   "metadata": {
    "id": "ahAUgt4exeUa"
   },
   "source": [
    "데이터 가공해보기"
   ]
  },
  {
   "cell_type": "code",
   "execution_count": 96,
   "metadata": {
    "colab": {
     "base_uri": "https://localhost:8080/",
     "height": 143
    },
    "id": "4DuVHfsaxLUR",
    "outputId": "5c521263-86d7-44d0-bd52-3421cc1291d7"
   },
   "outputs": [
    {
     "data": {
      "text/html": [
       "<div>\n",
       "<style scoped>\n",
       "    .dataframe tbody tr th:only-of-type {\n",
       "        vertical-align: middle;\n",
       "    }\n",
       "\n",
       "    .dataframe tbody tr th {\n",
       "        vertical-align: top;\n",
       "    }\n",
       "\n",
       "    .dataframe thead th {\n",
       "        text-align: right;\n",
       "    }\n",
       "</style>\n",
       "<table border=\"1\" class=\"dataframe\">\n",
       "  <thead>\n",
       "    <tr style=\"text-align: right;\">\n",
       "      <th></th>\n",
       "      <th>Name</th>\n",
       "      <th>Name_len</th>\n",
       "    </tr>\n",
       "  </thead>\n",
       "  <tbody>\n",
       "    <tr>\n",
       "      <th>0</th>\n",
       "      <td>Braund, Mr....</td>\n",
       "      <td>23</td>\n",
       "    </tr>\n",
       "    <tr>\n",
       "      <th>1</th>\n",
       "      <td>Cumings, Mr...</td>\n",
       "      <td>51</td>\n",
       "    </tr>\n",
       "    <tr>\n",
       "      <th>2</th>\n",
       "      <td>Heikkinen, ...</td>\n",
       "      <td>22</td>\n",
       "    </tr>\n",
       "  </tbody>\n",
       "</table>\n",
       "</div>"
      ],
      "text/plain": [
       "             Name  Name_len\n",
       "0  Braund, Mr....        23\n",
       "1  Cumings, Mr...        51\n",
       "2  Heikkinen, ...        22"
      ]
     },
     "execution_count": 96,
     "metadata": {},
     "output_type": "execute_result"
    }
   ],
   "source": [
    "titanic_df['Name_len']= titanic_df['Name'].apply(lambda x : len(x))\n",
    "titanic_df[['Name','Name_len']].head(3)"
   ]
  },
  {
   "cell_type": "markdown",
   "metadata": {
    "id": "0uzborjhxjkA"
   },
   "source": [
    "데이터 가공해보기(if else 절 사용)\n",
    "\n",
    "새로운 칼럼 'Child_Adult' 생성\n",
    "\n",
    ": 나이가 15세 미만이면 'Child', 그렇지 않으면 'Adult'로 구분"
   ]
  },
  {
   "cell_type": "code",
   "execution_count": 97,
   "metadata": {
    "colab": {
     "base_uri": "https://localhost:8080/",
     "height": 300
    },
    "id": "03E8gAFOxbqM",
    "outputId": "a0321125-1258-4129-ad2d-76ad1b7c978a"
   },
   "outputs": [
    {
     "data": {
      "text/html": [
       "<div>\n",
       "<style scoped>\n",
       "    .dataframe tbody tr th:only-of-type {\n",
       "        vertical-align: middle;\n",
       "    }\n",
       "\n",
       "    .dataframe tbody tr th {\n",
       "        vertical-align: top;\n",
       "    }\n",
       "\n",
       "    .dataframe thead th {\n",
       "        text-align: right;\n",
       "    }\n",
       "</style>\n",
       "<table border=\"1\" class=\"dataframe\">\n",
       "  <thead>\n",
       "    <tr style=\"text-align: right;\">\n",
       "      <th></th>\n",
       "      <th>Age</th>\n",
       "      <th>Child_Adult</th>\n",
       "    </tr>\n",
       "  </thead>\n",
       "  <tbody>\n",
       "    <tr>\n",
       "      <th>0</th>\n",
       "      <td>22.000000</td>\n",
       "      <td>Adult</td>\n",
       "    </tr>\n",
       "    <tr>\n",
       "      <th>1</th>\n",
       "      <td>38.000000</td>\n",
       "      <td>Adult</td>\n",
       "    </tr>\n",
       "    <tr>\n",
       "      <th>2</th>\n",
       "      <td>26.000000</td>\n",
       "      <td>Adult</td>\n",
       "    </tr>\n",
       "    <tr>\n",
       "      <th>3</th>\n",
       "      <td>35.000000</td>\n",
       "      <td>Adult</td>\n",
       "    </tr>\n",
       "    <tr>\n",
       "      <th>4</th>\n",
       "      <td>35.000000</td>\n",
       "      <td>Adult</td>\n",
       "    </tr>\n",
       "    <tr>\n",
       "      <th>5</th>\n",
       "      <td>29.699118</td>\n",
       "      <td>Adult</td>\n",
       "    </tr>\n",
       "    <tr>\n",
       "      <th>6</th>\n",
       "      <td>54.000000</td>\n",
       "      <td>Adult</td>\n",
       "    </tr>\n",
       "    <tr>\n",
       "      <th>7</th>\n",
       "      <td>2.000000</td>\n",
       "      <td>Child</td>\n",
       "    </tr>\n",
       "  </tbody>\n",
       "</table>\n",
       "</div>"
      ],
      "text/plain": [
       "         Age Child_Adult\n",
       "0  22.000000       Adult\n",
       "1  38.000000       Adult\n",
       "2  26.000000       Adult\n",
       "3  35.000000       Adult\n",
       "4  35.000000       Adult\n",
       "5  29.699118       Adult\n",
       "6  54.000000       Adult\n",
       "7   2.000000       Child"
      ]
     },
     "execution_count": 97,
     "metadata": {},
     "output_type": "execute_result"
    }
   ],
   "source": [
    "titanic_df['Child_Adult'] = titanic_df['Age'].apply(lambda x : 'Child' if x <=15 else 'Adult' )\n",
    "titanic_df[['Age','Child_Adult']].head(8)"
   ]
  },
  {
   "cell_type": "markdown",
   "metadata": {
    "id": "QWCXdlsWyHQS"
   },
   "source": [
    "데이터 가공해보기(더욱 복잡한 경우)\n",
    "\n",
    "별도의 함수를 만드는 것이 효율적"
   ]
  },
  {
   "cell_type": "code",
   "execution_count": 98,
   "metadata": {
    "colab": {
     "base_uri": "https://localhost:8080/"
    },
    "id": "hoiK7DarxidS",
    "outputId": "b67d0565-cc1a-493f-8837-647547b89973"
   },
   "outputs": [
    {
     "data": {
      "text/plain": [
       "Adult      786\n",
       "Child       83\n",
       "Elderly     22\n",
       "Name: Age_cat, dtype: int64"
      ]
     },
     "execution_count": 98,
     "metadata": {},
     "output_type": "execute_result"
    }
   ],
   "source": [
    "titanic_df['Age_cat'] = titanic_df['Age'].apply(lambda x : 'Child' if x<=15 else ('Adult' if x <= 60 else \n",
    "                                                                                  'Elderly'))\n",
    "titanic_df['Age_cat'].value_counts()"
   ]
  },
  {
   "cell_type": "code",
   "execution_count": 99,
   "metadata": {
    "colab": {
     "base_uri": "https://localhost:8080/",
     "height": 206
    },
    "id": "_LO3rYv_yCm-",
    "outputId": "e5b8f017-bb0c-4cfc-ec02-b28fd76a26f4"
   },
   "outputs": [
    {
     "data": {
      "text/html": [
       "<div>\n",
       "<style scoped>\n",
       "    .dataframe tbody tr th:only-of-type {\n",
       "        vertical-align: middle;\n",
       "    }\n",
       "\n",
       "    .dataframe tbody tr th {\n",
       "        vertical-align: top;\n",
       "    }\n",
       "\n",
       "    .dataframe thead th {\n",
       "        text-align: right;\n",
       "    }\n",
       "</style>\n",
       "<table border=\"1\" class=\"dataframe\">\n",
       "  <thead>\n",
       "    <tr style=\"text-align: right;\">\n",
       "      <th></th>\n",
       "      <th>Age</th>\n",
       "      <th>Age_cat</th>\n",
       "    </tr>\n",
       "  </thead>\n",
       "  <tbody>\n",
       "    <tr>\n",
       "      <th>0</th>\n",
       "      <td>22.0</td>\n",
       "      <td>Student</td>\n",
       "    </tr>\n",
       "    <tr>\n",
       "      <th>1</th>\n",
       "      <td>38.0</td>\n",
       "      <td>Adult</td>\n",
       "    </tr>\n",
       "    <tr>\n",
       "      <th>2</th>\n",
       "      <td>26.0</td>\n",
       "      <td>Young Adult</td>\n",
       "    </tr>\n",
       "    <tr>\n",
       "      <th>3</th>\n",
       "      <td>35.0</td>\n",
       "      <td>Young Adult</td>\n",
       "    </tr>\n",
       "    <tr>\n",
       "      <th>4</th>\n",
       "      <td>35.0</td>\n",
       "      <td>Young Adult</td>\n",
       "    </tr>\n",
       "  </tbody>\n",
       "</table>\n",
       "</div>"
      ],
      "text/plain": [
       "    Age      Age_cat\n",
       "0  22.0      Student\n",
       "1  38.0        Adult\n",
       "2  26.0  Young Adult\n",
       "3  35.0  Young Adult\n",
       "4  35.0  Young Adult"
      ]
     },
     "execution_count": 99,
     "metadata": {},
     "output_type": "execute_result"
    }
   ],
   "source": [
    "# 나이에 따라 세분화된 분류를 수행하는 함수 생성. \n",
    "def get_category(age):\n",
    "    cat = ''\n",
    "    if age <= 5: cat = 'Baby'\n",
    "    elif age <= 12: cat = 'Child'\n",
    "    elif age <= 18: cat = 'Teenager'\n",
    "    elif age <= 25: cat = 'Student'\n",
    "    elif age <= 35: cat = 'Young Adult'\n",
    "    elif age <= 60: cat = 'Adult'\n",
    "    else : cat = 'Elderly'\n",
    "    \n",
    "    return cat\n",
    "\n",
    "# lambda 식에 위에서 생성한 get_category( ) 함수를 반환값으로 지정.\n",
    "# get_category(X)는 입력값으로‘Age’칼럼 값을 받아서 해당하는 cat 반환\n",
    "titanic_df['Age_cat'] = titanic_df['Age'].apply(lambda x : get_category(x))\n",
    "titanic_df[['Age', 'Age_cat']].head()"
   ]
  }
 ],
 "metadata": {
  "colab": {
   "collapsed_sections": [
    "59f9o7l03scl"
   ],
   "provenance": []
  },
  "kernelspec": {
   "display_name": "Python 3 (ipykernel)",
   "language": "python",
   "name": "python3"
  },
  "language_info": {
   "codemirror_mode": {
    "name": "ipython",
    "version": 3
   },
   "file_extension": ".py",
   "mimetype": "text/x-python",
   "name": "python",
   "nbconvert_exporter": "python",
   "pygments_lexer": "ipython3",
   "version": "3.9.13"
  }
 },
 "nbformat": 4,
 "nbformat_minor": 1
}
