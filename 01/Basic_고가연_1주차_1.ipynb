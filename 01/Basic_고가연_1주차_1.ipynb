{
 "cells": [
  {
   "cell_type": "code",
   "execution_count": 1,
   "id": "0d763ff2",
   "metadata": {},
   "outputs": [],
   "source": [
    "import numpy\n",
    "import pandas\n",
    "import matplotlib.pyplot\n",
    "import seaborn\n",
    "from sklearn.model_selection import train_test_split"
   ]
  },
  {
   "cell_type": "markdown",
   "id": "1ce61110",
   "metadata": {},
   "source": [
    "# 넘파이 ndarray 개요"
   ]
  },
  {
   "cell_type": "code",
   "execution_count": 2,
   "id": "18ad6645",
   "metadata": {},
   "outputs": [],
   "source": [
    "import numpy as np"
   ]
  },
  {
   "cell_type": "markdown",
   "id": "81a3a3c8",
   "metadata": {},
   "source": [
    "넘파이 array() : 다양한 인자를 입력받아서 ndarray로 변환  \n",
    "ndarray.shape : ndarray의 크기, 행과 열의 수를 튜플로 갖는다."
   ]
  },
  {
   "cell_type": "code",
   "execution_count": 3,
   "id": "02ed2978",
   "metadata": {},
   "outputs": [
    {
     "name": "stdout",
     "output_type": "stream",
     "text": [
      "array1 type : <class 'numpy.ndarray'>\n",
      "array1 array 형태 : (3,)\n"
     ]
    }
   ],
   "source": [
    "#1차원 데이터\n",
    "array1 = np.array([1,2,3])\n",
    "print(\"array1 type :\", type(array1))\n",
    "#ndarray.shape는 ndarray의 차원과 크기를 튜플로 나타냄.\n",
    "print(\"array1 array 형태 :\", array1.shape)"
   ]
  },
  {
   "cell_type": "code",
   "execution_count": 4,
   "id": "029c2cf3",
   "metadata": {},
   "outputs": [
    {
     "name": "stdout",
     "output_type": "stream",
     "text": [
      "array2 type: <class 'numpy.ndarray'>\n",
      "array2 shape (2, 3)\n",
      "array3 type : <class 'numpy.ndarray'>\n",
      "array3 shape : (1, 3)\n"
     ]
    }
   ],
   "source": [
    "#2차원 데이터\n",
    "array2=np.array([[1,2,3],[2,3,4]])\n",
    "print(\"array2 type:\",type(array2))\n",
    "print(\"array2 shape\",array2.shape)\n",
    "#array1과 다르게 로우와 칼럼으로 이뤄진 2차원 데이터\n",
    "array3=np.array([[1,2,3]])\n",
    "print(\"array3 type :\",type(array3))\n",
    "print(\"array3 shape :\",array3.shape)"
   ]
  },
  {
   "cell_type": "markdown",
   "id": "cd925245",
   "metadata": {},
   "source": [
    "ndarray.ndim : 배열의 차원 수를 갖는다."
   ]
  },
  {
   "cell_type": "code",
   "execution_count": 5,
   "id": "fca8fcd9",
   "metadata": {},
   "outputs": [
    {
     "name": "stdout",
     "output_type": "stream",
     "text": [
      "array1 : 1차원, array2 : 2차원, array3 :  2차원\n"
     ]
    }
   ],
   "source": [
    "print(\"array1 : {:0}차원, array2 : {:1}차원, array3 : {:2}차원\".format(array1.ndim,array2.ndim,array3.ndim))"
   ]
  },
  {
   "cell_type": "markdown",
   "id": "31426591",
   "metadata": {},
   "source": [
    "# ndarray의 데이터 타입\n",
    "\n",
    "ndarray 내의 데이터 값은 숫자, 문자열, 불 값 모두 가능  \n",
    "단, ndarray 내의 데이터 타입은 동일한 데이터 타입만 가능"
   ]
  },
  {
   "cell_type": "code",
   "execution_count": 6,
   "id": "be912b95",
   "metadata": {},
   "outputs": [
    {
     "name": "stdout",
     "output_type": "stream",
     "text": [
      "<class 'list'>\n",
      "<class 'numpy.ndarray'>\n",
      "[1 2 3] int32\n"
     ]
    }
   ],
   "source": [
    "list1=[1,2,3]\n",
    "print(type(list1))\n",
    "array1=np.array(list1)\n",
    "print(type(array1))\n",
    "print(array1,array1.dtype)"
   ]
  },
  {
   "cell_type": "code",
   "execution_count": 7,
   "id": "907ffc29",
   "metadata": {},
   "outputs": [
    {
     "name": "stdout",
     "output_type": "stream",
     "text": [
      "['1' '2' 'test'] <U11\n",
      "[1. 2. 3.] float64\n"
     ]
    }
   ],
   "source": [
    "# 데이터 유형이 섞여 있는 리스트를 ndarray로 변경하면 데이터 크기가 더 큰 데이터 타입으로 형 변화\n",
    "list2=[1,2,'test']\n",
    "array2=np.array(list2)\n",
    "print(array2,array2.dtype)\n",
    "\n",
    "list3=[1,2,3.0]\n",
    "array3=np.array(list3)\n",
    "print(array3,array3.dtype)"
   ]
  },
  {
   "cell_type": "code",
   "execution_count": 8,
   "id": "b0e39222",
   "metadata": {},
   "outputs": [
    {
     "name": "stdout",
     "output_type": "stream",
     "text": [
      "[1. 2. 3.] float64\n",
      "[1 2 3] int32\n",
      "[1 2 3] int32\n"
     ]
    }
   ],
   "source": [
    "# astype() : ndarray 내 데이터값의 타입 변경\n",
    "array_int=np.array([1,2,3])\n",
    "array_float=array_int.astype('float64')\n",
    "print(array_float,array_float.dtype)\n",
    "\n",
    "array_int1=array_float.astype('int32')\n",
    "print(array_int1,array_int1.dtype)\n",
    "\n",
    "array_float1=np.array([1.1,2.1,3.1])\n",
    "array_int2=array_float1.astype(\"int32\")\n",
    "print(array_int2,array_int2.dtype)"
   ]
  },
  {
   "cell_type": "markdown",
   "id": "5f2a7d91",
   "metadata": {},
   "source": [
    "# ndarray 생성하기 - arange, zeros, ones\n",
    "\n",
    "arange() : 0부터 (함수 인자 값-1)까지의 값을 순차적으로 ndarray의 데이터 값으로 변환  \n",
    "zeros() : 튜플 형태의 shape 값을 입력하면 모든 값을 0으로 채운 해당 shape를 가진 ndarray를 반환  \n",
    "ones() : 튜플 형태의 shape 값을 입력하면 모든 값을 1로 채운 shape를 가진 ndarray를 변환"
   ]
  },
  {
   "cell_type": "code",
   "execution_count": 9,
   "id": "0956f9ff",
   "metadata": {},
   "outputs": [
    {
     "name": "stdout",
     "output_type": "stream",
     "text": [
      "[0 1 2 3 4 5 6 7 8 9]\n",
      "int32 (10,)\n"
     ]
    }
   ],
   "source": [
    "sequence_array=np.arange(10)\n",
    "print(sequence_array)\n",
    "print(sequence_array.dtype,sequence_array.shape)"
   ]
  },
  {
   "cell_type": "code",
   "execution_count": 10,
   "id": "d9760de1",
   "metadata": {},
   "outputs": [
    {
     "name": "stdout",
     "output_type": "stream",
     "text": [
      "[[0 0]\n",
      " [0 0]\n",
      " [0 0]]\n",
      "int32 (3, 2)\n",
      "[[1. 1.]\n",
      " [1. 1.]\n",
      " [1. 1.]]\n",
      "float64 (3, 2)\n"
     ]
    }
   ],
   "source": [
    "zero_array=np.zeros((3,2),dtype='int32')\n",
    "print(zero_array)\n",
    "print(zero_array.dtype,zero_array.shape)\n",
    "\n",
    "one_array=np.ones((3,2))\n",
    "print(one_array)\n",
    "print(one_array.dtype,one_array.shape)"
   ]
  },
  {
   "cell_type": "markdown",
   "id": "fba9d330",
   "metadata": {},
   "source": [
    "# reshape() : ndarray의 차원과 크기 변경"
   ]
  },
  {
   "cell_type": "code",
   "execution_count": 11,
   "id": "cc9a2a85",
   "metadata": {},
   "outputs": [
    {
     "name": "stdout",
     "output_type": "stream",
     "text": [
      "array1:\n",
      " [0 1 2 3 4 5 6 7 8 9]\n",
      "array2:\n",
      " [[0 1 2 3 4]\n",
      " [5 6 7 8 9]]\n",
      "array3:\n",
      " [[0 1]\n",
      " [2 3]\n",
      " [4 5]\n",
      " [6 7]\n",
      " [8 9]]\n"
     ]
    }
   ],
   "source": [
    "array1=np.arange(10)\n",
    "print(\"array1:\\n\",array1)\n",
    "\n",
    "array2=array1.reshape(2,5)\n",
    "print(\"array2:\\n\",array2)\n",
    "\n",
    "array3=array1.reshape(5,2)\n",
    "print(\"array3:\\n\",array3)"
   ]
  },
  {
   "cell_type": "code",
   "execution_count": 12,
   "id": "c1e75eff",
   "metadata": {},
   "outputs": [
    {
     "ename": "ValueError",
     "evalue": "cannot reshape array of size 10 into shape (4,3)",
     "output_type": "error",
     "traceback": [
      "\u001b[1;31m---------------------------------------------------------------------------\u001b[0m",
      "\u001b[1;31mValueError\u001b[0m                                Traceback (most recent call last)",
      "\u001b[1;32m~\\AppData\\Local\\Temp\\ipykernel_17216\\446727993.py\u001b[0m in \u001b[0;36m<module>\u001b[1;34m\u001b[0m\n\u001b[0;32m      1\u001b[0m \u001b[1;31m#지정된 사이즈로 변경이 불가능하면 오류 발생\u001b[0m\u001b[1;33m\u001b[0m\u001b[1;33m\u001b[0m\u001b[0m\n\u001b[1;32m----> 2\u001b[1;33m \u001b[0marray1\u001b[0m\u001b[1;33m.\u001b[0m\u001b[0mreshape\u001b[0m\u001b[1;33m(\u001b[0m\u001b[1;36m4\u001b[0m\u001b[1;33m,\u001b[0m\u001b[1;36m3\u001b[0m\u001b[1;33m)\u001b[0m\u001b[1;33m\u001b[0m\u001b[1;33m\u001b[0m\u001b[0m\n\u001b[0m",
      "\u001b[1;31mValueError\u001b[0m: cannot reshape array of size 10 into shape (4,3)"
     ]
    }
   ],
   "source": [
    "#지정된 사이즈로 변경이 불가능하면 오류 발생\n",
    "array1.reshape(4,3)"
   ]
  },
  {
   "cell_type": "code",
   "execution_count": 13,
   "id": "a11210c7",
   "metadata": {},
   "outputs": [
    {
     "name": "stdout",
     "output_type": "stream",
     "text": [
      "[0 1 2 3 4 5 6 7 8 9]\n",
      "array2 shape: (2, 5)\n",
      "array3 shape: (5, 2)\n"
     ]
    }
   ],
   "source": [
    "# -1 인자를 사용하면 원래의 ndarray와 호환되는 새로운 shape로 변환\n",
    "array1=np.arange(10)\n",
    "print(array1)\n",
    "array2=array1.reshape(-1,5)\n",
    "print(\"array2 shape:\",array2.shape)\n",
    "array3=array1.reshape(5,-1)\n",
    "print(\"array3 shape:\", array3.shape)"
   ]
  },
  {
   "cell_type": "code",
   "execution_count": 14,
   "id": "943c241c",
   "metadata": {},
   "outputs": [
    {
     "ename": "ValueError",
     "evalue": "cannot reshape array of size 10 into shape (4)",
     "output_type": "error",
     "traceback": [
      "\u001b[1;31m---------------------------------------------------------------------------\u001b[0m",
      "\u001b[1;31mValueError\u001b[0m                                Traceback (most recent call last)",
      "\u001b[1;32m~\\AppData\\Local\\Temp\\ipykernel_17216\\1741388345.py\u001b[0m in \u001b[0;36m<module>\u001b[1;34m\u001b[0m\n\u001b[0;32m      1\u001b[0m \u001b[1;31m# -1을 사용하더라도 호환될 수 없는 형태는 변환 불가능\u001b[0m\u001b[1;33m\u001b[0m\u001b[1;33m\u001b[0m\u001b[0m\n\u001b[0;32m      2\u001b[0m \u001b[0marray1\u001b[0m\u001b[1;33m=\u001b[0m\u001b[0mnp\u001b[0m\u001b[1;33m.\u001b[0m\u001b[0marange\u001b[0m\u001b[1;33m(\u001b[0m\u001b[1;36m10\u001b[0m\u001b[1;33m)\u001b[0m\u001b[1;33m\u001b[0m\u001b[1;33m\u001b[0m\u001b[0m\n\u001b[1;32m----> 3\u001b[1;33m \u001b[0marray4\u001b[0m\u001b[1;33m=\u001b[0m\u001b[0marray1\u001b[0m\u001b[1;33m.\u001b[0m\u001b[0mreshape\u001b[0m\u001b[1;33m(\u001b[0m\u001b[1;33m-\u001b[0m\u001b[1;36m1\u001b[0m\u001b[1;33m,\u001b[0m\u001b[1;36m4\u001b[0m\u001b[1;33m)\u001b[0m\u001b[1;33m\u001b[0m\u001b[1;33m\u001b[0m\u001b[0m\n\u001b[0m",
      "\u001b[1;31mValueError\u001b[0m: cannot reshape array of size 10 into shape (4)"
     ]
    }
   ],
   "source": [
    "# -1을 사용하더라도 호환될 수 없는 형태는 변환 불가능\n",
    "array1=np.arange(10)\n",
    "array4=array1.reshape(-1,4)"
   ]
  },
  {
   "cell_type": "markdown",
   "id": "ac3b4c52",
   "metadata": {},
   "source": [
    "reshape(-1,1) : 원본 ndarray가 2차원이고 여러 개의 로우를 가지되 반드시 1개의 칼럼을 가진 ndarray로 변환됨을 보장한다."
   ]
  },
  {
   "cell_type": "code",
   "execution_count": 15,
   "id": "a63dd845",
   "metadata": {},
   "outputs": [
    {
     "name": "stdout",
     "output_type": "stream",
     "text": [
      "array3d : \n",
      " [[[0, 1], [2, 3]], [[4, 5], [6, 7]]]\n",
      "array5:\n",
      " [[0], [1], [2], [3], [4], [5], [6], [7]]\n",
      "array5 shape: (8, 1)\n",
      "array6:\n",
      " [[0], [1], [2], [3], [4], [5], [6], [7]]\n",
      "array6 shape: (8, 1)\n"
     ]
    }
   ],
   "source": [
    "array1=np.arange(8)\n",
    "array3d=array1.reshape((2,2,2))\n",
    "#리스트로 변환해서 출력\n",
    "print(\"array3d : \\n\", array3d.tolist())\n",
    "\n",
    "#3차원 ndarray를 2차원 ndarray로 변환\n",
    "array5=array3d.reshape(-1,1)\n",
    "print(\"array5:\\n\", array5.tolist())\n",
    "print(\"array5 shape:\", array5.shape)\n",
    "\n",
    "#1차원 ndarray를 2차원 ndarray로 변환\n",
    "array6=array1.reshape(-1,1)\n",
    "print(\"array6:\\n\", array6.tolist())\n",
    "print(\"array6 shape:\", array6.shape)"
   ]
  },
  {
   "cell_type": "markdown",
   "id": "28989014",
   "metadata": {},
   "source": [
    "# 넘파이의 ndarray의 데이터 세트 선택하기 - indexing\n",
    "1. 특정 데이터만 추출 : 원하는 위치의 인덱스 값 지정\n",
    "2. 슬라이싱 : 연속된 인덱스 상의 ndarray 추출\n",
    "3. 팬시 인덱싱 : 일정한 인덱싱 집합을 지정해 해당 위치에 있는 데이터의 ndarray를 반환\n",
    "4. 불린 인덱싱 : 불 값 인덱싱 집합을 기반으로 True에 해당하는 인덱스 위치에 있는 데이터 ndarray 반환"
   ]
  },
  {
   "cell_type": "code",
   "execution_count": 16,
   "id": "c83a01cf",
   "metadata": {},
   "outputs": [
    {
     "name": "stdout",
     "output_type": "stream",
     "text": [
      "array1 : [1 2 3 4 5 6 7 8 9]\n",
      "value : 3\n",
      "<class 'numpy.int32'>\n"
     ]
    }
   ],
   "source": [
    "#단일 값 추출\n",
    "\n",
    "#1부터 9까지의 1차원 ndarray 생성\n",
    "array1=np.arange(start=1,stop=10)\n",
    "print(\"array1 :\", array1)\n",
    "#index는 0부터 시작하므로 array1[2]는 3번째 index 위치의 데이터값을 의미\n",
    "value=array1[2]\n",
    "print(\"value :\", value)\n",
    "print(type(value))"
   ]
  },
  {
   "cell_type": "code",
   "execution_count": 17,
   "id": "763b0d31",
   "metadata": {},
   "outputs": [
    {
     "name": "stdout",
     "output_type": "stream",
     "text": [
      "맨 뒤의 값 : 9 맨 뒤에서 두 번째 값 : 8\n"
     ]
    }
   ],
   "source": [
    "print(\"맨 뒤의 값 :\", array1[-1], \"맨 뒤에서 두 번째 값 :\", array1[-2])"
   ]
  },
  {
   "cell_type": "code",
   "execution_count": 18,
   "id": "e0db9178",
   "metadata": {},
   "outputs": [
    {
     "name": "stdout",
     "output_type": "stream",
     "text": [
      "array1 : [9 2 3 4 5 6 7 8 0]\n"
     ]
    }
   ],
   "source": [
    "# ndarray 내의 데이터값 수정\n",
    "array1[0]=9\n",
    "array1[8]=0\n",
    "print(\"array1 :\", array1)"
   ]
  },
  {
   "cell_type": "code",
   "execution_count": 19,
   "id": "1bf13ed0",
   "metadata": {},
   "outputs": [
    {
     "name": "stdout",
     "output_type": "stream",
     "text": [
      "[[1 2 3]\n",
      " [4 5 6]\n",
      " [7 8 9]]\n",
      "(row=0, col=0) index 가리키는 값 : 1\n",
      "(row=0, col=1) index 가리키는 값 : 2\n",
      "(row=1, col=0) index 가리키는 값 : 4\n",
      "(row=2, col=2) index 가리키는 값 : 9\n"
     ]
    }
   ],
   "source": [
    "# 다차원 ndarray에서 단일 값 추출\n",
    "array1d=np.arange(start=1, stop=10)\n",
    "array2d=array1d.reshape(3,3)\n",
    "print(array2d)\n",
    "\n",
    "print(\"(row=0, col=0) index 가리키는 값 :\", array2d[0,0])\n",
    "print(\"(row=0, col=1) index 가리키는 값 :\", array2d[0,1])\n",
    "print(\"(row=1, col=0) index 가리키는 값 :\", array2d[1,0])\n",
    "print(\"(row=2, col=2) index 가리키는 값 :\", array2d[2,2])"
   ]
  },
  {
   "cell_type": "markdown",
   "id": "28e4ecb5",
   "metadata": {},
   "source": [
    "axis 0 : 로우 방향의 축  \n",
    "axis 1 : 칼럼 방향의 축  \n",
    "[row=0,col=1] = [axis 0=0, axis1=1]"
   ]
  },
  {
   "cell_type": "code",
   "execution_count": 20,
   "id": "e0882a07",
   "metadata": {},
   "outputs": [
    {
     "name": "stdout",
     "output_type": "stream",
     "text": [
      "[1 2 3]\n",
      "<class 'numpy.ndarray'>\n"
     ]
    }
   ],
   "source": [
    "# 슬라이싱\n",
    "\n",
    "array1=np.arange(start=1,stop=10)\n",
    "array3=array1[0:3]\n",
    "print(array3)\n",
    "print(type(array3))"
   ]
  },
  {
   "cell_type": "markdown",
   "id": "794a0247",
   "metadata": {},
   "source": [
    ": 기호 앞에 시작 인덱스를 생략 -> 맨 처음 인덱스인 0으로 간주  \n",
    ": 기호 뒤에 종료 인덱스 생략 -> 맨 마지막 인덱스로 간주  \n",
    ": 기호 앞/뒤 에 시작/종료 인덱스 생략 -> 자동으로 맨 처음/맨 마지막 인덱스로 간주"
   ]
  },
  {
   "cell_type": "code",
   "execution_count": 21,
   "id": "44c64011",
   "metadata": {},
   "outputs": [
    {
     "name": "stdout",
     "output_type": "stream",
     "text": [
      "[1 2 3]\n",
      "[4 5 6 7 8 9]\n",
      "[1 2 3 4 5 6 7 8 9]\n"
     ]
    }
   ],
   "source": [
    "array1=np.arange(start=1,stop=10)\n",
    "\n",
    "# : 앞 시작 인덱스 생략 -> 맨 처음 인덱스\n",
    "array4=array1[:3]\n",
    "print(array4)\n",
    "\n",
    "# : 뒤 종료 인덱스 생략 -> 맨 마지막 인덱스\n",
    "array5=array1[3:]\n",
    "print(array5)\n",
    "\n",
    "# : 앞/뒤 종료 인덱스 생략 -> 맨 처음/ 마지막 인덱스\n",
    "array6=array1[:]\n",
    "print(array6)"
   ]
  },
  {
   "cell_type": "code",
   "execution_count": 22,
   "id": "c85ce6e3",
   "metadata": {},
   "outputs": [
    {
     "name": "stdout",
     "output_type": "stream",
     "text": [
      "array2d:\n",
      " [[1 2 3]\n",
      " [4 5 6]\n",
      " [7 8 9]]\n",
      "array2d[0:2, 0:2]\n",
      " [[1 2]\n",
      " [4 5]]\n",
      "array2d[1:3, 0:3]\n",
      " [[4 5 6]\n",
      " [7 8 9]]\n",
      "array2d[1:3, :]\n",
      " [[4 5 6]\n",
      " [7 8 9]]\n",
      "array2d[: , :]\n",
      " [[1 2 3]\n",
      " [4 5 6]\n",
      " [7 8 9]]\n",
      "array2d[:2, :1]\n",
      " [[1]\n",
      " [4]]\n",
      "array2d[:2,0]\n",
      " [1 4]\n"
     ]
    }
   ],
   "source": [
    "#2차원 ndarray에서 슬라이싱\n",
    "\n",
    "array1d=np.arange(start=1, stop=10)\n",
    "array2d=array1d.reshape(3,3)\n",
    "print(\"array2d:\\n\", array2d)\n",
    "\n",
    "print(\"array2d[0:2, 0:2]\\n\", array2d[0:2,0:2])\n",
    "print(\"array2d[1:3, 0:3]\\n\", array2d[1:3,0:3])\n",
    "print(\"array2d[1:3, :]\\n\", array2d[1:3, :])\n",
    "print(\"array2d[: , :]\\n\", array2d[: ,:])\n",
    "print(\"array2d[:2, :1]\\n\", array2d[:2,:1])\n",
    "print(\"array2d[:2,0]\\n\", array2d[:2,0])"
   ]
  },
  {
   "cell_type": "code",
   "execution_count": 23,
   "id": "34447ebc",
   "metadata": {},
   "outputs": [
    {
     "name": "stdout",
     "output_type": "stream",
     "text": [
      "[1 2 3]\n",
      "[4 5 6]\n",
      "array2d[0] shape : (3,) array2d[1] : (3,)\n"
     ]
    }
   ],
   "source": [
    "#2차원 ndarray에서 뒤에 오는 인덱스가 없으면 1차원 ndarray 반환\n",
    "print(array2d[0])\n",
    "print(array2d[1])\n",
    "print(\"array2d[0] shape :\", array2d[0].shape, \"array2d[1] :\", array2d[1].shape)"
   ]
  },
  {
   "cell_type": "code",
   "execution_count": 24,
   "id": "6caf66ae",
   "metadata": {},
   "outputs": [
    {
     "name": "stdout",
     "output_type": "stream",
     "text": [
      "array2d[[0,1],2] -> [[[0, 1], [2, 3]], [[4, 5], [6, 7]]]\n",
      "array2d[[0,1],0:2] ->  [[1, 2], [4, 5]]\n",
      "array5d[[0,1]] -> [[1, 2, 3], [4, 5, 6]]\n"
     ]
    }
   ],
   "source": [
    "#팬시 인덱싱\n",
    "\n",
    "array1d=np.arange(start=1, stop=10)\n",
    "array2d=array1d.reshape(3,3)\n",
    "\n",
    "array3=array2d[[0,1],2]\n",
    "print(\"array2d[[0,1],2] ->\",array3d.tolist())\n",
    "\n",
    "array4d=array2d[[0,1],0:2]\n",
    "print(\"array2d[[0,1],0:2] -> \", array4d.tolist())\n",
    "\n",
    "array5d=array2d[[0,1]]\n",
    "print(\"array5d[[0,1]] ->\", array5d.tolist())\n"
   ]
  },
  {
   "cell_type": "code",
   "execution_count": 25,
   "id": "2663bc1d",
   "metadata": {},
   "outputs": [
    {
     "name": "stdout",
     "output_type": "stream",
     "text": [
      "array1d>5 불린 인덱싱 결과 값 : [6 7 8 9]\n"
     ]
    }
   ],
   "source": [
    "#불린 인덱싱\n",
    "\n",
    "array1d=np.arange(start=1, stop=10)\n",
    "#[] 안에 array1d > 5 Boolean indexing을 적용\n",
    "array3=array1d[array1d>5]\n",
    "print(\"array1d>5 불린 인덱싱 결과 값 :\", array3)"
   ]
  },
  {
   "cell_type": "code",
   "execution_count": 26,
   "id": "52f7b2e1",
   "metadata": {},
   "outputs": [
    {
     "data": {
      "text/plain": [
       "array([False, False, False, False, False,  True,  True,  True,  True])"
      ]
     },
     "execution_count": 26,
     "metadata": {},
     "output_type": "execute_result"
    }
   ],
   "source": [
    "#넘파이 ndarray 객체에 조건식 할당하여 []안에 기재\n",
    "array1d>5"
   ]
  },
  {
   "cell_type": "code",
   "execution_count": 27,
   "id": "ba90d08f",
   "metadata": {},
   "outputs": [
    {
     "name": "stdout",
     "output_type": "stream",
     "text": [
      "불린 인덱스로 필터링 결과 : [6 7 8 9]\n"
     ]
    }
   ],
   "source": [
    "# True 값이 있는 위치 인덱스 값으로 자동 변환하여 반환\n",
    "\n",
    "boolean_indexes=np.array([False, False, False, False, False,  True,  True,  True,  True])\n",
    "array3=array1d[boolean_indexes]\n",
    "print(\"불린 인덱스로 필터링 결과 :\",array3)"
   ]
  },
  {
   "cell_type": "code",
   "execution_count": 28,
   "id": "b354f3bb",
   "metadata": {},
   "outputs": [
    {
     "name": "stdout",
     "output_type": "stream",
     "text": [
      "일반 인덱스로 필터링 결과 : [6 7 8 9]\n"
     ]
    }
   ],
   "source": [
    "indexes=np.array([5,6,7,8])\n",
    "array4=array1d[indexes]\n",
    "print(\"일반 인덱스로 필터링 결과 :\", array4 )"
   ]
  },
  {
   "cell_type": "markdown",
   "id": "aef36d50",
   "metadata": {},
   "source": [
    "# 행렬의 정렬 - sort()와 argsort()\n",
    "행렬을 정렬하는 대표적인 방법 : np.sort()와 ndarray.sort()  \n",
    "정렬된 행렬의 인덱스를 반환 : argsort()"
   ]
  },
  {
   "cell_type": "markdown",
   "id": "f9598d76",
   "metadata": {},
   "source": [
    "## 행렬 정렬\n",
    "np.sort() : 넘파이에서 sort()를 호출, 원 행렬은 그대로 유지한 채 원 행렬의 정렬된 행렬 반환  \n",
    "ndarray.sort() : 행렬 자체에서 sort()를 호출, 원 행렬 자체를 정렬한 형태로 변환하며 반환 값은 None"
   ]
  },
  {
   "cell_type": "code",
   "execution_count": 29,
   "id": "e2963b1b",
   "metadata": {},
   "outputs": [
    {
     "name": "stdout",
     "output_type": "stream",
     "text": [
      "원본 행렬 : [3 1 9 5]\n",
      "np.sort() 호출 후 반환된 정렬 행렬 : [1 3 5 9]\n",
      "np.sort() 호출 후 원본 행렬 : [3 1 9 5]\n",
      "ort_array.sort() 호출 후 반환된 행렬 : None\n",
      "ort_array.sort() 호출 후 원본 행렬 : [1 3 5 9]\n"
     ]
    }
   ],
   "source": [
    "org_array=np.array([3,1,9,5])\n",
    "print(\"원본 행렬 :\", org_array)\n",
    "#np.sort()로 정렬\n",
    "sort_array1=np.sort(org_array)\n",
    "print(\"np.sort() 호출 후 반환된 정렬 행렬 :\", sort_array1)\n",
    "print(\"np.sort() 호출 후 원본 행렬 :\", org_array)\n",
    "#ndarray.sort()로 정렬\n",
    "sort_array2=org_array.sort()\n",
    "print(\"ort_array.sort() 호출 후 반환된 행렬 :\", sort_array2)\n",
    "print(\"ort_array.sort() 호출 후 원본 행렬 :\", org_array)"
   ]
  },
  {
   "cell_type": "code",
   "execution_count": 30,
   "id": "354f914f",
   "metadata": {},
   "outputs": [
    {
     "name": "stdout",
     "output_type": "stream",
     "text": [
      "내림차순으로 정렬: [9 5 3 1]\n"
     ]
    }
   ],
   "source": [
    "#내림차순으로 정렬\n",
    "sort_array1_desc=np.sort(org_array)[::-1]\n",
    "print(\"내림차순으로 정렬:\", sort_array1_desc)"
   ]
  },
  {
   "cell_type": "code",
   "execution_count": 31,
   "id": "9fc82c61",
   "metadata": {},
   "outputs": [
    {
     "name": "stdout",
     "output_type": "stream",
     "text": [
      "로우 방향으로 정렬 :\n",
      " [[ 7  1]\n",
      " [ 8 12]]\n",
      "칼럼 방향으로 정렬 :\n",
      " [[ 8 12]\n",
      " [ 1  7]]\n"
     ]
    }
   ],
   "source": [
    "#2차원 이상인 행렬에서의 정렬\n",
    "array2d=np.array([[8,12],\n",
    "                 [7,1]])\n",
    "sort_array2d_axis0=np.sort(array2d,axis=0)\n",
    "print(\"로우 방향으로 정렬 :\\n\",sort_array2d_axis0)\n",
    "\n",
    "sort_array2d_axis1=np.sort(array2d,axis=1)\n",
    "print(\"칼럼 방향으로 정렬 :\\n\", sort_array2d_axis1)"
   ]
  },
  {
   "cell_type": "code",
   "execution_count": 32,
   "id": "de730bcd",
   "metadata": {},
   "outputs": [
    {
     "name": "stdout",
     "output_type": "stream",
     "text": [
      "<class 'numpy.ndarray'>\n",
      "행렬 정렬 시 원본 행렬의 인덱스 : [1 0 3 2]\n"
     ]
    }
   ],
   "source": [
    "# 정렬된 행렬의 인덱스 반환\n",
    "\n",
    "org_array=np.array([3,1,9,5])\n",
    "sort_indices=np.argsort(org_array)\n",
    "print(type(sort_indices))\n",
    "print(\"행렬 정렬 시 원본 행렬의 인덱스 :\", sort_indices)"
   ]
  },
  {
   "cell_type": "code",
   "execution_count": 33,
   "id": "3045325f",
   "metadata": {},
   "outputs": [
    {
     "name": "stdout",
     "output_type": "stream",
     "text": [
      "행렬 내림차순 정렬 시 원본 행렬의 인덱스 : [2 3 0 1]\n"
     ]
    }
   ],
   "source": [
    "#내림차순으로 정렬 시 원본 행렬의 인덱스\n",
    "\n",
    "org_array=np.array([3,1,9,5])\n",
    "sort_indices_desc=np.argsort(org_array)[::-1]\n",
    "print(\"행렬 내림차순 정렬 시 원본 행렬의 인덱스 :\", sort_indices_desc)"
   ]
  },
  {
   "cell_type": "markdown",
   "id": "d6fc5048",
   "metadata": {},
   "source": [
    "argsort()는 넘파이에서 높은 활용도를 보인다.  \n",
    "실제 값과 그 값이 뜻하는 메타 데이터를 별도의 ndarray로 각각 가져야 한다. np.argosrt()로 반환된 인덱스를 팬시 인덱스로 적용해 추출 가능"
   ]
  },
  {
   "cell_type": "code",
   "execution_count": 34,
   "id": "f9b70082",
   "metadata": {},
   "outputs": [
    {
     "name": "stdout",
     "output_type": "stream",
     "text": [
      "성적 오름차순 정렬 시 score_array의 인덱스 : [0 2 4 1 3]\n",
      " 성적 오름차순으로 name_array의 이름 출력 : ['John' 'Sarah' 'Samuel' 'Mike' 'Kate']\n"
     ]
    }
   ],
   "source": [
    "import numpy as np\n",
    "\n",
    "name_array=np.array(['John','Mike', 'Sarah', 'Kate', 'Samuel'])\n",
    "score_array=np.array([78,95,84,98,88])\n",
    "\n",
    "sort_indices_asc=np.argsort(score_array)\n",
    "print(\"성적 오름차순 정렬 시 score_array의 인덱스 :\", sort_indices_asc)\n",
    "print(\" 성적 오름차순으로 name_array의 이름 출력 :\", name_array[sort_indices_asc])"
   ]
  },
  {
   "cell_type": "markdown",
   "id": "841c5b74",
   "metadata": {},
   "source": [
    "# 선형대수 연산 - 행렬 내적과 전치 행렬 구하기"
   ]
  },
  {
   "cell_type": "markdown",
   "id": "a1f2ae0f",
   "metadata": {},
   "source": [
    "행렬 내적(행렬 곱)  \n",
    "np.dot()을 이용해 계산 가능 np.dot(A,B)\n"
   ]
  },
  {
   "cell_type": "code",
   "execution_count": 35,
   "id": "9a95a9a5",
   "metadata": {},
   "outputs": [
    {
     "name": "stdout",
     "output_type": "stream",
     "text": [
      "행렬 내적 결과 :\n",
      " [[ 58  64]\n",
      " [139 154]]\n"
     ]
    }
   ],
   "source": [
    "A=np.array([[1,2,3],\n",
    "           [4,5,6]])\n",
    "B=np.array([[7,8],\n",
    "           [9,10],\n",
    "           [11,12]])\n",
    "\n",
    "dot_product=np.dot(A,B)\n",
    "print(\"행렬 내적 결과 :\\n\", dot_product)"
   ]
  },
  {
   "cell_type": "markdown",
   "id": "fe627960",
   "metadata": {},
   "source": [
    "전치 행렬  \n",
    "원 행렬에서 행과 열 위치를 교환한 원소로 구성한 행렬"
   ]
  },
  {
   "cell_type": "code",
   "execution_count": 36,
   "id": "0d3f83bb",
   "metadata": {},
   "outputs": [
    {
     "name": "stdout",
     "output_type": "stream",
     "text": [
      "A의 전치 행렬 :\n",
      " [[1 3]\n",
      " [2 4]]\n"
     ]
    }
   ],
   "source": [
    "A=np.array([[1,2],\n",
    "           [3,4]])\n",
    "\n",
    "transpose_mat=np.transpose(A)\n",
    "print(\"A의 전치 행렬 :\\n\", transpose_mat)"
   ]
  },
  {
   "cell_type": "markdown",
   "id": "424aca78",
   "metadata": {},
   "source": [
    "# 판다스 - 파일을 DataFrame으로 로딩, 기본 API"
   ]
  },
  {
   "cell_type": "code",
   "execution_count": 37,
   "id": "8ece4339",
   "metadata": {},
   "outputs": [],
   "source": [
    "import pandas as pd"
   ]
  },
  {
   "cell_type": "code",
   "execution_count": 38,
   "id": "ad767311",
   "metadata": {},
   "outputs": [
    {
     "data": {
      "text/html": [
       "<div>\n",
       "<style scoped>\n",
       "    .dataframe tbody tr th:only-of-type {\n",
       "        vertical-align: middle;\n",
       "    }\n",
       "\n",
       "    .dataframe tbody tr th {\n",
       "        vertical-align: top;\n",
       "    }\n",
       "\n",
       "    .dataframe thead th {\n",
       "        text-align: right;\n",
       "    }\n",
       "</style>\n",
       "<table border=\"1\" class=\"dataframe\">\n",
       "  <thead>\n",
       "    <tr style=\"text-align: right;\">\n",
       "      <th></th>\n",
       "      <th>PassengerId</th>\n",
       "      <th>Survived</th>\n",
       "      <th>Pclass</th>\n",
       "      <th>Name</th>\n",
       "      <th>Sex</th>\n",
       "      <th>Age</th>\n",
       "      <th>SibSp</th>\n",
       "      <th>Parch</th>\n",
       "      <th>Ticket</th>\n",
       "      <th>Fare</th>\n",
       "      <th>Cabin</th>\n",
       "      <th>Embarked</th>\n",
       "    </tr>\n",
       "  </thead>\n",
       "  <tbody>\n",
       "    <tr>\n",
       "      <th>0</th>\n",
       "      <td>1</td>\n",
       "      <td>0</td>\n",
       "      <td>3</td>\n",
       "      <td>Braund, Mr. Owen Harris</td>\n",
       "      <td>male</td>\n",
       "      <td>22.0</td>\n",
       "      <td>1</td>\n",
       "      <td>0</td>\n",
       "      <td>A/5 21171</td>\n",
       "      <td>7.2500</td>\n",
       "      <td>NaN</td>\n",
       "      <td>S</td>\n",
       "    </tr>\n",
       "    <tr>\n",
       "      <th>1</th>\n",
       "      <td>2</td>\n",
       "      <td>1</td>\n",
       "      <td>1</td>\n",
       "      <td>Cumings, Mrs. John Bradley (Florence Briggs Th...</td>\n",
       "      <td>female</td>\n",
       "      <td>38.0</td>\n",
       "      <td>1</td>\n",
       "      <td>0</td>\n",
       "      <td>PC 17599</td>\n",
       "      <td>71.2833</td>\n",
       "      <td>C85</td>\n",
       "      <td>C</td>\n",
       "    </tr>\n",
       "    <tr>\n",
       "      <th>2</th>\n",
       "      <td>3</td>\n",
       "      <td>1</td>\n",
       "      <td>3</td>\n",
       "      <td>Heikkinen, Miss. Laina</td>\n",
       "      <td>female</td>\n",
       "      <td>26.0</td>\n",
       "      <td>0</td>\n",
       "      <td>0</td>\n",
       "      <td>STON/O2. 3101282</td>\n",
       "      <td>7.9250</td>\n",
       "      <td>NaN</td>\n",
       "      <td>S</td>\n",
       "    </tr>\n",
       "  </tbody>\n",
       "</table>\n",
       "</div>"
      ],
      "text/plain": [
       "   PassengerId  Survived  Pclass  \\\n",
       "0            1         0       3   \n",
       "1            2         1       1   \n",
       "2            3         1       3   \n",
       "\n",
       "                                                Name     Sex   Age  SibSp  \\\n",
       "0                            Braund, Mr. Owen Harris    male  22.0      1   \n",
       "1  Cumings, Mrs. John Bradley (Florence Briggs Th...  female  38.0      1   \n",
       "2                             Heikkinen, Miss. Laina  female  26.0      0   \n",
       "\n",
       "   Parch            Ticket     Fare Cabin Embarked  \n",
       "0      0         A/5 21171   7.2500   NaN        S  \n",
       "1      0          PC 17599  71.2833   C85        C  \n",
       "2      0  STON/O2. 3101282   7.9250   NaN        S  "
      ]
     },
     "execution_count": 38,
     "metadata": {},
     "output_type": "execute_result"
    }
   ],
   "source": [
    "# DataFrame으로 로딩\n",
    "titanic_df=pd.read_csv(r\"C:\\Users\\songs\\Downloads\\titanic_train.csv\")\n",
    "titanic_df.head(3)"
   ]
  },
  {
   "cell_type": "code",
   "execution_count": 39,
   "id": "63963e88",
   "metadata": {},
   "outputs": [
    {
     "name": "stdout",
     "output_type": "stream",
     "text": [
      "titanic 변수 type : <class 'pandas.core.frame.DataFrame'>\n"
     ]
    },
    {
     "data": {
      "text/html": [
       "<div>\n",
       "<style scoped>\n",
       "    .dataframe tbody tr th:only-of-type {\n",
       "        vertical-align: middle;\n",
       "    }\n",
       "\n",
       "    .dataframe tbody tr th {\n",
       "        vertical-align: top;\n",
       "    }\n",
       "\n",
       "    .dataframe thead th {\n",
       "        text-align: right;\n",
       "    }\n",
       "</style>\n",
       "<table border=\"1\" class=\"dataframe\">\n",
       "  <thead>\n",
       "    <tr style=\"text-align: right;\">\n",
       "      <th></th>\n",
       "      <th>PassengerId</th>\n",
       "      <th>Survived</th>\n",
       "      <th>Pclass</th>\n",
       "      <th>Name</th>\n",
       "      <th>Sex</th>\n",
       "      <th>Age</th>\n",
       "      <th>SibSp</th>\n",
       "      <th>Parch</th>\n",
       "      <th>Ticket</th>\n",
       "      <th>Fare</th>\n",
       "      <th>Cabin</th>\n",
       "      <th>Embarked</th>\n",
       "    </tr>\n",
       "  </thead>\n",
       "  <tbody>\n",
       "    <tr>\n",
       "      <th>0</th>\n",
       "      <td>1</td>\n",
       "      <td>0</td>\n",
       "      <td>3</td>\n",
       "      <td>Braund, Mr. Owen Harris</td>\n",
       "      <td>male</td>\n",
       "      <td>22.0</td>\n",
       "      <td>1</td>\n",
       "      <td>0</td>\n",
       "      <td>A/5 21171</td>\n",
       "      <td>7.2500</td>\n",
       "      <td>NaN</td>\n",
       "      <td>S</td>\n",
       "    </tr>\n",
       "    <tr>\n",
       "      <th>1</th>\n",
       "      <td>2</td>\n",
       "      <td>1</td>\n",
       "      <td>1</td>\n",
       "      <td>Cumings, Mrs. John Bradley (Florence Briggs Th...</td>\n",
       "      <td>female</td>\n",
       "      <td>38.0</td>\n",
       "      <td>1</td>\n",
       "      <td>0</td>\n",
       "      <td>PC 17599</td>\n",
       "      <td>71.2833</td>\n",
       "      <td>C85</td>\n",
       "      <td>C</td>\n",
       "    </tr>\n",
       "    <tr>\n",
       "      <th>2</th>\n",
       "      <td>3</td>\n",
       "      <td>1</td>\n",
       "      <td>3</td>\n",
       "      <td>Heikkinen, Miss. Laina</td>\n",
       "      <td>female</td>\n",
       "      <td>26.0</td>\n",
       "      <td>0</td>\n",
       "      <td>0</td>\n",
       "      <td>STON/O2. 3101282</td>\n",
       "      <td>7.9250</td>\n",
       "      <td>NaN</td>\n",
       "      <td>S</td>\n",
       "    </tr>\n",
       "    <tr>\n",
       "      <th>3</th>\n",
       "      <td>4</td>\n",
       "      <td>1</td>\n",
       "      <td>1</td>\n",
       "      <td>Futrelle, Mrs. Jacques Heath (Lily May Peel)</td>\n",
       "      <td>female</td>\n",
       "      <td>35.0</td>\n",
       "      <td>1</td>\n",
       "      <td>0</td>\n",
       "      <td>113803</td>\n",
       "      <td>53.1000</td>\n",
       "      <td>C123</td>\n",
       "      <td>S</td>\n",
       "    </tr>\n",
       "    <tr>\n",
       "      <th>4</th>\n",
       "      <td>5</td>\n",
       "      <td>0</td>\n",
       "      <td>3</td>\n",
       "      <td>Allen, Mr. William Henry</td>\n",
       "      <td>male</td>\n",
       "      <td>35.0</td>\n",
       "      <td>0</td>\n",
       "      <td>0</td>\n",
       "      <td>373450</td>\n",
       "      <td>8.0500</td>\n",
       "      <td>NaN</td>\n",
       "      <td>S</td>\n",
       "    </tr>\n",
       "    <tr>\n",
       "      <th>...</th>\n",
       "      <td>...</td>\n",
       "      <td>...</td>\n",
       "      <td>...</td>\n",
       "      <td>...</td>\n",
       "      <td>...</td>\n",
       "      <td>...</td>\n",
       "      <td>...</td>\n",
       "      <td>...</td>\n",
       "      <td>...</td>\n",
       "      <td>...</td>\n",
       "      <td>...</td>\n",
       "      <td>...</td>\n",
       "    </tr>\n",
       "    <tr>\n",
       "      <th>886</th>\n",
       "      <td>887</td>\n",
       "      <td>0</td>\n",
       "      <td>2</td>\n",
       "      <td>Montvila, Rev. Juozas</td>\n",
       "      <td>male</td>\n",
       "      <td>27.0</td>\n",
       "      <td>0</td>\n",
       "      <td>0</td>\n",
       "      <td>211536</td>\n",
       "      <td>13.0000</td>\n",
       "      <td>NaN</td>\n",
       "      <td>S</td>\n",
       "    </tr>\n",
       "    <tr>\n",
       "      <th>887</th>\n",
       "      <td>888</td>\n",
       "      <td>1</td>\n",
       "      <td>1</td>\n",
       "      <td>Graham, Miss. Margaret Edith</td>\n",
       "      <td>female</td>\n",
       "      <td>19.0</td>\n",
       "      <td>0</td>\n",
       "      <td>0</td>\n",
       "      <td>112053</td>\n",
       "      <td>30.0000</td>\n",
       "      <td>B42</td>\n",
       "      <td>S</td>\n",
       "    </tr>\n",
       "    <tr>\n",
       "      <th>888</th>\n",
       "      <td>889</td>\n",
       "      <td>0</td>\n",
       "      <td>3</td>\n",
       "      <td>Johnston, Miss. Catherine Helen \"Carrie\"</td>\n",
       "      <td>female</td>\n",
       "      <td>NaN</td>\n",
       "      <td>1</td>\n",
       "      <td>2</td>\n",
       "      <td>W./C. 6607</td>\n",
       "      <td>23.4500</td>\n",
       "      <td>NaN</td>\n",
       "      <td>S</td>\n",
       "    </tr>\n",
       "    <tr>\n",
       "      <th>889</th>\n",
       "      <td>890</td>\n",
       "      <td>1</td>\n",
       "      <td>1</td>\n",
       "      <td>Behr, Mr. Karl Howell</td>\n",
       "      <td>male</td>\n",
       "      <td>26.0</td>\n",
       "      <td>0</td>\n",
       "      <td>0</td>\n",
       "      <td>111369</td>\n",
       "      <td>30.0000</td>\n",
       "      <td>C148</td>\n",
       "      <td>C</td>\n",
       "    </tr>\n",
       "    <tr>\n",
       "      <th>890</th>\n",
       "      <td>891</td>\n",
       "      <td>0</td>\n",
       "      <td>3</td>\n",
       "      <td>Dooley, Mr. Patrick</td>\n",
       "      <td>male</td>\n",
       "      <td>32.0</td>\n",
       "      <td>0</td>\n",
       "      <td>0</td>\n",
       "      <td>370376</td>\n",
       "      <td>7.7500</td>\n",
       "      <td>NaN</td>\n",
       "      <td>Q</td>\n",
       "    </tr>\n",
       "  </tbody>\n",
       "</table>\n",
       "<p>891 rows × 12 columns</p>\n",
       "</div>"
      ],
      "text/plain": [
       "     PassengerId  Survived  Pclass  \\\n",
       "0              1         0       3   \n",
       "1              2         1       1   \n",
       "2              3         1       3   \n",
       "3              4         1       1   \n",
       "4              5         0       3   \n",
       "..           ...       ...     ...   \n",
       "886          887         0       2   \n",
       "887          888         1       1   \n",
       "888          889         0       3   \n",
       "889          890         1       1   \n",
       "890          891         0       3   \n",
       "\n",
       "                                                  Name     Sex   Age  SibSp  \\\n",
       "0                              Braund, Mr. Owen Harris    male  22.0      1   \n",
       "1    Cumings, Mrs. John Bradley (Florence Briggs Th...  female  38.0      1   \n",
       "2                               Heikkinen, Miss. Laina  female  26.0      0   \n",
       "3         Futrelle, Mrs. Jacques Heath (Lily May Peel)  female  35.0      1   \n",
       "4                             Allen, Mr. William Henry    male  35.0      0   \n",
       "..                                                 ...     ...   ...    ...   \n",
       "886                              Montvila, Rev. Juozas    male  27.0      0   \n",
       "887                       Graham, Miss. Margaret Edith  female  19.0      0   \n",
       "888           Johnston, Miss. Catherine Helen \"Carrie\"  female   NaN      1   \n",
       "889                              Behr, Mr. Karl Howell    male  26.0      0   \n",
       "890                                Dooley, Mr. Patrick    male  32.0      0   \n",
       "\n",
       "     Parch            Ticket     Fare Cabin Embarked  \n",
       "0        0         A/5 21171   7.2500   NaN        S  \n",
       "1        0          PC 17599  71.2833   C85        C  \n",
       "2        0  STON/O2. 3101282   7.9250   NaN        S  \n",
       "3        0            113803  53.1000  C123        S  \n",
       "4        0            373450   8.0500   NaN        S  \n",
       "..     ...               ...      ...   ...      ...  \n",
       "886      0            211536  13.0000   NaN        S  \n",
       "887      0            112053  30.0000   B42        S  \n",
       "888      2        W./C. 6607  23.4500   NaN        S  \n",
       "889      0            111369  30.0000  C148        C  \n",
       "890      0            370376   7.7500   NaN        Q  \n",
       "\n",
       "[891 rows x 12 columns]"
      ]
     },
     "execution_count": 39,
     "metadata": {},
     "output_type": "execute_result"
    }
   ],
   "source": [
    "print(\"titanic 변수 type :\", type(titanic_df))\n",
    "titanic_df"
   ]
  },
  {
   "cell_type": "code",
   "execution_count": 40,
   "id": "e592549c",
   "metadata": {},
   "outputs": [
    {
     "name": "stdout",
     "output_type": "stream",
     "text": [
      "DataFrame 크기 : (891, 12)\n"
     ]
    }
   ],
   "source": [
    "#DataFrame의 행과 열 크기\n",
    "print(\"DataFrame 크기 :\", titanic_df.shape)"
   ]
  },
  {
   "cell_type": "code",
   "execution_count": 41,
   "id": "099f7f4b",
   "metadata": {},
   "outputs": [
    {
     "name": "stdout",
     "output_type": "stream",
     "text": [
      "<class 'pandas.core.frame.DataFrame'>\n",
      "RangeIndex: 891 entries, 0 to 890\n",
      "Data columns (total 12 columns):\n",
      " #   Column       Non-Null Count  Dtype  \n",
      "---  ------       --------------  -----  \n",
      " 0   PassengerId  891 non-null    int64  \n",
      " 1   Survived     891 non-null    int64  \n",
      " 2   Pclass       891 non-null    int64  \n",
      " 3   Name         891 non-null    object \n",
      " 4   Sex          891 non-null    object \n",
      " 5   Age          714 non-null    float64\n",
      " 6   SibSp        891 non-null    int64  \n",
      " 7   Parch        891 non-null    int64  \n",
      " 8   Ticket       891 non-null    object \n",
      " 9   Fare         891 non-null    float64\n",
      " 10  Cabin        204 non-null    object \n",
      " 11  Embarked     889 non-null    object \n",
      "dtypes: float64(2), int64(5), object(5)\n",
      "memory usage: 83.7+ KB\n"
     ]
    }
   ],
   "source": [
    "#info() : 총 데이터 건수와 데이터 타입, Null 건수\n",
    "titanic_df.info()"
   ]
  },
  {
   "cell_type": "code",
   "execution_count": 42,
   "id": "128fc62c",
   "metadata": {},
   "outputs": [
    {
     "data": {
      "text/html": [
       "<div>\n",
       "<style scoped>\n",
       "    .dataframe tbody tr th:only-of-type {\n",
       "        vertical-align: middle;\n",
       "    }\n",
       "\n",
       "    .dataframe tbody tr th {\n",
       "        vertical-align: top;\n",
       "    }\n",
       "\n",
       "    .dataframe thead th {\n",
       "        text-align: right;\n",
       "    }\n",
       "</style>\n",
       "<table border=\"1\" class=\"dataframe\">\n",
       "  <thead>\n",
       "    <tr style=\"text-align: right;\">\n",
       "      <th></th>\n",
       "      <th>PassengerId</th>\n",
       "      <th>Survived</th>\n",
       "      <th>Pclass</th>\n",
       "      <th>Age</th>\n",
       "      <th>SibSp</th>\n",
       "      <th>Parch</th>\n",
       "      <th>Fare</th>\n",
       "    </tr>\n",
       "  </thead>\n",
       "  <tbody>\n",
       "    <tr>\n",
       "      <th>count</th>\n",
       "      <td>891.000000</td>\n",
       "      <td>891.000000</td>\n",
       "      <td>891.000000</td>\n",
       "      <td>714.000000</td>\n",
       "      <td>891.000000</td>\n",
       "      <td>891.000000</td>\n",
       "      <td>891.000000</td>\n",
       "    </tr>\n",
       "    <tr>\n",
       "      <th>mean</th>\n",
       "      <td>446.000000</td>\n",
       "      <td>0.383838</td>\n",
       "      <td>2.308642</td>\n",
       "      <td>29.699118</td>\n",
       "      <td>0.523008</td>\n",
       "      <td>0.381594</td>\n",
       "      <td>32.204208</td>\n",
       "    </tr>\n",
       "    <tr>\n",
       "      <th>std</th>\n",
       "      <td>257.353842</td>\n",
       "      <td>0.486592</td>\n",
       "      <td>0.836071</td>\n",
       "      <td>14.526497</td>\n",
       "      <td>1.102743</td>\n",
       "      <td>0.806057</td>\n",
       "      <td>49.693429</td>\n",
       "    </tr>\n",
       "    <tr>\n",
       "      <th>min</th>\n",
       "      <td>1.000000</td>\n",
       "      <td>0.000000</td>\n",
       "      <td>1.000000</td>\n",
       "      <td>0.420000</td>\n",
       "      <td>0.000000</td>\n",
       "      <td>0.000000</td>\n",
       "      <td>0.000000</td>\n",
       "    </tr>\n",
       "    <tr>\n",
       "      <th>25%</th>\n",
       "      <td>223.500000</td>\n",
       "      <td>0.000000</td>\n",
       "      <td>2.000000</td>\n",
       "      <td>20.125000</td>\n",
       "      <td>0.000000</td>\n",
       "      <td>0.000000</td>\n",
       "      <td>7.910400</td>\n",
       "    </tr>\n",
       "    <tr>\n",
       "      <th>50%</th>\n",
       "      <td>446.000000</td>\n",
       "      <td>0.000000</td>\n",
       "      <td>3.000000</td>\n",
       "      <td>28.000000</td>\n",
       "      <td>0.000000</td>\n",
       "      <td>0.000000</td>\n",
       "      <td>14.454200</td>\n",
       "    </tr>\n",
       "    <tr>\n",
       "      <th>75%</th>\n",
       "      <td>668.500000</td>\n",
       "      <td>1.000000</td>\n",
       "      <td>3.000000</td>\n",
       "      <td>38.000000</td>\n",
       "      <td>1.000000</td>\n",
       "      <td>0.000000</td>\n",
       "      <td>31.000000</td>\n",
       "    </tr>\n",
       "    <tr>\n",
       "      <th>max</th>\n",
       "      <td>891.000000</td>\n",
       "      <td>1.000000</td>\n",
       "      <td>3.000000</td>\n",
       "      <td>80.000000</td>\n",
       "      <td>8.000000</td>\n",
       "      <td>6.000000</td>\n",
       "      <td>512.329200</td>\n",
       "    </tr>\n",
       "  </tbody>\n",
       "</table>\n",
       "</div>"
      ],
      "text/plain": [
       "       PassengerId    Survived      Pclass         Age       SibSp  \\\n",
       "count   891.000000  891.000000  891.000000  714.000000  891.000000   \n",
       "mean    446.000000    0.383838    2.308642   29.699118    0.523008   \n",
       "std     257.353842    0.486592    0.836071   14.526497    1.102743   \n",
       "min       1.000000    0.000000    1.000000    0.420000    0.000000   \n",
       "25%     223.500000    0.000000    2.000000   20.125000    0.000000   \n",
       "50%     446.000000    0.000000    3.000000   28.000000    0.000000   \n",
       "75%     668.500000    1.000000    3.000000   38.000000    1.000000   \n",
       "max     891.000000    1.000000    3.000000   80.000000    8.000000   \n",
       "\n",
       "            Parch        Fare  \n",
       "count  891.000000  891.000000  \n",
       "mean     0.381594   32.204208  \n",
       "std      0.806057   49.693429  \n",
       "min      0.000000    0.000000  \n",
       "25%      0.000000    7.910400  \n",
       "50%      0.000000   14.454200  \n",
       "75%      0.000000   31.000000  \n",
       "max      6.000000  512.329200  "
      ]
     },
     "execution_count": 42,
     "metadata": {},
     "output_type": "execute_result"
    }
   ],
   "source": [
    "# describe() : 분포도, 평균값, 최댓값, 최솟값\n",
    "# 오직 숫자형 칼럼의 분포도만 조사\n",
    "\n",
    "titanic_df.describe()"
   ]
  },
  {
   "cell_type": "code",
   "execution_count": 43,
   "id": "d2454a12",
   "metadata": {},
   "outputs": [
    {
     "name": "stdout",
     "output_type": "stream",
     "text": [
      "3    491\n",
      "1    216\n",
      "2    184\n",
      "Name: Pclass, dtype: int64\n"
     ]
    }
   ],
   "source": [
    "# Pclass 칼럼의 값의 분포 구성\n",
    "\n",
    "value_counts=titanic_df['Pclass'].value_counts()\n",
    "print(value_counts)"
   ]
  },
  {
   "cell_type": "code",
   "execution_count": 44,
   "id": "ec798c23",
   "metadata": {},
   "outputs": [
    {
     "name": "stdout",
     "output_type": "stream",
     "text": [
      "<class 'pandas.core.series.Series'>\n"
     ]
    }
   ],
   "source": [
    "# 해당 칼럼에 해당하는 Series 객체 반환\n",
    "titanic_pclass=titanic_df['Pclass']\n",
    "print(type(titanic_pclass))"
   ]
  },
  {
   "cell_type": "code",
   "execution_count": 45,
   "id": "73cf2ddd",
   "metadata": {},
   "outputs": [
    {
     "data": {
      "text/plain": [
       "0    3\n",
       "1    1\n",
       "2    3\n",
       "3    1\n",
       "4    3\n",
       "Name: Pclass, dtype: int64"
      ]
     },
     "execution_count": 45,
     "metadata": {},
     "output_type": "execute_result"
    }
   ],
   "source": [
    "titanic_pclass.head()"
   ]
  },
  {
   "cell_type": "code",
   "execution_count": 46,
   "id": "67224c1c",
   "metadata": {},
   "outputs": [
    {
     "name": "stdout",
     "output_type": "stream",
     "text": [
      "titanic_df 데이터 건수 : 891\n",
      "기본 성절인 dropna=True로 value_counts()\n",
      "S    644\n",
      "C    168\n",
      "Q     77\n",
      "Name: Embarked, dtype: int64\n",
      "S      644\n",
      "C      168\n",
      "Q       77\n",
      "NaN      2\n",
      "Name: Embarked, dtype: int64\n"
     ]
    }
   ],
   "source": [
    "# Null 값을 포함하여 value_counts() 적용\n",
    "\n",
    "print(\"titanic_df 데이터 건수 :\", titanic_df.shape[0])\n",
    "print(\"기본 성절인 dropna=True로 value_counts()\")\n",
    "# value_counts는 디폴트로 dropna=True이므로 value_counts(dropna=False)와 동일\n",
    "print(titanic_df['Embarked'].value_counts())\n",
    "print(titanic_df['Embarked'].value_counts(dropna=False))"
   ]
  },
  {
   "cell_type": "markdown",
   "id": "fa0f866c",
   "metadata": {},
   "source": [
    "# DataFrame과 리스트, 딕셔너리, 넘파이 ndarray 상호 변환"
   ]
  },
  {
   "cell_type": "code",
   "execution_count": 47,
   "id": "f1600fcc",
   "metadata": {},
   "outputs": [],
   "source": [
    "import numpy as np"
   ]
  },
  {
   "cell_type": "code",
   "execution_count": 48,
   "id": "b2317563",
   "metadata": {
    "scrolled": true
   },
   "outputs": [
    {
     "name": "stdout",
     "output_type": "stream",
     "text": [
      "array1 shape : (3,)\n",
      "1차원 리스트로 만든 DataFrame :\n",
      "    col1\n",
      "0     1\n",
      "1     2\n",
      "2     3\n",
      "1차원 ndarray로 만든 DataFrame : \n",
      "    col1\n",
      "0     1\n",
      "1     2\n",
      "2     3\n"
     ]
    }
   ],
   "source": [
    "#1차원 형태의 데이터를 기반으로 DataFrame 생성\n",
    "\n",
    "col_name1=['col1']\n",
    "list1=[1,2,3]\n",
    "array1=np.array(list1)\n",
    "print(\"array1 shape :\", array1.shape)\n",
    "#리스트를 이용해 DataFrame 생성\n",
    "df_list1=pd.DataFrame(list1, columns=col_name1)\n",
    "print(\"1차원 리스트로 만든 DataFrame :\\n\", df_list1)\n",
    "#넘파이 ndarray를 이용해 DataFrame 생성\n",
    "df_array1=pd.DataFrame(array1, columns=col_name1)\n",
    "print(\"1차원 ndarray로 만든 DataFrame : \\n\", df_array1)"
   ]
  },
  {
   "cell_type": "code",
   "execution_count": 49,
   "id": "ad3fc7ce",
   "metadata": {},
   "outputs": [
    {
     "name": "stdout",
     "output_type": "stream",
     "text": [
      "array2 shape : (2, 3)\n",
      "2차원 리스트로 만든 DataFrame :\n",
      "    col1  col2  col3\n",
      "0     1     2     3\n",
      "1    11    12    13\n",
      "2차원 ndarray로 만든 DataFrame:\n",
      "    col1  col2  col3\n",
      "0     1     2     3\n",
      "1    11    12    13\n"
     ]
    }
   ],
   "source": [
    "# 2차원 형태의 데이터를 기반으로 DataFrame 생성\n",
    "\n",
    "# 3개의 칼럼명이 필요\n",
    "col_name2=['col1','col2','col3']\n",
    "\n",
    "# 2행 x 3열 형태의 리스트와 ndarray 생성한 뒤 이를 DataFrame으로 변환\n",
    "list2=[[1,2,3],\n",
    "      [11,12,13]]\n",
    "array2=np.array(list2)\n",
    "print(\"array2 shape :\", array2.shape)\n",
    "df_list2=pd.DataFrame(list2, columns=col_name2)\n",
    "print(\"2차원 리스트로 만든 DataFrame :\\n\", df_list2)\n",
    "df_array2=pd.DataFrame(array2,columns=col_name2)\n",
    "print(\"2차원 ndarray로 만든 DataFrame:\\n\", df_array2)"
   ]
  },
  {
   "cell_type": "code",
   "execution_count": 50,
   "id": "7b11ce7b",
   "metadata": {},
   "outputs": [
    {
     "name": "stdout",
     "output_type": "stream",
     "text": [
      "딕셔너리로 만든 DataFrame :\n",
      "    col1  col2  col3\n",
      "0     1     2     3\n",
      "1    11    12    13\n"
     ]
    }
   ],
   "source": [
    "# 딕셔너리를 DataFrame으로 변환\n",
    "\n",
    "#Key는 문자열 칼럼명으로 매핑, Value는 리스트 형(또는 ndarray) 칼럼 데이터로 매핑\n",
    "dict={'col1' :[1,11], 'col2':[2,12],'col3' :[3,13]}\n",
    "df_dict=pd.DataFrame(dict)\n",
    "print(\"딕셔너리로 만든 DataFrame :\\n\", df_dict)"
   ]
  },
  {
   "cell_type": "code",
   "execution_count": 51,
   "id": "2016a7a7",
   "metadata": {},
   "outputs": [
    {
     "name": "stdout",
     "output_type": "stream",
     "text": [
      "df_dict.values 타입 : <class 'numpy.ndarray'> df_dict.values shape : (2, 3)\n",
      "[[ 1  2  3]\n",
      " [11 12 13]]\n"
     ]
    }
   ],
   "source": [
    "#DataFrame을 ndarray로 변환\n",
    "array3=df_dict.values\n",
    "print(\"df_dict.values 타입 :\", type(array3), \"df_dict.values shape :\", array3.shape)\n",
    "print(array3)"
   ]
  },
  {
   "cell_type": "code",
   "execution_count": 52,
   "id": "6e999667",
   "metadata": {},
   "outputs": [
    {
     "name": "stdout",
     "output_type": "stream",
     "text": [
      "df_dict.values.tolist() 타입 : <class 'list'>\n",
      "[[1, 2, 3], [11, 12, 13]]\n",
      "\n",
      " df_dict.to_dict() 타입 : <class 'dict'>\n",
      "{'col1': [1, 11], 'col2': [2, 12], 'col3': [3, 13]}\n"
     ]
    }
   ],
   "source": [
    "#DataFrame을 리스트로 변환\n",
    "list3=df_dict.values.tolist()\n",
    "print(\"df_dict.values.tolist() 타입 :\", type(list3))\n",
    "print(list3)\n",
    "\n",
    "#DataFrame을 딕셔너리로 변환\n",
    "dict3=df_dict.to_dict('list')\n",
    "print(\"\\n df_dict.to_dict() 타입 :\", type(dict3))\n",
    "print(dict3)"
   ]
  },
  {
   "cell_type": "markdown",
   "id": "1780ff53",
   "metadata": {},
   "source": [
    "# DataFrame의 칼럼 데이터 세트 생성과 수정"
   ]
  },
  {
   "cell_type": "code",
   "execution_count": 53,
   "id": "de6dd211",
   "metadata": {},
   "outputs": [
    {
     "data": {
      "text/html": [
       "<div>\n",
       "<style scoped>\n",
       "    .dataframe tbody tr th:only-of-type {\n",
       "        vertical-align: middle;\n",
       "    }\n",
       "\n",
       "    .dataframe tbody tr th {\n",
       "        vertical-align: top;\n",
       "    }\n",
       "\n",
       "    .dataframe thead th {\n",
       "        text-align: right;\n",
       "    }\n",
       "</style>\n",
       "<table border=\"1\" class=\"dataframe\">\n",
       "  <thead>\n",
       "    <tr style=\"text-align: right;\">\n",
       "      <th></th>\n",
       "      <th>PassengerId</th>\n",
       "      <th>Survived</th>\n",
       "      <th>Pclass</th>\n",
       "      <th>Name</th>\n",
       "      <th>Sex</th>\n",
       "      <th>Age</th>\n",
       "      <th>SibSp</th>\n",
       "      <th>Parch</th>\n",
       "      <th>Ticket</th>\n",
       "      <th>Fare</th>\n",
       "      <th>Cabin</th>\n",
       "      <th>Embarked</th>\n",
       "      <th>Age_0</th>\n",
       "    </tr>\n",
       "  </thead>\n",
       "  <tbody>\n",
       "    <tr>\n",
       "      <th>0</th>\n",
       "      <td>1</td>\n",
       "      <td>0</td>\n",
       "      <td>3</td>\n",
       "      <td>Braund, Mr. Owen Harris</td>\n",
       "      <td>male</td>\n",
       "      <td>22.0</td>\n",
       "      <td>1</td>\n",
       "      <td>0</td>\n",
       "      <td>A/5 21171</td>\n",
       "      <td>7.2500</td>\n",
       "      <td>NaN</td>\n",
       "      <td>S</td>\n",
       "      <td>0</td>\n",
       "    </tr>\n",
       "    <tr>\n",
       "      <th>1</th>\n",
       "      <td>2</td>\n",
       "      <td>1</td>\n",
       "      <td>1</td>\n",
       "      <td>Cumings, Mrs. John Bradley (Florence Briggs Th...</td>\n",
       "      <td>female</td>\n",
       "      <td>38.0</td>\n",
       "      <td>1</td>\n",
       "      <td>0</td>\n",
       "      <td>PC 17599</td>\n",
       "      <td>71.2833</td>\n",
       "      <td>C85</td>\n",
       "      <td>C</td>\n",
       "      <td>0</td>\n",
       "    </tr>\n",
       "    <tr>\n",
       "      <th>2</th>\n",
       "      <td>3</td>\n",
       "      <td>1</td>\n",
       "      <td>3</td>\n",
       "      <td>Heikkinen, Miss. Laina</td>\n",
       "      <td>female</td>\n",
       "      <td>26.0</td>\n",
       "      <td>0</td>\n",
       "      <td>0</td>\n",
       "      <td>STON/O2. 3101282</td>\n",
       "      <td>7.9250</td>\n",
       "      <td>NaN</td>\n",
       "      <td>S</td>\n",
       "      <td>0</td>\n",
       "    </tr>\n",
       "  </tbody>\n",
       "</table>\n",
       "</div>"
      ],
      "text/plain": [
       "   PassengerId  Survived  Pclass  \\\n",
       "0            1         0       3   \n",
       "1            2         1       1   \n",
       "2            3         1       3   \n",
       "\n",
       "                                                Name     Sex   Age  SibSp  \\\n",
       "0                            Braund, Mr. Owen Harris    male  22.0      1   \n",
       "1  Cumings, Mrs. John Bradley (Florence Briggs Th...  female  38.0      1   \n",
       "2                             Heikkinen, Miss. Laina  female  26.0      0   \n",
       "\n",
       "   Parch            Ticket     Fare Cabin Embarked  Age_0  \n",
       "0      0         A/5 21171   7.2500   NaN        S      0  \n",
       "1      0          PC 17599  71.2833   C85        C      0  \n",
       "2      0  STON/O2. 3101282   7.9250   NaN        S      0  "
      ]
     },
     "execution_count": 53,
     "metadata": {},
     "output_type": "execute_result"
    }
   ],
   "source": [
    "# 칼럼 추가\n",
    "titanic_df['Age_0']=0\n",
    "titanic_df.head(3)"
   ]
  },
  {
   "cell_type": "code",
   "execution_count": 54,
   "id": "d934f618",
   "metadata": {},
   "outputs": [
    {
     "data": {
      "text/html": [
       "<div>\n",
       "<style scoped>\n",
       "    .dataframe tbody tr th:only-of-type {\n",
       "        vertical-align: middle;\n",
       "    }\n",
       "\n",
       "    .dataframe tbody tr th {\n",
       "        vertical-align: top;\n",
       "    }\n",
       "\n",
       "    .dataframe thead th {\n",
       "        text-align: right;\n",
       "    }\n",
       "</style>\n",
       "<table border=\"1\" class=\"dataframe\">\n",
       "  <thead>\n",
       "    <tr style=\"text-align: right;\">\n",
       "      <th></th>\n",
       "      <th>PassengerId</th>\n",
       "      <th>Survived</th>\n",
       "      <th>Pclass</th>\n",
       "      <th>Name</th>\n",
       "      <th>Sex</th>\n",
       "      <th>Age</th>\n",
       "      <th>SibSp</th>\n",
       "      <th>Parch</th>\n",
       "      <th>Ticket</th>\n",
       "      <th>Fare</th>\n",
       "      <th>Cabin</th>\n",
       "      <th>Embarked</th>\n",
       "      <th>Age_0</th>\n",
       "      <th>Age_by_10</th>\n",
       "      <th>Family_No</th>\n",
       "    </tr>\n",
       "  </thead>\n",
       "  <tbody>\n",
       "    <tr>\n",
       "      <th>0</th>\n",
       "      <td>1</td>\n",
       "      <td>0</td>\n",
       "      <td>3</td>\n",
       "      <td>Braund, Mr. Owen Harris</td>\n",
       "      <td>male</td>\n",
       "      <td>22.0</td>\n",
       "      <td>1</td>\n",
       "      <td>0</td>\n",
       "      <td>A/5 21171</td>\n",
       "      <td>7.2500</td>\n",
       "      <td>NaN</td>\n",
       "      <td>S</td>\n",
       "      <td>0</td>\n",
       "      <td>220.0</td>\n",
       "      <td>2</td>\n",
       "    </tr>\n",
       "    <tr>\n",
       "      <th>1</th>\n",
       "      <td>2</td>\n",
       "      <td>1</td>\n",
       "      <td>1</td>\n",
       "      <td>Cumings, Mrs. John Bradley (Florence Briggs Th...</td>\n",
       "      <td>female</td>\n",
       "      <td>38.0</td>\n",
       "      <td>1</td>\n",
       "      <td>0</td>\n",
       "      <td>PC 17599</td>\n",
       "      <td>71.2833</td>\n",
       "      <td>C85</td>\n",
       "      <td>C</td>\n",
       "      <td>0</td>\n",
       "      <td>380.0</td>\n",
       "      <td>2</td>\n",
       "    </tr>\n",
       "    <tr>\n",
       "      <th>2</th>\n",
       "      <td>3</td>\n",
       "      <td>1</td>\n",
       "      <td>3</td>\n",
       "      <td>Heikkinen, Miss. Laina</td>\n",
       "      <td>female</td>\n",
       "      <td>26.0</td>\n",
       "      <td>0</td>\n",
       "      <td>0</td>\n",
       "      <td>STON/O2. 3101282</td>\n",
       "      <td>7.9250</td>\n",
       "      <td>NaN</td>\n",
       "      <td>S</td>\n",
       "      <td>0</td>\n",
       "      <td>260.0</td>\n",
       "      <td>1</td>\n",
       "    </tr>\n",
       "  </tbody>\n",
       "</table>\n",
       "</div>"
      ],
      "text/plain": [
       "   PassengerId  Survived  Pclass  \\\n",
       "0            1         0       3   \n",
       "1            2         1       1   \n",
       "2            3         1       3   \n",
       "\n",
       "                                                Name     Sex   Age  SibSp  \\\n",
       "0                            Braund, Mr. Owen Harris    male  22.0      1   \n",
       "1  Cumings, Mrs. John Bradley (Florence Briggs Th...  female  38.0      1   \n",
       "2                             Heikkinen, Miss. Laina  female  26.0      0   \n",
       "\n",
       "   Parch            Ticket     Fare Cabin Embarked  Age_0  Age_by_10  \\\n",
       "0      0         A/5 21171   7.2500   NaN        S      0      220.0   \n",
       "1      0          PC 17599  71.2833   C85        C      0      380.0   \n",
       "2      0  STON/O2. 3101282   7.9250   NaN        S      0      260.0   \n",
       "\n",
       "   Family_No  \n",
       "0          2  \n",
       "1          2  \n",
       "2          1  "
      ]
     },
     "execution_count": 54,
     "metadata": {},
     "output_type": "execute_result"
    }
   ],
   "source": [
    "# 기존 칼럼 Series의 데이터를 이용해 새로운 칼럼 생성\n",
    "\n",
    "titanic_df['Age_by_10']=titanic_df['Age']*10\n",
    "titanic_df['Family_No']=titanic_df['SibSp']+titanic_df['Parch']+1\n",
    "titanic_df.head(3)"
   ]
  },
  {
   "cell_type": "code",
   "execution_count": 55,
   "id": "1490e0ad",
   "metadata": {},
   "outputs": [
    {
     "data": {
      "text/html": [
       "<div>\n",
       "<style scoped>\n",
       "    .dataframe tbody tr th:only-of-type {\n",
       "        vertical-align: middle;\n",
       "    }\n",
       "\n",
       "    .dataframe tbody tr th {\n",
       "        vertical-align: top;\n",
       "    }\n",
       "\n",
       "    .dataframe thead th {\n",
       "        text-align: right;\n",
       "    }\n",
       "</style>\n",
       "<table border=\"1\" class=\"dataframe\">\n",
       "  <thead>\n",
       "    <tr style=\"text-align: right;\">\n",
       "      <th></th>\n",
       "      <th>PassengerId</th>\n",
       "      <th>Survived</th>\n",
       "      <th>Pclass</th>\n",
       "      <th>Name</th>\n",
       "      <th>Sex</th>\n",
       "      <th>Age</th>\n",
       "      <th>SibSp</th>\n",
       "      <th>Parch</th>\n",
       "      <th>Ticket</th>\n",
       "      <th>Fare</th>\n",
       "      <th>Cabin</th>\n",
       "      <th>Embarked</th>\n",
       "      <th>Age_0</th>\n",
       "      <th>Age_by_10</th>\n",
       "      <th>Family_No</th>\n",
       "    </tr>\n",
       "  </thead>\n",
       "  <tbody>\n",
       "    <tr>\n",
       "      <th>0</th>\n",
       "      <td>1</td>\n",
       "      <td>0</td>\n",
       "      <td>3</td>\n",
       "      <td>Braund, Mr. Owen Harris</td>\n",
       "      <td>male</td>\n",
       "      <td>22.0</td>\n",
       "      <td>1</td>\n",
       "      <td>0</td>\n",
       "      <td>A/5 21171</td>\n",
       "      <td>7.2500</td>\n",
       "      <td>NaN</td>\n",
       "      <td>S</td>\n",
       "      <td>0</td>\n",
       "      <td>320.0</td>\n",
       "      <td>2</td>\n",
       "    </tr>\n",
       "    <tr>\n",
       "      <th>1</th>\n",
       "      <td>2</td>\n",
       "      <td>1</td>\n",
       "      <td>1</td>\n",
       "      <td>Cumings, Mrs. John Bradley (Florence Briggs Th...</td>\n",
       "      <td>female</td>\n",
       "      <td>38.0</td>\n",
       "      <td>1</td>\n",
       "      <td>0</td>\n",
       "      <td>PC 17599</td>\n",
       "      <td>71.2833</td>\n",
       "      <td>C85</td>\n",
       "      <td>C</td>\n",
       "      <td>0</td>\n",
       "      <td>480.0</td>\n",
       "      <td>2</td>\n",
       "    </tr>\n",
       "    <tr>\n",
       "      <th>2</th>\n",
       "      <td>3</td>\n",
       "      <td>1</td>\n",
       "      <td>3</td>\n",
       "      <td>Heikkinen, Miss. Laina</td>\n",
       "      <td>female</td>\n",
       "      <td>26.0</td>\n",
       "      <td>0</td>\n",
       "      <td>0</td>\n",
       "      <td>STON/O2. 3101282</td>\n",
       "      <td>7.9250</td>\n",
       "      <td>NaN</td>\n",
       "      <td>S</td>\n",
       "      <td>0</td>\n",
       "      <td>360.0</td>\n",
       "      <td>1</td>\n",
       "    </tr>\n",
       "  </tbody>\n",
       "</table>\n",
       "</div>"
      ],
      "text/plain": [
       "   PassengerId  Survived  Pclass  \\\n",
       "0            1         0       3   \n",
       "1            2         1       1   \n",
       "2            3         1       3   \n",
       "\n",
       "                                                Name     Sex   Age  SibSp  \\\n",
       "0                            Braund, Mr. Owen Harris    male  22.0      1   \n",
       "1  Cumings, Mrs. John Bradley (Florence Briggs Th...  female  38.0      1   \n",
       "2                             Heikkinen, Miss. Laina  female  26.0      0   \n",
       "\n",
       "   Parch            Ticket     Fare Cabin Embarked  Age_0  Age_by_10  \\\n",
       "0      0         A/5 21171   7.2500   NaN        S      0      320.0   \n",
       "1      0          PC 17599  71.2833   C85        C      0      480.0   \n",
       "2      0  STON/O2. 3101282   7.9250   NaN        S      0      360.0   \n",
       "\n",
       "   Family_No  \n",
       "0          2  \n",
       "1          2  \n",
       "2          1  "
      ]
     },
     "execution_count": 55,
     "metadata": {},
     "output_type": "execute_result"
    }
   ],
   "source": [
    "# 기존 칼럼 값 업데이트\n",
    "\n",
    "titanic_df['Age_by_10']=titanic_df['Age_by_10']+100\n",
    "titanic_df.head(3)"
   ]
  },
  {
   "cell_type": "markdown",
   "id": "7c4ba9b9",
   "metadata": {},
   "source": [
    "# DataFrame 데이터 삭제"
   ]
  },
  {
   "cell_type": "code",
   "execution_count": 56,
   "id": "fe14b16f",
   "metadata": {},
   "outputs": [
    {
     "data": {
      "text/html": [
       "<div>\n",
       "<style scoped>\n",
       "    .dataframe tbody tr th:only-of-type {\n",
       "        vertical-align: middle;\n",
       "    }\n",
       "\n",
       "    .dataframe tbody tr th {\n",
       "        vertical-align: top;\n",
       "    }\n",
       "\n",
       "    .dataframe thead th {\n",
       "        text-align: right;\n",
       "    }\n",
       "</style>\n",
       "<table border=\"1\" class=\"dataframe\">\n",
       "  <thead>\n",
       "    <tr style=\"text-align: right;\">\n",
       "      <th></th>\n",
       "      <th>PassengerId</th>\n",
       "      <th>Survived</th>\n",
       "      <th>Pclass</th>\n",
       "      <th>Name</th>\n",
       "      <th>Sex</th>\n",
       "      <th>Age</th>\n",
       "      <th>SibSp</th>\n",
       "      <th>Parch</th>\n",
       "      <th>Ticket</th>\n",
       "      <th>Fare</th>\n",
       "      <th>Cabin</th>\n",
       "      <th>Embarked</th>\n",
       "      <th>Age_by_10</th>\n",
       "      <th>Family_No</th>\n",
       "    </tr>\n",
       "  </thead>\n",
       "  <tbody>\n",
       "    <tr>\n",
       "      <th>0</th>\n",
       "      <td>1</td>\n",
       "      <td>0</td>\n",
       "      <td>3</td>\n",
       "      <td>Braund, Mr. Owen Harris</td>\n",
       "      <td>male</td>\n",
       "      <td>22.0</td>\n",
       "      <td>1</td>\n",
       "      <td>0</td>\n",
       "      <td>A/5 21171</td>\n",
       "      <td>7.2500</td>\n",
       "      <td>NaN</td>\n",
       "      <td>S</td>\n",
       "      <td>320.0</td>\n",
       "      <td>2</td>\n",
       "    </tr>\n",
       "    <tr>\n",
       "      <th>1</th>\n",
       "      <td>2</td>\n",
       "      <td>1</td>\n",
       "      <td>1</td>\n",
       "      <td>Cumings, Mrs. John Bradley (Florence Briggs Th...</td>\n",
       "      <td>female</td>\n",
       "      <td>38.0</td>\n",
       "      <td>1</td>\n",
       "      <td>0</td>\n",
       "      <td>PC 17599</td>\n",
       "      <td>71.2833</td>\n",
       "      <td>C85</td>\n",
       "      <td>C</td>\n",
       "      <td>480.0</td>\n",
       "      <td>2</td>\n",
       "    </tr>\n",
       "    <tr>\n",
       "      <th>2</th>\n",
       "      <td>3</td>\n",
       "      <td>1</td>\n",
       "      <td>3</td>\n",
       "      <td>Heikkinen, Miss. Laina</td>\n",
       "      <td>female</td>\n",
       "      <td>26.0</td>\n",
       "      <td>0</td>\n",
       "      <td>0</td>\n",
       "      <td>STON/O2. 3101282</td>\n",
       "      <td>7.9250</td>\n",
       "      <td>NaN</td>\n",
       "      <td>S</td>\n",
       "      <td>360.0</td>\n",
       "      <td>1</td>\n",
       "    </tr>\n",
       "  </tbody>\n",
       "</table>\n",
       "</div>"
      ],
      "text/plain": [
       "   PassengerId  Survived  Pclass  \\\n",
       "0            1         0       3   \n",
       "1            2         1       1   \n",
       "2            3         1       3   \n",
       "\n",
       "                                                Name     Sex   Age  SibSp  \\\n",
       "0                            Braund, Mr. Owen Harris    male  22.0      1   \n",
       "1  Cumings, Mrs. John Bradley (Florence Briggs Th...  female  38.0      1   \n",
       "2                             Heikkinen, Miss. Laina  female  26.0      0   \n",
       "\n",
       "   Parch            Ticket     Fare Cabin Embarked  Age_by_10  Family_No  \n",
       "0      0         A/5 21171   7.2500   NaN        S      320.0          2  \n",
       "1      0          PC 17599  71.2833   C85        C      480.0          2  \n",
       "2      0  STON/O2. 3101282   7.9250   NaN        S      360.0          1  "
      ]
     },
     "execution_count": 56,
     "metadata": {},
     "output_type": "execute_result"
    }
   ],
   "source": [
    "titanic_drop_df=titanic_df.drop('Age_0', axis=1)\n",
    "titanic_drop_df.head(3)"
   ]
  },
  {
   "cell_type": "code",
   "execution_count": 57,
   "id": "7848a03b",
   "metadata": {},
   "outputs": [
    {
     "name": "stdout",
     "output_type": "stream",
     "text": [
      "inplace=True로 drop 후 변환된 값 : None\n"
     ]
    },
    {
     "data": {
      "text/html": [
       "<div>\n",
       "<style scoped>\n",
       "    .dataframe tbody tr th:only-of-type {\n",
       "        vertical-align: middle;\n",
       "    }\n",
       "\n",
       "    .dataframe tbody tr th {\n",
       "        vertical-align: top;\n",
       "    }\n",
       "\n",
       "    .dataframe thead th {\n",
       "        text-align: right;\n",
       "    }\n",
       "</style>\n",
       "<table border=\"1\" class=\"dataframe\">\n",
       "  <thead>\n",
       "    <tr style=\"text-align: right;\">\n",
       "      <th></th>\n",
       "      <th>PassengerId</th>\n",
       "      <th>Survived</th>\n",
       "      <th>Pclass</th>\n",
       "      <th>Name</th>\n",
       "      <th>Sex</th>\n",
       "      <th>Age</th>\n",
       "      <th>SibSp</th>\n",
       "      <th>Parch</th>\n",
       "      <th>Ticket</th>\n",
       "      <th>Fare</th>\n",
       "      <th>Cabin</th>\n",
       "      <th>Embarked</th>\n",
       "    </tr>\n",
       "  </thead>\n",
       "  <tbody>\n",
       "    <tr>\n",
       "      <th>0</th>\n",
       "      <td>1</td>\n",
       "      <td>0</td>\n",
       "      <td>3</td>\n",
       "      <td>Braund, Mr. Owen Harris</td>\n",
       "      <td>male</td>\n",
       "      <td>22.0</td>\n",
       "      <td>1</td>\n",
       "      <td>0</td>\n",
       "      <td>A/5 21171</td>\n",
       "      <td>7.2500</td>\n",
       "      <td>NaN</td>\n",
       "      <td>S</td>\n",
       "    </tr>\n",
       "    <tr>\n",
       "      <th>1</th>\n",
       "      <td>2</td>\n",
       "      <td>1</td>\n",
       "      <td>1</td>\n",
       "      <td>Cumings, Mrs. John Bradley (Florence Briggs Th...</td>\n",
       "      <td>female</td>\n",
       "      <td>38.0</td>\n",
       "      <td>1</td>\n",
       "      <td>0</td>\n",
       "      <td>PC 17599</td>\n",
       "      <td>71.2833</td>\n",
       "      <td>C85</td>\n",
       "      <td>C</td>\n",
       "    </tr>\n",
       "    <tr>\n",
       "      <th>2</th>\n",
       "      <td>3</td>\n",
       "      <td>1</td>\n",
       "      <td>3</td>\n",
       "      <td>Heikkinen, Miss. Laina</td>\n",
       "      <td>female</td>\n",
       "      <td>26.0</td>\n",
       "      <td>0</td>\n",
       "      <td>0</td>\n",
       "      <td>STON/O2. 3101282</td>\n",
       "      <td>7.9250</td>\n",
       "      <td>NaN</td>\n",
       "      <td>S</td>\n",
       "    </tr>\n",
       "  </tbody>\n",
       "</table>\n",
       "</div>"
      ],
      "text/plain": [
       "   PassengerId  Survived  Pclass  \\\n",
       "0            1         0       3   \n",
       "1            2         1       1   \n",
       "2            3         1       3   \n",
       "\n",
       "                                                Name     Sex   Age  SibSp  \\\n",
       "0                            Braund, Mr. Owen Harris    male  22.0      1   \n",
       "1  Cumings, Mrs. John Bradley (Florence Briggs Th...  female  38.0      1   \n",
       "2                             Heikkinen, Miss. Laina  female  26.0      0   \n",
       "\n",
       "   Parch            Ticket     Fare Cabin Embarked  \n",
       "0      0         A/5 21171   7.2500   NaN        S  \n",
       "1      0          PC 17599  71.2833   C85        C  \n",
       "2      0  STON/O2. 3101282   7.9250   NaN        S  "
      ]
     },
     "execution_count": 57,
     "metadata": {},
     "output_type": "execute_result"
    }
   ],
   "source": [
    "drop_results=titanic_df.drop(['Age_0','Age_by_10','Family_No'],axis=1, inplace=True)\n",
    "print(\"inplace=True로 drop 후 변환된 값 :\", drop_results)\n",
    "titanic_df.head(3)"
   ]
  },
  {
   "cell_type": "code",
   "execution_count": 58,
   "id": "9c22f060",
   "metadata": {},
   "outputs": [
    {
     "name": "stdout",
     "output_type": "stream",
     "text": [
      "### before axis 0 drop ###\n",
      "   PassengerId  Survived  Pclass            Name     Sex   Age  SibSp  Parch          Ticket     Fare Cabin Embarked\n",
      "0            1         0       3  Braund, Mr....    male  22.0      1      0       A/5 21171   7.2500   NaN        S\n",
      "1            2         1       1  Cumings, Mr...  female  38.0      1      0        PC 17599  71.2833   C85        C\n",
      "2            3         1       3  Heikkinen, ...  female  26.0      0      0  STON/O2. 31...   7.9250   NaN        S\n",
      "### after axis 0 drop ###\n",
      "   PassengerId  Survived  Pclass            Name     Sex   Age  SibSp  Parch  Ticket     Fare Cabin Embarked\n",
      "3            4         1       1  Futrelle, M...  female  35.0      1      0  113803  53.1000  C123        S\n",
      "4            5         0       3  Allen, Mr. ...    male  35.0      0      0  373450   8.0500   NaN        S\n",
      "5            6         0       3  Moran, Mr. ...    male   NaN      0      0  330877   8.4583   NaN        Q\n"
     ]
    }
   ],
   "source": [
    "pd.set_option('display.width', 1000)\n",
    "pd.set_option('display.max_colwidth', 15)\n",
    "print(\"### before axis 0 drop ###\")\n",
    "print(titanic_df.head(3))\n",
    "\n",
    "titanic_df.drop([0,1,2], axis=0, inplace=True)\n",
    "\n",
    "print(\"### after axis 0 drop ###\" )\n",
    "print(titanic_df.head(3))"
   ]
  },
  {
   "cell_type": "markdown",
   "id": "8257d610",
   "metadata": {},
   "source": [
    "# Index 객체"
   ]
  },
  {
   "cell_type": "code",
   "execution_count": 59,
   "id": "eeb4df80",
   "metadata": {},
   "outputs": [
    {
     "name": "stdout",
     "output_type": "stream",
     "text": [
      "RangeIndex(start=0, stop=891, step=1)\n",
      "Index 객체 array 값: \n",
      " [  0   1   2   3   4   5   6   7   8   9  10  11  12  13  14  15  16  17\n",
      "  18  19  20  21  22  23  24  25  26  27  28  29  30  31  32  33  34  35\n",
      "  36  37  38  39  40  41  42  43  44  45  46  47  48  49  50  51  52  53\n",
      "  54  55  56  57  58  59  60  61  62  63  64  65  66  67  68  69  70  71\n",
      "  72  73  74  75  76  77  78  79  80  81  82  83  84  85  86  87  88  89\n",
      "  90  91  92  93  94  95  96  97  98  99 100 101 102 103 104 105 106 107\n",
      " 108 109 110 111 112 113 114 115 116 117 118 119 120 121 122 123 124 125\n",
      " 126 127 128 129 130 131 132 133 134 135 136 137 138 139 140 141 142 143\n",
      " 144 145 146 147 148 149 150 151 152 153 154 155 156 157 158 159 160 161\n",
      " 162 163 164 165 166 167 168 169 170 171 172 173 174 175 176 177 178 179\n",
      " 180 181 182 183 184 185 186 187 188 189 190 191 192 193 194 195 196 197\n",
      " 198 199 200 201 202 203 204 205 206 207 208 209 210 211 212 213 214 215\n",
      " 216 217 218 219 220 221 222 223 224 225 226 227 228 229 230 231 232 233\n",
      " 234 235 236 237 238 239 240 241 242 243 244 245 246 247 248 249 250 251\n",
      " 252 253 254 255 256 257 258 259 260 261 262 263 264 265 266 267 268 269\n",
      " 270 271 272 273 274 275 276 277 278 279 280 281 282 283 284 285 286 287\n",
      " 288 289 290 291 292 293 294 295 296 297 298 299 300 301 302 303 304 305\n",
      " 306 307 308 309 310 311 312 313 314 315 316 317 318 319 320 321 322 323\n",
      " 324 325 326 327 328 329 330 331 332 333 334 335 336 337 338 339 340 341\n",
      " 342 343 344 345 346 347 348 349 350 351 352 353 354 355 356 357 358 359\n",
      " 360 361 362 363 364 365 366 367 368 369 370 371 372 373 374 375 376 377\n",
      " 378 379 380 381 382 383 384 385 386 387 388 389 390 391 392 393 394 395\n",
      " 396 397 398 399 400 401 402 403 404 405 406 407 408 409 410 411 412 413\n",
      " 414 415 416 417 418 419 420 421 422 423 424 425 426 427 428 429 430 431\n",
      " 432 433 434 435 436 437 438 439 440 441 442 443 444 445 446 447 448 449\n",
      " 450 451 452 453 454 455 456 457 458 459 460 461 462 463 464 465 466 467\n",
      " 468 469 470 471 472 473 474 475 476 477 478 479 480 481 482 483 484 485\n",
      " 486 487 488 489 490 491 492 493 494 495 496 497 498 499 500 501 502 503\n",
      " 504 505 506 507 508 509 510 511 512 513 514 515 516 517 518 519 520 521\n",
      " 522 523 524 525 526 527 528 529 530 531 532 533 534 535 536 537 538 539\n",
      " 540 541 542 543 544 545 546 547 548 549 550 551 552 553 554 555 556 557\n",
      " 558 559 560 561 562 563 564 565 566 567 568 569 570 571 572 573 574 575\n",
      " 576 577 578 579 580 581 582 583 584 585 586 587 588 589 590 591 592 593\n",
      " 594 595 596 597 598 599 600 601 602 603 604 605 606 607 608 609 610 611\n",
      " 612 613 614 615 616 617 618 619 620 621 622 623 624 625 626 627 628 629\n",
      " 630 631 632 633 634 635 636 637 638 639 640 641 642 643 644 645 646 647\n",
      " 648 649 650 651 652 653 654 655 656 657 658 659 660 661 662 663 664 665\n",
      " 666 667 668 669 670 671 672 673 674 675 676 677 678 679 680 681 682 683\n",
      " 684 685 686 687 688 689 690 691 692 693 694 695 696 697 698 699 700 701\n",
      " 702 703 704 705 706 707 708 709 710 711 712 713 714 715 716 717 718 719\n",
      " 720 721 722 723 724 725 726 727 728 729 730 731 732 733 734 735 736 737\n",
      " 738 739 740 741 742 743 744 745 746 747 748 749 750 751 752 753 754 755\n",
      " 756 757 758 759 760 761 762 763 764 765 766 767 768 769 770 771 772 773\n",
      " 774 775 776 777 778 779 780 781 782 783 784 785 786 787 788 789 790 791\n",
      " 792 793 794 795 796 797 798 799 800 801 802 803 804 805 806 807 808 809\n",
      " 810 811 812 813 814 815 816 817 818 819 820 821 822 823 824 825 826 827\n",
      " 828 829 830 831 832 833 834 835 836 837 838 839 840 841 842 843 844 845\n",
      " 846 847 848 849 850 851 852 853 854 855 856 857 858 859 860 861 862 863\n",
      " 864 865 866 867 868 869 870 871 872 873 874 875 876 877 878 879 880 881\n",
      " 882 883 884 885 886 887 888 889 890]\n"
     ]
    }
   ],
   "source": [
    "#원본 파일 다시 로딩\n",
    "titanic_df=pd.read_csv(r\"C:\\Users\\songs\\Downloads\\titanic_train.csv\")\n",
    "# Index 객체 추출\n",
    "indexes=titanic_df.index\n",
    "print(indexes)\n",
    "#Index 객체를 실제 값 array로 변환\n",
    "print(\"Index 객체 array 값: \\n\", indexes.values)"
   ]
  },
  {
   "cell_type": "code",
   "execution_count": 60,
   "id": "76a03a7a",
   "metadata": {},
   "outputs": [
    {
     "name": "stdout",
     "output_type": "stream",
     "text": [
      "<class 'numpy.ndarray'>\n",
      "(891,)\n",
      "[0 1 2 3 4]\n",
      "[0 1 2 3 4]\n",
      "6\n"
     ]
    }
   ],
   "source": [
    "# 단일 값 반환 및 슬라이싱\n",
    "print(type(indexes.values))\n",
    "print(indexes.values.shape)\n",
    "print(indexes[:5].values)\n",
    "print(indexes.values[:5])\n",
    "print(indexes[6])"
   ]
  },
  {
   "cell_type": "code",
   "execution_count": 61,
   "id": "addd7d10",
   "metadata": {},
   "outputs": [
    {
     "ename": "TypeError",
     "evalue": "Index does not support mutable operations",
     "output_type": "error",
     "traceback": [
      "\u001b[1;31m---------------------------------------------------------------------------\u001b[0m",
      "\u001b[1;31mTypeError\u001b[0m                                 Traceback (most recent call last)",
      "\u001b[1;32m~\\AppData\\Local\\Temp\\ipykernel_17216\\2448619329.py\u001b[0m in \u001b[0;36m<module>\u001b[1;34m\u001b[0m\n\u001b[0;32m      1\u001b[0m \u001b[1;31m# 한 번 만들어진 DataFrame 및 Series의 Index 객체는 변경 불가\u001b[0m\u001b[1;33m\u001b[0m\u001b[1;33m\u001b[0m\u001b[0m\n\u001b[1;32m----> 2\u001b[1;33m \u001b[0mindexes\u001b[0m\u001b[1;33m[\u001b[0m\u001b[1;36m0\u001b[0m\u001b[1;33m]\u001b[0m\u001b[1;33m=\u001b[0m\u001b[1;36m5\u001b[0m\u001b[1;33m\u001b[0m\u001b[1;33m\u001b[0m\u001b[0m\n\u001b[0m",
      "\u001b[1;32m~\\anaconda3\\lib\\site-packages\\pandas\\core\\indexes\\base.py\u001b[0m in \u001b[0;36m__setitem__\u001b[1;34m(self, key, value)\u001b[0m\n\u001b[0;32m   5343\u001b[0m     \u001b[1;33m@\u001b[0m\u001b[0mfinal\u001b[0m\u001b[1;33m\u001b[0m\u001b[1;33m\u001b[0m\u001b[0m\n\u001b[0;32m   5344\u001b[0m     \u001b[1;32mdef\u001b[0m \u001b[0m__setitem__\u001b[0m\u001b[1;33m(\u001b[0m\u001b[0mself\u001b[0m\u001b[1;33m,\u001b[0m \u001b[0mkey\u001b[0m\u001b[1;33m,\u001b[0m \u001b[0mvalue\u001b[0m\u001b[1;33m)\u001b[0m\u001b[1;33m:\u001b[0m\u001b[1;33m\u001b[0m\u001b[1;33m\u001b[0m\u001b[0m\n\u001b[1;32m-> 5345\u001b[1;33m         \u001b[1;32mraise\u001b[0m \u001b[0mTypeError\u001b[0m\u001b[1;33m(\u001b[0m\u001b[1;34m\"Index does not support mutable operations\"\u001b[0m\u001b[1;33m)\u001b[0m\u001b[1;33m\u001b[0m\u001b[1;33m\u001b[0m\u001b[0m\n\u001b[0m\u001b[0;32m   5346\u001b[0m \u001b[1;33m\u001b[0m\u001b[0m\n\u001b[0;32m   5347\u001b[0m     \u001b[1;32mdef\u001b[0m \u001b[0m__getitem__\u001b[0m\u001b[1;33m(\u001b[0m\u001b[0mself\u001b[0m\u001b[1;33m,\u001b[0m \u001b[0mkey\u001b[0m\u001b[1;33m)\u001b[0m\u001b[1;33m:\u001b[0m\u001b[1;33m\u001b[0m\u001b[1;33m\u001b[0m\u001b[0m\n",
      "\u001b[1;31mTypeError\u001b[0m: Index does not support mutable operations"
     ]
    }
   ],
   "source": [
    "# 한 번 만들어진 DataFrame 및 Series의 Index 객체는 변경 불가\n",
    "indexes[0]=5"
   ]
  },
  {
   "cell_type": "code",
   "execution_count": null,
   "id": "7dc04a42",
   "metadata": {},
   "outputs": [],
   "source": [
    "series_fair=titanic_df['Fare']\n",
    "print('Fair Series max 값 :', series_fair.max())\n",
    "print('Fair Series sum 값 :', series_fair.sum())\n",
    "print('sum () Fair Series :', sum(series_fair))\n",
    "print('Fair Series + 3 \\n' , (series_fair+3).head(3))"
   ]
  },
  {
   "cell_type": "code",
   "execution_count": 62,
   "id": "053d9276",
   "metadata": {},
   "outputs": [
    {
     "data": {
      "text/html": [
       "<div>\n",
       "<style scoped>\n",
       "    .dataframe tbody tr th:only-of-type {\n",
       "        vertical-align: middle;\n",
       "    }\n",
       "\n",
       "    .dataframe tbody tr th {\n",
       "        vertical-align: top;\n",
       "    }\n",
       "\n",
       "    .dataframe thead th {\n",
       "        text-align: right;\n",
       "    }\n",
       "</style>\n",
       "<table border=\"1\" class=\"dataframe\">\n",
       "  <thead>\n",
       "    <tr style=\"text-align: right;\">\n",
       "      <th></th>\n",
       "      <th>index</th>\n",
       "      <th>PassengerId</th>\n",
       "      <th>Survived</th>\n",
       "      <th>Pclass</th>\n",
       "      <th>Name</th>\n",
       "      <th>Sex</th>\n",
       "      <th>Age</th>\n",
       "      <th>SibSp</th>\n",
       "      <th>Parch</th>\n",
       "      <th>Ticket</th>\n",
       "      <th>Fare</th>\n",
       "      <th>Cabin</th>\n",
       "      <th>Embarked</th>\n",
       "    </tr>\n",
       "  </thead>\n",
       "  <tbody>\n",
       "    <tr>\n",
       "      <th>0</th>\n",
       "      <td>0</td>\n",
       "      <td>1</td>\n",
       "      <td>0</td>\n",
       "      <td>3</td>\n",
       "      <td>Braund, Mr....</td>\n",
       "      <td>male</td>\n",
       "      <td>22.0</td>\n",
       "      <td>1</td>\n",
       "      <td>0</td>\n",
       "      <td>A/5 21171</td>\n",
       "      <td>7.2500</td>\n",
       "      <td>NaN</td>\n",
       "      <td>S</td>\n",
       "    </tr>\n",
       "    <tr>\n",
       "      <th>1</th>\n",
       "      <td>1</td>\n",
       "      <td>2</td>\n",
       "      <td>1</td>\n",
       "      <td>1</td>\n",
       "      <td>Cumings, Mr...</td>\n",
       "      <td>female</td>\n",
       "      <td>38.0</td>\n",
       "      <td>1</td>\n",
       "      <td>0</td>\n",
       "      <td>PC 17599</td>\n",
       "      <td>71.2833</td>\n",
       "      <td>C85</td>\n",
       "      <td>C</td>\n",
       "    </tr>\n",
       "    <tr>\n",
       "      <th>2</th>\n",
       "      <td>2</td>\n",
       "      <td>3</td>\n",
       "      <td>1</td>\n",
       "      <td>3</td>\n",
       "      <td>Heikkinen, ...</td>\n",
       "      <td>female</td>\n",
       "      <td>26.0</td>\n",
       "      <td>0</td>\n",
       "      <td>0</td>\n",
       "      <td>STON/O2. 31...</td>\n",
       "      <td>7.9250</td>\n",
       "      <td>NaN</td>\n",
       "      <td>S</td>\n",
       "    </tr>\n",
       "  </tbody>\n",
       "</table>\n",
       "</div>"
      ],
      "text/plain": [
       "   index  PassengerId  Survived  Pclass            Name     Sex   Age  SibSp  Parch          Ticket     Fare Cabin Embarked\n",
       "0      0            1         0       3  Braund, Mr....    male  22.0      1      0       A/5 21171   7.2500   NaN        S\n",
       "1      1            2         1       1  Cumings, Mr...  female  38.0      1      0        PC 17599  71.2833   C85        C\n",
       "2      2            3         1       3  Heikkinen, ...  female  26.0      0      0  STON/O2. 31...   7.9250   NaN        S"
      ]
     },
     "execution_count": 62,
     "metadata": {},
     "output_type": "execute_result"
    }
   ],
   "source": [
    "# reset_index() : 새롭게 인덱스를 연속 숫자 형으로 할당, 기존 인덱스는 'index'라는 새로운 칼럼명으로 추가\n",
    "\n",
    "titanic_reset_df=titanic_df.reset_index(inplace=False)\n",
    "titanic_reset_df.head(3)"
   ]
  },
  {
   "cell_type": "code",
   "execution_count": 63,
   "id": "0ee006b2",
   "metadata": {},
   "outputs": [
    {
     "name": "stdout",
     "output_type": "stream",
     "text": [
      "### before reset_index ###\n",
      "3    491\n",
      "1    216\n",
      "2    184\n",
      "Name: Pclass, dtype: int64\n",
      "value_counts 객체 변수 타입 : <class 'pandas.core.series.Series'>\n",
      "### After reset_index ###\n",
      "   index  Pclass\n",
      "0      3     491\n",
      "1      1     216\n",
      "2      2     184\n",
      "new_value_counts 객체 변수 타입 : <class 'pandas.core.frame.DataFrame'>\n"
     ]
    }
   ],
   "source": [
    "# 인덱스가 연속된 int 숫자형 데이터가 아닐 경우, 다시 연속 int 숫자형 데이터로 만들 때\n",
    "\n",
    "print(\"### before reset_index ###\")\n",
    "value_counts=titanic_df['Pclass'].value_counts()\n",
    "print(value_counts)\n",
    "print('value_counts 객체 변수 타입 :', type(value_counts))\n",
    "new_value_counts=value_counts.reset_index(inplace=False)\n",
    "print(\"### After reset_index ###\")\n",
    "print(new_value_counts)\n",
    "print(\"new_value_counts 객체 변수 타입 :\", type(new_value_counts))"
   ]
  },
  {
   "cell_type": "code",
   "execution_count": 64,
   "id": "1b79db1d",
   "metadata": {},
   "outputs": [
    {
     "name": "stdout",
     "output_type": "stream",
     "text": [
      "0    491\n",
      "1    216\n",
      "2    184\n",
      "Name: Pclass, dtype: int64\n"
     ]
    }
   ],
   "source": [
    "# reset_index() 매개 변수 중 drop=True로 설정하면 기존 인덱스는 삭제\n",
    "new_value_counts1=value_counts.reset_index(inplace=False, drop=True)\n",
    "print(new_value_counts1)"
   ]
  },
  {
   "cell_type": "markdown",
   "id": "4a54f140",
   "metadata": {},
   "source": [
    "# 데이터 셀렉션 및 필터링"
   ]
  },
  {
   "cell_type": "code",
   "execution_count": 65,
   "id": "0ef4658d",
   "metadata": {},
   "outputs": [
    {
     "name": "stdout",
     "output_type": "stream",
     "text": [
      "단일 칼럼 데이터 추출 :\n",
      " 0    3\n",
      "1    1\n",
      "2    3\n",
      "Name: Pclass, dtype: int64\n"
     ]
    },
    {
     "ename": "InvalidIndexError",
     "evalue": "(['Survived'], ['Pclass'])",
     "output_type": "error",
     "traceback": [
      "\u001b[1;31m---------------------------------------------------------------------------\u001b[0m",
      "\u001b[1;31mTypeError\u001b[0m                                 Traceback (most recent call last)",
      "\u001b[1;32m~\\anaconda3\\lib\\site-packages\\pandas\\core\\indexes\\base.py\u001b[0m in \u001b[0;36mget_loc\u001b[1;34m(self, key, method, tolerance)\u001b[0m\n\u001b[0;32m   3802\u001b[0m             \u001b[1;32mtry\u001b[0m\u001b[1;33m:\u001b[0m\u001b[1;33m\u001b[0m\u001b[1;33m\u001b[0m\u001b[0m\n\u001b[1;32m-> 3803\u001b[1;33m                 \u001b[1;32mreturn\u001b[0m \u001b[0mself\u001b[0m\u001b[1;33m.\u001b[0m\u001b[0m_engine\u001b[0m\u001b[1;33m.\u001b[0m\u001b[0mget_loc\u001b[0m\u001b[1;33m(\u001b[0m\u001b[0mcasted_key\u001b[0m\u001b[1;33m)\u001b[0m\u001b[1;33m\u001b[0m\u001b[1;33m\u001b[0m\u001b[0m\n\u001b[0m\u001b[0;32m   3804\u001b[0m             \u001b[1;32mexcept\u001b[0m \u001b[0mKeyError\u001b[0m \u001b[1;32mas\u001b[0m \u001b[0merr\u001b[0m\u001b[1;33m:\u001b[0m\u001b[1;33m\u001b[0m\u001b[1;33m\u001b[0m\u001b[0m\n",
      "\u001b[1;32m~\\anaconda3\\lib\\site-packages\\pandas\\_libs\\index.pyx\u001b[0m in \u001b[0;36mpandas._libs.index.IndexEngine.get_loc\u001b[1;34m()\u001b[0m\n",
      "\u001b[1;32m~\\anaconda3\\lib\\site-packages\\pandas\\_libs\\index.pyx\u001b[0m in \u001b[0;36mpandas._libs.index.IndexEngine.get_loc\u001b[1;34m()\u001b[0m\n",
      "\u001b[1;31mTypeError\u001b[0m: '(['Survived'], ['Pclass'])' is an invalid key",
      "\nDuring handling of the above exception, another exception occurred:\n",
      "\u001b[1;31mInvalidIndexError\u001b[0m                         Traceback (most recent call last)",
      "\u001b[1;32m~\\AppData\\Local\\Temp\\ipykernel_17216\\2354164052.py\u001b[0m in \u001b[0;36m<module>\u001b[1;34m\u001b[0m\n\u001b[0;32m      2\u001b[0m \u001b[1;33m\u001b[0m\u001b[0m\n\u001b[0;32m      3\u001b[0m \u001b[0mprint\u001b[0m\u001b[1;33m(\u001b[0m\u001b[1;34m\"단일 칼럼 데이터 추출 :\\n\"\u001b[0m\u001b[1;33m,\u001b[0m \u001b[0mtitanic_df\u001b[0m\u001b[1;33m[\u001b[0m\u001b[1;34m'Pclass'\u001b[0m\u001b[1;33m]\u001b[0m\u001b[1;33m.\u001b[0m\u001b[0mhead\u001b[0m\u001b[1;33m(\u001b[0m\u001b[1;36m3\u001b[0m\u001b[1;33m)\u001b[0m\u001b[1;33m)\u001b[0m\u001b[1;33m\u001b[0m\u001b[1;33m\u001b[0m\u001b[0m\n\u001b[1;32m----> 4\u001b[1;33m \u001b[0mprint\u001b[0m\u001b[1;33m(\u001b[0m\u001b[1;34m\"\\n여러 칼럼의 데이터 추출 :\\n\"\u001b[0m\u001b[1;33m,\u001b[0m \u001b[0mtitanic_df\u001b[0m\u001b[1;33m[\u001b[0m\u001b[1;33m[\u001b[0m\u001b[1;34m'Survived'\u001b[0m\u001b[1;33m]\u001b[0m\u001b[1;33m,\u001b[0m\u001b[1;33m[\u001b[0m\u001b[1;34m'Pclass'\u001b[0m\u001b[1;33m]\u001b[0m\u001b[1;33m]\u001b[0m\u001b[1;33m.\u001b[0m\u001b[0mhead\u001b[0m\u001b[1;33m(\u001b[0m\u001b[1;36m3\u001b[0m\u001b[1;33m)\u001b[0m\u001b[1;33m)\u001b[0m\u001b[1;33m\u001b[0m\u001b[1;33m\u001b[0m\u001b[0m\n\u001b[0m\u001b[0;32m      5\u001b[0m \u001b[0mprint\u001b[0m\u001b[1;33m(\u001b[0m\u001b[1;34m'[] 안에 숫자 index는 KeyError 오류 발생 :\\n'\u001b[0m\u001b[1;33m,\u001b[0m \u001b[0mtitanic_df\u001b[0m\u001b[1;33m[\u001b[0m\u001b[1;36m0\u001b[0m\u001b[1;33m]\u001b[0m\u001b[1;33m)\u001b[0m\u001b[1;33m\u001b[0m\u001b[1;33m\u001b[0m\u001b[0m\n",
      "\u001b[1;32m~\\anaconda3\\lib\\site-packages\\pandas\\core\\frame.py\u001b[0m in \u001b[0;36m__getitem__\u001b[1;34m(self, key)\u001b[0m\n\u001b[0;32m   3803\u001b[0m             \u001b[1;32mif\u001b[0m \u001b[0mself\u001b[0m\u001b[1;33m.\u001b[0m\u001b[0mcolumns\u001b[0m\u001b[1;33m.\u001b[0m\u001b[0mnlevels\u001b[0m \u001b[1;33m>\u001b[0m \u001b[1;36m1\u001b[0m\u001b[1;33m:\u001b[0m\u001b[1;33m\u001b[0m\u001b[1;33m\u001b[0m\u001b[0m\n\u001b[0;32m   3804\u001b[0m                 \u001b[1;32mreturn\u001b[0m \u001b[0mself\u001b[0m\u001b[1;33m.\u001b[0m\u001b[0m_getitem_multilevel\u001b[0m\u001b[1;33m(\u001b[0m\u001b[0mkey\u001b[0m\u001b[1;33m)\u001b[0m\u001b[1;33m\u001b[0m\u001b[1;33m\u001b[0m\u001b[0m\n\u001b[1;32m-> 3805\u001b[1;33m             \u001b[0mindexer\u001b[0m \u001b[1;33m=\u001b[0m \u001b[0mself\u001b[0m\u001b[1;33m.\u001b[0m\u001b[0mcolumns\u001b[0m\u001b[1;33m.\u001b[0m\u001b[0mget_loc\u001b[0m\u001b[1;33m(\u001b[0m\u001b[0mkey\u001b[0m\u001b[1;33m)\u001b[0m\u001b[1;33m\u001b[0m\u001b[1;33m\u001b[0m\u001b[0m\n\u001b[0m\u001b[0;32m   3806\u001b[0m             \u001b[1;32mif\u001b[0m \u001b[0mis_integer\u001b[0m\u001b[1;33m(\u001b[0m\u001b[0mindexer\u001b[0m\u001b[1;33m)\u001b[0m\u001b[1;33m:\u001b[0m\u001b[1;33m\u001b[0m\u001b[1;33m\u001b[0m\u001b[0m\n\u001b[0;32m   3807\u001b[0m                 \u001b[0mindexer\u001b[0m \u001b[1;33m=\u001b[0m \u001b[1;33m[\u001b[0m\u001b[0mindexer\u001b[0m\u001b[1;33m]\u001b[0m\u001b[1;33m\u001b[0m\u001b[1;33m\u001b[0m\u001b[0m\n",
      "\u001b[1;32m~\\anaconda3\\lib\\site-packages\\pandas\\core\\indexes\\base.py\u001b[0m in \u001b[0;36mget_loc\u001b[1;34m(self, key, method, tolerance)\u001b[0m\n\u001b[0;32m   3808\u001b[0m                 \u001b[1;31m#  InvalidIndexError. Otherwise we fall through and re-raise\u001b[0m\u001b[1;33m\u001b[0m\u001b[1;33m\u001b[0m\u001b[0m\n\u001b[0;32m   3809\u001b[0m                 \u001b[1;31m#  the TypeError.\u001b[0m\u001b[1;33m\u001b[0m\u001b[1;33m\u001b[0m\u001b[0m\n\u001b[1;32m-> 3810\u001b[1;33m                 \u001b[0mself\u001b[0m\u001b[1;33m.\u001b[0m\u001b[0m_check_indexing_error\u001b[0m\u001b[1;33m(\u001b[0m\u001b[0mkey\u001b[0m\u001b[1;33m)\u001b[0m\u001b[1;33m\u001b[0m\u001b[1;33m\u001b[0m\u001b[0m\n\u001b[0m\u001b[0;32m   3811\u001b[0m                 \u001b[1;32mraise\u001b[0m\u001b[1;33m\u001b[0m\u001b[1;33m\u001b[0m\u001b[0m\n\u001b[0;32m   3812\u001b[0m \u001b[1;33m\u001b[0m\u001b[0m\n",
      "\u001b[1;32m~\\anaconda3\\lib\\site-packages\\pandas\\core\\indexes\\base.py\u001b[0m in \u001b[0;36m_check_indexing_error\u001b[1;34m(self, key)\u001b[0m\n\u001b[0;32m   5966\u001b[0m             \u001b[1;31m# if key is not a scalar, directly raise an error (the code below\u001b[0m\u001b[1;33m\u001b[0m\u001b[1;33m\u001b[0m\u001b[0m\n\u001b[0;32m   5967\u001b[0m             \u001b[1;31m# would convert to numpy arrays and raise later any way) - GH29926\u001b[0m\u001b[1;33m\u001b[0m\u001b[1;33m\u001b[0m\u001b[0m\n\u001b[1;32m-> 5968\u001b[1;33m             \u001b[1;32mraise\u001b[0m \u001b[0mInvalidIndexError\u001b[0m\u001b[1;33m(\u001b[0m\u001b[0mkey\u001b[0m\u001b[1;33m)\u001b[0m\u001b[1;33m\u001b[0m\u001b[1;33m\u001b[0m\u001b[0m\n\u001b[0m\u001b[0;32m   5969\u001b[0m \u001b[1;33m\u001b[0m\u001b[0m\n\u001b[0;32m   5970\u001b[0m     \u001b[1;33m@\u001b[0m\u001b[0mcache_readonly\u001b[0m\u001b[1;33m\u001b[0m\u001b[1;33m\u001b[0m\u001b[0m\n",
      "\u001b[1;31mInvalidIndexError\u001b[0m: (['Survived'], ['Pclass'])"
     ]
    }
   ],
   "source": [
    "# DataFrame 바로 뒤 [] 안에는 칼럼명 문자\n",
    "\n",
    "print(\"단일 칼럼 데이터 추출 :\\n\", titanic_df['Pclass'].head(3))\n",
    "print(\"\\n여러 칼럼의 데이터 추출 :\\n\", titanic_df[['Survived'],['Pclass']].head(3))\n",
    "print('[] 안에 숫자 index는 KeyError 오류 발생 :\\n', titanic_df[0])"
   ]
  },
  {
   "cell_type": "code",
   "execution_count": null,
   "id": "7142743e",
   "metadata": {},
   "outputs": [],
   "source": [
    "# 슬라이싱 연산으로 데이터를 추출하는 방법은 가능하나, 사용하지 않는 것이 좋다.\n",
    "titanic_df[0:2]"
   ]
  },
  {
   "cell_type": "code",
   "execution_count": null,
   "id": "eb96a769",
   "metadata": {},
   "outputs": [],
   "source": [
    "# [] 내에 불린 인덱싱 표현 가능\n",
    "titanic_df[titanic_df['Pclass']==3].head(3)"
   ]
  },
  {
   "cell_type": "code",
   "execution_count": 66,
   "id": "f951ea4c",
   "metadata": {},
   "outputs": [
    {
     "data": {
      "text/html": [
       "<div>\n",
       "<style scoped>\n",
       "    .dataframe tbody tr th:only-of-type {\n",
       "        vertical-align: middle;\n",
       "    }\n",
       "\n",
       "    .dataframe tbody tr th {\n",
       "        vertical-align: top;\n",
       "    }\n",
       "\n",
       "    .dataframe thead th {\n",
       "        text-align: right;\n",
       "    }\n",
       "</style>\n",
       "<table border=\"1\" class=\"dataframe\">\n",
       "  <thead>\n",
       "    <tr style=\"text-align: right;\">\n",
       "      <th></th>\n",
       "      <th>Name</th>\n",
       "      <th>Year</th>\n",
       "      <th>Gender</th>\n",
       "    </tr>\n",
       "  </thead>\n",
       "  <tbody>\n",
       "    <tr>\n",
       "      <th>one</th>\n",
       "      <td>Chulmin</td>\n",
       "      <td>2011</td>\n",
       "      <td>Male</td>\n",
       "    </tr>\n",
       "    <tr>\n",
       "      <th>two</th>\n",
       "      <td>Eunkyung</td>\n",
       "      <td>2016</td>\n",
       "      <td>Female</td>\n",
       "    </tr>\n",
       "    <tr>\n",
       "      <th>three</th>\n",
       "      <td>Jinwoong</td>\n",
       "      <td>2015</td>\n",
       "      <td>Male</td>\n",
       "    </tr>\n",
       "    <tr>\n",
       "      <th>four</th>\n",
       "      <td>Soobeom</td>\n",
       "      <td>2015</td>\n",
       "      <td>Male</td>\n",
       "    </tr>\n",
       "  </tbody>\n",
       "</table>\n",
       "</div>"
      ],
      "text/plain": [
       "           Name  Year  Gender\n",
       "one     Chulmin  2011    Male\n",
       "two    Eunkyung  2016  Female\n",
       "three  Jinwoong  2015    Male\n",
       "four    Soobeom  2015    Male"
      ]
     },
     "execution_count": 66,
     "metadata": {},
     "output_type": "execute_result"
    }
   ],
   "source": [
    "# DataFrame iloc[] 연산자\n",
    "# iloc[] : 위치 기반 인덱싱 방식\n",
    "\n",
    "data={'Name':['Chulmin','Eunkyung','Jinwoong','Soobeom'],\n",
    "     'Year':[2011,2016,2015,2015],\n",
    "     'Gender':['Male','Female','Male','Male']}\n",
    "data_df=pd.DataFrame(data, index=['one','two','three','four'])\n",
    "data_df"
   ]
  },
  {
   "cell_type": "code",
   "execution_count": 67,
   "id": "ba4a763b",
   "metadata": {},
   "outputs": [
    {
     "data": {
      "text/plain": [
       "'Chulmin'"
      ]
     },
     "execution_count": 67,
     "metadata": {},
     "output_type": "execute_result"
    }
   ],
   "source": [
    "data_df.iloc[0,0]"
   ]
  },
  {
   "cell_type": "code",
   "execution_count": 68,
   "id": "02cacc6d",
   "metadata": {},
   "outputs": [
    {
     "ename": "ValueError",
     "evalue": "Location based indexing can only have [integer, integer slice (START point is INCLUDED, END point is EXCLUDED), listlike of integers, boolean array] types",
     "output_type": "error",
     "traceback": [
      "\u001b[1;31m---------------------------------------------------------------------------\u001b[0m",
      "\u001b[1;31mValueError\u001b[0m                                Traceback (most recent call last)",
      "\u001b[1;32m~\\anaconda3\\lib\\site-packages\\pandas\\core\\indexing.py\u001b[0m in \u001b[0;36m_validate_tuple_indexer\u001b[1;34m(self, key)\u001b[0m\n\u001b[0;32m    872\u001b[0m             \u001b[1;32mtry\u001b[0m\u001b[1;33m:\u001b[0m\u001b[1;33m\u001b[0m\u001b[1;33m\u001b[0m\u001b[0m\n\u001b[1;32m--> 873\u001b[1;33m                 \u001b[0mself\u001b[0m\u001b[1;33m.\u001b[0m\u001b[0m_validate_key\u001b[0m\u001b[1;33m(\u001b[0m\u001b[0mk\u001b[0m\u001b[1;33m,\u001b[0m \u001b[0mi\u001b[0m\u001b[1;33m)\u001b[0m\u001b[1;33m\u001b[0m\u001b[1;33m\u001b[0m\u001b[0m\n\u001b[0m\u001b[0;32m    874\u001b[0m             \u001b[1;32mexcept\u001b[0m \u001b[0mValueError\u001b[0m \u001b[1;32mas\u001b[0m \u001b[0merr\u001b[0m\u001b[1;33m:\u001b[0m\u001b[1;33m\u001b[0m\u001b[1;33m\u001b[0m\u001b[0m\n",
      "\u001b[1;32m~\\anaconda3\\lib\\site-packages\\pandas\\core\\indexing.py\u001b[0m in \u001b[0;36m_validate_key\u001b[1;34m(self, key, axis)\u001b[0m\n\u001b[0;32m   1482\u001b[0m         \u001b[1;32melse\u001b[0m\u001b[1;33m:\u001b[0m\u001b[1;33m\u001b[0m\u001b[1;33m\u001b[0m\u001b[0m\n\u001b[1;32m-> 1483\u001b[1;33m             \u001b[1;32mraise\u001b[0m \u001b[0mValueError\u001b[0m\u001b[1;33m(\u001b[0m\u001b[1;34mf\"Can only index by location with a [{self._valid_types}]\"\u001b[0m\u001b[1;33m)\u001b[0m\u001b[1;33m\u001b[0m\u001b[1;33m\u001b[0m\u001b[0m\n\u001b[0m\u001b[0;32m   1484\u001b[0m \u001b[1;33m\u001b[0m\u001b[0m\n",
      "\u001b[1;31mValueError\u001b[0m: Can only index by location with a [integer, integer slice (START point is INCLUDED, END point is EXCLUDED), listlike of integers, boolean array]",
      "\nThe above exception was the direct cause of the following exception:\n",
      "\u001b[1;31mValueError\u001b[0m                                Traceback (most recent call last)",
      "\u001b[1;32m~\\AppData\\Local\\Temp\\ipykernel_17216\\311867175.py\u001b[0m in \u001b[0;36m<module>\u001b[1;34m\u001b[0m\n\u001b[0;32m      1\u001b[0m \u001b[1;31m# 좌표 정숫값 형태로 입력하지 않으면 오류 발생\u001b[0m\u001b[1;33m\u001b[0m\u001b[1;33m\u001b[0m\u001b[0m\n\u001b[1;32m----> 2\u001b[1;33m \u001b[0mdata_df\u001b[0m\u001b[1;33m.\u001b[0m\u001b[0miloc\u001b[0m\u001b[1;33m[\u001b[0m\u001b[1;36m0\u001b[0m\u001b[1;33m,\u001b[0m\u001b[1;34m'Name'\u001b[0m\u001b[1;33m]\u001b[0m\u001b[1;33m\u001b[0m\u001b[1;33m\u001b[0m\u001b[0m\n\u001b[0m",
      "\u001b[1;32m~\\anaconda3\\lib\\site-packages\\pandas\\core\\indexing.py\u001b[0m in \u001b[0;36m__getitem__\u001b[1;34m(self, key)\u001b[0m\n\u001b[0;32m   1065\u001b[0m             \u001b[1;32mif\u001b[0m \u001b[0mself\u001b[0m\u001b[1;33m.\u001b[0m\u001b[0m_is_scalar_access\u001b[0m\u001b[1;33m(\u001b[0m\u001b[0mkey\u001b[0m\u001b[1;33m)\u001b[0m\u001b[1;33m:\u001b[0m\u001b[1;33m\u001b[0m\u001b[1;33m\u001b[0m\u001b[0m\n\u001b[0;32m   1066\u001b[0m                 \u001b[1;32mreturn\u001b[0m \u001b[0mself\u001b[0m\u001b[1;33m.\u001b[0m\u001b[0mobj\u001b[0m\u001b[1;33m.\u001b[0m\u001b[0m_get_value\u001b[0m\u001b[1;33m(\u001b[0m\u001b[1;33m*\u001b[0m\u001b[0mkey\u001b[0m\u001b[1;33m,\u001b[0m \u001b[0mtakeable\u001b[0m\u001b[1;33m=\u001b[0m\u001b[0mself\u001b[0m\u001b[1;33m.\u001b[0m\u001b[0m_takeable\u001b[0m\u001b[1;33m)\u001b[0m\u001b[1;33m\u001b[0m\u001b[1;33m\u001b[0m\u001b[0m\n\u001b[1;32m-> 1067\u001b[1;33m             \u001b[1;32mreturn\u001b[0m \u001b[0mself\u001b[0m\u001b[1;33m.\u001b[0m\u001b[0m_getitem_tuple\u001b[0m\u001b[1;33m(\u001b[0m\u001b[0mkey\u001b[0m\u001b[1;33m)\u001b[0m\u001b[1;33m\u001b[0m\u001b[1;33m\u001b[0m\u001b[0m\n\u001b[0m\u001b[0;32m   1068\u001b[0m         \u001b[1;32melse\u001b[0m\u001b[1;33m:\u001b[0m\u001b[1;33m\u001b[0m\u001b[1;33m\u001b[0m\u001b[0m\n\u001b[0;32m   1069\u001b[0m             \u001b[1;31m# we by definition only have the 0th axis\u001b[0m\u001b[1;33m\u001b[0m\u001b[1;33m\u001b[0m\u001b[0m\n",
      "\u001b[1;32m~\\anaconda3\\lib\\site-packages\\pandas\\core\\indexing.py\u001b[0m in \u001b[0;36m_getitem_tuple\u001b[1;34m(self, tup)\u001b[0m\n\u001b[0;32m   1561\u001b[0m     \u001b[1;32mdef\u001b[0m \u001b[0m_getitem_tuple\u001b[0m\u001b[1;33m(\u001b[0m\u001b[0mself\u001b[0m\u001b[1;33m,\u001b[0m \u001b[0mtup\u001b[0m\u001b[1;33m:\u001b[0m \u001b[0mtuple\u001b[0m\u001b[1;33m)\u001b[0m\u001b[1;33m:\u001b[0m\u001b[1;33m\u001b[0m\u001b[1;33m\u001b[0m\u001b[0m\n\u001b[0;32m   1562\u001b[0m \u001b[1;33m\u001b[0m\u001b[0m\n\u001b[1;32m-> 1563\u001b[1;33m         \u001b[0mtup\u001b[0m \u001b[1;33m=\u001b[0m \u001b[0mself\u001b[0m\u001b[1;33m.\u001b[0m\u001b[0m_validate_tuple_indexer\u001b[0m\u001b[1;33m(\u001b[0m\u001b[0mtup\u001b[0m\u001b[1;33m)\u001b[0m\u001b[1;33m\u001b[0m\u001b[1;33m\u001b[0m\u001b[0m\n\u001b[0m\u001b[0;32m   1564\u001b[0m         \u001b[1;32mwith\u001b[0m \u001b[0msuppress\u001b[0m\u001b[1;33m(\u001b[0m\u001b[0mIndexingError\u001b[0m\u001b[1;33m)\u001b[0m\u001b[1;33m:\u001b[0m\u001b[1;33m\u001b[0m\u001b[1;33m\u001b[0m\u001b[0m\n\u001b[0;32m   1565\u001b[0m             \u001b[1;32mreturn\u001b[0m \u001b[0mself\u001b[0m\u001b[1;33m.\u001b[0m\u001b[0m_getitem_lowerdim\u001b[0m\u001b[1;33m(\u001b[0m\u001b[0mtup\u001b[0m\u001b[1;33m)\u001b[0m\u001b[1;33m\u001b[0m\u001b[1;33m\u001b[0m\u001b[0m\n",
      "\u001b[1;32m~\\anaconda3\\lib\\site-packages\\pandas\\core\\indexing.py\u001b[0m in \u001b[0;36m_validate_tuple_indexer\u001b[1;34m(self, key)\u001b[0m\n\u001b[0;32m    873\u001b[0m                 \u001b[0mself\u001b[0m\u001b[1;33m.\u001b[0m\u001b[0m_validate_key\u001b[0m\u001b[1;33m(\u001b[0m\u001b[0mk\u001b[0m\u001b[1;33m,\u001b[0m \u001b[0mi\u001b[0m\u001b[1;33m)\u001b[0m\u001b[1;33m\u001b[0m\u001b[1;33m\u001b[0m\u001b[0m\n\u001b[0;32m    874\u001b[0m             \u001b[1;32mexcept\u001b[0m \u001b[0mValueError\u001b[0m \u001b[1;32mas\u001b[0m \u001b[0merr\u001b[0m\u001b[1;33m:\u001b[0m\u001b[1;33m\u001b[0m\u001b[1;33m\u001b[0m\u001b[0m\n\u001b[1;32m--> 875\u001b[1;33m                 raise ValueError(\n\u001b[0m\u001b[0;32m    876\u001b[0m                     \u001b[1;34m\"Location based indexing can only have \"\u001b[0m\u001b[1;33m\u001b[0m\u001b[1;33m\u001b[0m\u001b[0m\n\u001b[0;32m    877\u001b[0m                     \u001b[1;34mf\"[{self._valid_types}] types\"\u001b[0m\u001b[1;33m\u001b[0m\u001b[1;33m\u001b[0m\u001b[0m\n",
      "\u001b[1;31mValueError\u001b[0m: Location based indexing can only have [integer, integer slice (START point is INCLUDED, END point is EXCLUDED), listlike of integers, boolean array] types"
     ]
    }
   ],
   "source": [
    "# 좌표 정숫값 형태로 입력하지 않으면 오류 발생\n",
    "data_df.iloc[0,'Name']"
   ]
  },
  {
   "cell_type": "code",
   "execution_count": null,
   "id": "0b939feb",
   "metadata": {},
   "outputs": [],
   "source": [
    "print(\"\\n 맨 마지막 컬럼 데이터 [:,-1] \\n\", data_df.iloc[:,-1])\n",
    "print(\"\\n 맨 마지막 컬럼을 제외한 모든 데이터[:,:-1]\\n\", data_df.iloc[:,:-1])"
   ]
  },
  {
   "cell_type": "code",
   "execution_count": 69,
   "id": "2f26da54",
   "metadata": {},
   "outputs": [
    {
     "data": {
      "text/plain": [
       "'Chulmin'"
      ]
     },
     "execution_count": 69,
     "metadata": {},
     "output_type": "execute_result"
    }
   ],
   "source": [
    "# DataFrame loc[] 인자\n",
    "# loc[] : 명칭 기반 인덱싱 방식\n",
    "\n",
    "data_df.loc['one','Name']"
   ]
  },
  {
   "cell_type": "code",
   "execution_count": 70,
   "id": "e324cd67",
   "metadata": {},
   "outputs": [
    {
     "ename": "KeyError",
     "evalue": "0",
     "output_type": "error",
     "traceback": [
      "\u001b[1;31m---------------------------------------------------------------------------\u001b[0m",
      "\u001b[1;31mKeyError\u001b[0m                                  Traceback (most recent call last)",
      "\u001b[1;32m~\\anaconda3\\lib\\site-packages\\pandas\\core\\indexes\\base.py\u001b[0m in \u001b[0;36mget_loc\u001b[1;34m(self, key, method, tolerance)\u001b[0m\n\u001b[0;32m   3802\u001b[0m             \u001b[1;32mtry\u001b[0m\u001b[1;33m:\u001b[0m\u001b[1;33m\u001b[0m\u001b[1;33m\u001b[0m\u001b[0m\n\u001b[1;32m-> 3803\u001b[1;33m                 \u001b[1;32mreturn\u001b[0m \u001b[0mself\u001b[0m\u001b[1;33m.\u001b[0m\u001b[0m_engine\u001b[0m\u001b[1;33m.\u001b[0m\u001b[0mget_loc\u001b[0m\u001b[1;33m(\u001b[0m\u001b[0mcasted_key\u001b[0m\u001b[1;33m)\u001b[0m\u001b[1;33m\u001b[0m\u001b[1;33m\u001b[0m\u001b[0m\n\u001b[0m\u001b[0;32m   3804\u001b[0m             \u001b[1;32mexcept\u001b[0m \u001b[0mKeyError\u001b[0m \u001b[1;32mas\u001b[0m \u001b[0merr\u001b[0m\u001b[1;33m:\u001b[0m\u001b[1;33m\u001b[0m\u001b[1;33m\u001b[0m\u001b[0m\n",
      "\u001b[1;32m~\\anaconda3\\lib\\site-packages\\pandas\\_libs\\index.pyx\u001b[0m in \u001b[0;36mpandas._libs.index.IndexEngine.get_loc\u001b[1;34m()\u001b[0m\n",
      "\u001b[1;32m~\\anaconda3\\lib\\site-packages\\pandas\\_libs\\index.pyx\u001b[0m in \u001b[0;36mpandas._libs.index.IndexEngine.get_loc\u001b[1;34m()\u001b[0m\n",
      "\u001b[1;32mpandas\\_libs\\hashtable_class_helper.pxi\u001b[0m in \u001b[0;36mpandas._libs.hashtable.PyObjectHashTable.get_item\u001b[1;34m()\u001b[0m\n",
      "\u001b[1;32mpandas\\_libs\\hashtable_class_helper.pxi\u001b[0m in \u001b[0;36mpandas._libs.hashtable.PyObjectHashTable.get_item\u001b[1;34m()\u001b[0m\n",
      "\u001b[1;31mKeyError\u001b[0m: 0",
      "\nThe above exception was the direct cause of the following exception:\n",
      "\u001b[1;31mKeyError\u001b[0m                                  Traceback (most recent call last)",
      "\u001b[1;32m~\\AppData\\Local\\Temp\\ipykernel_17216\\1925086853.py\u001b[0m in \u001b[0;36m<module>\u001b[1;34m\u001b[0m\n\u001b[0;32m      1\u001b[0m \u001b[1;31m# 다음 코드는 오류를 발생시킵니다.\u001b[0m\u001b[1;33m\u001b[0m\u001b[1;33m\u001b[0m\u001b[0m\n\u001b[1;32m----> 2\u001b[1;33m \u001b[0mdata_df\u001b[0m\u001b[1;33m.\u001b[0m\u001b[0mloc\u001b[0m\u001b[1;33m[\u001b[0m\u001b[1;36m0\u001b[0m\u001b[1;33m,\u001b[0m\u001b[1;34m'Name'\u001b[0m\u001b[1;33m]\u001b[0m\u001b[1;33m\u001b[0m\u001b[1;33m\u001b[0m\u001b[0m\n\u001b[0m",
      "\u001b[1;32m~\\anaconda3\\lib\\site-packages\\pandas\\core\\indexing.py\u001b[0m in \u001b[0;36m__getitem__\u001b[1;34m(self, key)\u001b[0m\n\u001b[0;32m   1064\u001b[0m             \u001b[0mkey\u001b[0m \u001b[1;33m=\u001b[0m \u001b[0mtuple\u001b[0m\u001b[1;33m(\u001b[0m\u001b[0mcom\u001b[0m\u001b[1;33m.\u001b[0m\u001b[0mapply_if_callable\u001b[0m\u001b[1;33m(\u001b[0m\u001b[0mx\u001b[0m\u001b[1;33m,\u001b[0m \u001b[0mself\u001b[0m\u001b[1;33m.\u001b[0m\u001b[0mobj\u001b[0m\u001b[1;33m)\u001b[0m \u001b[1;32mfor\u001b[0m \u001b[0mx\u001b[0m \u001b[1;32min\u001b[0m \u001b[0mkey\u001b[0m\u001b[1;33m)\u001b[0m\u001b[1;33m\u001b[0m\u001b[1;33m\u001b[0m\u001b[0m\n\u001b[0;32m   1065\u001b[0m             \u001b[1;32mif\u001b[0m \u001b[0mself\u001b[0m\u001b[1;33m.\u001b[0m\u001b[0m_is_scalar_access\u001b[0m\u001b[1;33m(\u001b[0m\u001b[0mkey\u001b[0m\u001b[1;33m)\u001b[0m\u001b[1;33m:\u001b[0m\u001b[1;33m\u001b[0m\u001b[1;33m\u001b[0m\u001b[0m\n\u001b[1;32m-> 1066\u001b[1;33m                 \u001b[1;32mreturn\u001b[0m \u001b[0mself\u001b[0m\u001b[1;33m.\u001b[0m\u001b[0mobj\u001b[0m\u001b[1;33m.\u001b[0m\u001b[0m_get_value\u001b[0m\u001b[1;33m(\u001b[0m\u001b[1;33m*\u001b[0m\u001b[0mkey\u001b[0m\u001b[1;33m,\u001b[0m \u001b[0mtakeable\u001b[0m\u001b[1;33m=\u001b[0m\u001b[0mself\u001b[0m\u001b[1;33m.\u001b[0m\u001b[0m_takeable\u001b[0m\u001b[1;33m)\u001b[0m\u001b[1;33m\u001b[0m\u001b[1;33m\u001b[0m\u001b[0m\n\u001b[0m\u001b[0;32m   1067\u001b[0m             \u001b[1;32mreturn\u001b[0m \u001b[0mself\u001b[0m\u001b[1;33m.\u001b[0m\u001b[0m_getitem_tuple\u001b[0m\u001b[1;33m(\u001b[0m\u001b[0mkey\u001b[0m\u001b[1;33m)\u001b[0m\u001b[1;33m\u001b[0m\u001b[1;33m\u001b[0m\u001b[0m\n\u001b[0;32m   1068\u001b[0m         \u001b[1;32melse\u001b[0m\u001b[1;33m:\u001b[0m\u001b[1;33m\u001b[0m\u001b[1;33m\u001b[0m\u001b[0m\n",
      "\u001b[1;32m~\\anaconda3\\lib\\site-packages\\pandas\\core\\frame.py\u001b[0m in \u001b[0;36m_get_value\u001b[1;34m(self, index, col, takeable)\u001b[0m\n\u001b[0;32m   3920\u001b[0m             \u001b[1;31m#  results if our categories are integers that dont match our codes\u001b[0m\u001b[1;33m\u001b[0m\u001b[1;33m\u001b[0m\u001b[0m\n\u001b[0;32m   3921\u001b[0m             \u001b[1;31m# IntervalIndex: IntervalTree has no get_loc\u001b[0m\u001b[1;33m\u001b[0m\u001b[1;33m\u001b[0m\u001b[0m\n\u001b[1;32m-> 3922\u001b[1;33m             \u001b[0mrow\u001b[0m \u001b[1;33m=\u001b[0m \u001b[0mself\u001b[0m\u001b[1;33m.\u001b[0m\u001b[0mindex\u001b[0m\u001b[1;33m.\u001b[0m\u001b[0mget_loc\u001b[0m\u001b[1;33m(\u001b[0m\u001b[0mindex\u001b[0m\u001b[1;33m)\u001b[0m\u001b[1;33m\u001b[0m\u001b[1;33m\u001b[0m\u001b[0m\n\u001b[0m\u001b[0;32m   3923\u001b[0m             \u001b[1;32mreturn\u001b[0m \u001b[0mseries\u001b[0m\u001b[1;33m.\u001b[0m\u001b[0m_values\u001b[0m\u001b[1;33m[\u001b[0m\u001b[0mrow\u001b[0m\u001b[1;33m]\u001b[0m\u001b[1;33m\u001b[0m\u001b[1;33m\u001b[0m\u001b[0m\n\u001b[0;32m   3924\u001b[0m \u001b[1;33m\u001b[0m\u001b[0m\n",
      "\u001b[1;32m~\\anaconda3\\lib\\site-packages\\pandas\\core\\indexes\\base.py\u001b[0m in \u001b[0;36mget_loc\u001b[1;34m(self, key, method, tolerance)\u001b[0m\n\u001b[0;32m   3803\u001b[0m                 \u001b[1;32mreturn\u001b[0m \u001b[0mself\u001b[0m\u001b[1;33m.\u001b[0m\u001b[0m_engine\u001b[0m\u001b[1;33m.\u001b[0m\u001b[0mget_loc\u001b[0m\u001b[1;33m(\u001b[0m\u001b[0mcasted_key\u001b[0m\u001b[1;33m)\u001b[0m\u001b[1;33m\u001b[0m\u001b[1;33m\u001b[0m\u001b[0m\n\u001b[0;32m   3804\u001b[0m             \u001b[1;32mexcept\u001b[0m \u001b[0mKeyError\u001b[0m \u001b[1;32mas\u001b[0m \u001b[0merr\u001b[0m\u001b[1;33m:\u001b[0m\u001b[1;33m\u001b[0m\u001b[1;33m\u001b[0m\u001b[0m\n\u001b[1;32m-> 3805\u001b[1;33m                 \u001b[1;32mraise\u001b[0m \u001b[0mKeyError\u001b[0m\u001b[1;33m(\u001b[0m\u001b[0mkey\u001b[0m\u001b[1;33m)\u001b[0m \u001b[1;32mfrom\u001b[0m \u001b[0merr\u001b[0m\u001b[1;33m\u001b[0m\u001b[1;33m\u001b[0m\u001b[0m\n\u001b[0m\u001b[0;32m   3806\u001b[0m             \u001b[1;32mexcept\u001b[0m \u001b[0mTypeError\u001b[0m\u001b[1;33m:\u001b[0m\u001b[1;33m\u001b[0m\u001b[1;33m\u001b[0m\u001b[0m\n\u001b[0;32m   3807\u001b[0m                 \u001b[1;31m# If we have a listlike key, _check_indexing_error will raise\u001b[0m\u001b[1;33m\u001b[0m\u001b[1;33m\u001b[0m\u001b[0m\n",
      "\u001b[1;31mKeyError\u001b[0m: 0"
     ]
    }
   ],
   "source": [
    "# 다음 코드는 오류를 발생시킵니다.\n",
    "data_df.loc[0,'Name']"
   ]
  },
  {
   "cell_type": "code",
   "execution_count": null,
   "id": "138636d2",
   "metadata": {},
   "outputs": [],
   "source": [
    "# loc[] 슬라이싱에서는 시작 값부터 종료 값까지 포함해서 의미\n",
    "\n",
    "print(\"위치 기반 iloc slicing\\n\", data_df.iloc[0:1,0],\"\\n\")\n",
    "print(\"명칭 기반 loc slicing\\n\", data_df.loc[\"one\":\"two\", \"Name\"])"
   ]
  },
  {
   "cell_type": "code",
   "execution_count": null,
   "id": "5ff42348",
   "metadata": {},
   "outputs": [],
   "source": [
    "# 불린 인덱싱 : []와 loc[]에서 지원\n",
    "\n",
    "titanic_df=pd.read_csv(r\"C:\\Users\\songs\\Downloads\\titanic_train.csv\")\n",
    "titanic_boolean=titanic_df[titanic_df['Age']>60]\n",
    "print(type(titanic_boolean))\n",
    "titanic_boolean"
   ]
  },
  {
   "cell_type": "code",
   "execution_count": null,
   "id": "414d6a71",
   "metadata": {},
   "outputs": [],
   "source": [
    "titanic_df[titanic_df['Age']>60][['Name','Age']].head(3)"
   ]
  },
  {
   "cell_type": "code",
   "execution_count": 71,
   "id": "779a6c8f",
   "metadata": {},
   "outputs": [
    {
     "data": {
      "text/html": [
       "<div>\n",
       "<style scoped>\n",
       "    .dataframe tbody tr th:only-of-type {\n",
       "        vertical-align: middle;\n",
       "    }\n",
       "\n",
       "    .dataframe tbody tr th {\n",
       "        vertical-align: top;\n",
       "    }\n",
       "\n",
       "    .dataframe thead th {\n",
       "        text-align: right;\n",
       "    }\n",
       "</style>\n",
       "<table border=\"1\" class=\"dataframe\">\n",
       "  <thead>\n",
       "    <tr style=\"text-align: right;\">\n",
       "      <th></th>\n",
       "      <th>Name</th>\n",
       "      <th>Age</th>\n",
       "    </tr>\n",
       "  </thead>\n",
       "  <tbody>\n",
       "    <tr>\n",
       "      <th>33</th>\n",
       "      <td>Wheadon, Mr...</td>\n",
       "      <td>66.0</td>\n",
       "    </tr>\n",
       "    <tr>\n",
       "      <th>54</th>\n",
       "      <td>Ostby, Mr. ...</td>\n",
       "      <td>65.0</td>\n",
       "    </tr>\n",
       "    <tr>\n",
       "      <th>96</th>\n",
       "      <td>Goldschmidt...</td>\n",
       "      <td>71.0</td>\n",
       "    </tr>\n",
       "  </tbody>\n",
       "</table>\n",
       "</div>"
      ],
      "text/plain": [
       "              Name   Age\n",
       "33  Wheadon, Mr...  66.0\n",
       "54  Ostby, Mr. ...  65.0\n",
       "96  Goldschmidt...  71.0"
      ]
     },
     "execution_count": 71,
     "metadata": {},
     "output_type": "execute_result"
    }
   ],
   "source": [
    "# loc[]에서는 칼럼명을 칼럼 위치에 둔다.\n",
    "titanic_df.loc[titanic_df['Age']>60, ['Name','Age']].head(3)"
   ]
  },
  {
   "cell_type": "code",
   "execution_count": 72,
   "id": "1899cdc1",
   "metadata": {},
   "outputs": [
    {
     "data": {
      "text/html": [
       "<div>\n",
       "<style scoped>\n",
       "    .dataframe tbody tr th:only-of-type {\n",
       "        vertical-align: middle;\n",
       "    }\n",
       "\n",
       "    .dataframe tbody tr th {\n",
       "        vertical-align: top;\n",
       "    }\n",
       "\n",
       "    .dataframe thead th {\n",
       "        text-align: right;\n",
       "    }\n",
       "</style>\n",
       "<table border=\"1\" class=\"dataframe\">\n",
       "  <thead>\n",
       "    <tr style=\"text-align: right;\">\n",
       "      <th></th>\n",
       "      <th>PassengerId</th>\n",
       "      <th>Survived</th>\n",
       "      <th>Pclass</th>\n",
       "      <th>Name</th>\n",
       "      <th>Sex</th>\n",
       "      <th>Age</th>\n",
       "      <th>SibSp</th>\n",
       "      <th>Parch</th>\n",
       "      <th>Ticket</th>\n",
       "      <th>Fare</th>\n",
       "      <th>Cabin</th>\n",
       "      <th>Embarked</th>\n",
       "    </tr>\n",
       "  </thead>\n",
       "  <tbody>\n",
       "    <tr>\n",
       "      <th>275</th>\n",
       "      <td>276</td>\n",
       "      <td>1</td>\n",
       "      <td>1</td>\n",
       "      <td>Andrews, Mi...</td>\n",
       "      <td>female</td>\n",
       "      <td>63.0</td>\n",
       "      <td>1</td>\n",
       "      <td>0</td>\n",
       "      <td>13502</td>\n",
       "      <td>77.9583</td>\n",
       "      <td>D7</td>\n",
       "      <td>S</td>\n",
       "    </tr>\n",
       "    <tr>\n",
       "      <th>829</th>\n",
       "      <td>830</td>\n",
       "      <td>1</td>\n",
       "      <td>1</td>\n",
       "      <td>Stone, Mrs....</td>\n",
       "      <td>female</td>\n",
       "      <td>62.0</td>\n",
       "      <td>0</td>\n",
       "      <td>0</td>\n",
       "      <td>113572</td>\n",
       "      <td>80.0000</td>\n",
       "      <td>B28</td>\n",
       "      <td>NaN</td>\n",
       "    </tr>\n",
       "  </tbody>\n",
       "</table>\n",
       "</div>"
      ],
      "text/plain": [
       "     PassengerId  Survived  Pclass            Name     Sex   Age  SibSp  Parch  Ticket     Fare Cabin Embarked\n",
       "275          276         1       1  Andrews, Mi...  female  63.0      1      0   13502  77.9583    D7        S\n",
       "829          830         1       1  Stone, Mrs....  female  62.0      0      0  113572  80.0000   B28      NaN"
      ]
     },
     "execution_count": 72,
     "metadata": {},
     "output_type": "execute_result"
    }
   ],
   "source": [
    "#복합 조건에서 인덱싱\n",
    "\n",
    "titanic_df[(titanic_df['Age']>60) &(titanic_df['Pclass']==1) & (titanic_df['Sex']=='female')]"
   ]
  },
  {
   "cell_type": "code",
   "execution_count": 73,
   "id": "64e6b45b",
   "metadata": {},
   "outputs": [
    {
     "data": {
      "text/html": [
       "<div>\n",
       "<style scoped>\n",
       "    .dataframe tbody tr th:only-of-type {\n",
       "        vertical-align: middle;\n",
       "    }\n",
       "\n",
       "    .dataframe tbody tr th {\n",
       "        vertical-align: top;\n",
       "    }\n",
       "\n",
       "    .dataframe thead th {\n",
       "        text-align: right;\n",
       "    }\n",
       "</style>\n",
       "<table border=\"1\" class=\"dataframe\">\n",
       "  <thead>\n",
       "    <tr style=\"text-align: right;\">\n",
       "      <th></th>\n",
       "      <th>PassengerId</th>\n",
       "      <th>Survived</th>\n",
       "      <th>Pclass</th>\n",
       "      <th>Name</th>\n",
       "      <th>Sex</th>\n",
       "      <th>Age</th>\n",
       "      <th>SibSp</th>\n",
       "      <th>Parch</th>\n",
       "      <th>Ticket</th>\n",
       "      <th>Fare</th>\n",
       "      <th>Cabin</th>\n",
       "      <th>Embarked</th>\n",
       "    </tr>\n",
       "  </thead>\n",
       "  <tbody>\n",
       "    <tr>\n",
       "      <th>275</th>\n",
       "      <td>276</td>\n",
       "      <td>1</td>\n",
       "      <td>1</td>\n",
       "      <td>Andrews, Mi...</td>\n",
       "      <td>female</td>\n",
       "      <td>63.0</td>\n",
       "      <td>1</td>\n",
       "      <td>0</td>\n",
       "      <td>13502</td>\n",
       "      <td>77.9583</td>\n",
       "      <td>D7</td>\n",
       "      <td>S</td>\n",
       "    </tr>\n",
       "    <tr>\n",
       "      <th>829</th>\n",
       "      <td>830</td>\n",
       "      <td>1</td>\n",
       "      <td>1</td>\n",
       "      <td>Stone, Mrs....</td>\n",
       "      <td>female</td>\n",
       "      <td>62.0</td>\n",
       "      <td>0</td>\n",
       "      <td>0</td>\n",
       "      <td>113572</td>\n",
       "      <td>80.0000</td>\n",
       "      <td>B28</td>\n",
       "      <td>NaN</td>\n",
       "    </tr>\n",
       "  </tbody>\n",
       "</table>\n",
       "</div>"
      ],
      "text/plain": [
       "     PassengerId  Survived  Pclass            Name     Sex   Age  SibSp  Parch  Ticket     Fare Cabin Embarked\n",
       "275          276         1       1  Andrews, Mi...  female  63.0      1      0   13502  77.9583    D7        S\n",
       "829          830         1       1  Stone, Mrs....  female  62.0      0      0  113572  80.0000   B28      NaN"
      ]
     },
     "execution_count": 73,
     "metadata": {},
     "output_type": "execute_result"
    }
   ],
   "source": [
    "cond1=titanic_df['Age']>60\n",
    "cond2=titanic_df['Pclass']==1\n",
    "cond3=titanic_df['Sex']=='female'\n",
    "\n",
    "titanic_df[cond1&cond2&cond3]"
   ]
  },
  {
   "cell_type": "markdown",
   "id": "7b903b30",
   "metadata": {},
   "source": [
    "# 행렬, Aggregation 함수, Groupby 적용"
   ]
  },
  {
   "cell_type": "code",
   "execution_count": 74,
   "id": "299b25cb",
   "metadata": {},
   "outputs": [
    {
     "data": {
      "text/html": [
       "<div>\n",
       "<style scoped>\n",
       "    .dataframe tbody tr th:only-of-type {\n",
       "        vertical-align: middle;\n",
       "    }\n",
       "\n",
       "    .dataframe tbody tr th {\n",
       "        vertical-align: top;\n",
       "    }\n",
       "\n",
       "    .dataframe thead th {\n",
       "        text-align: right;\n",
       "    }\n",
       "</style>\n",
       "<table border=\"1\" class=\"dataframe\">\n",
       "  <thead>\n",
       "    <tr style=\"text-align: right;\">\n",
       "      <th></th>\n",
       "      <th>PassengerId</th>\n",
       "      <th>Survived</th>\n",
       "      <th>Pclass</th>\n",
       "      <th>Name</th>\n",
       "      <th>Sex</th>\n",
       "      <th>Age</th>\n",
       "      <th>SibSp</th>\n",
       "      <th>Parch</th>\n",
       "      <th>Ticket</th>\n",
       "      <th>Fare</th>\n",
       "      <th>Cabin</th>\n",
       "      <th>Embarked</th>\n",
       "    </tr>\n",
       "  </thead>\n",
       "  <tbody>\n",
       "    <tr>\n",
       "      <th>845</th>\n",
       "      <td>846</td>\n",
       "      <td>0</td>\n",
       "      <td>3</td>\n",
       "      <td>Abbing, Mr....</td>\n",
       "      <td>male</td>\n",
       "      <td>42.0</td>\n",
       "      <td>0</td>\n",
       "      <td>0</td>\n",
       "      <td>C.A. 5547</td>\n",
       "      <td>7.55</td>\n",
       "      <td>NaN</td>\n",
       "      <td>S</td>\n",
       "    </tr>\n",
       "    <tr>\n",
       "      <th>746</th>\n",
       "      <td>747</td>\n",
       "      <td>0</td>\n",
       "      <td>3</td>\n",
       "      <td>Abbott, Mr....</td>\n",
       "      <td>male</td>\n",
       "      <td>16.0</td>\n",
       "      <td>1</td>\n",
       "      <td>1</td>\n",
       "      <td>C.A. 2673</td>\n",
       "      <td>20.25</td>\n",
       "      <td>NaN</td>\n",
       "      <td>S</td>\n",
       "    </tr>\n",
       "    <tr>\n",
       "      <th>279</th>\n",
       "      <td>280</td>\n",
       "      <td>1</td>\n",
       "      <td>3</td>\n",
       "      <td>Abbott, Mrs...</td>\n",
       "      <td>female</td>\n",
       "      <td>35.0</td>\n",
       "      <td>1</td>\n",
       "      <td>1</td>\n",
       "      <td>C.A. 2673</td>\n",
       "      <td>20.25</td>\n",
       "      <td>NaN</td>\n",
       "      <td>S</td>\n",
       "    </tr>\n",
       "  </tbody>\n",
       "</table>\n",
       "</div>"
      ],
      "text/plain": [
       "     PassengerId  Survived  Pclass            Name     Sex   Age  SibSp  Parch     Ticket   Fare Cabin Embarked\n",
       "845          846         0       3  Abbing, Mr....    male  42.0      0      0  C.A. 5547   7.55   NaN        S\n",
       "746          747         0       3  Abbott, Mr....    male  16.0      1      1  C.A. 2673  20.25   NaN        S\n",
       "279          280         1       3  Abbott, Mrs...  female  35.0      1      1  C.A. 2673  20.25   NaN        S"
      ]
     },
     "execution_count": 74,
     "metadata": {},
     "output_type": "execute_result"
    }
   ],
   "source": [
    "# DataFrame, Series의 정렬 - sort_values()\n",
    "titanic_sorted=titanic_df.sort_values(by=['Name'])\n",
    "titanic_sorted.head(3)"
   ]
  },
  {
   "cell_type": "code",
   "execution_count": 75,
   "id": "a4a689a4",
   "metadata": {},
   "outputs": [
    {
     "data": {
      "text/html": [
       "<div>\n",
       "<style scoped>\n",
       "    .dataframe tbody tr th:only-of-type {\n",
       "        vertical-align: middle;\n",
       "    }\n",
       "\n",
       "    .dataframe tbody tr th {\n",
       "        vertical-align: top;\n",
       "    }\n",
       "\n",
       "    .dataframe thead th {\n",
       "        text-align: right;\n",
       "    }\n",
       "</style>\n",
       "<table border=\"1\" class=\"dataframe\">\n",
       "  <thead>\n",
       "    <tr style=\"text-align: right;\">\n",
       "      <th></th>\n",
       "      <th>PassengerId</th>\n",
       "      <th>Survived</th>\n",
       "      <th>Pclass</th>\n",
       "      <th>Name</th>\n",
       "      <th>Sex</th>\n",
       "      <th>Age</th>\n",
       "      <th>SibSp</th>\n",
       "      <th>Parch</th>\n",
       "      <th>Ticket</th>\n",
       "      <th>Fare</th>\n",
       "      <th>Cabin</th>\n",
       "      <th>Embarked</th>\n",
       "    </tr>\n",
       "  </thead>\n",
       "  <tbody>\n",
       "    <tr>\n",
       "      <th>868</th>\n",
       "      <td>869</td>\n",
       "      <td>0</td>\n",
       "      <td>3</td>\n",
       "      <td>van Melkebe...</td>\n",
       "      <td>male</td>\n",
       "      <td>NaN</td>\n",
       "      <td>0</td>\n",
       "      <td>0</td>\n",
       "      <td>345777</td>\n",
       "      <td>9.5000</td>\n",
       "      <td>NaN</td>\n",
       "      <td>S</td>\n",
       "    </tr>\n",
       "    <tr>\n",
       "      <th>153</th>\n",
       "      <td>154</td>\n",
       "      <td>0</td>\n",
       "      <td>3</td>\n",
       "      <td>van Billiar...</td>\n",
       "      <td>male</td>\n",
       "      <td>40.50</td>\n",
       "      <td>0</td>\n",
       "      <td>2</td>\n",
       "      <td>A/5. 851</td>\n",
       "      <td>14.5000</td>\n",
       "      <td>NaN</td>\n",
       "      <td>S</td>\n",
       "    </tr>\n",
       "    <tr>\n",
       "      <th>282</th>\n",
       "      <td>283</td>\n",
       "      <td>0</td>\n",
       "      <td>3</td>\n",
       "      <td>de Pelsmaek...</td>\n",
       "      <td>male</td>\n",
       "      <td>16.00</td>\n",
       "      <td>0</td>\n",
       "      <td>0</td>\n",
       "      <td>345778</td>\n",
       "      <td>9.5000</td>\n",
       "      <td>NaN</td>\n",
       "      <td>S</td>\n",
       "    </tr>\n",
       "    <tr>\n",
       "      <th>286</th>\n",
       "      <td>287</td>\n",
       "      <td>1</td>\n",
       "      <td>3</td>\n",
       "      <td>de Mulder, ...</td>\n",
       "      <td>male</td>\n",
       "      <td>30.00</td>\n",
       "      <td>0</td>\n",
       "      <td>0</td>\n",
       "      <td>345774</td>\n",
       "      <td>9.5000</td>\n",
       "      <td>NaN</td>\n",
       "      <td>S</td>\n",
       "    </tr>\n",
       "    <tr>\n",
       "      <th>559</th>\n",
       "      <td>560</td>\n",
       "      <td>1</td>\n",
       "      <td>3</td>\n",
       "      <td>de Messemae...</td>\n",
       "      <td>female</td>\n",
       "      <td>36.00</td>\n",
       "      <td>1</td>\n",
       "      <td>0</td>\n",
       "      <td>345572</td>\n",
       "      <td>17.4000</td>\n",
       "      <td>NaN</td>\n",
       "      <td>S</td>\n",
       "    </tr>\n",
       "    <tr>\n",
       "      <th>...</th>\n",
       "      <td>...</td>\n",
       "      <td>...</td>\n",
       "      <td>...</td>\n",
       "      <td>...</td>\n",
       "      <td>...</td>\n",
       "      <td>...</td>\n",
       "      <td>...</td>\n",
       "      <td>...</td>\n",
       "      <td>...</td>\n",
       "      <td>...</td>\n",
       "      <td>...</td>\n",
       "      <td>...</td>\n",
       "    </tr>\n",
       "    <tr>\n",
       "      <th>460</th>\n",
       "      <td>461</td>\n",
       "      <td>1</td>\n",
       "      <td>1</td>\n",
       "      <td>Anderson, M...</td>\n",
       "      <td>male</td>\n",
       "      <td>48.00</td>\n",
       "      <td>0</td>\n",
       "      <td>0</td>\n",
       "      <td>19952</td>\n",
       "      <td>26.5500</td>\n",
       "      <td>E12</td>\n",
       "      <td>S</td>\n",
       "    </tr>\n",
       "    <tr>\n",
       "      <th>498</th>\n",
       "      <td>499</td>\n",
       "      <td>0</td>\n",
       "      <td>1</td>\n",
       "      <td>Allison, Mr...</td>\n",
       "      <td>female</td>\n",
       "      <td>25.00</td>\n",
       "      <td>1</td>\n",
       "      <td>2</td>\n",
       "      <td>113781</td>\n",
       "      <td>151.5500</td>\n",
       "      <td>C22 C26</td>\n",
       "      <td>S</td>\n",
       "    </tr>\n",
       "    <tr>\n",
       "      <th>297</th>\n",
       "      <td>298</td>\n",
       "      <td>0</td>\n",
       "      <td>1</td>\n",
       "      <td>Allison, Mi...</td>\n",
       "      <td>female</td>\n",
       "      <td>2.00</td>\n",
       "      <td>1</td>\n",
       "      <td>2</td>\n",
       "      <td>113781</td>\n",
       "      <td>151.5500</td>\n",
       "      <td>C22 C26</td>\n",
       "      <td>S</td>\n",
       "    </tr>\n",
       "    <tr>\n",
       "      <th>305</th>\n",
       "      <td>306</td>\n",
       "      <td>1</td>\n",
       "      <td>1</td>\n",
       "      <td>Allison, Ma...</td>\n",
       "      <td>male</td>\n",
       "      <td>0.92</td>\n",
       "      <td>1</td>\n",
       "      <td>2</td>\n",
       "      <td>113781</td>\n",
       "      <td>151.5500</td>\n",
       "      <td>C22 C26</td>\n",
       "      <td>S</td>\n",
       "    </tr>\n",
       "    <tr>\n",
       "      <th>730</th>\n",
       "      <td>731</td>\n",
       "      <td>1</td>\n",
       "      <td>1</td>\n",
       "      <td>Allen, Miss...</td>\n",
       "      <td>female</td>\n",
       "      <td>29.00</td>\n",
       "      <td>0</td>\n",
       "      <td>0</td>\n",
       "      <td>24160</td>\n",
       "      <td>211.3375</td>\n",
       "      <td>B5</td>\n",
       "      <td>S</td>\n",
       "    </tr>\n",
       "  </tbody>\n",
       "</table>\n",
       "<p>891 rows × 12 columns</p>\n",
       "</div>"
      ],
      "text/plain": [
       "     PassengerId  Survived  Pclass            Name     Sex    Age  SibSp  Parch    Ticket      Fare    Cabin Embarked\n",
       "868          869         0       3  van Melkebe...    male    NaN      0      0    345777    9.5000      NaN        S\n",
       "153          154         0       3  van Billiar...    male  40.50      0      2  A/5. 851   14.5000      NaN        S\n",
       "282          283         0       3  de Pelsmaek...    male  16.00      0      0    345778    9.5000      NaN        S\n",
       "286          287         1       3  de Mulder, ...    male  30.00      0      0    345774    9.5000      NaN        S\n",
       "559          560         1       3  de Messemae...  female  36.00      1      0    345572   17.4000      NaN        S\n",
       "..           ...       ...     ...             ...     ...    ...    ...    ...       ...       ...      ...      ...\n",
       "460          461         1       1  Anderson, M...    male  48.00      0      0     19952   26.5500      E12        S\n",
       "498          499         0       1  Allison, Mr...  female  25.00      1      2    113781  151.5500  C22 C26        S\n",
       "297          298         0       1  Allison, Mi...  female   2.00      1      2    113781  151.5500  C22 C26        S\n",
       "305          306         1       1  Allison, Ma...    male   0.92      1      2    113781  151.5500  C22 C26        S\n",
       "730          731         1       1  Allen, Miss...  female  29.00      0      0     24160  211.3375       B5        S\n",
       "\n",
       "[891 rows x 12 columns]"
      ]
     },
     "execution_count": 75,
     "metadata": {},
     "output_type": "execute_result"
    }
   ],
   "source": [
    "titanic_sorted=titanic_df.sort_values(by=['Pclass','Name'], ascending=False)\n",
    "titanic_sorted"
   ]
  },
  {
   "cell_type": "code",
   "execution_count": 76,
   "id": "10954409",
   "metadata": {},
   "outputs": [
    {
     "data": {
      "text/plain": [
       "PassengerId    891\n",
       "Survived       891\n",
       "Pclass         891\n",
       "Name           891\n",
       "Sex            891\n",
       "Age            714\n",
       "SibSp          891\n",
       "Parch          891\n",
       "Ticket         891\n",
       "Fare           891\n",
       "Cabin          204\n",
       "Embarked       889\n",
       "dtype: int64"
      ]
     },
     "execution_count": 76,
     "metadata": {},
     "output_type": "execute_result"
    }
   ],
   "source": [
    "# Aggregation 함수 적용\n",
    "\n",
    "#titanic_df의 모든 칼럼에 count() 결과 반환\n",
    "titanic_df.count()"
   ]
  },
  {
   "cell_type": "code",
   "execution_count": 77,
   "id": "ef1c2d0c",
   "metadata": {},
   "outputs": [
    {
     "data": {
      "text/plain": [
       "Age     29.699118\n",
       "Fare    32.204208\n",
       "dtype: float64"
      ]
     },
     "execution_count": 77,
     "metadata": {},
     "output_type": "execute_result"
    }
   ],
   "source": [
    "# 특정 칼럼만 추출해 aggregation\n",
    "titanic_df[['Age','Fare']].mean()"
   ]
  },
  {
   "cell_type": "code",
   "execution_count": 78,
   "id": "6fa2568c",
   "metadata": {},
   "outputs": [
    {
     "name": "stdout",
     "output_type": "stream",
     "text": [
      "<class 'pandas.core.groupby.generic.DataFrameGroupBy'>\n"
     ]
    }
   ],
   "source": [
    "# groupby() 적용\n",
    "\n",
    "titanic_groupby=titanic_df.groupby(by='Pclass')\n",
    "print(type(titanic_groupby))"
   ]
  },
  {
   "cell_type": "code",
   "execution_count": 79,
   "id": "f1e1ab9b",
   "metadata": {},
   "outputs": [
    {
     "data": {
      "text/html": [
       "<div>\n",
       "<style scoped>\n",
       "    .dataframe tbody tr th:only-of-type {\n",
       "        vertical-align: middle;\n",
       "    }\n",
       "\n",
       "    .dataframe tbody tr th {\n",
       "        vertical-align: top;\n",
       "    }\n",
       "\n",
       "    .dataframe thead th {\n",
       "        text-align: right;\n",
       "    }\n",
       "</style>\n",
       "<table border=\"1\" class=\"dataframe\">\n",
       "  <thead>\n",
       "    <tr style=\"text-align: right;\">\n",
       "      <th></th>\n",
       "      <th>PassengerId</th>\n",
       "      <th>Survived</th>\n",
       "      <th>Name</th>\n",
       "      <th>Sex</th>\n",
       "      <th>Age</th>\n",
       "      <th>SibSp</th>\n",
       "      <th>Parch</th>\n",
       "      <th>Ticket</th>\n",
       "      <th>Fare</th>\n",
       "      <th>Cabin</th>\n",
       "      <th>Embarked</th>\n",
       "    </tr>\n",
       "    <tr>\n",
       "      <th>Pclass</th>\n",
       "      <th></th>\n",
       "      <th></th>\n",
       "      <th></th>\n",
       "      <th></th>\n",
       "      <th></th>\n",
       "      <th></th>\n",
       "      <th></th>\n",
       "      <th></th>\n",
       "      <th></th>\n",
       "      <th></th>\n",
       "      <th></th>\n",
       "    </tr>\n",
       "  </thead>\n",
       "  <tbody>\n",
       "    <tr>\n",
       "      <th>1</th>\n",
       "      <td>216</td>\n",
       "      <td>216</td>\n",
       "      <td>216</td>\n",
       "      <td>216</td>\n",
       "      <td>186</td>\n",
       "      <td>216</td>\n",
       "      <td>216</td>\n",
       "      <td>216</td>\n",
       "      <td>216</td>\n",
       "      <td>176</td>\n",
       "      <td>214</td>\n",
       "    </tr>\n",
       "    <tr>\n",
       "      <th>2</th>\n",
       "      <td>184</td>\n",
       "      <td>184</td>\n",
       "      <td>184</td>\n",
       "      <td>184</td>\n",
       "      <td>173</td>\n",
       "      <td>184</td>\n",
       "      <td>184</td>\n",
       "      <td>184</td>\n",
       "      <td>184</td>\n",
       "      <td>16</td>\n",
       "      <td>184</td>\n",
       "    </tr>\n",
       "    <tr>\n",
       "      <th>3</th>\n",
       "      <td>491</td>\n",
       "      <td>491</td>\n",
       "      <td>491</td>\n",
       "      <td>491</td>\n",
       "      <td>355</td>\n",
       "      <td>491</td>\n",
       "      <td>491</td>\n",
       "      <td>491</td>\n",
       "      <td>491</td>\n",
       "      <td>12</td>\n",
       "      <td>491</td>\n",
       "    </tr>\n",
       "  </tbody>\n",
       "</table>\n",
       "</div>"
      ],
      "text/plain": [
       "        PassengerId  Survived  Name  Sex  Age  SibSp  Parch  Ticket  Fare  Cabin  Embarked\n",
       "Pclass                                                                                    \n",
       "1               216       216   216  216  186    216    216     216   216    176       214\n",
       "2               184       184   184  184  173    184    184     184   184     16       184\n",
       "3               491       491   491  491  355    491    491     491   491     12       491"
      ]
     },
     "execution_count": 79,
     "metadata": {},
     "output_type": "execute_result"
    }
   ],
   "source": [
    "# groupby()를 호출해 반환된 결과에 aggregation 함수 호출 -> groupby() 대상 칼럼을 제외한 칼럼에 aggregation 함수 적용\n",
    "\n",
    "titanic_groupby=titanic_df.groupby('Pclass').count()\n",
    "titanic_groupby"
   ]
  },
  {
   "cell_type": "code",
   "execution_count": 80,
   "id": "b2d09626",
   "metadata": {},
   "outputs": [
    {
     "data": {
      "text/html": [
       "<div>\n",
       "<style scoped>\n",
       "    .dataframe tbody tr th:only-of-type {\n",
       "        vertical-align: middle;\n",
       "    }\n",
       "\n",
       "    .dataframe tbody tr th {\n",
       "        vertical-align: top;\n",
       "    }\n",
       "\n",
       "    .dataframe thead th {\n",
       "        text-align: right;\n",
       "    }\n",
       "</style>\n",
       "<table border=\"1\" class=\"dataframe\">\n",
       "  <thead>\n",
       "    <tr style=\"text-align: right;\">\n",
       "      <th></th>\n",
       "      <th>PassengerId</th>\n",
       "      <th>Survived</th>\n",
       "    </tr>\n",
       "    <tr>\n",
       "      <th>Pclass</th>\n",
       "      <th></th>\n",
       "      <th></th>\n",
       "    </tr>\n",
       "  </thead>\n",
       "  <tbody>\n",
       "    <tr>\n",
       "      <th>1</th>\n",
       "      <td>216</td>\n",
       "      <td>216</td>\n",
       "    </tr>\n",
       "    <tr>\n",
       "      <th>2</th>\n",
       "      <td>184</td>\n",
       "      <td>184</td>\n",
       "    </tr>\n",
       "    <tr>\n",
       "      <th>3</th>\n",
       "      <td>491</td>\n",
       "      <td>491</td>\n",
       "    </tr>\n",
       "  </tbody>\n",
       "</table>\n",
       "</div>"
      ],
      "text/plain": [
       "        PassengerId  Survived\n",
       "Pclass                       \n",
       "1               216       216\n",
       "2               184       184\n",
       "3               491       491"
      ]
     },
     "execution_count": 80,
     "metadata": {},
     "output_type": "execute_result"
    }
   ],
   "source": [
    "# 특정 칼럼을 aggregation 하려면 groupby()로 변환된 객체에 해당 칼럼을 필터링한 뒤 aggregation 함수 적용\n",
    "\n",
    "titanic_groupby=titanic_df.groupby('Pclass')[['PassengerId','Survived']].count()\n",
    "titanic_groupby"
   ]
  },
  {
   "cell_type": "code",
   "execution_count": 81,
   "id": "3dd22441",
   "metadata": {},
   "outputs": [
    {
     "data": {
      "text/html": [
       "<div>\n",
       "<style scoped>\n",
       "    .dataframe tbody tr th:only-of-type {\n",
       "        vertical-align: middle;\n",
       "    }\n",
       "\n",
       "    .dataframe tbody tr th {\n",
       "        vertical-align: top;\n",
       "    }\n",
       "\n",
       "    .dataframe thead th {\n",
       "        text-align: right;\n",
       "    }\n",
       "</style>\n",
       "<table border=\"1\" class=\"dataframe\">\n",
       "  <thead>\n",
       "    <tr style=\"text-align: right;\">\n",
       "      <th></th>\n",
       "      <th>max</th>\n",
       "      <th>min</th>\n",
       "    </tr>\n",
       "    <tr>\n",
       "      <th>Pclass</th>\n",
       "      <th></th>\n",
       "      <th></th>\n",
       "    </tr>\n",
       "  </thead>\n",
       "  <tbody>\n",
       "    <tr>\n",
       "      <th>1</th>\n",
       "      <td>80.0</td>\n",
       "      <td>0.92</td>\n",
       "    </tr>\n",
       "    <tr>\n",
       "      <th>2</th>\n",
       "      <td>70.0</td>\n",
       "      <td>0.67</td>\n",
       "    </tr>\n",
       "    <tr>\n",
       "      <th>3</th>\n",
       "      <td>74.0</td>\n",
       "      <td>0.42</td>\n",
       "    </tr>\n",
       "  </tbody>\n",
       "</table>\n",
       "</div>"
      ],
      "text/plain": [
       "         max   min\n",
       "Pclass            \n",
       "1       80.0  0.92\n",
       "2       70.0  0.67\n",
       "3       74.0  0.42"
      ]
     },
     "execution_count": 81,
     "metadata": {},
     "output_type": "execute_result"
    }
   ],
   "source": [
    "#여러 개의 aggregation 함수명을 agg() 내에 인자로 입력하여 사용\n",
    "\n",
    "titanic_df.groupby('Pclass')['Age'].agg([max,min])"
   ]
  },
  {
   "cell_type": "code",
   "execution_count": 82,
   "id": "d0d1dd2f",
   "metadata": {},
   "outputs": [
    {
     "data": {
      "text/html": [
       "<div>\n",
       "<style scoped>\n",
       "    .dataframe tbody tr th:only-of-type {\n",
       "        vertical-align: middle;\n",
       "    }\n",
       "\n",
       "    .dataframe tbody tr th {\n",
       "        vertical-align: top;\n",
       "    }\n",
       "\n",
       "    .dataframe thead th {\n",
       "        text-align: right;\n",
       "    }\n",
       "</style>\n",
       "<table border=\"1\" class=\"dataframe\">\n",
       "  <thead>\n",
       "    <tr style=\"text-align: right;\">\n",
       "      <th></th>\n",
       "      <th>Age</th>\n",
       "      <th>SibSp</th>\n",
       "      <th>Fare</th>\n",
       "    </tr>\n",
       "    <tr>\n",
       "      <th>Pclass</th>\n",
       "      <th></th>\n",
       "      <th></th>\n",
       "      <th></th>\n",
       "    </tr>\n",
       "  </thead>\n",
       "  <tbody>\n",
       "    <tr>\n",
       "      <th>1</th>\n",
       "      <td>80.0</td>\n",
       "      <td>90</td>\n",
       "      <td>84.154687</td>\n",
       "    </tr>\n",
       "    <tr>\n",
       "      <th>2</th>\n",
       "      <td>70.0</td>\n",
       "      <td>74</td>\n",
       "      <td>20.662183</td>\n",
       "    </tr>\n",
       "    <tr>\n",
       "      <th>3</th>\n",
       "      <td>74.0</td>\n",
       "      <td>302</td>\n",
       "      <td>13.675550</td>\n",
       "    </tr>\n",
       "  </tbody>\n",
       "</table>\n",
       "</div>"
      ],
      "text/plain": [
       "         Age  SibSp       Fare\n",
       "Pclass                        \n",
       "1       80.0     90  84.154687\n",
       "2       70.0     74  20.662183\n",
       "3       74.0    302  13.675550"
      ]
     },
     "execution_count": 82,
     "metadata": {},
     "output_type": "execute_result"
    }
   ],
   "source": [
    "# 여러 개의 칼럼이 서로 다른 aggregation을 수행해야 하는 경우\n",
    "\n",
    "agg_format={'Age':'max', 'SibSp' :'sum', 'Fare':'mean'}\n",
    "titanic_df.groupby('Pclass').agg(agg_format)"
   ]
  },
  {
   "cell_type": "markdown",
   "id": "019665b2",
   "metadata": {},
   "source": [
    "# 결손 데이터 처리하기"
   ]
  },
  {
   "cell_type": "code",
   "execution_count": 83,
   "id": "f96a18e1",
   "metadata": {},
   "outputs": [
    {
     "data": {
      "text/html": [
       "<div>\n",
       "<style scoped>\n",
       "    .dataframe tbody tr th:only-of-type {\n",
       "        vertical-align: middle;\n",
       "    }\n",
       "\n",
       "    .dataframe tbody tr th {\n",
       "        vertical-align: top;\n",
       "    }\n",
       "\n",
       "    .dataframe thead th {\n",
       "        text-align: right;\n",
       "    }\n",
       "</style>\n",
       "<table border=\"1\" class=\"dataframe\">\n",
       "  <thead>\n",
       "    <tr style=\"text-align: right;\">\n",
       "      <th></th>\n",
       "      <th>PassengerId</th>\n",
       "      <th>Survived</th>\n",
       "      <th>Pclass</th>\n",
       "      <th>Name</th>\n",
       "      <th>Sex</th>\n",
       "      <th>Age</th>\n",
       "      <th>SibSp</th>\n",
       "      <th>Parch</th>\n",
       "      <th>Ticket</th>\n",
       "      <th>Fare</th>\n",
       "      <th>Cabin</th>\n",
       "      <th>Embarked</th>\n",
       "    </tr>\n",
       "  </thead>\n",
       "  <tbody>\n",
       "    <tr>\n",
       "      <th>0</th>\n",
       "      <td>False</td>\n",
       "      <td>False</td>\n",
       "      <td>False</td>\n",
       "      <td>False</td>\n",
       "      <td>False</td>\n",
       "      <td>False</td>\n",
       "      <td>False</td>\n",
       "      <td>False</td>\n",
       "      <td>False</td>\n",
       "      <td>False</td>\n",
       "      <td>True</td>\n",
       "      <td>False</td>\n",
       "    </tr>\n",
       "    <tr>\n",
       "      <th>1</th>\n",
       "      <td>False</td>\n",
       "      <td>False</td>\n",
       "      <td>False</td>\n",
       "      <td>False</td>\n",
       "      <td>False</td>\n",
       "      <td>False</td>\n",
       "      <td>False</td>\n",
       "      <td>False</td>\n",
       "      <td>False</td>\n",
       "      <td>False</td>\n",
       "      <td>False</td>\n",
       "      <td>False</td>\n",
       "    </tr>\n",
       "    <tr>\n",
       "      <th>2</th>\n",
       "      <td>False</td>\n",
       "      <td>False</td>\n",
       "      <td>False</td>\n",
       "      <td>False</td>\n",
       "      <td>False</td>\n",
       "      <td>False</td>\n",
       "      <td>False</td>\n",
       "      <td>False</td>\n",
       "      <td>False</td>\n",
       "      <td>False</td>\n",
       "      <td>True</td>\n",
       "      <td>False</td>\n",
       "    </tr>\n",
       "  </tbody>\n",
       "</table>\n",
       "</div>"
      ],
      "text/plain": [
       "   PassengerId  Survived  Pclass   Name    Sex    Age  SibSp  Parch  Ticket   Fare  Cabin  Embarked\n",
       "0        False     False   False  False  False  False  False  False   False  False   True     False\n",
       "1        False     False   False  False  False  False  False  False   False  False  False     False\n",
       "2        False     False   False  False  False  False  False  False   False  False   True     False"
      ]
     },
     "execution_count": 83,
     "metadata": {},
     "output_type": "execute_result"
    }
   ],
   "source": [
    "# isna()로 결손 데이터 여부 확인\n",
    "titanic_df.isna().head(3)"
   ]
  },
  {
   "cell_type": "code",
   "execution_count": 84,
   "id": "7a7f9597",
   "metadata": {},
   "outputs": [
    {
     "data": {
      "text/plain": [
       "PassengerId      0\n",
       "Survived         0\n",
       "Pclass           0\n",
       "Name             0\n",
       "Sex              0\n",
       "Age            177\n",
       "SibSp            0\n",
       "Parch            0\n",
       "Ticket           0\n",
       "Fare             0\n",
       "Cabin          687\n",
       "Embarked         2\n",
       "dtype: int64"
      ]
     },
     "execution_count": 84,
     "metadata": {},
     "output_type": "execute_result"
    }
   ],
   "source": [
    "titanic_df.isna().sum()"
   ]
  },
  {
   "cell_type": "code",
   "execution_count": 85,
   "id": "e52cf5b6",
   "metadata": {},
   "outputs": [
    {
     "data": {
      "text/html": [
       "<div>\n",
       "<style scoped>\n",
       "    .dataframe tbody tr th:only-of-type {\n",
       "        vertical-align: middle;\n",
       "    }\n",
       "\n",
       "    .dataframe tbody tr th {\n",
       "        vertical-align: top;\n",
       "    }\n",
       "\n",
       "    .dataframe thead th {\n",
       "        text-align: right;\n",
       "    }\n",
       "</style>\n",
       "<table border=\"1\" class=\"dataframe\">\n",
       "  <thead>\n",
       "    <tr style=\"text-align: right;\">\n",
       "      <th></th>\n",
       "      <th>PassengerId</th>\n",
       "      <th>Survived</th>\n",
       "      <th>Pclass</th>\n",
       "      <th>Name</th>\n",
       "      <th>Sex</th>\n",
       "      <th>Age</th>\n",
       "      <th>SibSp</th>\n",
       "      <th>Parch</th>\n",
       "      <th>Ticket</th>\n",
       "      <th>Fare</th>\n",
       "      <th>Cabin</th>\n",
       "      <th>Embarked</th>\n",
       "    </tr>\n",
       "  </thead>\n",
       "  <tbody>\n",
       "    <tr>\n",
       "      <th>0</th>\n",
       "      <td>1</td>\n",
       "      <td>0</td>\n",
       "      <td>3</td>\n",
       "      <td>Braund, Mr....</td>\n",
       "      <td>male</td>\n",
       "      <td>22.0</td>\n",
       "      <td>1</td>\n",
       "      <td>0</td>\n",
       "      <td>A/5 21171</td>\n",
       "      <td>7.2500</td>\n",
       "      <td>C000</td>\n",
       "      <td>S</td>\n",
       "    </tr>\n",
       "    <tr>\n",
       "      <th>1</th>\n",
       "      <td>2</td>\n",
       "      <td>1</td>\n",
       "      <td>1</td>\n",
       "      <td>Cumings, Mr...</td>\n",
       "      <td>female</td>\n",
       "      <td>38.0</td>\n",
       "      <td>1</td>\n",
       "      <td>0</td>\n",
       "      <td>PC 17599</td>\n",
       "      <td>71.2833</td>\n",
       "      <td>C85</td>\n",
       "      <td>C</td>\n",
       "    </tr>\n",
       "    <tr>\n",
       "      <th>2</th>\n",
       "      <td>3</td>\n",
       "      <td>1</td>\n",
       "      <td>3</td>\n",
       "      <td>Heikkinen, ...</td>\n",
       "      <td>female</td>\n",
       "      <td>26.0</td>\n",
       "      <td>0</td>\n",
       "      <td>0</td>\n",
       "      <td>STON/O2. 31...</td>\n",
       "      <td>7.9250</td>\n",
       "      <td>C000</td>\n",
       "      <td>S</td>\n",
       "    </tr>\n",
       "  </tbody>\n",
       "</table>\n",
       "</div>"
      ],
      "text/plain": [
       "   PassengerId  Survived  Pclass            Name     Sex   Age  SibSp  Parch          Ticket     Fare Cabin Embarked\n",
       "0            1         0       3  Braund, Mr....    male  22.0      1      0       A/5 21171   7.2500  C000        S\n",
       "1            2         1       1  Cumings, Mr...  female  38.0      1      0        PC 17599  71.2833   C85        C\n",
       "2            3         1       3  Heikkinen, ...  female  26.0      0      0  STON/O2. 31...   7.9250  C000        S"
      ]
     },
     "execution_count": 85,
     "metadata": {},
     "output_type": "execute_result"
    }
   ],
   "source": [
    "# fillna()로 결손 데이터 처리하기\n",
    "\n",
    "titanic_df['Cabin']=titanic_df['Cabin'].fillna('C000')\n",
    "# inplace=True 파라미터를 추가해야 실제 데이터 세트 값 변경\n",
    "titanic_df.head(3)"
   ]
  },
  {
   "cell_type": "code",
   "execution_count": 86,
   "id": "4cd12885",
   "metadata": {},
   "outputs": [
    {
     "data": {
      "text/plain": [
       "PassengerId    0\n",
       "Survived       0\n",
       "Pclass         0\n",
       "Name           0\n",
       "Sex            0\n",
       "Age            0\n",
       "SibSp          0\n",
       "Parch          0\n",
       "Ticket         0\n",
       "Fare           0\n",
       "Cabin          0\n",
       "Embarked       0\n",
       "dtype: int64"
      ]
     },
     "execution_count": 86,
     "metadata": {},
     "output_type": "execute_result"
    }
   ],
   "source": [
    "titanic_df['Age']=titanic_df['Age'].fillna(titanic_df['Age'].mean())\n",
    "titanic_df['Embarked']=titanic_df['Embarked'].fillna('S')\n",
    "titanic_df.isna().sum()"
   ]
  },
  {
   "cell_type": "markdown",
   "id": "4b799693",
   "metadata": {},
   "source": [
    "# apply lambda 식으로 데이터 가공"
   ]
  },
  {
   "cell_type": "code",
   "execution_count": 87,
   "id": "b09df709",
   "metadata": {},
   "outputs": [
    {
     "name": "stdout",
     "output_type": "stream",
     "text": [
      "3의 제곱은 : 9\n"
     ]
    }
   ],
   "source": [
    "def get_square(a) :\n",
    "    return a**2\n",
    "\n",
    "print(\"3의 제곱은 :\", get_square(3))"
   ]
  },
  {
   "cell_type": "code",
   "execution_count": 88,
   "id": "98abf70b",
   "metadata": {},
   "outputs": [
    {
     "name": "stdout",
     "output_type": "stream",
     "text": [
      "3의 제곱은 : 9\n"
     ]
    }
   ],
   "source": [
    "#위의 get_square()를 lambda식으로 변환\n",
    "lambda_square=lambda x :x**2\n",
    "print(\"3의 제곱은 :\", lambda_square(3))"
   ]
  },
  {
   "cell_type": "code",
   "execution_count": 89,
   "id": "5efda792",
   "metadata": {},
   "outputs": [
    {
     "data": {
      "text/plain": [
       "[1, 4, 9]"
      ]
     },
     "execution_count": 89,
     "metadata": {},
     "output_type": "execute_result"
    }
   ],
   "source": [
    "a=[1,2,3]\n",
    "squares=map(lambda x : x**2, a)\n",
    "list(squares)"
   ]
  },
  {
   "cell_type": "code",
   "execution_count": 90,
   "id": "fa45f7a6",
   "metadata": {},
   "outputs": [
    {
     "data": {
      "text/html": [
       "<div>\n",
       "<style scoped>\n",
       "    .dataframe tbody tr th:only-of-type {\n",
       "        vertical-align: middle;\n",
       "    }\n",
       "\n",
       "    .dataframe tbody tr th {\n",
       "        vertical-align: top;\n",
       "    }\n",
       "\n",
       "    .dataframe thead th {\n",
       "        text-align: right;\n",
       "    }\n",
       "</style>\n",
       "<table border=\"1\" class=\"dataframe\">\n",
       "  <thead>\n",
       "    <tr style=\"text-align: right;\">\n",
       "      <th></th>\n",
       "      <th>Name</th>\n",
       "      <th>Name_len</th>\n",
       "    </tr>\n",
       "  </thead>\n",
       "  <tbody>\n",
       "    <tr>\n",
       "      <th>0</th>\n",
       "      <td>Braund, Mr....</td>\n",
       "      <td>23</td>\n",
       "    </tr>\n",
       "    <tr>\n",
       "      <th>1</th>\n",
       "      <td>Cumings, Mr...</td>\n",
       "      <td>51</td>\n",
       "    </tr>\n",
       "    <tr>\n",
       "      <th>2</th>\n",
       "      <td>Heikkinen, ...</td>\n",
       "      <td>22</td>\n",
       "    </tr>\n",
       "  </tbody>\n",
       "</table>\n",
       "</div>"
      ],
      "text/plain": [
       "             Name  Name_len\n",
       "0  Braund, Mr....        23\n",
       "1  Cumings, Mr...        51\n",
       "2  Heikkinen, ...        22"
      ]
     },
     "execution_count": 90,
     "metadata": {},
     "output_type": "execute_result"
    }
   ],
   "source": [
    "titanic_df['Name_len']=titanic_df['Name'].apply(lambda x : len(x))\n",
    "titanic_df[['Name','Name_len']].head(3)"
   ]
  },
  {
   "cell_type": "code",
   "execution_count": 92,
   "id": "ce67916d",
   "metadata": {},
   "outputs": [
    {
     "data": {
      "text/html": [
       "<div>\n",
       "<style scoped>\n",
       "    .dataframe tbody tr th:only-of-type {\n",
       "        vertical-align: middle;\n",
       "    }\n",
       "\n",
       "    .dataframe tbody tr th {\n",
       "        vertical-align: top;\n",
       "    }\n",
       "\n",
       "    .dataframe thead th {\n",
       "        text-align: right;\n",
       "    }\n",
       "</style>\n",
       "<table border=\"1\" class=\"dataframe\">\n",
       "  <thead>\n",
       "    <tr style=\"text-align: right;\">\n",
       "      <th></th>\n",
       "      <th>Age</th>\n",
       "      <th>Child_Adult</th>\n",
       "    </tr>\n",
       "  </thead>\n",
       "  <tbody>\n",
       "    <tr>\n",
       "      <th>0</th>\n",
       "      <td>22.000000</td>\n",
       "      <td>Adult</td>\n",
       "    </tr>\n",
       "    <tr>\n",
       "      <th>1</th>\n",
       "      <td>38.000000</td>\n",
       "      <td>Adult</td>\n",
       "    </tr>\n",
       "    <tr>\n",
       "      <th>2</th>\n",
       "      <td>26.000000</td>\n",
       "      <td>Adult</td>\n",
       "    </tr>\n",
       "    <tr>\n",
       "      <th>3</th>\n",
       "      <td>35.000000</td>\n",
       "      <td>Adult</td>\n",
       "    </tr>\n",
       "    <tr>\n",
       "      <th>4</th>\n",
       "      <td>35.000000</td>\n",
       "      <td>Adult</td>\n",
       "    </tr>\n",
       "    <tr>\n",
       "      <th>5</th>\n",
       "      <td>29.699118</td>\n",
       "      <td>Adult</td>\n",
       "    </tr>\n",
       "    <tr>\n",
       "      <th>6</th>\n",
       "      <td>54.000000</td>\n",
       "      <td>Adult</td>\n",
       "    </tr>\n",
       "    <tr>\n",
       "      <th>7</th>\n",
       "      <td>2.000000</td>\n",
       "      <td>Child</td>\n",
       "    </tr>\n",
       "  </tbody>\n",
       "</table>\n",
       "</div>"
      ],
      "text/plain": [
       "         Age Child_Adult\n",
       "0  22.000000       Adult\n",
       "1  38.000000       Adult\n",
       "2  26.000000       Adult\n",
       "3  35.000000       Adult\n",
       "4  35.000000       Adult\n",
       "5  29.699118       Adult\n",
       "6  54.000000       Adult\n",
       "7   2.000000       Child"
      ]
     },
     "execution_count": 92,
     "metadata": {},
     "output_type": "execute_result"
    }
   ],
   "source": [
    "#나이에 따라 Child와 Adult로 분류\n",
    "\n",
    "titanic_df['Child_Adult']=titanic_df['Age'].apply(lambda x : 'Child' if x <=15 else 'Adult')\n",
    "titanic_df[['Age','Child_Adult']].head(8)"
   ]
  },
  {
   "cell_type": "code",
   "execution_count": 93,
   "id": "2f206d35",
   "metadata": {},
   "outputs": [
    {
     "data": {
      "text/plain": [
       "Adult      782\n",
       "Child       83\n",
       "Elderly     26\n",
       "Name: Age_cat, dtype: int64"
      ]
     },
     "execution_count": 93,
     "metadata": {},
     "output_type": "execute_result"
    }
   ],
   "source": [
    "titanic_df['Age_cat']=titanic_df['Age'].apply(lambda x : 'Child' if x<=15 else('Adult' if x<60 else 'Elderly'))\n",
    "\n",
    "titanic_df['Age_cat'].value_counts()"
   ]
  },
  {
   "cell_type": "code",
   "execution_count": 94,
   "id": "0fa06f31",
   "metadata": {},
   "outputs": [
    {
     "data": {
      "text/html": [
       "<div>\n",
       "<style scoped>\n",
       "    .dataframe tbody tr th:only-of-type {\n",
       "        vertical-align: middle;\n",
       "    }\n",
       "\n",
       "    .dataframe tbody tr th {\n",
       "        vertical-align: top;\n",
       "    }\n",
       "\n",
       "    .dataframe thead th {\n",
       "        text-align: right;\n",
       "    }\n",
       "</style>\n",
       "<table border=\"1\" class=\"dataframe\">\n",
       "  <thead>\n",
       "    <tr style=\"text-align: right;\">\n",
       "      <th></th>\n",
       "      <th>Age</th>\n",
       "      <th>Age_cat</th>\n",
       "    </tr>\n",
       "  </thead>\n",
       "  <tbody>\n",
       "    <tr>\n",
       "      <th>0</th>\n",
       "      <td>22.0</td>\n",
       "      <td>Student</td>\n",
       "    </tr>\n",
       "    <tr>\n",
       "      <th>1</th>\n",
       "      <td>38.0</td>\n",
       "      <td>Adult</td>\n",
       "    </tr>\n",
       "    <tr>\n",
       "      <th>2</th>\n",
       "      <td>26.0</td>\n",
       "      <td>Young Adult</td>\n",
       "    </tr>\n",
       "    <tr>\n",
       "      <th>3</th>\n",
       "      <td>35.0</td>\n",
       "      <td>Young Adult</td>\n",
       "    </tr>\n",
       "    <tr>\n",
       "      <th>4</th>\n",
       "      <td>35.0</td>\n",
       "      <td>Young Adult</td>\n",
       "    </tr>\n",
       "  </tbody>\n",
       "</table>\n",
       "</div>"
      ],
      "text/plain": [
       "    Age      Age_cat\n",
       "0  22.0      Student\n",
       "1  38.0        Adult\n",
       "2  26.0  Young Adult\n",
       "3  35.0  Young Adult\n",
       "4  35.0  Young Adult"
      ]
     },
     "execution_count": 94,
     "metadata": {},
     "output_type": "execute_result"
    }
   ],
   "source": [
    "#나이에 따라 세분화된 분류를 수행하는 함수 생성\n",
    "def get_category(age):\n",
    "    cat=''\n",
    "    if age<=5:cat='Baby'\n",
    "    elif age<=12 : cat='Child'\n",
    "    elif age<=18: cat='Teenager'\n",
    "    elif age<=25: cat='Student'\n",
    "    elif age<=35 : cat='Young Adult'\n",
    "    elif age<=60 : cat= 'Adult'\n",
    "    else : cat= 'Elderly'\n",
    "        \n",
    "    return cat\n",
    "\n",
    "# lambda 식에 위에서 생성한 get_category() 함수를 반환값으로 지정\n",
    "# get_Category(X)는 입력값으로 'Age' 칼럼 값을 받아서 해당하는 cat 반환\n",
    "titanic_df['Age_cat']=titanic_df['Age'].apply(lambda x : get_category(x))\n",
    "titanic_df[['Age','Age_cat']].head()"
   ]
  },
  {
   "cell_type": "code",
   "execution_count": null,
   "id": "b1dba7f7",
   "metadata": {},
   "outputs": [],
   "source": []
  }
 ],
 "metadata": {
  "kernelspec": {
   "display_name": "Python 3 (ipykernel)",
   "language": "python",
   "name": "python3"
  },
  "language_info": {
   "codemirror_mode": {
    "name": "ipython",
    "version": 3
   },
   "file_extension": ".py",
   "mimetype": "text/x-python",
   "name": "python",
   "nbconvert_exporter": "python",
   "pygments_lexer": "ipython3",
   "version": "3.9.16"
  }
 },
 "nbformat": 4,
 "nbformat_minor": 5
}
