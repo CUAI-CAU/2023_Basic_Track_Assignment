{
 "cells": [
  {
   "cell_type": "markdown",
   "id": "760b8416",
   "metadata": {},
   "source": [
    "# 1-3. 넘파이"
   ]
  },
  {
   "cell_type": "markdown",
   "id": "33a87c4a",
   "metadata": {},
   "source": [
    "## 넘파이 ndarray 개요"
   ]
  },
  {
   "cell_type": "code",
   "execution_count": 20,
   "id": "c66bdff0",
   "metadata": {},
   "outputs": [],
   "source": [
    "import numpy as np    #넘파이 모듈 임포트"
   ]
  },
  {
   "cell_type": "markdown",
   "id": "c3e04b89",
   "metadata": {},
   "source": [
    "- 넘파이의 기반 데이터 타입은 **ndarray**  \n",
    "- ndarray를 이용해 넘파이에서 **다차원 배열을 쉽게 생성, 다양한 연산 수행 가능**"
   ]
  },
  {
   "cell_type": "markdown",
   "id": "1bd16aee",
   "metadata": {},
   "source": [
    "- + **np.array()** : 리스트와 같은 다양한 인자를 입력받아서 ndarray로 변환하는 기능 수행  \n",
    "- + **ndarray.shape** : ndarray의 차원과 크기를 튜플 형태로 나타내줌.  \n",
    "- + **ndarray.ndim** : 각 array의 차원 출력"
   ]
  },
  {
   "cell_type": "code",
   "execution_count": 7,
   "id": "72c4bf5a",
   "metadata": {},
   "outputs": [
    {
     "name": "stdout",
     "output_type": "stream",
     "text": [
      "array1 type: <class 'numpy.ndarray'>\n",
      "array1 array 형태: (3,)\n",
      "array2 type: <class 'numpy.ndarray'>\n",
      "array2 array 형태: (2, 3)\n",
      "array3 type: <class 'numpy.ndarray'>\n",
      "array3 array 형태: (1, 3)\n"
     ]
    }
   ],
   "source": [
    "array1 = np.array([1,2,3])\n",
    "print('array1 type:',type(array1))\n",
    "print('array1 array 형태:',array1.shape)\n",
    "#[] 1차원 array\n",
    "#(3,) -> 3개의 데이터\n",
    "\n",
    "array2 = np.array([[1,2,3],\n",
    "                  [2,3,4]])\n",
    "print('array2 type:',type(array2))\n",
    "print('array2 array 형태:',array2.shape)\n",
    "#[[]] 2차원 array\n",
    "#(2,3) -> 2행 3열\n",
    "\n",
    "array3 = np.array([[1,2,3]])\n",
    "print('array3 type:',type(array3))\n",
    "print('array3 array 형태:',array3.shape)\n",
    "#(1,3) -> 1행 3열"
   ]
  },
  {
   "cell_type": "code",
   "execution_count": 15,
   "id": "ee2ef1cb",
   "metadata": {},
   "outputs": [
    {
     "name": "stdout",
     "output_type": "stream",
     "text": [
      "array1: 1차원, array2: 1차원, array3:  1차원\n"
     ]
    }
   ],
   "source": [
    "print('array1: {:0}차원, array2: {:1}차원, array3: {:2}차원'.format(array1.ndim,array2.ndim,array3.ndim))"
   ]
  },
  {
   "cell_type": "markdown",
   "id": "3615a11f",
   "metadata": {},
   "source": [
    "## ndarray의 데이터 타입"
   ]
  },
  {
   "cell_type": "markdown",
   "id": "44f125d8",
   "metadata": {},
   "source": [
    "- ndarray 내의 데이터값은 숫자, 문자열, 불 값 등이 모두 가능"
   ]
  },
  {
   "cell_type": "markdown",
   "id": "1accc633",
   "metadata": {},
   "source": [
    "- + **ndarray.dtype** : 데이터 타입 확인 (ndarray는 리스트와 다르게 연산의 특성상 같은 데이터만 가능)  \n",
    "- + **ndarray.astype()** : ndarray 내 데이터값의 타입 변경 (메모리를 더 절약해야 할 때 보통 이용 ex. float -> int)"
   ]
  },
  {
   "cell_type": "code",
   "execution_count": 12,
   "id": "c6febee7",
   "metadata": {},
   "outputs": [
    {
     "name": "stdout",
     "output_type": "stream",
     "text": [
      "<class 'list'>\n",
      "<class 'numpy.ndarray'>\n",
      "[1 2 3] int64\n"
     ]
    }
   ],
   "source": [
    "list1 = [1,2,3]\n",
    "print(type(list1))\n",
    "array1 = np.array(list1)\n",
    "print(type(array1))\n",
    "print(array1, array1.dtype)"
   ]
  },
  {
   "cell_type": "code",
   "execution_count": 18,
   "id": "fadecc82",
   "metadata": {},
   "outputs": [
    {
     "name": "stdout",
     "output_type": "stream",
     "text": [
      "['1' '2' 'test'] <U21\n",
      "[1. 2. 3.] float64\n"
     ]
    }
   ],
   "source": [
    "# list2는 int형 값 1,2와 str형 문자열 test가 섞여 있음. int형 값 1,2 -> str형 문자열 '1','2'로 변환\n",
    "list2 = [1, 2, 'test']\n",
    "array2 = np.array(list2)\n",
    "print(array2, array2.dtype)\n",
    "\n",
    "# list3는 int형 값 1,2와 float형 3.0이 섞여 있음. int형 값 1,2 -> float형 1. 2.로 변환\n",
    "list3 = [1, 2, 3.0]\n",
    "array3 = np.array(list3)\n",
    "print(array3, array3.dtype)"
   ]
  },
  {
   "cell_type": "markdown",
   "id": "bc64cf28",
   "metadata": {},
   "source": [
    "- 다른 데이터 유형이 섞여 있는 리스트를 ndarray로 변경시 더 큰 데이터 타입으로 형 변환 일괄 적용 **(int < float < complex)**"
   ]
  },
  {
   "cell_type": "code",
   "execution_count": 19,
   "id": "fe1bfcb5",
   "metadata": {},
   "outputs": [
    {
     "name": "stdout",
     "output_type": "stream",
     "text": [
      "[1. 2. 3.] float64\n",
      "[1 2 3] int32\n",
      "[1 2 3] int32\n"
     ]
    }
   ],
   "source": [
    "# int32 -> float64\n",
    "array_int = np.array([1, 2, 3])\n",
    "array_float = array_int.astype('float64')\n",
    "print(array_float, array_float.dtype)\n",
    "\n",
    "# float64 -> int32\n",
    "array_int1 = array_float.astype('int32')\n",
    "print(array_int1, array_int1.dtype)\n",
    "\n",
    "# float64 -> int32 (소수점 이하 절삭)\n",
    "array_float1 = np.array([1.1, 2.1, 3.1])\n",
    "array_int2 = array_float1.astype('int32')\n",
    "print(array_int2, array_int2.dtype)"
   ]
  },
  {
   "cell_type": "markdown",
   "id": "bed09e7b",
   "metadata": {},
   "source": [
    "## ndarray를 편리하게 생성하기 - arange, zeros, ones"
   ]
  },
  {
   "cell_type": "markdown",
   "id": "7bacf91e",
   "metadata": {},
   "source": [
    "- 특정 크기, 차원을 가진 ndarray를 연속값이나 0, 1로 초기화해 쉽게 생성해야 할 경우 (주로 테스트용 데이터 생성/대규모 데이터 일괄적으로 초기화)"
   ]
  },
  {
   "cell_type": "markdown",
   "id": "b8edaaf7",
   "metadata": {},
   "source": [
    "- + **np.arange(n)** : 파이썬 range()와 유사 ; array를 range()로 표현  \n",
    "0부터 (함수인자값 n - 1)까지의 값을 순차적으로 ndarray의 데이터값으로 변환  **(start 값, stop 값 설정 가능)**\n",
    "- + **np.zeros(shape)** : 함수 인자로 튜플 형태의 shape 값을 입력하면 모든 값을 0으로 채운 해당 shape를 가진 ndarray를 반환\n",
    "- + **np.ones(shape)** : 함수 인자로 튜플 형태의 shape 값을 입력하면 모든 값을 1로 채운 해당 shape를 가진 ndarray를 반환  \n",
    "(함수 인자로 dtype을 정해주지 않으면 float64형으로 생성)"
   ]
  },
  {
   "cell_type": "code",
   "execution_count": 22,
   "id": "89ee16bd",
   "metadata": {},
   "outputs": [
    {
     "name": "stdout",
     "output_type": "stream",
     "text": [
      "[0 1 2 3 4 5 6 7 8 9]\n",
      "int64 (10,)\n"
     ]
    }
   ],
   "source": [
    "sequence_array1 = np.arange(10) #0에서 9까지의 연속 숫자 값으로 구성된 1차원 ndarray 생성\n",
    "print(sequence_array1)\n",
    "print(sequence_array1.dtype, sequence_array1.shape)"
   ]
  },
  {
   "cell_type": "code",
   "execution_count": 23,
   "id": "227a0498",
   "metadata": {},
   "outputs": [
    {
     "name": "stdout",
     "output_type": "stream",
     "text": [
      "[[0 0]\n",
      " [0 0]\n",
      " [0 0]]\n",
      "int32 (3, 2)\n",
      "[[1. 1.]\n",
      " [1. 1.]\n",
      " [1. 1.]]\n",
      "float64 (3, 2)\n"
     ]
    }
   ],
   "source": [
    "zero_array = np.zeros((3,2),dtype='int32') # 3x2 행렬의 모든 element가 0인 shape를 가진 ndarray 반환 \n",
    "print(zero_array)\n",
    "print(zero_array.dtype, zero_array.shape)\n",
    "\n",
    "one_array = np.ones((3,2)) # 3x2 행렬의 모든 element가 1인 shape를 가진 ndarray 반환\n",
    "print(one_array)\n",
    "print(one_array.dtype, one_array.shape)"
   ]
  },
  {
   "cell_type": "markdown",
   "id": "9491d967",
   "metadata": {},
   "source": [
    "## ndarray의 차원과 크기를 변경하는 reshape()"
   ]
  },
  {
   "cell_type": "markdown",
   "id": "9b6be14b",
   "metadata": {},
   "source": [
    "- + **ndarray.reshape(shape)** : ndarray를 특정 차원 및 크기로 변환. 변환을 원하는 크기를 함수 인자(행,열)로 부여하면 된다.\n",
    "- + **ndarray.tolist()** : 리스트 자료형으로 변환. 시각적으로 더 이해하기 쉬울 수 있음."
   ]
  },
  {
   "cell_type": "code",
   "execution_count": 24,
   "id": "e1af5dca",
   "metadata": {},
   "outputs": [
    {
     "name": "stdout",
     "output_type": "stream",
     "text": [
      "array1:\n",
      " [0 1 2 3 4 5 6 7 8 9]\n",
      "array2:\n",
      " [[0 1 2 3 4]\n",
      " [5 6 7 8 9]]\n",
      "array3:\n",
      " [[0 1]\n",
      " [2 3]\n",
      " [4 5]\n",
      " [6 7]\n",
      " [8 9]]\n"
     ]
    }
   ],
   "source": [
    "array1 = np.arange(10)\n",
    "print('array1:\\n', array1)\n",
    "\n",
    "array2 = array1.reshape(2,5)\n",
    "print('array2:\\n',array2)\n",
    "\n",
    "array3 = array1.reshape(5,2)\n",
    "print('array3:\\n',array3)"
   ]
  },
  {
   "cell_type": "code",
   "execution_count": 25,
   "id": "e8b8f528",
   "metadata": {},
   "outputs": [
    {
     "ename": "ValueError",
     "evalue": "cannot reshape array of size 10 into shape (4,3)",
     "output_type": "error",
     "traceback": [
      "\u001b[0;31m---------------------------------------------------------------------------\u001b[0m",
      "\u001b[0;31mValueError\u001b[0m                                Traceback (most recent call last)",
      "\u001b[0;32m/var/folders/x4/hkn5rjfs16sfnm7flvb4l8g80000gn/T/ipykernel_8540/444364062.py\u001b[0m in \u001b[0;36m<module>\u001b[0;34m\u001b[0m\n\u001b[0;32m----> 1\u001b[0;31m \u001b[0marray1\u001b[0m\u001b[0;34m.\u001b[0m\u001b[0mreshape\u001b[0m\u001b[0;34m(\u001b[0m\u001b[0;36m4\u001b[0m\u001b[0;34m,\u001b[0m\u001b[0;36m3\u001b[0m\u001b[0;34m)\u001b[0m \u001b[0;31m# 당연히 array1은 (10,) 데이터이므로 (4,3)과 같이 더 큰 elements를 가지는 사이즈로 변경 불가능.\u001b[0m\u001b[0;34m\u001b[0m\u001b[0;34m\u001b[0m\u001b[0m\n\u001b[0m",
      "\u001b[0;31mValueError\u001b[0m: cannot reshape array of size 10 into shape (4,3)"
     ]
    }
   ],
   "source": [
    "array1.reshape(4,3) # 당연히 array1은 (10,) 데이터이므로 (4,3)과 같이 더 큰 elements를 가지는 사이즈로 변경 불가능."
   ]
  },
  {
   "cell_type": "code",
   "execution_count": 41,
   "id": "80f4f5b1",
   "metadata": {},
   "outputs": [
    {
     "name": "stdout",
     "output_type": "stream",
     "text": [
      "[0 1 2 3 4 5 6 7 8 9]\n",
      "array2 shape: (2, 5)\n",
      "array3 shape: (5, 2)\n"
     ]
    }
   ],
   "source": [
    "array1 = np.arange(10) #array1은 1차원 ndarray로 0~9까지의 데이터를 가지고 있음\n",
    "print(array1)\n",
    "\n",
    "array2 = array1.reshape(-1,5) #10개의 elements를 충족시키기 위해 고정된 5개의 열에 2개의 행을 가지게 됨\n",
    "print('array2 shape:',array2.shape)\n",
    "\n",
    "array3 = array1.reshape(5,-1) #10개의 elements를 충족시키기 위해 고정된 2개의 열에 5개의 행을 가지게 됨\n",
    "print('array3 shape:',array3.shape)"
   ]
  },
  {
   "cell_type": "markdown",
   "id": "94f8fc07",
   "metadata": {},
   "source": [
    "- **-1을 인자로 사용하면, 원래 ndarray와 호환되는 새로운 shape로 변환해 준다. 고정된 행/열에 맞게 elements 수가 일치하도록 배열을 생성해주는 것이라고 생각하자.** "
   ]
  },
  {
   "cell_type": "markdown",
   "id": "c69d1390",
   "metadata": {},
   "source": [
    "- array1.reshape(-1,5)는 행 -1, 열 5의 인자를 가짐. 여기서 -1 인자는 '고정된 5개의 열'에 맞는 행을 자동으로 새롭게 생성해 변환하라는 의미  \n",
    "=> 즉, 10개의 elements를 충족시키기 위해 2개의 행을 가지게 됨"
   ]
  },
  {
   "cell_type": "markdown",
   "id": "032ba80f",
   "metadata": {},
   "source": [
    "- array2.reshape(5,-1)는 행 5, 열 -1의 인자를 가짐. 여기서 -1 인자는 '고정된 5개의 행'에 맞는 열을 자동으로 새롭게 생성해 변환하라는 의미  \n",
    "=> 즉, 10개의 elements를 충족시키기 위해 5개의 행을 가지게 됨"
   ]
  },
  {
   "cell_type": "code",
   "execution_count": 27,
   "id": "28726016",
   "metadata": {},
   "outputs": [
    {
     "ename": "ValueError",
     "evalue": "cannot reshape array of size 10 into shape (4)",
     "output_type": "error",
     "traceback": [
      "\u001b[0;31m---------------------------------------------------------------------------\u001b[0m",
      "\u001b[0;31mValueError\u001b[0m                                Traceback (most recent call last)",
      "\u001b[0;32m/var/folders/x4/hkn5rjfs16sfnm7flvb4l8g80000gn/T/ipykernel_8540/2567060166.py\u001b[0m in \u001b[0;36m<module>\u001b[0;34m\u001b[0m\n\u001b[1;32m      1\u001b[0m \u001b[0marray1\u001b[0m \u001b[0;34m=\u001b[0m \u001b[0mnp\u001b[0m\u001b[0;34m.\u001b[0m\u001b[0marange\u001b[0m\u001b[0;34m(\u001b[0m\u001b[0;36m10\u001b[0m\u001b[0;34m)\u001b[0m\u001b[0;34m\u001b[0m\u001b[0;34m\u001b[0m\u001b[0m\n\u001b[0;32m----> 2\u001b[0;31m \u001b[0marray4\u001b[0m \u001b[0;34m=\u001b[0m \u001b[0marray1\u001b[0m\u001b[0;34m.\u001b[0m\u001b[0mreshape\u001b[0m\u001b[0;34m(\u001b[0m\u001b[0;34m-\u001b[0m\u001b[0;36m1\u001b[0m\u001b[0;34m,\u001b[0m\u001b[0;36m4\u001b[0m\u001b[0;34m)\u001b[0m \u001b[0;31m# 10개의 1차원 데이터를 고정된 4개의 칼럼을 가진 로우로 변경 불가. 에러 발생\u001b[0m\u001b[0;34m\u001b[0m\u001b[0;34m\u001b[0m\u001b[0m\n\u001b[0m",
      "\u001b[0;31mValueError\u001b[0m: cannot reshape array of size 10 into shape (4)"
     ]
    }
   ],
   "source": [
    "array1 = np.arange(10)\n",
    "array4 = array1.reshape(-1,4) # 10개의 1차원 데이터를 고정된 4개의 칼럼을 가진 로우로 변경 불가. 에러 발생"
   ]
  },
  {
   "cell_type": "markdown",
   "id": "161a3b50",
   "metadata": {},
   "source": [
    "- -1 인자는 reshape(-1,-1)와 같은 형태로 자주 사용됨.  **reshape(-1,1)은 2차원이고, 반드시 1개의 칼럼을 가진 ndarray로 변환됨을 보장**"
   ]
  },
  {
   "cell_type": "code",
   "execution_count": 28,
   "id": "a74c4336",
   "metadata": {},
   "outputs": [
    {
     "name": "stdout",
     "output_type": "stream",
     "text": [
      "array3d:\n",
      " [[[0, 1], [2, 3]], [[4, 5], [6, 7]]]\n",
      "array5:\n",
      " [[0], [1], [2], [3], [4], [5], [6], [7]]\n",
      "array5 shape: (8, 1)\n",
      "array6:\n",
      " [[0], [1], [2], [3], [4], [5], [6], [7]]\n",
      "array6 shape: (8, 1)\n"
     ]
    }
   ],
   "source": [
    "array1 = np.arange(8)\n",
    "array3d = array1.reshape((2,2,2))\n",
    "print('array3d:\\n',array3d.tolist()) # tolist()는 ndarray를 리스트 자료형으로 변환\n",
    "\n",
    "# 3차원 ndarray를 reshape를 통해 2차원 ndarray로 변환\n",
    "array5 = array3d.reshape(-1,1)\n",
    "print('array5:\\n',array5.tolist())\n",
    "print('array5 shape:',array5.shape)\n",
    "\n",
    "# 1차원 ndarray를 reshape를 통해 2차원 ndarray로 변환\n",
    "array6 = array1.reshape(-1,1)\n",
    "print('array6:\\n',array6.tolist())\n",
    "print('array6 shape:',array6.shape)"
   ]
  },
  {
   "cell_type": "markdown",
   "id": "38ecdd21",
   "metadata": {},
   "source": [
    "## 넘파이의 ndarray의 데이터 세트 선택하기 - 인덱싱(Indexing)"
   ]
  },
  {
   "cell_type": "markdown",
   "id": "e04bf4f1",
   "metadata": {},
   "source": [
    "- 인덱싱 : 넘파이에서 ndarray 내의 **일부 데이터 세트나 특정 데이터만을 선택**할 수 있도록 함"
   ]
  },
  {
   "cell_type": "markdown",
   "id": "4ced4091",
   "metadata": {},
   "source": [
    "1. **특정 데이터만 추출** : 원하는 위치의 인덱스 값을 지정하면 해당 위치의 데이터가 반환\n",
    "2. **슬라이싱(Slicing)** : 연속된 인덱스 상의 ndarray를 추출하는 방식이다. ':' 기호 사이에 시작 인덱스, 종료 인덱스를 표시하면 **시작 인덱스 ~ 종료 인덱스-1** 위치에 있는 데이터의 ndarray를 반환한다.\n",
    "3. **팬시 인덱싱(Fancy Indexing)** : 일정한 인덱싱 집합을 리스트 또는 ndarray 형태로 지정해 해당 위치에 있는 데이터의 ndarray를 반환한다.\n",
    "4. **불린 인덱싱(Boolenan Indexing)** : 특정 조건에 해당하는지 여부인 True/False 값 인덱싱 집합을 기반으로 **True**에 해당하는 인덱스 위치에 있는 데이터의 ndarray 반환"
   ]
  },
  {
   "cell_type": "markdown",
   "id": "adce9727",
   "metadata": {},
   "source": [
    "###  단일 값 추출"
   ]
  },
  {
   "cell_type": "markdown",
   "id": "a57c1de7",
   "metadata": {},
   "source": [
    "- 1개의 데이터만을 추출"
   ]
  },
  {
   "cell_type": "markdown",
   "id": "533aa1b9",
   "metadata": {},
   "source": [
    "- 1차원 ndarray에서 단일 값 추출하기"
   ]
  },
  {
   "cell_type": "code",
   "execution_count": 30,
   "id": "965b25f4",
   "metadata": {},
   "outputs": [
    {
     "name": "stdout",
     "output_type": "stream",
     "text": [
      "array1: [1 2 3 4 5 6 7 8 9]\n",
      "value: 3\n",
      "<class 'numpy.int64'>\n"
     ]
    }
   ],
   "source": [
    "# 1부터 9(10-1)까지의 1차원 ndarray 생성 \n",
    "array1 = np.arange(start=1, stop=10)\n",
    "print('array1:',array1)\n",
    "# index는 0부터 시작하므로 array1[2]는 3번째 index 위치의 데이터 값을 의미\n",
    "value = array1[2]\n",
    "print('value:',value)\n",
    "print(type(value))"
   ]
  },
  {
   "cell_type": "code",
   "execution_count": 31,
   "id": "82ddb2b9",
   "metadata": {},
   "outputs": [
    {
     "name": "stdout",
     "output_type": "stream",
     "text": [
      "맨 뒤의 값: 9 , 맨 뒤에서 두번째 값: 8\n"
     ]
    }
   ],
   "source": [
    "print('맨 뒤의 값:',array1[-1], ', 맨 뒤에서 두번째 값:',array1[-2])"
   ]
  },
  {
   "cell_type": "code",
   "execution_count": 32,
   "id": "c0ecd791",
   "metadata": {},
   "outputs": [
    {
     "name": "stdout",
     "output_type": "stream",
     "text": [
      "array1: [9 2 3 4 5 6 7 8 0]\n"
     ]
    }
   ],
   "source": [
    "# 단일 인덱스를 이용한 ndarray 내의 데이터 값 수정\n",
    "\n",
    "array1[0] = 9\n",
    "array1[8] = 0\n",
    "print('array1:',array1)"
   ]
  },
  {
   "cell_type": "markdown",
   "id": "0417b239",
   "metadata": {},
   "source": [
    "- 다차원 ndarray에서 단일 값 추출하기  \n",
    "ex. 2차원 : 1차원 ndarray를 2차원 ndarray로 변환 후 **[row, col]** 을 이용해 2차원 ndarray에서 데이터 추출"
   ]
  },
  {
   "cell_type": "code",
   "execution_count": 39,
   "id": "cb9347ef",
   "metadata": {},
   "outputs": [
    {
     "name": "stdout",
     "output_type": "stream",
     "text": [
      "[[1 2 3]\n",
      " [4 5 6]\n",
      " [7 8 9]]\n",
      "(row=0,col=0) index 가리키는 값: 1\n",
      "(row=0,col=1) index 가리키는 값: 2\n",
      "(row=1,col=0) index 가리키는 값: 4\n",
      "(row=2,col=2) index 가리키는 값: 9\n"
     ]
    }
   ],
   "source": [
    "array1d = np.arange(start=1, stop=10)\n",
    "array2d = array1d.reshape(3,3)  #2차원 3x3 ndarray로 변환\n",
    "print(array2d)\n",
    "\n",
    "print('(row=0,col=0) index 가리키는 값:', array2d[0,0] )\n",
    "print('(row=0,col=1) index 가리키는 값:', array2d[0,1] )\n",
    "print('(row=1,col=0) index 가리키는 값:', array2d[1,0] )\n",
    "print('(row=2,col=2) index 가리키는 값:', array2d[2,2] )"
   ]
  },
  {
   "cell_type": "markdown",
   "id": "40903614",
   "metadata": {},
   "source": [
    "- 넘파이 ndarray에서는 로우, 칼럼 대신 정확한 표현으로 **axis 0, axis 1**을 쓴다.*\n",
    "\n",
    "- + **axis 0** : row(행) 방향의 축\n",
    "- + **axis 1** : column(열) 방향의 축\n",
    "- + **axis 2** : height(높이) 방향의 축    \n",
    "\n",
    "- [row=0,col=1] --> [axis 0=0, axis 1=1]\n",
    "- 축 기반 연산에서 axis 생략시 axis 0 의미"
   ]
  },
  {
   "cell_type": "markdown",
   "id": "2d2c152a",
   "metadata": {},
   "source": [
    "### 슬라이싱"
   ]
  },
  {
   "cell_type": "markdown",
   "id": "466c24c3",
   "metadata": {},
   "source": [
    "- ':' 기호를 이용해 연속한 데이터를 슬라이싱해서 추출할 수 있다.\n",
    "- 시작 인덱스 : 종료 인덱스 => **시작 인덱스에서 종료 인덱스-1의 위치에 있는 데이터의 ndarray 반환**"
   ]
  },
  {
   "cell_type": "code",
   "execution_count": 42,
   "id": "19a20a5c",
   "metadata": {},
   "outputs": [
    {
     "name": "stdout",
     "output_type": "stream",
     "text": [
      "[1 2 3]\n",
      "<class 'numpy.ndarray'>\n"
     ]
    }
   ],
   "source": [
    "array1 = np.arange(start=1, stop=10)\n",
    "array3 = array1[0:3] # index 0~2까지 추출해서 array3에 반환\n",
    "print(array3)\n",
    "print(type(array3))"
   ]
  },
  {
   "cell_type": "markdown",
   "id": "29e784b3",
   "metadata": {},
   "source": [
    "- 슬라이싱 기호 ':' 문법\n",
    "\n",
    "1. ':' 기호 앞에 시작 인덱스를 생략하면 자동으로 맨 처음 인덱스인 0으로 간주\n",
    "2. ':' 기호 뒤에 종료 인덱스를 생략하면 자동으로 맨 마지막 인덱스로 간주\n",
    "3. ':' 기호 앞/뒤에 시작/종료 인덱스를 생략하면 자동으로 맨 처음/맨 마지막 인덱스로 간주"
   ]
  },
  {
   "cell_type": "code",
   "execution_count": 43,
   "id": "7127d192",
   "metadata": {},
   "outputs": [
    {
     "name": "stdout",
     "output_type": "stream",
     "text": [
      "[1 2 3]\n",
      "[4 5 6 7 8 9]\n",
      "[1 2 3 4 5 6 7 8 9]\n"
     ]
    }
   ],
   "source": [
    "array1 = np.arange(start=1, stop=10)\n",
    "array4 = array1[:3]\n",
    "print(array4)\n",
    "\n",
    "array5 = array1[3:]\n",
    "print(array5)\n",
    "\n",
    "array6 = array1[:]\n",
    "print(array6)"
   ]
  },
  {
   "cell_type": "code",
   "execution_count": 45,
   "id": "2e1350c7",
   "metadata": {},
   "outputs": [
    {
     "name": "stdout",
     "output_type": "stream",
     "text": [
      "array2d:\n",
      " [[1 2 3]\n",
      " [4 5 6]\n",
      " [7 8 9]]\n",
      "array2d[0:2, 0:2] \n",
      " [[1 2]\n",
      " [4 5]]\n",
      "array2d[1:3, 0:3] \n",
      " [[4 5 6]\n",
      " [7 8 9]]\n",
      "array2d[1:3, :] \n",
      " [[4 5 6]\n",
      " [7 8 9]]\n",
      "array2d[:, :] \n",
      " [[1 2 3]\n",
      " [4 5 6]\n",
      " [7 8 9]]\n",
      "array2d[:2, 1:] \n",
      " [[2 3]\n",
      " [5 6]]\n",
      "array2d[:2, 0] \n",
      " [1 4]\n"
     ]
    }
   ],
   "source": [
    "# 2차원 ndarray에서 슬라이싱으로 데이터 접근\n",
    "# ','로 행과 열 인덱스 지칭 (각각 슬라이싱한 행과 열의 교집합인 부분 출력이라고 보면 될 듯)\n",
    "\n",
    "array1d = np.arange(start=1, stop=10)\n",
    "array2d = array1d.reshape(3,3)\n",
    "print('array2d:\\n',array2d)\n",
    "\n",
    "print('array2d[0:2, 0:2] \\n', array2d[0:2, 0:2])\n",
    "print('array2d[1:3, 0:3] \\n', array2d[1:3, 0:3])\n",
    "print('array2d[1:3, :] \\n', array2d[1:3, :])\n",
    "print('array2d[:, :] \\n', array2d[:, :])\n",
    "print('array2d[:2, 1:] \\n', array2d[:2, 1:])\n",
    "print('array2d[:2, 0] \\n', array2d[:2, 0])"
   ]
  },
  {
   "cell_type": "code",
   "execution_count": 46,
   "id": "59c6de24",
   "metadata": {},
   "outputs": [
    {
     "name": "stdout",
     "output_type": "stream",
     "text": [
      "[1 2 3]\n",
      "[4 5 6]\n",
      "array2d[0] shape: (3,) array2d[1] shape: (3,)\n"
     ]
    }
   ],
   "source": [
    "# 2차원 ndarray에서 뒤에 오는 인덱스를 없애면 axis 0의 첫 번째 로우인 1차원 ndarray 반환\n",
    "\n",
    "print(array2d[0])\n",
    "print(array2d[1])\n",
    "print('array2d[0] shape:', array2d[0].shape, 'array2d[1] shape:', array2d[1].shape )"
   ]
  },
  {
   "cell_type": "markdown",
   "id": "fc3f8550",
   "metadata": {},
   "source": [
    "### 팬시 인덱싱 (Fancy Indexing)"
   ]
  },
  {
   "cell_type": "markdown",
   "id": "0e5fb43b",
   "metadata": {},
   "source": [
    "- 리스트나 ndarray로 인덱스 집합을 지정하면 해당 위치의 인덱스에 해당하는 ndarray를 반환하는 인덱싱 방식"
   ]
  },
  {
   "cell_type": "markdown",
   "id": "4fd83c75",
   "metadata": {},
   "source": [
    "- ':' 대신에 인덱스를 직접 ','로 입력해서 슬라이싱하는 것이라고 생각"
   ]
  },
  {
   "cell_type": "code",
   "execution_count": 47,
   "id": "e0b57945",
   "metadata": {},
   "outputs": [
    {
     "name": "stdout",
     "output_type": "stream",
     "text": [
      "array2d[[0,1], 2] =>  [3, 6]\n",
      "array2d[[0,1], 0:2] =>  [[1, 2], [4, 5]]\n",
      "array2d[[0,1]] =>  [[1, 2, 3], [4, 5, 6]]\n"
     ]
    }
   ],
   "source": [
    "array1d = np.arange(start=1, stop=10)\n",
    "array2d = array1d.reshape(3,3)\n",
    "\n",
    "# array2d의 구조\n",
    "# 1 2 3\n",
    "# 4 5 6\n",
    "# 7 8 9\n",
    "\n",
    "\n",
    "array3 = array2d[[0,1], 2] # 1,2번째 행과 3번째 열의 교집합\n",
    "print('array2d[[0,1], 2] => ',array3.tolist())\n",
    "\n",
    "array4 = array2d[[0,1], 0:2] # 1,2번째 행과 1~2번째 열의 교집합\n",
    "print('array2d[[0,1], 0:2] => ',array4.tolist())\n",
    "\n",
    "array5 = array2d[[0,1]] # 1,2번째 행의 집합\n",
    "print('array2d[[0,1]] => ',array5.tolist())"
   ]
  },
  {
   "cell_type": "markdown",
   "id": "2c0ecb7e",
   "metadata": {},
   "source": [
    "### 불린 인덱싱 (Boolean Indexing)"
   ]
  },
  {
   "cell_type": "markdown",
   "id": "7f3c4ef8",
   "metadata": {},
   "source": [
    "- **조건 필터링과 검색을 동시에** 할 수 있어 매우 자주 사용되는 인덱싱 방식이다.\n",
    "\n",
    "**Step 1** : array1d > 5와 같이 ndarray의 필터링 조건을 []안에 기재\n",
    "\n",
    "**Step 2** : False 값은 무시하고 True 값에 해당하는 인덱스 값만 저장 (True 값 1이 아니라 True 값을 가진 인덱스를 저장하는 것!!)\n",
    "\n",
    "**Step 3** : 저장된 인덱스 데이터 세트로 ndarray 조회"
   ]
  },
  {
   "cell_type": "markdown",
   "id": "47715f79",
   "metadata": {},
   "source": [
    "- for loop/if else 문보다 훨씬 간단하게 구현 가능\n",
    "- **ndarray의 인덱스를 지정하는 [] 내에 조건문을 그대로 기재하면 됨**"
   ]
  },
  {
   "cell_type": "code",
   "execution_count": 49,
   "id": "e57d013b",
   "metadata": {},
   "outputs": [
    {
     "name": "stdout",
     "output_type": "stream",
     "text": [
      "array1d > 5 불린 인덱싱 결과 값 : [6 7 8 9]\n"
     ]
    }
   ],
   "source": [
    "array1d = np.arange(start=1, stop=10)\n",
    "\n",
    "# [ ] 안에 array1d > 5 Boolean indexing을 적용 \n",
    "\n",
    "array3 = array1d[array1d > 5]\n",
    "print('array1d > 5 불린 인덱싱 결과 값 :', array3)"
   ]
  },
  {
   "cell_type": "code",
   "execution_count": 50,
   "id": "af1b6cb2",
   "metadata": {},
   "outputs": [
    {
     "data": {
      "text/plain": [
       "array([False, False, False, False, False,  True,  True,  True,  True])"
      ]
     },
     "execution_count": 50,
     "metadata": {},
     "output_type": "execute_result"
    }
   ],
   "source": [
    "# 조건 필터링이 이렇게 간단한 이유\n",
    "\n",
    "array1d > 5 # False 무시. True 값이 있는 인덱스 위치의 데이터만 반환. 즉, 인덱스 0~4는 무시하고 5~8까지의 데이터 세트 [6,7,8,9] 반환"
   ]
  },
  {
   "cell_type": "code",
   "execution_count": 51,
   "id": "48b48114",
   "metadata": {},
   "outputs": [
    {
     "name": "stdout",
     "output_type": "stream",
     "text": [
      "불린 인덱스로 필터링 결과 : [6 7 8 9]\n"
     ]
    }
   ],
   "source": [
    "# 같은 원리를 적용해 조건문으로 부등식 대신 불린 ndarray 입력\n",
    "\n",
    "boolean_indexes = np.array([False, False, False, False, False,  True,  True,  True,  True])\n",
    "array3 = array1d[boolean_indexes]\n",
    "print('불린 인덱스로 필터링 결과 :', array3)"
   ]
  },
  {
   "cell_type": "code",
   "execution_count": 52,
   "id": "a7fcb23f",
   "metadata": {},
   "outputs": [
    {
     "name": "stdout",
     "output_type": "stream",
     "text": [
      "일반 인덱스로 필터링 결과 : [6 7 8 9]\n"
     ]
    }
   ],
   "source": [
    "indexes = np.array([5,6,7,8]) # 인덱스 집합을 직접 생성\n",
    "array4 = array1d[ indexes ] # 조건문 내에 인덱스 집합 대입\n",
    "print('일반 인덱스로 필터링 결과 :',array4)"
   ]
  },
  {
   "cell_type": "markdown",
   "id": "0e9947d3",
   "metadata": {},
   "source": [
    "## 행렬의 정렬 - sort()와 argrsort()"
   ]
  },
  {
   "cell_type": "markdown",
   "id": "f4a23872",
   "metadata": {},
   "source": [
    "### 행렬 정렬"
   ]
  },
  {
   "cell_type": "markdown",
   "id": "c2db69eb",
   "metadata": {},
   "source": [
    "- 넘파이의 행렬 정렬은 np.sort()와 같이 넘파이에서 sort()를 호출하는 방식과 ndarray.sort()와 같이 행렬 자체에서 sort()를 호출하는 방식이 있다."
   ]
  },
  {
   "cell_type": "markdown",
   "id": "15ef1e7f",
   "metadata": {},
   "source": [
    "- + **np.sort()** : **원 행렬은 그대로 유지**한 채 원 행렬의 정렬된 행렬을 반환\n",
    "- + **ndarray.sort()** : **원 행렬 자체를 정렬**한 형태로 반환 ; 반환값은 None"
   ]
  },
  {
   "cell_type": "code",
   "execution_count": 67,
   "id": "debe2d6f",
   "metadata": {},
   "outputs": [
    {
     "name": "stdout",
     "output_type": "stream",
     "text": [
      "원본 행렬: [3 1 9 5]\n",
      "np.sort( ) 호출 후 반환된 정렬 행렬: [1 3 5 9]\n",
      "np.sort( ) 호출 후 원본 행렬: [3 1 9 5]\n",
      "org_array.sort( ) 호출 후 반환된 행렬: None\n",
      "org_array.sort( ) 호출 후 원본 행렬: [1 3 5 9]\n"
     ]
    }
   ],
   "source": [
    "org_array = np.array([ 3, 1, 9, 5]) \n",
    "print('원본 행렬:', org_array)\n",
    "\n",
    "# np.sort( )로 정렬 \n",
    "sort_array1 = np.sort(org_array)         \n",
    "print ('np.sort( ) 호출 후 반환된 정렬 행렬:', sort_array1) #정렬된 행렬\n",
    "print('np.sort( ) 호출 후 원본 행렬:', org_array) #원 행렬은 그대로 유지\n",
    "\n",
    "# ndarray.sort( )로 정렬\n",
    "sort_array2 = org_array.sort()\n",
    "print('org_array.sort( ) 호출 후 반환된 행렬:', sort_array2) #반환값 None\n",
    "print('org_array.sort( ) 호출 후 원본 행렬:', org_array) #원 행렬이 정렬되었음"
   ]
  },
  {
   "cell_type": "code",
   "execution_count": 59,
   "id": "9b00079d",
   "metadata": {},
   "outputs": [
    {
     "name": "stdout",
     "output_type": "stream",
     "text": [
      "내림차순으로 정렬: [9 5 3 1]\n"
     ]
    }
   ],
   "source": [
    "sort_array1_desc = np.sort(org_array)[::-1] # [::-1] : 내림차순으로 정렬\n",
    "print ('내림차순으로 정렬:', sort_array1_desc) "
   ]
  },
  {
   "cell_type": "markdown",
   "id": "cef28255",
   "metadata": {},
   "source": [
    "- 행렬이 2차원 이상일 경우에 axis 축 값 설정을 통해 로우 방향, 또는 칼럼 방향으로 정렬을 수행할 수 있다."
   ]
  },
  {
   "cell_type": "code",
   "execution_count": 58,
   "id": "69ce2b9f",
   "metadata": {},
   "outputs": [
    {
     "name": "stdout",
     "output_type": "stream",
     "text": [
      "로우 방향으로 정렬:\n",
      " [[ 7  1]\n",
      " [ 8 12]]\n",
      "컬럼 방향으로 정렬:\n",
      " [[ 8 12]\n",
      " [ 1  7]]\n"
     ]
    }
   ],
   "source": [
    "array2d = np.array([[8, 12], \n",
    "                   [7, 1 ]])\n",
    "\n",
    "sort_array2d_axis0 = np.sort(array2d, axis=0)\n",
    "print('로우 방향으로 정렬:\\n', sort_array2d_axis0)\n",
    "\n",
    "sort_array2d_axis1 = np.sort(array2d, axis=1)\n",
    "print('컬럼 방향으로 정렬:\\n', sort_array2d_axis1)"
   ]
  },
  {
   "cell_type": "markdown",
   "id": "79f51b2c",
   "metadata": {},
   "source": [
    "### 정렬된 행렬의 인덱스를 반환하기"
   ]
  },
  {
   "cell_type": "markdown",
   "id": "d8498a40",
   "metadata": {},
   "source": [
    "- 원본 행렬이 정렬되었을 때 기존 원본 행렬의 원소에 대한 인덱스를 필요로 할 때 np.argsort()를 이용"
   ]
  },
  {
   "cell_type": "markdown",
   "id": "21418d4a",
   "metadata": {},
   "source": [
    "- + **np.argsort()** : 정렬 행렬의 원본 행렬 인덱스를 ndarray 형으로 반환"
   ]
  },
  {
   "cell_type": "code",
   "execution_count": 61,
   "id": "1b35625b",
   "metadata": {},
   "outputs": [
    {
     "name": "stdout",
     "output_type": "stream",
     "text": [
      "<class 'numpy.ndarray'>\n",
      "행렬 정렬 시 원본 행렬의 인덱스: [1 0 3 2]\n"
     ]
    }
   ],
   "source": [
    "org_array = np.array([ 3, 1, 9, 5]) \n",
    "sort_indices = np.argsort(org_array)\n",
    "print(type(sort_indices))\n",
    "print('행렬 정렬 시 원본 행렬의 인덱스:', sort_indices)\n",
    "\n",
    "# 행렬 정렬 시 [1, 3, 5, 9] -> element에 대해 원본 행렬의 index 값을 매칭했을 때 [1 0 3 2]"
   ]
  },
  {
   "cell_type": "code",
   "execution_count": 64,
   "id": "c41910ad",
   "metadata": {},
   "outputs": [
    {
     "name": "stdout",
     "output_type": "stream",
     "text": [
      "행렬 내림차순 정렬 시 원본 행렬의 인덱스: [2 3 0 1]\n"
     ]
    }
   ],
   "source": [
    "org_array = np.array([ 3, 1, 9, 5]) \n",
    "sort_indices_desc = np.argsort(org_array)[::-1] # 내림차순으로 정렬함\n",
    "print('행렬 내림차순 정렬 시 원본 행렬의 인덱스:', sort_indices_desc)\n",
    "\n",
    "#내림차순으로 정렬 시 [9, 5, 3, 1] -> 원본 행렬의 index값 매칭했을 때 [2 3 0 1]"
   ]
  },
  {
   "cell_type": "code",
   "execution_count": 65,
   "id": "2a6f81e5",
   "metadata": {},
   "outputs": [
    {
     "name": "stdout",
     "output_type": "stream",
     "text": [
      "성적 오름차순 정렬 시 score_array의 인덱스: [0 2 4 1 3]\n",
      "성적 오름차순으로 name_array의 이름 출력: ['John' 'Sarah' 'Samuel' 'Mike' 'Kate']\n"
     ]
    }
   ],
   "source": [
    "import numpy as np\n",
    "\n",
    "name_array = np.array(['John', 'Mike', 'Sarah', 'Kate', 'Samuel'])\n",
    "score_array= np.array([78, 95, 84, 98, 88])\n",
    "\n",
    "sort_indices_asc = np.argsort(score_array)\n",
    "print('성적 오름차순 정렬 시 score_array의 인덱스:', sort_indices_asc)\n",
    "print('성적 오름차순으로 name_array의 이름 출력:', name_array[sort_indices_asc])"
   ]
  },
  {
   "cell_type": "markdown",
   "id": "0916b3a8",
   "metadata": {},
   "source": [
    "## 선형대수 연산 - 행렬 내적과 전치 행렬 구하기"
   ]
  },
  {
   "cell_type": "markdown",
   "id": "9617107c",
   "metadata": {},
   "source": [
    "### 행렬 내적(행렬 곱)"
   ]
  },
  {
   "cell_type": "markdown",
   "id": "4e16270a",
   "metadata": {},
   "source": [
    "- 행렬 내적 = 행렬 곱\n",
    "- 두 행렬 A, B의 내적은 **np.dot()**을 이용해 계산 가능"
   ]
  },
  {
   "cell_type": "code",
   "execution_count": 66,
   "id": "dcb2fceb",
   "metadata": {},
   "outputs": [
    {
     "name": "stdout",
     "output_type": "stream",
     "text": [
      "행렬 내적 결과:\n",
      " [[ 58  64]\n",
      " [139 154]]\n"
     ]
    }
   ],
   "source": [
    "A = np.array([[1, 2, 3],\n",
    "              [4, 5, 6]])\n",
    "\n",
    "B = np.array([[ 7,  8],\n",
    "              [ 9, 10],\n",
    "              [11, 12]])\n",
    "\n",
    "dot_product = np.dot(A, B)\n",
    "print('행렬 내적 결과:\\n', dot_product)"
   ]
  },
  {
   "cell_type": "markdown",
   "id": "ee0631a8",
   "metadata": {},
   "source": [
    "### 전치 행렬"
   ]
  },
  {
   "cell_type": "markdown",
   "id": "14b1b79c",
   "metadata": {},
   "source": [
    "- 원 행렬에서 행과 열 위치를 교환한 원소로 구성한 행렬\n",
    "- **원소의 위치 : x행 y열 - > y행 x열** (원 행렬을 y=-x를 대칭축으로 뒤집는다고 생각)"
   ]
  },
  {
   "cell_type": "markdown",
   "id": "95c97c05",
   "metadata": {},
   "source": [
    "- + **np.transpose()** : 전치 행렬"
   ]
  },
  {
   "cell_type": "code",
   "execution_count": 69,
   "id": "7e0b87c4",
   "metadata": {},
   "outputs": [
    {
     "name": "stdout",
     "output_type": "stream",
     "text": [
      "A의 전치 행렬:\n",
      " [[1 3]\n",
      " [2 4]]\n"
     ]
    }
   ],
   "source": [
    "A = np.array([[1, 2],\n",
    "              [3, 4]])\n",
    "transpose_mat = np.transpose(A)\n",
    "print('A의 전치 행렬:\\n', transpose_mat)"
   ]
  }
 ],
 "metadata": {
  "kernelspec": {
   "display_name": "Python 3 (ipykernel)",
   "language": "python",
   "name": "python3"
  },
  "language_info": {
   "codemirror_mode": {
    "name": "ipython",
    "version": 3
   },
   "file_extension": ".py",
   "mimetype": "text/x-python",
   "name": "python",
   "nbconvert_exporter": "python",
   "pygments_lexer": "ipython3",
   "version": "3.9.13"
  }
 },
 "nbformat": 4,
 "nbformat_minor": 5
}
