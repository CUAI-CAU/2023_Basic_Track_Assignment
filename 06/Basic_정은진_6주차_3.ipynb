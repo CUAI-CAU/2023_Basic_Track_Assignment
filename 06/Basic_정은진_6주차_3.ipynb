{
  "cells": [
    {
      "cell_type": "code",
      "source": [
        "from google.colab import drive\n",
        "drive.mount('/content/drive')\n",
        "userpath='/content/drive/MyDrive/CUAI'"
      ],
      "metadata": {
        "id": "jydRUIO92R46",
        "colab": {
          "base_uri": "https://localhost:8080/"
        },
        "outputId": "cb48ff32-a728-4cfc-837e-badb740937ad"
      },
      "execution_count": null,
      "outputs": [
        {
          "output_type": "stream",
          "name": "stdout",
          "text": [
            "Mounted at /content/drive\n"
          ]
        }
      ]
    },
    {
      "cell_type": "markdown",
      "metadata": {
        "id": "onEyMGWQ1dAJ"
      },
      "source": [
        "## 5.9 Regression 실습 - Bike Sharing Demand\n",
        "### 데이터 클렌징 및 가공"
      ]
    },
    {
      "cell_type": "markdown",
      "metadata": {
        "id": "6aZvR8j61dAM"
      },
      "source": [
        "* datetime: hourly date + timestamp\n",
        "* season: 1=봄, 2=여름, 3=가을, 4=겨울\n",
        "* holiday: 1=토, 일요일의 주말을 제외한 국경일 등의 휴일, 0 = 휴일이 나닌 날\n",
        "* workingday: 1=토, 일요일의 주말 및 휴일이 아닌 주중, 0 = 주말 및 휴일\n",
        "* temp: 온도(섭씨)\n",
        "* atemp: 체감온도(섭씨)\n",
        "* humidity:상대습도\n",
        "* windspeed:풍속\n",
        "* casual: 사전에 등록되지 않는 사용자가 대여한 횟수\n",
        "* registered: 사전에 등록된 사용자가 대여한 횟수\n",
        "* count: 대여 횟수"
      ]
    },
    {
      "cell_type": "code",
      "execution_count": null,
      "metadata": {
        "colab": {
          "base_uri": "https://localhost:8080/",
          "height": 161
        },
        "id": "axzqATTU1dAO",
        "outputId": "3b649871-6bb2-4f37-c00f-a0d97cc6577b"
      },
      "outputs": [
        {
          "output_type": "stream",
          "name": "stdout",
          "text": [
            "(10886, 12)\n"
          ]
        },
        {
          "output_type": "execute_result",
          "data": {
            "text/plain": [
              "              datetime  season  holiday  workingday  weather  temp   atemp  \\\n",
              "0  2011-01-01 00:00:00       1        0           0        1  9.84  14.395   \n",
              "1  2011-01-01 01:00:00       1        0           0        1  9.02  13.635   \n",
              "2  2011-01-01 02:00:00       1        0           0        1  9.02  13.635   \n",
              "\n",
              "   humidity  windspeed  casual  registered  count  \n",
              "0        81        0.0       3          13     16  \n",
              "1        80        0.0       8          32     40  \n",
              "2        80        0.0       5          27     32  "
            ],
            "text/html": [
              "\n",
              "  <div id=\"df-e74f13f6-e02b-4f7b-8d9f-0f5e7970fd4b\">\n",
              "    <div class=\"colab-df-container\">\n",
              "      <div>\n",
              "<style scoped>\n",
              "    .dataframe tbody tr th:only-of-type {\n",
              "        vertical-align: middle;\n",
              "    }\n",
              "\n",
              "    .dataframe tbody tr th {\n",
              "        vertical-align: top;\n",
              "    }\n",
              "\n",
              "    .dataframe thead th {\n",
              "        text-align: right;\n",
              "    }\n",
              "</style>\n",
              "<table border=\"1\" class=\"dataframe\">\n",
              "  <thead>\n",
              "    <tr style=\"text-align: right;\">\n",
              "      <th></th>\n",
              "      <th>datetime</th>\n",
              "      <th>season</th>\n",
              "      <th>holiday</th>\n",
              "      <th>workingday</th>\n",
              "      <th>weather</th>\n",
              "      <th>temp</th>\n",
              "      <th>atemp</th>\n",
              "      <th>humidity</th>\n",
              "      <th>windspeed</th>\n",
              "      <th>casual</th>\n",
              "      <th>registered</th>\n",
              "      <th>count</th>\n",
              "    </tr>\n",
              "  </thead>\n",
              "  <tbody>\n",
              "    <tr>\n",
              "      <th>0</th>\n",
              "      <td>2011-01-01 00:00:00</td>\n",
              "      <td>1</td>\n",
              "      <td>0</td>\n",
              "      <td>0</td>\n",
              "      <td>1</td>\n",
              "      <td>9.84</td>\n",
              "      <td>14.395</td>\n",
              "      <td>81</td>\n",
              "      <td>0.0</td>\n",
              "      <td>3</td>\n",
              "      <td>13</td>\n",
              "      <td>16</td>\n",
              "    </tr>\n",
              "    <tr>\n",
              "      <th>1</th>\n",
              "      <td>2011-01-01 01:00:00</td>\n",
              "      <td>1</td>\n",
              "      <td>0</td>\n",
              "      <td>0</td>\n",
              "      <td>1</td>\n",
              "      <td>9.02</td>\n",
              "      <td>13.635</td>\n",
              "      <td>80</td>\n",
              "      <td>0.0</td>\n",
              "      <td>8</td>\n",
              "      <td>32</td>\n",
              "      <td>40</td>\n",
              "    </tr>\n",
              "    <tr>\n",
              "      <th>2</th>\n",
              "      <td>2011-01-01 02:00:00</td>\n",
              "      <td>1</td>\n",
              "      <td>0</td>\n",
              "      <td>0</td>\n",
              "      <td>1</td>\n",
              "      <td>9.02</td>\n",
              "      <td>13.635</td>\n",
              "      <td>80</td>\n",
              "      <td>0.0</td>\n",
              "      <td>5</td>\n",
              "      <td>27</td>\n",
              "      <td>32</td>\n",
              "    </tr>\n",
              "  </tbody>\n",
              "</table>\n",
              "</div>\n",
              "      <button class=\"colab-df-convert\" onclick=\"convertToInteractive('df-e74f13f6-e02b-4f7b-8d9f-0f5e7970fd4b')\"\n",
              "              title=\"Convert this dataframe to an interactive table.\"\n",
              "              style=\"display:none;\">\n",
              "        \n",
              "  <svg xmlns=\"http://www.w3.org/2000/svg\" height=\"24px\"viewBox=\"0 0 24 24\"\n",
              "       width=\"24px\">\n",
              "    <path d=\"M0 0h24v24H0V0z\" fill=\"none\"/>\n",
              "    <path d=\"M18.56 5.44l.94 2.06.94-2.06 2.06-.94-2.06-.94-.94-2.06-.94 2.06-2.06.94zm-11 1L8.5 8.5l.94-2.06 2.06-.94-2.06-.94L8.5 2.5l-.94 2.06-2.06.94zm10 10l.94 2.06.94-2.06 2.06-.94-2.06-.94-.94-2.06-.94 2.06-2.06.94z\"/><path d=\"M17.41 7.96l-1.37-1.37c-.4-.4-.92-.59-1.43-.59-.52 0-1.04.2-1.43.59L10.3 9.45l-7.72 7.72c-.78.78-.78 2.05 0 2.83L4 21.41c.39.39.9.59 1.41.59.51 0 1.02-.2 1.41-.59l7.78-7.78 2.81-2.81c.8-.78.8-2.07 0-2.86zM5.41 20L4 18.59l7.72-7.72 1.47 1.35L5.41 20z\"/>\n",
              "  </svg>\n",
              "      </button>\n",
              "      \n",
              "  <style>\n",
              "    .colab-df-container {\n",
              "      display:flex;\n",
              "      flex-wrap:wrap;\n",
              "      gap: 12px;\n",
              "    }\n",
              "\n",
              "    .colab-df-convert {\n",
              "      background-color: #E8F0FE;\n",
              "      border: none;\n",
              "      border-radius: 50%;\n",
              "      cursor: pointer;\n",
              "      display: none;\n",
              "      fill: #1967D2;\n",
              "      height: 32px;\n",
              "      padding: 0 0 0 0;\n",
              "      width: 32px;\n",
              "    }\n",
              "\n",
              "    .colab-df-convert:hover {\n",
              "      background-color: #E2EBFA;\n",
              "      box-shadow: 0px 1px 2px rgba(60, 64, 67, 0.3), 0px 1px 3px 1px rgba(60, 64, 67, 0.15);\n",
              "      fill: #174EA6;\n",
              "    }\n",
              "\n",
              "    [theme=dark] .colab-df-convert {\n",
              "      background-color: #3B4455;\n",
              "      fill: #D2E3FC;\n",
              "    }\n",
              "\n",
              "    [theme=dark] .colab-df-convert:hover {\n",
              "      background-color: #434B5C;\n",
              "      box-shadow: 0px 1px 3px 1px rgba(0, 0, 0, 0.15);\n",
              "      filter: drop-shadow(0px 1px 2px rgba(0, 0, 0, 0.3));\n",
              "      fill: #FFFFFF;\n",
              "    }\n",
              "  </style>\n",
              "\n",
              "      <script>\n",
              "        const buttonEl =\n",
              "          document.querySelector('#df-e74f13f6-e02b-4f7b-8d9f-0f5e7970fd4b button.colab-df-convert');\n",
              "        buttonEl.style.display =\n",
              "          google.colab.kernel.accessAllowed ? 'block' : 'none';\n",
              "\n",
              "        async function convertToInteractive(key) {\n",
              "          const element = document.querySelector('#df-e74f13f6-e02b-4f7b-8d9f-0f5e7970fd4b');\n",
              "          const dataTable =\n",
              "            await google.colab.kernel.invokeFunction('convertToInteractive',\n",
              "                                                     [key], {});\n",
              "          if (!dataTable) return;\n",
              "\n",
              "          const docLinkHtml = 'Like what you see? Visit the ' +\n",
              "            '<a target=\"_blank\" href=https://colab.research.google.com/notebooks/data_table.ipynb>data table notebook</a>'\n",
              "            + ' to learn more about interactive tables.';\n",
              "          element.innerHTML = '';\n",
              "          dataTable['output_type'] = 'display_data';\n",
              "          await google.colab.output.renderOutput(dataTable, element);\n",
              "          const docLink = document.createElement('div');\n",
              "          docLink.innerHTML = docLinkHtml;\n",
              "          element.appendChild(docLink);\n",
              "        }\n",
              "      </script>\n",
              "    </div>\n",
              "  </div>\n",
              "  "
            ]
          },
          "metadata": {},
          "execution_count": 3
        }
      ],
      "source": [
        "import numpy as np\n",
        "import pandas as pd\n",
        "import seaborn as sns\n",
        "import matplotlib.pyplot as plt\n",
        "%matplotlib inline\n",
        "\n",
        "import warnings\n",
        "warnings.filterwarnings(\"ignore\", category=RuntimeWarning)\n",
        "\n",
        "bike_df = pd.read_csv(userpath+'/bike_train.csv')\n",
        "print(bike_df.shape)\n",
        "bike_df.head(3)"
      ]
    },
    {
      "cell_type": "code",
      "execution_count": null,
      "metadata": {
        "id": "DqqMiMtH1dAQ",
        "colab": {
          "base_uri": "https://localhost:8080/"
        },
        "outputId": "06314c04-081e-4081-afb7-9a9e86399a81"
      },
      "outputs": [
        {
          "output_type": "stream",
          "name": "stdout",
          "text": [
            "<class 'pandas.core.frame.DataFrame'>\n",
            "RangeIndex: 10886 entries, 0 to 10885\n",
            "Data columns (total 12 columns):\n",
            " #   Column      Non-Null Count  Dtype  \n",
            "---  ------      --------------  -----  \n",
            " 0   datetime    10886 non-null  object \n",
            " 1   season      10886 non-null  int64  \n",
            " 2   holiday     10886 non-null  int64  \n",
            " 3   workingday  10886 non-null  int64  \n",
            " 4   weather     10886 non-null  int64  \n",
            " 5   temp        10886 non-null  float64\n",
            " 6   atemp       10886 non-null  float64\n",
            " 7   humidity    10886 non-null  int64  \n",
            " 8   windspeed   10886 non-null  float64\n",
            " 9   casual      10886 non-null  int64  \n",
            " 10  registered  10886 non-null  int64  \n",
            " 11  count       10886 non-null  int64  \n",
            "dtypes: float64(3), int64(8), object(1)\n",
            "memory usage: 1020.7+ KB\n"
          ]
        }
      ],
      "source": [
        "bike_df.info()"
      ]
    },
    {
      "cell_type": "markdown",
      "source": [
        "null data 없음. 대부분 칼럼이 int 또는 float형인데 datetime만 object형인데다가 년-월-일 시:분:초 형식이라 가공해주가공해주겠음."
      ],
      "metadata": {
        "id": "m-HOBA8M3PEm"
      }
    },
    {
      "cell_type": "code",
      "execution_count": null,
      "metadata": {
        "id": "Yca-mYcC1dAQ",
        "colab": {
          "base_uri": "https://localhost:8080/",
          "height": 311
        },
        "outputId": "37f3e7d0-cafb-4aff-a623-4784ee4c2b8c"
      },
      "outputs": [
        {
          "output_type": "execute_result",
          "data": {
            "text/plain": [
              "             datetime  season  holiday  workingday  weather  temp   atemp  \\\n",
              "0 2011-01-01 00:00:00       1        0           0        1  9.84  14.395   \n",
              "1 2011-01-01 01:00:00       1        0           0        1  9.02  13.635   \n",
              "2 2011-01-01 02:00:00       1        0           0        1  9.02  13.635   \n",
              "\n",
              "   humidity  windspeed  casual  registered  count  year  month  day  hour  \n",
              "0        81        0.0       3          13     16  2011      1    1     0  \n",
              "1        80        0.0       8          32     40  2011      1    1     1  \n",
              "2        80        0.0       5          27     32  2011      1    1     2  "
            ],
            "text/html": [
              "\n",
              "  <div id=\"df-1f0f7193-92f1-487a-94ec-1ffbf4acf432\">\n",
              "    <div class=\"colab-df-container\">\n",
              "      <div>\n",
              "<style scoped>\n",
              "    .dataframe tbody tr th:only-of-type {\n",
              "        vertical-align: middle;\n",
              "    }\n",
              "\n",
              "    .dataframe tbody tr th {\n",
              "        vertical-align: top;\n",
              "    }\n",
              "\n",
              "    .dataframe thead th {\n",
              "        text-align: right;\n",
              "    }\n",
              "</style>\n",
              "<table border=\"1\" class=\"dataframe\">\n",
              "  <thead>\n",
              "    <tr style=\"text-align: right;\">\n",
              "      <th></th>\n",
              "      <th>datetime</th>\n",
              "      <th>season</th>\n",
              "      <th>holiday</th>\n",
              "      <th>workingday</th>\n",
              "      <th>weather</th>\n",
              "      <th>temp</th>\n",
              "      <th>atemp</th>\n",
              "      <th>humidity</th>\n",
              "      <th>windspeed</th>\n",
              "      <th>casual</th>\n",
              "      <th>registered</th>\n",
              "      <th>count</th>\n",
              "      <th>year</th>\n",
              "      <th>month</th>\n",
              "      <th>day</th>\n",
              "      <th>hour</th>\n",
              "    </tr>\n",
              "  </thead>\n",
              "  <tbody>\n",
              "    <tr>\n",
              "      <th>0</th>\n",
              "      <td>2011-01-01 00:00:00</td>\n",
              "      <td>1</td>\n",
              "      <td>0</td>\n",
              "      <td>0</td>\n",
              "      <td>1</td>\n",
              "      <td>9.84</td>\n",
              "      <td>14.395</td>\n",
              "      <td>81</td>\n",
              "      <td>0.0</td>\n",
              "      <td>3</td>\n",
              "      <td>13</td>\n",
              "      <td>16</td>\n",
              "      <td>2011</td>\n",
              "      <td>1</td>\n",
              "      <td>1</td>\n",
              "      <td>0</td>\n",
              "    </tr>\n",
              "    <tr>\n",
              "      <th>1</th>\n",
              "      <td>2011-01-01 01:00:00</td>\n",
              "      <td>1</td>\n",
              "      <td>0</td>\n",
              "      <td>0</td>\n",
              "      <td>1</td>\n",
              "      <td>9.02</td>\n",
              "      <td>13.635</td>\n",
              "      <td>80</td>\n",
              "      <td>0.0</td>\n",
              "      <td>8</td>\n",
              "      <td>32</td>\n",
              "      <td>40</td>\n",
              "      <td>2011</td>\n",
              "      <td>1</td>\n",
              "      <td>1</td>\n",
              "      <td>1</td>\n",
              "    </tr>\n",
              "    <tr>\n",
              "      <th>2</th>\n",
              "      <td>2011-01-01 02:00:00</td>\n",
              "      <td>1</td>\n",
              "      <td>0</td>\n",
              "      <td>0</td>\n",
              "      <td>1</td>\n",
              "      <td>9.02</td>\n",
              "      <td>13.635</td>\n",
              "      <td>80</td>\n",
              "      <td>0.0</td>\n",
              "      <td>5</td>\n",
              "      <td>27</td>\n",
              "      <td>32</td>\n",
              "      <td>2011</td>\n",
              "      <td>1</td>\n",
              "      <td>1</td>\n",
              "      <td>2</td>\n",
              "    </tr>\n",
              "  </tbody>\n",
              "</table>\n",
              "</div>\n",
              "      <button class=\"colab-df-convert\" onclick=\"convertToInteractive('df-1f0f7193-92f1-487a-94ec-1ffbf4acf432')\"\n",
              "              title=\"Convert this dataframe to an interactive table.\"\n",
              "              style=\"display:none;\">\n",
              "        \n",
              "  <svg xmlns=\"http://www.w3.org/2000/svg\" height=\"24px\"viewBox=\"0 0 24 24\"\n",
              "       width=\"24px\">\n",
              "    <path d=\"M0 0h24v24H0V0z\" fill=\"none\"/>\n",
              "    <path d=\"M18.56 5.44l.94 2.06.94-2.06 2.06-.94-2.06-.94-.94-2.06-.94 2.06-2.06.94zm-11 1L8.5 8.5l.94-2.06 2.06-.94-2.06-.94L8.5 2.5l-.94 2.06-2.06.94zm10 10l.94 2.06.94-2.06 2.06-.94-2.06-.94-.94-2.06-.94 2.06-2.06.94z\"/><path d=\"M17.41 7.96l-1.37-1.37c-.4-.4-.92-.59-1.43-.59-.52 0-1.04.2-1.43.59L10.3 9.45l-7.72 7.72c-.78.78-.78 2.05 0 2.83L4 21.41c.39.39.9.59 1.41.59.51 0 1.02-.2 1.41-.59l7.78-7.78 2.81-2.81c.8-.78.8-2.07 0-2.86zM5.41 20L4 18.59l7.72-7.72 1.47 1.35L5.41 20z\"/>\n",
              "  </svg>\n",
              "      </button>\n",
              "      \n",
              "  <style>\n",
              "    .colab-df-container {\n",
              "      display:flex;\n",
              "      flex-wrap:wrap;\n",
              "      gap: 12px;\n",
              "    }\n",
              "\n",
              "    .colab-df-convert {\n",
              "      background-color: #E8F0FE;\n",
              "      border: none;\n",
              "      border-radius: 50%;\n",
              "      cursor: pointer;\n",
              "      display: none;\n",
              "      fill: #1967D2;\n",
              "      height: 32px;\n",
              "      padding: 0 0 0 0;\n",
              "      width: 32px;\n",
              "    }\n",
              "\n",
              "    .colab-df-convert:hover {\n",
              "      background-color: #E2EBFA;\n",
              "      box-shadow: 0px 1px 2px rgba(60, 64, 67, 0.3), 0px 1px 3px 1px rgba(60, 64, 67, 0.15);\n",
              "      fill: #174EA6;\n",
              "    }\n",
              "\n",
              "    [theme=dark] .colab-df-convert {\n",
              "      background-color: #3B4455;\n",
              "      fill: #D2E3FC;\n",
              "    }\n",
              "\n",
              "    [theme=dark] .colab-df-convert:hover {\n",
              "      background-color: #434B5C;\n",
              "      box-shadow: 0px 1px 3px 1px rgba(0, 0, 0, 0.15);\n",
              "      filter: drop-shadow(0px 1px 2px rgba(0, 0, 0, 0.3));\n",
              "      fill: #FFFFFF;\n",
              "    }\n",
              "  </style>\n",
              "\n",
              "      <script>\n",
              "        const buttonEl =\n",
              "          document.querySelector('#df-1f0f7193-92f1-487a-94ec-1ffbf4acf432 button.colab-df-convert');\n",
              "        buttonEl.style.display =\n",
              "          google.colab.kernel.accessAllowed ? 'block' : 'none';\n",
              "\n",
              "        async function convertToInteractive(key) {\n",
              "          const element = document.querySelector('#df-1f0f7193-92f1-487a-94ec-1ffbf4acf432');\n",
              "          const dataTable =\n",
              "            await google.colab.kernel.invokeFunction('convertToInteractive',\n",
              "                                                     [key], {});\n",
              "          if (!dataTable) return;\n",
              "\n",
              "          const docLinkHtml = 'Like what you see? Visit the ' +\n",
              "            '<a target=\"_blank\" href=https://colab.research.google.com/notebooks/data_table.ipynb>data table notebook</a>'\n",
              "            + ' to learn more about interactive tables.';\n",
              "          element.innerHTML = '';\n",
              "          dataTable['output_type'] = 'display_data';\n",
              "          await google.colab.output.renderOutput(dataTable, element);\n",
              "          const docLink = document.createElement('div');\n",
              "          docLink.innerHTML = docLinkHtml;\n",
              "          element.appendChild(docLink);\n",
              "        }\n",
              "      </script>\n",
              "    </div>\n",
              "  </div>\n",
              "  "
            ]
          },
          "metadata": {},
          "execution_count": 5
        }
      ],
      "source": [
        "# 문자열을 datetime 타입으로 변경. \n",
        "bike_df['datetime'] = bike_df.datetime.apply(pd.to_datetime)\n",
        "\n",
        "# datetime 타입에서 년, 월, 일, 시간 추출\n",
        "bike_df['year'] = bike_df.datetime.apply(lambda x : x.year)\n",
        "bike_df['month'] = bike_df.datetime.apply(lambda x : x.month)\n",
        "bike_df['day'] = bike_df.datetime.apply(lambda x : x.day)\n",
        "bike_df['hour'] = bike_df.datetime.apply(lambda x: x.hour)\n",
        "bike_df.head(3)"
      ]
    },
    {
      "cell_type": "code",
      "execution_count": null,
      "metadata": {
        "id": "SSss1jhu1dAR"
      },
      "outputs": [],
      "source": [
        "drop_columns = ['datetime','casual','registered'] # datatime은 이제 없애도 되고 casual+registered=count라 없애주겠음. (분리할 경우 상관계수가 높아 예측 저해 우려 o)\n",
        "bike_df.drop(drop_columns, axis=1,inplace=True)"
      ]
    },
    {
      "cell_type": "code",
      "execution_count": null,
      "metadata": {
        "id": "aGwP6SN31dAS",
        "colab": {
          "base_uri": "https://localhost:8080/",
          "height": 577
        },
        "outputId": "cd042e2b-5a76-4a96-8cf3-c018b2daf93b"
      },
      "outputs": [
        {
          "output_type": "display_data",
          "data": {
            "text/plain": [
              "<Figure size 1600x800 with 8 Axes>"
            ],
            "image/png": "[encoded data removed]"
          },
          "metadata": {}
        }
      ],
      "source": [
        "fig, axs = plt.subplots(figsize=(16, 8), ncols=4, nrows=2)\n",
        "cat_features = ['year', 'month','season','weather','day', 'hour', 'holiday','workingday']\n",
        "# cat_features에 있는 모든 칼럼별로 개별 칼럼값에 따른 count의 합을 barplot으로 시각화\n",
        "for i, feature in enumerate(cat_features):\n",
        "    row = int(i/4)\n",
        "    col = i%4\n",
        "    # 시본의 barplot을 이용해 칼럼값에 따른 count의 합을 표현\n",
        "    sns.barplot(x=feature, y='count', data=bike_df, ax=axs[row][col])"
      ]
    },
    {
      "cell_type": "markdown",
      "source": [
        "캐글에서 요구한 성능 평가 방법은 RMSLE인데 sklearn에서 제공하지 않아 RMSLE를 수행하는 성능 평가 함수를 만들어보겠음. 기왕 만드는 거 MSE, RMSE까지 평가해주는 함수함수도 만들겠음."
      ],
      "metadata": {
        "id": "fHchkMNl4ENy"
      }
    },
    {
      "cell_type": "code",
      "execution_count": null,
      "metadata": {
        "id": "oCbVKlP91dAS"
      },
      "outputs": [],
      "source": [
        "from sklearn.metrics import mean_squared_error, mean_absolute_error\n",
        "\n",
        "# log 값 변환 시 NaN등의 이슈로 log() 가 아닌 log1p() 를 이용하여 RMSLE 계산\n",
        "def rmsle(y, pred):\n",
        "    log_y = np.log1p(y)\n",
        "    log_pred = np.log1p(pred)\n",
        "    squared_error = (log_y - log_pred) ** 2\n",
        "    rmsle = np.sqrt(np.mean(squared_error))\n",
        "    return rmsle\n",
        "\n",
        "# 사이킷런의 mean_square_error() 를 이용하여 RMSE 계산\n",
        "def rmse(y,pred):\n",
        "    return np.sqrt(mean_squared_error(y,pred))\n",
        "\n",
        "# MSE, RMSE, RMSLE 를 모두 계산 \n",
        "def evaluate_regr(y,pred):\n",
        "    rmsle_val = rmsle(y,pred)\n",
        "    rmse_val = rmse(y,pred)\n",
        "    # MAE 는 scikit learn의 mean_absolute_error() 로 계산\n",
        "    mae_val = mean_absolute_error(y,pred)\n",
        "    print('RMSLE: {0:.3f}, RMSE: {1:.3F}, MAE: {2:.3F}'.format(rmsle_val, rmse_val, mae_val))"
      ]
    },
    {
      "cell_type": "markdown",
      "metadata": {
        "id": "kRt1TSYy1dAU"
      },
      "source": [
        "* rmsle()함수를 만들때: 데이터 값의 크기에 따라 오버플로, 언더플로 오류가 발생할 수 있다.\n",
        "→ log()보단 log1p()를 이용해줌. 이렇게 변환된 값은 np의 expm1()함수로 쉽게 원래 스케일로 복원 가능."
      ]
    },
    {
      "cell_type": "markdown",
      "metadata": {
        "id": "fK_elORI1dAU"
      },
      "source": [
        "### 로그 변환, 피처 인코딩, 모델 학습/예측/평가 "
      ]
    },
    {
      "cell_type": "markdown",
      "metadata": {
        "id": "EG-G5Nwl1dAV"
      },
      "source": [
        "* 회귀 모델을 이용하여, 자전거 대여 횟수를 예측\n",
        "* 적용하기 전, 데이터 세트에 대해서 결괏값이 정규 분포로 돼 있는지 확인해야하고 카테고리형 회귀 모델은 원-핫 인코딩으로 피처를 인코딩해야한다. "
      ]
    },
    {
      "cell_type": "code",
      "execution_count": null,
      "metadata": {
        "id": "3X7dFSSw1dAV",
        "colab": {
          "base_uri": "https://localhost:8080/"
        },
        "outputId": "4dfdd52c-5963-42a5-d6dd-6d73cd14403d"
      },
      "outputs": [
        {
          "output_type": "stream",
          "name": "stdout",
          "text": [
            "RMSLE: 1.165, RMSE: 140.900, MAE: 105.924\n"
          ]
        }
      ],
      "source": [
        "from sklearn.model_selection import train_test_split , GridSearchCV\n",
        "from sklearn.linear_model import LinearRegression , Ridge , Lasso\n",
        "\n",
        "y_target = bike_df['count']\n",
        "X_features = bike_df.drop(['count'],axis=1,inplace=False)\n",
        "\n",
        "X_train, X_test, y_train, y_test = train_test_split(X_features, y_target, test_size=0.3, random_state=0)\n",
        "\n",
        "lr_reg = LinearRegression()\n",
        "lr_reg.fit(X_train, y_train)\n",
        "pred = lr_reg.predict(X_test)\n",
        "\n",
        "evaluate_regr(y_test ,pred)"
      ]
    },
    {
      "cell_type": "code",
      "execution_count": null,
      "metadata": {
        "id": "Oxi1qTo61dAW",
        "colab": {
          "base_uri": "https://localhost:8080/"
        },
        "outputId": "ebc12d4f-6af5-437d-d0e3-4b6b1276ccf8"
      },
      "outputs": [
        {
          "output_type": "stream",
          "name": "stdout",
          "text": [
            "      real_count  predicted_count   diff\n",
            "1618         890            322.0  568.0\n",
            "3151         798            241.0  557.0\n",
            "966          884            327.0  557.0\n",
            "412          745            194.0  551.0\n",
            "2817         856            310.0  546.0\n"
          ]
        }
      ],
      "source": [
        "def get_top_error_data(y_test, pred, n_tops = 5):\n",
        "    # DataFrame에 컬럼들로 실제 대여횟수(count)와 예측 값을 서로 비교 할 수 있도록 생성. \n",
        "    result_df = pd.DataFrame(y_test.values, columns=['real_count'])\n",
        "    result_df['predicted_count']= np.round(pred)\n",
        "    result_df['diff'] = np.abs(result_df['real_count'] - result_df['predicted_count'])\n",
        "    # 예측값과 실제값이 가장 큰 데이터 순으로 출력. \n",
        "    print(result_df.sort_values('diff', ascending=False)[:n_tops])\n",
        "    \n",
        "get_top_error_data(y_test,pred,n_tops=5)\n"
      ]
    },
    {
      "cell_type": "markdown",
      "source": [
        "예측 오류가 꽤 큼... 이럴 경우 Target 값의 분포가 왜곡된 형태를 이루진 않는지 확인해주는 게 좋음. (정규 분포 형태가 젤 good)"
      ],
      "metadata": {
        "id": "e1OERPj440_M"
      }
    },
    {
      "cell_type": "code",
      "execution_count": null,
      "metadata": {
        "id": "Mc4UDvph1dAW",
        "colab": {
          "base_uri": "https://localhost:8080/",
          "height": 447
        },
        "outputId": "cb9bf843-0c5a-43b7-882e-673210a53c9e"
      },
      "outputs": [
        {
          "output_type": "execute_result",
          "data": {
            "text/plain": [
              "<Axes: >"
            ]
          },
          "metadata": {},
          "execution_count": 11
        },
        {
          "output_type": "display_data",
          "data": {
            "text/plain": [
              "<Figure size 640x480 with 1 Axes>"
            ],
            "image/png": "[encoded data removed]"
          },
          "metadata": {}
        }
      ],
      "source": [
        "y_target.hist()"
      ]
    },
    {
      "cell_type": "markdown",
      "source": [
        "역시나 정규분포가 아닌 0~200 사이에 왜곡돼 있음... np의 log1p()를 이용해 변환해주자. "
      ],
      "metadata": {
        "id": "mPzyVkLP5EK_"
      }
    },
    {
      "cell_type": "code",
      "execution_count": null,
      "metadata": {
        "id": "nWndvvDg1dAX",
        "colab": {
          "base_uri": "https://localhost:8080/",
          "height": 447
        },
        "outputId": "ce5d37dd-8bbd-435a-ad35-092537f9a47c"
      },
      "outputs": [
        {
          "output_type": "execute_result",
          "data": {
            "text/plain": [
              "<Axes: >"
            ]
          },
          "metadata": {},
          "execution_count": 12
        },
        {
          "output_type": "display_data",
          "data": {
            "text/plain": [
              "<Figure size 640x480 with 1 Axes>"
            ],
            "image/png": "[encoded data removed]"
          },
          "metadata": {}
        }
      ],
      "source": [
        "y_log_transform = np.log1p(y_target)\n",
        "y_log_transform.hist()"
      ]
    },
    {
      "cell_type": "markdown",
      "source": [
        "정규분포 형태는 아니지만 변환 전보단 왜곡 정도가 많이 나아짐."
      ],
      "metadata": {
        "id": "rcEObzgO5PFw"
      }
    },
    {
      "cell_type": "code",
      "execution_count": null,
      "metadata": {
        "id": "p9PM6YZ81dAX",
        "colab": {
          "base_uri": "https://localhost:8080/"
        },
        "outputId": "14b37248-6c4c-4c72-a4b9-732081b5efb0"
      },
      "outputs": [
        {
          "output_type": "stream",
          "name": "stdout",
          "text": [
            "RMSLE: 1.017, RMSE: 162.594, MAE: 109.286\n"
          ]
        }
      ],
      "source": [
        "# 타깃 칼럼인 count 값을 log1p로 로그 변환\n",
        "y_target_log = np.log1p(y_target)\n",
        "\n",
        "# 로그 변환된 y_target_log를 반영하여 학습/테스트 데이터 셋 분할\n",
        "X_train, X_test, y_train, y_test = train_test_split(X_features, y_target_log, test_size=0.3, random_state=0)\n",
        "lr_reg = LinearRegression()\n",
        "lr_reg.fit(X_train, y_train)\n",
        "pred = lr_reg.predict(X_test)\n",
        "\n",
        "# 테스트 데이터 셋의 Target 값은 Log 변환되었으므로 다시 expm1를 이용하여 원래 scale로 변환\n",
        "y_test_exp = np.expm1(y_test)\n",
        "\n",
        "# 예측 값 역시 Log 변환된 타깃 기반으로 학습되어 예측되었으므로 다시 exmpl으로 scale변환\n",
        "pred_exp = np.expm1(pred)\n",
        "\n",
        "evaluate_regr(y_test_exp ,pred_exp)\n"
      ]
    },
    {
      "cell_type": "markdown",
      "metadata": {
        "id": "-a6J0Znl1dAY"
      },
      "source": [
        "* RMSLE 오류는 줄어들었지만, RMSE는 늘어났다. 개별 피처들의 인코딩 적용"
      ]
    },
    {
      "cell_type": "code",
      "execution_count": null,
      "metadata": {
        "scrolled": true,
        "id": "gtMiwdKb1dAY",
        "colab": {
          "base_uri": "https://localhost:8080/",
          "height": 430
        },
        "outputId": "56579d2b-ec74-493c-86c7-290dd00a08e9"
      },
      "outputs": [
        {
          "output_type": "display_data",
          "data": {
            "text/plain": [
              "<Figure size 640x480 with 1 Axes>"
            ],
            "image/png": "[encoded data removed]"
          },
          "metadata": {}
        }
      ],
      "source": [
        "# 각 feature의 회귀 계수 값을 시각화\n",
        "coef = pd.Series(lr_reg.coef_, index=X_features.columns)\n",
        "coef_sort = coef.sort_values(ascending=False)\n",
        "sns.barplot(x=coef_sort.values, y=coef_sort.index)\n",
        "plt.savefig('log_transform.tif', format='tif', dpi=300, bbox_inches='tight')"
      ]
    },
    {
      "cell_type": "markdown",
      "source": [
        "year, hour, month, season, holiday, workingday 들의 회귀 계수 영향도가 상대적으로 높음. 왜냐면 year는 2011, 2012 같은 형태고 month도 1, 2, ... 이런 형태임. 근데 이 feature는 개별 숫자들의 크기가 의미가 있는 게 아니잖음? year는 단순 연도, 즉 카테고리니까 2011<2012라고 인식해선 안 됨.\n",
        "\n",
        "⇒ one-hot encoding 적용해 변환해야..."
      ],
      "metadata": {
        "id": "D8tZuw495gjM"
      }
    },
    {
      "cell_type": "code",
      "execution_count": null,
      "metadata": {
        "id": "6guOjyNz1dAY"
      },
      "outputs": [],
      "source": [
        "# 'year', month', 'day', hour'등의 피처들을 One Hot Encoding\n",
        "X_features_ohe = pd.get_dummies(X_features, columns=['year', 'month','day', 'hour', 'holiday',\n",
        "                                              'workingday','season','weather'])"
      ]
    },
    {
      "cell_type": "markdown",
      "metadata": {
        "id": "qpKzDtr71dAZ"
      },
      "source": [
        "* 사이킷런의 선형 회귀 모델인 LinearRegression, Ridge, Lasso 모두 학습해 예측 성능 확인"
      ]
    },
    {
      "cell_type": "code",
      "execution_count": null,
      "metadata": {
        "scrolled": true,
        "id": "wfLULT8B1dAZ",
        "colab": {
          "base_uri": "https://localhost:8080/"
        },
        "outputId": "9a6705ce-af66-4b32-e944-4dbfc6389e44"
      },
      "outputs": [
        {
          "output_type": "stream",
          "name": "stdout",
          "text": [
            "### LinearRegression ###\n",
            "RMSLE: 0.590, RMSE: 97.688, MAE: 63.382\n",
            "### Ridge ###\n",
            "RMSLE: 0.590, RMSE: 98.529, MAE: 63.893\n",
            "### Lasso ###\n",
            "RMSLE: 0.635, RMSE: 113.219, MAE: 72.803\n"
          ]
        }
      ],
      "source": [
        "# 원-핫 인코딩이 적용된 feature 데이터 세트 기반으로 학습/예측 데이터 분할. \n",
        "X_train, X_test, y_train, y_test = train_test_split(X_features_ohe, y_target_log,\n",
        "                                                    test_size=0.3, random_state=0)\n",
        "\n",
        "# 모델과 학습/테스트 데이터 셋을 입력하면 성능 평가 수치를 반환\n",
        "def get_model_predict(model, X_train, X_test, y_train, y_test, is_expm1=False):\n",
        "    model.fit(X_train, y_train)\n",
        "    pred = model.predict(X_test)\n",
        "    if is_expm1 :\n",
        "        y_test = np.expm1(y_test)\n",
        "        pred = np.expm1(pred)\n",
        "    print('###',model.__class__.__name__,'###')\n",
        "    evaluate_regr(y_test, pred)\n",
        "# end of function get_model_predict    \n",
        "\n",
        "# model 별로 평가 수행\n",
        "lr_reg = LinearRegression()\n",
        "ridge_reg = Ridge(alpha=10)\n",
        "lasso_reg = Lasso(alpha=0.01)\n",
        "\n",
        "for model in [lr_reg, ridge_reg, lasso_reg]:\n",
        "    get_model_predict(model,X_train, X_test, y_train, y_test,is_expm1=True)\n"
      ]
    },
    {
      "cell_type": "markdown",
      "source": [
        "예측 성능이 많이 향상됐음. "
      ],
      "metadata": {
        "id": "78B7vna56Su1"
      }
    },
    {
      "cell_type": "code",
      "execution_count": null,
      "metadata": {
        "scrolled": true,
        "id": "m0gUrlKK1dAZ",
        "colab": {
          "base_uri": "https://localhost:8080/",
          "height": 465
        },
        "outputId": "81fb0ae5-fa61-43c6-ce00-051b27617617"
      },
      "outputs": [
        {
          "output_type": "execute_result",
          "data": {
            "text/plain": [
              "<Axes: >"
            ]
          },
          "metadata": {},
          "execution_count": 17
        },
        {
          "output_type": "display_data",
          "data": {
            "text/plain": [
              "<Figure size 640x480 with 1 Axes>"
            ],
            "image/png": "[encoded data removed]"
          },
          "metadata": {}
        }
      ],
      "source": [
        "coef = pd.Series(lr_reg.coef_ , index=X_features_ohe.columns)\n",
        "coef_sort = coef.sort_values(ascending=False)[:20]\n",
        "sns.barplot(x=coef_sort.values , y=coef_sort.index)"
      ]
    },
    {
      "cell_type": "markdown",
      "source": [
        "아직도 year 관련 feature들의 회귀 계수 값이 가장 높지만, 다른 애들의 값도 상대적으로 커짐. 반드시 그런 건 아니지만 선형 회귀의 경우 중요 카테고리성 feature들은 one-hot encoding으로 변환해주는 게 성능에 중요한 영향을 미칠 수 있다."
      ],
      "metadata": {
        "id": "LB0MknD_6aZa"
      }
    },
    {
      "cell_type": "markdown",
      "metadata": {
        "id": "AfTBJjGI1dAa"
      },
      "source": [
        "* XGBoost는 DataFrame이 학습/테스트 데이터로 입력되는 경우 버전에 따라 오류가 발생하여, values 속성을 이용해 ndarray로 변환한다. "
      ]
    },
    {
      "cell_type": "code",
      "execution_count": null,
      "metadata": {
        "id": "VvZ0NlLm1dAa",
        "colab": {
          "base_uri": "https://localhost:8080/"
        },
        "outputId": "88f4e0ac-60bb-48e9-a4a1-d302ff4202ee"
      },
      "outputs": [
        {
          "output_type": "stream",
          "name": "stdout",
          "text": [
            "### RandomForestRegressor ###\n",
            "RMSLE: 0.355, RMSE: 50.172, MAE: 31.128\n",
            "### GradientBoostingRegressor ###\n",
            "RMSLE: 0.330, RMSE: 53.317, MAE: 32.733\n",
            "### XGBRegressor ###\n",
            "RMSLE: 0.342, RMSE: 51.732, MAE: 31.251\n",
            "### LGBMRegressor ###\n",
            "RMSLE: 0.319, RMSE: 47.215, MAE: 29.029\n"
          ]
        }
      ],
      "source": [
        "from sklearn.ensemble import RandomForestRegressor, GradientBoostingRegressor\n",
        "from xgboost import XGBRegressor\n",
        "from lightgbm import LGBMRegressor\n",
        "\n",
        "# 랜덤 포레스트, GBM, XGBoost, LightGBM model 별로 평가 수행\n",
        "rf_reg = RandomForestRegressor(n_estimators=500)\n",
        "gbm_reg = GradientBoostingRegressor(n_estimators=500)\n",
        "xgb_reg = XGBRegressor(n_estimators=500)\n",
        "lgbm_reg = LGBMRegressor(n_estimators=500)\n",
        "\n",
        "for model in [rf_reg, gbm_reg, xgb_reg, lgbm_reg]:\n",
        "    # XGBoost의 경우 DataFrame이 입력 될 경우 버전에 따라 오류 발생 가능. ndarray로 변환.\n",
        "    get_model_predict(model,X_train.values, X_test.values, y_train.values, y_test.values,is_expm1=True)"
      ]
    },
    {
      "cell_type": "markdown",
      "metadata": {
        "id": "Q0pz9fTT1dAb"
      },
      "source": [
        "* 앞의 선형 회귀 모델보다 회귀 예측 성능이 개선되었지만, 회귀 트리가 선형 회귀보다 더 나은 성능을 가지는 것이 아니다. "
      ]
    }
  ],
  "metadata": {
    "kernelspec": {
      "display_name": "Python 3 (ipykernel)",
      "language": "python",
      "name": "python3"
    },
    "language_info": {
      "codemirror_mode": {
        "name": "ipython",
        "version": 3
      },
      "file_extension": ".py",
      "mimetype": "text/x-python",
      "name": "python",
      "nbconvert_exporter": "python",
      "pygments_lexer": "ipython3",
      "version": "3.10.9"
    },
    "colab": {
      "provenance": []
    }
  },
  "nbformat": 4,
  "nbformat_minor": 0
}